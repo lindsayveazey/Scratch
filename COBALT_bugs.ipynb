{
 "cells": [
  {
   "cell_type": "markdown",
   "metadata": {},
   "source": [
    "*Bugs and how to circumvent them.* \n",
    "\n",
    "*Last update:* 2019-05-29"
   ]
  },
  {
   "cell_type": "markdown",
   "metadata": {},
   "source": [
    "# COBALT bugs"
   ]
  },
  {
   "cell_type": "markdown",
   "metadata": {},
   "source": [
    "Here are some reference notes as I wade through annual runs with COBALT."
   ]
  },
  {
   "cell_type": "markdown",
   "metadata": {},
   "source": [
    "## Creating .nc files with ``setup_inner_*`` scripts\n",
    "\n",
    "``_frc``: General input error when...\n",
    "\n",
    "```python\n",
    "start_day = 4749 # 1-1-2013\n",
    "end_day = 5113 # 12-31-2013\n",
    "```\n",
    "**Solution**: The script works fine, but hits a wall when a timeseries > 250 days is called from the PacIOOS server. Call dates only in segments shorter than this approximate limit, then concatenate the renamed resulting mini-files:\n",
    "```\n",
    "ncrcat -h frc-wrfo-1.nc frc-wrfo-2.nc frc-wrfo.nc\n",
    "ncrcat -h frc-cobalt-1.nc frc-cobalt-2.nc frc-cobalt.nc\n",
    "ncrcat -h river-hioekg-1.nc river-hioekg-2.nc river-hioekg.nc\n",
    "```"
   ]
  },
  {
   "cell_type": "markdown",
   "metadata": {},
   "source": [
    "## Duplicate dates at end/start of months\n",
    "\n",
    "Only the bry-phy portion of setup_inner_nest.py produces problematic files (i.e., a duplicate of 00:00 at the start of each month). \n",
    "\n",
    "Note that cycle_roms reproduces this error during the monthly COBALT runs, so you will need to check for and eliminate duplicates 1) during the generation of the input netCDF files (...-bry-phy.nc) ***and*** during model output post-processing.\n",
    "\n",
    "1) First, I set setup_inner_nest.py to run from \n",
    "```\n",
    "rst = 4743\n",
    "start day = 4749\n",
    "end day = 4779\n",
    "```\n",
    "I did not edit this file.\n",
    "\n",
    "2) Next, I set setup_inner_nest.py to run from \n",
    "\n",
    "```\n",
    "rst, start = 4779\n",
    "end day = 4809\n",
    "```\n",
    "3) The values are zero indexed, so I eliminated the first value, the duplicate of 00:00 on Jan 31, and kept everything else. \n",
    "\n",
    "```\n",
    "ncks -O -d bry_time,1,241 hioekg-bry-phy-4779-4809.nc hioekg-bry-phy-4779-4809.nc\n",
    "```\n",
    "\n",
    "4) Finally, concatenate the two files:\n",
    "```\n",
    "ncrcat -h hioekg-bry-phy-4749-4779.nc hioekg-bry-phy-4779-4809.nc hioekg-bry-phy-4749-4809.nc \n",
    "```\n",
    "Note that spinup.sh and ocean.in direct cycle_roms to run for 30 days; even though this file contains 2 month of climatological data, cycle_roms will ingest 30 days at a time."
   ]
  },
  {
   "cell_type": "markdown",
   "metadata": {},
   "source": [
    "## Improper his-ini start time\n",
    "\n",
    "1. For any start date, his-ini will begin at 00:00. The hioekg-bry-bio.nc file wil begin at 12:00 on the same start date. This will throw an error in the dry run.\n",
    "\n",
    "** Solution**: Change time by one day (= 86400 seconds) and rename the file.\n",
    "```bash\n",
    "ncap2 -s 'ocean_time=ocean_time+86400' his-ini-04749.nc his-ini-04750.nc\n",
    "```\n",
    "In spinup.sh, ROMS_START_DAY = 4750 to correspond with this modification."
   ]
  }
 ],
 "metadata": {
  "anaconda-cloud": {},
  "kernelspec": {
   "display_name": "Python 3",
   "language": "python",
   "name": "python3"
  },
  "language_info": {
   "codemirror_mode": {
    "name": "ipython",
    "version": 3
   },
   "file_extension": ".py",
   "mimetype": "text/x-python",
   "name": "python",
   "nbconvert_exporter": "python",
   "pygments_lexer": "ipython3",
   "version": "3.6.8"
  }
 },
 "nbformat": 4,
 "nbformat_minor": 1
}
