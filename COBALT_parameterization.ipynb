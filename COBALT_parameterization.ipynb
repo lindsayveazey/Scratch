{
 "cells": [
  {
   "cell_type": "markdown",
   "metadata": {},
   "source": [
    "<!--Document description-->\n",
    "\n",
    "*This document details the parameterization of COBALT for the Kaneohe (hioekg) grid.\n",
    "\n",
    "*This is a live document that will be updated as needed.*\n",
    "\n",
    "*Last update:* 2019-01-31"
   ]
  },
  {
   "cell_type": "markdown",
   "metadata": {},
   "source": [
    "# Parameterizing COBALT"
   ]
  },
  {
   "cell_type": "markdown",
   "metadata": {},
   "source": [
    "## Rivers\n",
    "\n",
    "The rivers called by chunk #3 in ``setup_inner_frc.py`` include:\n",
    "  1. Heeia (16275000)\n",
    "  2. Waiahole (16294100)\n",
    "  3. Waihee (16284200)\n",
    "  4. Waikane (16294900)\n",
    "  \n",
    "I've structured my literature review and other research about important river constituents to prioritize findings pertaining to any of these specific rivers. If no information exists for a particular constituent from one of these rivers, I have expanded my search to include greater Oahu, followed by consideration of fluvial research across the Main Hawaiian Islands. I have avoided parameterizing the model using broad (i.e., global-scale) generalizations whenever possible.\n",
    "\n",
    "``setup_inner_frc.py`` produces the river NetCDF and contains the following relevant chunk:\n",
    "\n",
    "```python \n",
    "default_vals = {\n",
    "    'river_temp': 25,\n",
    "    'river_salt': 5,\n",
    "    'river_ldon': 0.0,\n",
    "    'river_dummy': 0.0\n",
    "}\n",
    "\n",
    "# ...\n",
    "\n",
    "    # Create the COBALT variables we want\n",
    "    seapy.roms.cobalt.add_psource_var(\n",
    "        nc, ['ldon', 'dummy'])```\n",
    "        \n",
    "...I am editing ``setup_inner_frc.py`` as I go."
   ]
  },
  {
   "cell_type": "markdown",
   "metadata": {},
   "source": [
    "### bio_cobalt.in\n",
    "\n",
    "Searched ``LtracerSrc`` to locate the portion of the file that lists the 33 parameters of possible interest.\n",
    "\n",
    "Parameters are grouped- somewhat arbitrarily- for readability."
   ]
  },
  {
   "cell_type": "markdown",
   "metadata": {},
   "source": [
    "#### Plankton (6 parameters)\n",
    "\n",
    "  * ``nsm`` Small Phytoplankton Nitrogen\n",
    "  * ``nlg`` Large Phytoplankton Nitrogen\n",
    "  * ``ndi`` Diazotroph Nitrogen\n",
    "  * ``nsmz`` Small Zooplankton Nitrogen\n",
    "  * ``nmdz`` Medium-sized zooplankton Nitrogen\n",
    "  * ``nlgz`` Large Zooplankton Nitrogen\n",
    "\n",
    "As of 2019-01-29: SR collecting literature about this. Awaiting reply.\n",
    "As of 2019-01-31: DH putting me in touch with his wife, who published her dissertation on size classes of plankton in Kaneohe Bay."
   ]
  },
  {
   "cell_type": "markdown",
   "metadata": {},
   "source": [
    "#### Refractory, semi-labile, labile N and P (6 parameters)\n",
    "\n",
    "  * ``ldon`` labile DON\n",
    "  * ``sldon`` Semilabile DON\n",
    "  * ``srdon`` Semi-Refractory DON\n",
    "  \n",
    "  * ``ldop`` labile DOP\n",
    "  * ``sldop`` Semilabile DOP\n",
    "  * ``srdop`` Semi-Refractory DOP\n",
    "  \n",
    "Per [Hoover & Mackenzie 2009](https://www.researchgate.net/publication/225712771_Fluvial_Fluxes_of_Water_Suspended_Particulate_Matter_and_Nutrients_and_Potential_Impacts_on_Tropical_Coastal_Water_Biogeochemistry_Oahu_Hawai'i)\n",
    ", DON = 5.4 * 10−6 mol/L and DOP = 0.19 * 10−6 mol/L\n",
    "\n",
    "As of 2019-01-30: DH says that the samples were not analyzed to break down %s of labile/semi/refractory. Need to find general documentation of the breakdown and apply here."
   ]
  },
  {
   "cell_type": "markdown",
   "metadata": {},
   "source": [
    "#### Nitrogen budget (4 parameters)\n",
    "\n",
    "  * ``nbact`` bacterial: need to search Stock et al. 2009 appendices\n",
    "  * ``nh4`` Ammonia: 0.34 * 10−6 mol/L [Hoover & Mackenzie 2009](https://www.researchgate.net/publication/225712771_Fluvial_Fluxes_of_Water_Suspended_Particulate_Matter_and_Nutrients_and_Potential_Impacts_on_Tropical_Coastal_Water_Biogeochemistry_Oahu_Hawai'i)\n",
    "  * ``no3`` Nitrate: 4.8 10−6 mol/L [Hoover & Mackenzie 2009](https://www.researchgate.net/publication/225712771_Fluvial_Fluxes_of_Water_Suspended_Particulate_Matter_and_Nutrients_and_Potential_Impacts_on_Tropical_Coastal_Water_Biogeochemistry_Oahu_Hawai'i)\n",
    "  * ``ndet`` ndet: need to search Stock et al. 2009 appendices"
   ]
  },
  {
   "cell_type": "markdown",
   "metadata": {},
   "source": [
    "#### Iron (5 parameters)\n",
    "\n",
    "  * ``fesm`` Small Phytoplankton Iron\n",
    "  * ``fedi`` Diazotroph Iron\n",
    "  * ``felg`` Large Phytoplankton Iron\n",
    "  * ``fed`` Dissolved Iron\n",
    "  * ``fedet`` Detrital Iron\n",
    "\n",
    "No notes yet."
   ]
  },
  {
   "cell_type": "markdown",
   "metadata": {},
   "source": [
    "#### Sand/detritus (7 parameters)\n",
    "\n",
    "  * ``sio4`` Silicate\n",
    "  * ``silg`` Large Phytoplankton Silicon\n",
    "  * ``sidet`` Detrital Silicon\n",
    "  * ``cadet_calc`` Detrital CaCO3\n",
    "  * ``cadet_arag`` Detrital CaCO3\n",
    "  * ``lith`` Lithogenic Aluminosilicate\n",
    "  * ``lithdet`` lithdet\n",
    "\n",
    "No notes yet."
   ]
  },
  {
   "cell_type": "markdown",
   "metadata": {},
   "source": [
    "#### Etc.\n",
    "\n",
    "  * ``po4`` Phosphate: \"measured as soluble reactive phosphorus (SRP) but often assumed equivalent to PO4^3- (phosphate)\" 0.7 * 10−6 mol/L [Hoover & Mackenzie 2009](https://www.researchgate.net/publication/225712771_Fluvial_Fluxes_of_Water_Suspended_Particulate_Matter_and_Nutrients_and_Potential_Impacts_on_Tropical_Coastal_Water_Biogeochemistry_Oahu_Hawai'i)\n",
    "  * ``pdet`` Detrital Phosphorus: \"Particulate organic phosphorus (POP) calculated by difference from total and inorganic constituents\" 0.73 * 10−6 mol/L (calculated from Table 2) or 0.23% of SPM or 0.8 kmoles/km per yr [Hoover & Mackenzie 2009](https://www.researchgate.net/publication/225712771_Fluvial_Fluxes_of_Water_Suspended_Particulate_Matter_and_Nutrients_and_Potential_Impacts_on_Tropical_Coastal_Water_Biogeochemistry_Oahu_Hawai'i)\n",
    "  * ``o2`` Oxygen\n",
    "  * ``dic`` Dissolved Inorganic Carbon\n",
    "  * ``alk`` Alkalinity\n"
   ]
  },
  {
   "cell_type": "code",
   "execution_count": null,
   "metadata": {},
   "outputs": [],
   "source": []
  }
 ],
 "metadata": {
  "anaconda-cloud": {},
  "kernelspec": {
   "display_name": "Python 3",
   "language": "python",
   "name": "python3"
  },
  "language_info": {
   "codemirror_mode": {
    "name": "ipython",
    "version": 3
   },
   "file_extension": ".py",
   "mimetype": "text/x-python",
   "name": "python",
   "nbconvert_exporter": "python",
   "pygments_lexer": "ipython3",
   "version": "3.6.6"
  }
 },
 "nbformat": 4,
 "nbformat_minor": 1
}
