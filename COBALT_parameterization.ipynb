{
 "cells": [
  {
   "cell_type": "markdown",
   "metadata": {},
   "source": [
    "<!--Document description-->\n",
    "\n",
    "*This document details the parameterization of COBALT for the Kaneohe (hioekg) grid.*\n",
    "\n",
    "*This is a live document that will be updated as needed.*\n",
    "\n",
    "*Last update:* 2019-02-04"
   ]
  },
  {
   "cell_type": "markdown",
   "metadata": {},
   "source": [
    "# Parameterizing COBALT"
   ]
  },
  {
   "cell_type": "markdown",
   "metadata": {},
   "source": [
    "## Rivers\n",
    "\n",
    "The rivers called by chunk #3 in ``setup_inner_frc.py`` include:\n",
    "  1. Heeia (16275000)\n",
    "  2. Waiahole (16294100)\n",
    "  3. Waihee (16284200)\n",
    "  4. Waikane (16294900)\n",
    "  \n",
    "I've structured my literature review and other research about important river constituents to prioritize findings pertaining to any of these specific rivers. If no information exists for a particular constituent from one of these rivers, I have expanded my search to include greater Oahu, followed by consideration of fluvial research across the Main Hawaiian Islands. I have avoided parameterizing the model using broad (i.e., global-scale) generalizations whenever possible.\n",
    "\n",
    "``setup_inner_frc.py`` produces the river NetCDF and contains the following relevant chunk:\n",
    "\n",
    "```python \n",
    "default_vals = {\n",
    "    'river_temp': 25,\n",
    "    'river_salt': 5,\n",
    "    'river_alk': 0.0141,\n",
    "    'river_dic': 0.0014,\n",
    "    'river_nh4': 0.00000034,\n",
    "    'river_no3': 0.0000048,\n",
    "    'river_pdet': 0.00000023,\n",
    "    'river_po4': 0.0000007,\n",
    "    'river_sio4': 0.000157,\n",
    "}\n",
    "\n",
    "# ...\n",
    "\n",
    "    # Create the COBALT variables we want\n",
    "    seapy.roms.cobalt.add_psource_var(\n",
    "        nc, ['alk', 'dic', 'nh4', 'no3', 'pdet', 'po4', 'sio4'])```\n",
    "        \n",
    "*Note*: according to ``river-hioekg.nc``, units for all so far are mol/kg.\n",
    "\n",
    "I am editing ``setup_inner_frc.py`` as I go. I am also editing ``bio_cobalt.in`` as described below."
   ]
  },
  {
   "cell_type": "markdown",
   "metadata": {},
   "source": [
    "### bio_cobalt.in\n",
    "\n",
    "Searched ``LtracerSrc`` to locate the portion of the file that lists the 33 parameters of possible interest. Reminder to turn on the switches to write the parameters of interest to the history file!\n",
    "\n",
    "Parameters are grouped- somewhat arbitrarily- for readability."
   ]
  },
  {
   "cell_type": "markdown",
   "metadata": {},
   "source": [
    "#### Plankton (6 parameters)\n",
    "\n",
    "  * ``nsm`` Small Phytoplankton Nitrogen\n",
    "  * ``nlg`` Large Phytoplankton Nitrogen\n",
    "  * ``ndi`` Diazotroph Nitrogen\n",
    "  * ``nsmz`` Small Zooplankton Nitrogen\n",
    "  * ``nmdz`` Medium-sized zooplankton Nitrogen\n",
    "  * ``nlgz`` Large Zooplankton Nitrogen\n",
    "\n",
    "As of 2019-01-29: SR collecting literature about this. Awaiting reply.\n",
    "\n",
    "As of 2019-02-06: Sent reminder to DH; DH putting me in touch with his wife, who published her dissertation on size classes of plankton in Kaneohe Bay."
   ]
  },
  {
   "cell_type": "markdown",
   "metadata": {},
   "source": [
    "#### Refractory, semi-labile, labile N and P (6 parameters)\n",
    "\n",
    "  * ``ldon`` labile DON\n",
    "  * ``sldon`` Semilabile DON\n",
    "  * ``srdon`` Semi-Refractory DON\n",
    "  \n",
    "  * ``ldop`` labile DOP\n",
    "  * ``sldop`` Semilabile DOP\n",
    "  * ``srdop`` Semi-Refractory DOP\n",
    "  \n",
    "Per [Hoover & Mackenzie 2009](https://www.researchgate.net/publication/225712771_Fluvial_Fluxes_of_Water_Suspended_Particulate_Matter_and_Nutrients_and_Potential_Impacts_on_Tropical_Coastal_Water_Biogeochemistry_Oahu_Hawai'i): DON = 5.4 x 10−6 mol/L and DOP = 1.9 x 10−7 mol/L. This supports [Ringuet & Mackenzie 2005](https://www.researchgate.net/profile/F_Mackenzie/publication/227303537_Controls_on_Nutrient_and_Phytoplankton_Dynamics_during_Normal_Flow_and_Storm_Runoff_Conditions_Southern_Kaneohe_Bay_Hawaii/links/00b7d5293aa8ee5d17000000.pdf): DON = 7.72 x 10-6 mol/L and DOP = 1.5 x 10-7 mol/L across the bay and in rivers (baseline values for surface waters do not appear to differ greatly between fluvial and marine bodies).\n",
    "\n",
    "As of 2019-04-02: Tried locating S. Ringuet; she is long gone from the UH system and works in GIS only now.\n",
    "\n",
    "As of 2019-01-30: DH says that the samples were not analyzed to break down %s of labile/semi/refractory. Need to find general documentation of the breakdown and apply here:\n",
    "\n",
    "  * Per [Wilson & Xenopoulous 2008](https://www.researchgate.net/profile/Marguerite_Xenopoulos/publication/248828330_Effects_of_agricultural_land_use_on_the_composition_of_fluvial_dissolved_organic_matter/links/00b4952121ab928d14000000.pdf): \"...higher ambient nitrogen concentrations might be expected to disproportionately increase respiration. This increased availability could result in terrestrial DOM moving shorter distances before either being respired or incorporated within stream organisms or sediments. At broader scales, this trend could result in a reduction in the overall amount of DOM reaching downstream systems.\" Study area = Ontario.\n",
    "\n",
    "  * [Mann et al. 2012](https://agupubs.onlinelibrary.wiley.com/doi/full/10.1029/2011JG001798): \"DON concentrations were highly correlated to DOC and thus followed the same trend during the study period (r = 0.92; p < 0.001; n = 18). DON ranged from ∼0.1 mg L−1 under the ice (mean = 0.09 mg L−1, n = 3) during preflush conditions to 0.6 mg L−1 (mean = 0.37 mg L−1, n = 14) during the freshet.\" Study area = Siberia.\n",
    "\n",
    "  * [Hansell et al. 2009](https://darchive.mblwhoilibrary.org/bitstream/handle/1912/3183/22-4_hansell.pdf?sequence=1): extensive paper on marine DOC; maybe useful if I can find stoichiometric information."
   ]
  },
  {
   "cell_type": "markdown",
   "metadata": {},
   "source": [
    "#### Nitrogen budget (4 parameters)\n",
    "\n",
    "  * ``nbact`` Explicit free-living heterotrophic bacteria compartment.\n",
    "    * As of 2019-02-06: emailed MR to ask for papers/thoughts.\n",
    "  * ``nh4`` Ammonia: 3.4 x 10−7 mol/L [Hoover & Mackenzie 2009](https://www.researchgate.net/publication/225712771_Fluvial_Fluxes_of_Water_Suspended_Particulate_Matter_and_Nutrients_and_Potential_Impacts_on_Tropical_Coastal_Water_Biogeochemistry_Oahu_Hawai'i)\n",
    "  * ``no3`` Nitrate: 1.0 to 4.8 x 10-7 mol/kg [Ringuet & Mackenzie 2005](https://www.researchgate.net/profile/F_Mackenzie/publication/227303537_Controls_on_Nutrient_and_Phytoplankton_Dynamics_during_Normal_Flow_and_Storm_Runoff_Conditions_Southern_Kaneohe_Bay_Hawaii/links/00b7d5293aa8ee5d17000000.pdf); source = multiple buoys across Kaneohe Bay. These are values that reflect the marine surface concentration.\n",
    "    * 4.8 x 10−6 mol/L [Hoover & Mackenzie 2009](https://www.researchgate.net/publication/225712771_Fluvial_Fluxes_of_Water_Suspended_Particulate_Matter_and_Nutrients_and_Potential_Impacts_on_Tropical_Coastal_Water_Biogeochemistry_Oahu_Hawai'i) This value was measured directly from He'eia stream; will use to intitialize model for now.\n",
    "  * ``ndet`` Nitrogen detritus produced by phytoplankton aggregation and a fraction of ingestion from zooplankton and higher predators. \n",
    "    * Suspect this will be answered by SR when she gets back to me about plankton/N dynamics."
   ]
  },
  {
   "cell_type": "markdown",
   "metadata": {},
   "source": [
    "#### Iron (5 parameters)\n",
    "\n",
    "  * ``fesm`` Small Phytoplankton Iron\n",
    "  * ``fedi`` Diazotroph Iron\n",
    "  * ``felg`` Large Phytoplankton Iron\n",
    "  * ``fed`` Dissolved Iron\n",
    "  * ``fedet`` Detrital Iron\n",
    "\n",
    "No notes yet."
   ]
  },
  {
   "cell_type": "markdown",
   "metadata": {},
   "source": [
    "#### Sand/detritus (7 parameters)\n",
    "\n",
    "  * ``sio4`` Silicate: ~ 7.0 x 10-6 mol/kg across the bay; much higher in streams- 1.4 x 10-5 mol/kg to 1.73 x 10-4 mol/kg [Ringuet & Mackenzie 2005](https://www.researchgate.net/profile/F_Mackenzie/publication/227303537_Controls_on_Nutrient_and_Phytoplankton_Dynamics_during_Normal_Flow_and_Storm_Runoff_Conditions_Southern_Kaneohe_Bay_Hawaii/links/00b7d5293aa8ee5d17000000.pdf); source = multiple buoys across Kaneohe Bay. Starting parameterization with higher (mean = 1.57 x 10-4 mol/kg) number.\n",
    "  * ``silg`` Large Phytoplankton Silicon\n",
    "  * ``sidet`` Detrital Silicon\n",
    "  * ``cadet_arag`` Detrital CaCO3: Per Stock et al. 2014, \"Aragonite detritus (cadet_arag) is assumed to dissolve immediately upon reaching the sediment.\" Ignoring for now...\n",
    "  * ``cadet_calc`` Detrital CaCO3: Per Stock et al. 2014, \"Calcite, however, is more resistant to dissolution and long-term balances of calcite supply to the sediments, dissolution to overlying waters, and burial has the potential to influence ocean chemistry. The calcite concentration in the sediments is thus tracked in COBALT using the variable cased (moles CaCO 3 m -3 ) and burial and dissolution rates are based on the metamodel of Dunne et al. (2012).\" \n",
    "  \n",
    "As of 2019-06-02: K. Fagan is now KS- putting me in touch with her student, who is publishing som work on CaCO3 fluxes throughout the bay.\n",
    "  \n",
    "  * ``lith`` Lithogenic Aluminosilicate\n",
    "  * ``lithdet`` lithdet\n",
    "\n"
   ]
  },
  {
   "cell_type": "markdown",
   "metadata": {},
   "source": [
    "#### Etc.\n",
    "\n",
    "  * ``po4`` Phosphate: 1.1 to 1.7 x 10-7 mol/kg [Ringuet & Mackenzie 2005](https://www.researchgate.net/profile/F_Mackenzie/publication/227303537_Controls_on_Nutrient_and_Phytoplankton_Dynamics_during_Normal_Flow_and_Storm_Runoff_Conditions_Southern_Kaneohe_Bay_Hawaii/links/00b7d5293aa8ee5d17000000.pdf); source = multiple buoys across Kaneohe Bay\n",
    "    * \"...measured as soluble reactive phosphorus (SRP) but often assumed equivalent to PO4^3- (phosphate)\" 7.0 x 10−7 mol/L (Table 2) [Hoover & Mackenzie 2009](https://www.researchgate.net/publication/225712771_Fluvial_Fluxes_of_Water_Suspended_Particulate_Matter_and_Nutrients_and_Potential_Impacts_on_Tropical_Coastal_Water_Biogeochemistry_Oahu_Hawai'i)\n",
    "  * ``pdet`` Detrital Phosphorus: \"Particulate organic phosphorus (POP) calculated by difference from total and inorganic constituents\" 2.3 x 10−7 mol/L (calculated from Table 2) or 0.23% of SPM or 0.8 kmoles/km per yr [Hoover & Mackenzie 2009](https://www.researchgate.net/publication/225712771_Fluvial_Fluxes_of_Water_Suspended_Particulate_Matter_and_Nutrients_and_Potential_Impacts_on_Tropical_Coastal_Water_Biogeochemistry_Oahu_Hawai'i)\n",
    "  * ``o2`` Oxygen: mysteriously hard to find an estimate, still searching\n",
    "  * ``dic`` Dissolved Inorganic Carbon: mean 1.4 x 10-3 (Kaneohe stream; initializing model with this value) and 1.92 x 10 -3 mol/kg around the bay [Fagan & Mackenzie 2007](https://www.researchgate.net/profile/F_Mackenzie/publication/253669603_Processes_Controlling_Air-Sea_Exchange_of_CO2_in_a_Subtropical_Pacific_Estuary/links/58dc716ca6fdcc7c9f3d738d/Processes-Controlling-Air-Sea-Exchange-of-CO2-in-a-Subtropical-Pacific-Estuary.pdf); sampling location = Kaneohe Bay surface waters and stream\n",
    "    * = mean 4.43 x 10-4 mol/kg [Paquay et al. 2007](https://orbi.uliege.be/bitstream/2268/2597/1/paquay_et_al_2007_in_press.pdf); sampling location = rivers feeding into Hilo Bay. Initializing model with this value.\n",
    "  * ``alk`` Alkalinity: mean 1.41 x 10 -3 mol/kg (Kaneohe stream; initializing model with this value) and 2.17 x 10-3 mol/kg around the bay [Fagan & Mackenzie 2007](https://www.researchgate.net/profile/F_Mackenzie/publication/253669603_Processes_Controlling_Air-Sea_Exchange_of_CO2_in_a_Subtropical_Pacific_Estuary/links/58dc716ca6fdcc7c9f3d738d/Processes-Controlling-Air-Sea-Exchange-of-CO2-in-a-Subtropical-Pacific-Estuary.pdf); sampling location = Kaneohe Bay surface waters and stream. \n",
    "    * = mean 3.76 x 10-4 mol/kg [Paquay et al. 2007](https://orbi.uliege.be/bitstream/2268/2597/1/paquay_et_al_2007_in_press.pdf); sampling location = rivers feeding into Hilo Bay. \n"
   ]
  },
  {
   "cell_type": "markdown",
   "metadata": {},
   "source": [
    "##### More parameterization notes that didn't fit elsewhere\n",
    "\n",
    "  * \"Due to high flushing rates, recovery times of bay waters from storm perturbations ranged from 3 to 8 d and appeared to be correlated with tidal range. Storm inputs have a significant effect on the water column ecosystem and biogeochemistry in southern Kaneohe Bay. The perturbations were only transient events and the system rapidly recovered to prestorm conditions.\" [Ringuet & Mackenzie 2005](https://www.researchgate.net/profile/F_Mackenzie/publication/227303537_Controls_on_Nutrient_and_Phytoplankton_Dynamics_during_Normal_Flow_and_Storm_Runoff_Conditions_Southern_Kaneohe_Bay_Hawaii/links/00b7d5293aa8ee5d17000000.pdf)\n",
    "  * [Ringuet & Mackenzie 2005](https://www.researchgate.net/profile/F_Mackenzie/publication/227303537_Controls_on_Nutrient_and_Phytoplankton_Dynamics_during_Normal_Flow_and_Storm_Runoff_Conditions_Southern_Kaneohe_Bay_Hawaii/links/00b7d5293aa8ee5d17000000.pdf) have more information about seasonal changes in nutrient cycles across the bay.\n",
    "  * [Ringuet & Mackenzie 2005](https://www.researchgate.net/profile/F_Mackenzie/publication/227303537_Controls_on_Nutrient_and_Phytoplankton_Dynamics_during_Normal_Flow_and_Storm_Runoff_Conditions_Southern_Kaneohe_Bay_Hawaii/links/00b7d5293aa8ee5d17000000.pdf) note that DIN:DIP across the bay = 3-5\n",
    "  * [Drupp et al. 2011](https://www.researchgate.net/profile/F_Mackenzie/publication/253153306_Nutrient_inputs_dynamics_and_phytoplankton_response_in_a_semi-enclosed_subtropical_embayment_Kaneohe_Bay_Hawaii/links/566372d808ae418a786bb1ce.pdf) contains good information on seasonal chemical changes across the bay.\n",
    "  \n"
   ]
  }
 ],
 "metadata": {
  "anaconda-cloud": {},
  "kernelspec": {
   "display_name": "Python 3",
   "language": "python",
   "name": "python3"
  },
  "language_info": {
   "codemirror_mode": {
    "name": "ipython",
    "version": 3
   },
   "file_extension": ".py",
   "mimetype": "text/x-python",
   "name": "python",
   "nbconvert_exporter": "python",
   "pygments_lexer": "ipython3",
   "version": "3.6.6"
  }
 },
 "nbformat": 4,
 "nbformat_minor": 1
}
