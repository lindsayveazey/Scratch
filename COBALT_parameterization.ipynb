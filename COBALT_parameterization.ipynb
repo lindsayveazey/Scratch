{
 "cells": [
  {
   "cell_type": "markdown",
   "metadata": {},
   "source": [
    "<!--Document description-->\n",
    "\n",
    "*This document details the parameterization of COBALT for the Kaneohe (hioekg) grid.\n",
    "\n",
    "*This is a live document that will be updated as needed.*\n",
    "\n",
    "*Last update:* 2019-01-31"
   ]
  },
  {
   "cell_type": "markdown",
   "metadata": {},
   "source": [
    "# Parameterizing COBALT"
   ]
  },
  {
   "cell_type": "markdown",
   "metadata": {},
   "source": [
    "## Create NetCDF files to run COBALT\n",
    "\n",
    "1. Navigate to ``/nest``.\n",
    "\n",
    "\n",
    "2. **setup_inner_frc.py**\n",
    "    * Chunk ``#1``: Sets up forcing from rivers, atmosphere; loads from internet. Note that if I run this and create a forcing file, but then need to change something, I need to delete that previously created file. otherwise, the script will “see” that file exists and not recreate it.\n",
    "    * Chunk ``#2``: Creates **frc-cobalt.nc**.\n",
    "    * Chunk ``#3``: Creates **river-hioekg.nc**. It may be helpful to look at documentation of ``psource.create``.\n",
    "            i. I can change what I specify under ``seapy.roms.cobalt.add_psource_var(…``.\n",
    "            ii. Temperature doesn’t really matter.\n",
    "            iii. We always want salinity to = 5; it's a good approximation right now.\n",
    "    * To run:\n",
    "```python\n",
    "qexec python setup_inner_frc.py\n",
    "```\n",
    "\n",
    "\n",
    "3. **setup_inner_nest.py**\n",
    "    * Here, change only the start day, end day, and pathway (maybe) to outer grid.\n",
    "    * To run:\n",
    "```python\n",
    "qexec -P4 python setup_inner_nest.py\n",
    "```"
   ]
  },
  {
   "cell_type": "code",
   "execution_count": null,
   "metadata": {},
   "outputs": [],
   "source": []
  }
 ],
 "metadata": {
  "anaconda-cloud": {},
  "kernelspec": {
   "display_name": "Python 3",
   "language": "python",
   "name": "python3"
  },
  "language_info": {
   "codemirror_mode": {
    "name": "ipython",
    "version": 3
   },
   "file_extension": ".py",
   "mimetype": "text/x-python",
   "name": "python",
   "nbconvert_exporter": "python",
   "pygments_lexer": "ipython3",
   "version": "3.6.6"
  }
 },
 "nbformat": 4,
 "nbformat_minor": 1
}
