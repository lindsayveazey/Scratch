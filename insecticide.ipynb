{
 "cells": [
  {
   "cell_type": "markdown",
   "metadata": {},
   "source": [
    "<!--Introduction -->\n",
    "\n",
    "*Bugs and how to circumvent them.* \n",
    "\n",
    "\n",
    "*Last update:* 2019-04-04"
   ]
  },
  {
   "cell_type": "markdown",
   "metadata": {},
   "source": [
    "# COBALT bugs"
   ]
  },
  {
   "cell_type": "markdown",
   "metadata": {},
   "source": [
    "Here are some notes to refer to as I wade through annual runs with COBALT."
   ]
  },
  {
   "cell_type": "markdown",
   "metadata": {},
   "source": [
    "## Creating .nc files with ``setup_inner_*`` scripts\n",
    "\n",
    "1. ``_frc``: General input error when...\n",
    "\n",
    "```python\n",
    "start_day = 4947\n",
    "end_day = 5113\n",
    "```\n",
    "**Solution**: Simply ignore this error and run the script again. It appears to resolve itself.\n",
    "\n",
    "2. ``_nest``: datetime error when...\n",
    "\n",
    "```python\n",
    "start_day = 4749\n",
    "end_day = 5113\n",
    "```\n",
    "**Solution**: The problematic file is the file for dates 5109 - 5113. At present, incorporating this file at all in the creation of .nc files causes a problem. Temporarily avoiding it and instead running \n",
    "```python\n",
    "rst = 5079\n",
    "start_day = 5109\n",
    "end_day = 5113\n",
    "```\n",
    "...3) deleting all files in ../ncfiles produced in 2), 4) running the script *again* with \n",
    "```python\n",
    "rst = 4743\n",
    "start_day = 4749\n",
    "end_day = 5113\n",
    "```\n",
    "Admittedly, I'm still not sure what's happening here. Roughly, there is a problem with the way the script works on the files all together with 5109 is included; it can handle 5109 and produce relevant files from it singularly; the workaround is to complete the following two items in reverse order."
   ]
  },
  {
   "cell_type": "markdown",
   "metadata": {},
   "source": [
    "## Improper his-ini start time\n",
    "\n",
    "1. For any start date, his-ini will begin at 00:00. The hioekg-bry-bio.nc file wil begin at 12:00 on the same start date. This will throw an error in the dry run.\n",
    "\n",
    "** Solution**: Change time by one day (= 86400 seconds) and rename the file.\n",
    "```bash\n",
    "ncap2 -s 'ocean_time=ocean_time+86400' his-ini-04749.nc his-ini-04750.nc\n",
    "```\n",
    "In spinup.sh, ROMS_START_DAY = 4750 to correspond with this modification."
   ]
  },
  {
   "cell_type": "markdown",
   "metadata": {},
   "source": [
    "<!--NAVIGATION-->\n",
    "< [IPython Magic Commands](01.03-Magic-Commands.ipynb) | [Contents](Index.ipynb) | [IPython and Shell Commands](01.05-IPython-And-Shell-Commands.ipynb) >\n",
    "\n",
    "<a href=\"https://colab.research.google.com/github/jakevdp/PythonDataScienceHandbook/blob/master/notebooks/01.04-Input-Output-History.ipynb\"><img align=\"left\" src=\"https://colab.research.google.com/assets/colab-badge.svg\" alt=\"Open in Colab\" title=\"Open and Execute in Google Colaboratory\"></a>\n"
   ]
  }
 ],
 "metadata": {
  "anaconda-cloud": {},
  "kernelspec": {
   "display_name": "Python 3",
   "language": "python",
   "name": "python3"
  },
  "language_info": {
   "codemirror_mode": {
    "name": "ipython",
    "version": 3
   },
   "file_extension": ".py",
   "mimetype": "text/x-python",
   "name": "python",
   "nbconvert_exporter": "python",
   "pygments_lexer": "ipython3",
   "version": "3.6.8"
  }
 },
 "nbformat": 4,
 "nbformat_minor": 1
}
