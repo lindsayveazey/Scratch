{
 "cells": [
  {
   "cell_type": "markdown",
   "metadata": {},
   "source": [
    "*My application of Climate Data Operators to define and extract sectors and the surface layer from the Kaneohe Bay COBALT model output; also, making movies out of netCDF files.*"
   ]
  },
  {
   "cell_type": "markdown",
   "metadata": {},
   "source": [
    "### Install Climate Data Operators (CDO)\n",
    "\n",
    "Linux OS: Ubuntu 16.04\n",
    "\n",
    "```\n",
    "# Install CDO with grib2, netcdf, HDF5 support\n",
    "# Adapted from https://gist.github.com/mainvoid007/e5f1c82f50eb0459a55dfc4a0953a08e\n",
    "\n",
    "mkdir /opt/cdo-install\n",
    "sudo -s -H\n",
    "home=/opt/cdo-install\n",
    "apt-get update\n",
    "apt-get install -y wget build-essential checkinstall unzip m4 curl libcurl4-gnutls-dev\n",
    "\n",
    "# download, compile and install --> zlib\n",
    "cd $home\n",
    "wget ftp://ftp.unidata.ucar.edu/pub/netcdf/netcdf-4/zlib-1.2.8.tar.gz\n",
    "tar -xzvf zlib-1.2.8.tar.gz\n",
    "cd zlib-1.2.8\n",
    "./configure -prefix=/opt/cdo-install\n",
    "make && make check && make install\n",
    "\n",
    "# download, compile and install --> hdf5\n",
    "cd $home\n",
    "wget ftp://ftp.unidata.ucar.edu/pub/netcdf/netcdf-4/hdf5-1.8.13.tar.gz\n",
    "tar -xzvf hdf5-1.8.13.tar.gz\n",
    "cd hdf5-1.8.13\n",
    "./configure -with-zlib=/opt/cdo-install -prefix=/opt/cdo-install CFLAGS=-fPIC\n",
    "make && make check && make install\n",
    "\n",
    "# download, compile and install --> netCDF\n",
    "cd $home\n",
    "wget ftp://ftp.unidata.ucar.edu/pub/netcdf/netcdf-4.5.0.tar.gz\n",
    "tar -xzvf netcdf-4.5.0.tar.gz \n",
    "cd netcdf-4.5.0/\n",
    "CPPFLAGS=-I/opt/cdo-install/include LDFLAGS=-L/opt/cdo-install/lib ./configure -prefix=/opt/cdo-install CFLAGS=-fPIC\n",
    "make && make check && make install\n",
    "\n",
    "# download, compile and install --> jasper\n",
    "cd $home\n",
    "wget http://www.ece.uvic.ca/~frodo/jasper/software/jasper-1.900.1.zip\n",
    "unzip jasper-1.900.1.zip\n",
    "cd jasper-1.900.1\n",
    "./configure -prefix=/opt/cdo-install CFLAGS=-fPIC\n",
    "make && make check && make install\n",
    "\n",
    "# download, compile and install --> grib_api\n",
    "cd $home\n",
    "wget https://software.ecmwf.int/wiki/download/attachments/3473437/grib_api-1.24.0-Source.tar.gz?api=v2 -O grib_api-1.24.0.tar.gz\n",
    "tar -xzvf grib_api-1.24.0.tar.gz\n",
    "cd grib_api-1.24.0-Source\n",
    "./configure -prefix=/opt/cdo-install CFLAGS=-fPIC -with-netcdf=/opt/cdo-install -with-jasper=/opt/cdo-install\n",
    "make && make check && make install\n",
    "\n",
    "# download, compile and install --> cdo\n",
    "cd $home\n",
    "wget https://code.mpimet.mpg.de/attachments/download/15653/cdo-1.9.1.tar.gz\n",
    "tar -xvzf cdo-1.9.1.tar.gz\n",
    "cd cdo-1.9.1\n",
    "./configure -prefix=/opt/cdo-install CFLAGS=-fPIC -with-netcdf=/opt/cdo-install -with-jasper=/opt/cdo-install -with-hdf5=/opt/cdo-install -with-grib_api=/opt/cdo-install/grib_api-1.24.0-Source\n",
    "make && make check && make install\n",
    "```"
   ]
  },
  {
   "cell_type": "markdown",
   "metadata": {},
   "source": [
    "### CDO: clipping NB, CB, SB sectors with all variables"
   ]
  },
  {
   "cell_type": "code",
   "execution_count": null,
   "metadata": {},
   "outputs": [],
   "source": [
    "# NB sector extraction\n",
    "cdo masklonlatbox,-157.9,-157.77,21.48165,21.50835 -selname,nsm,nlg,ndi,nsmz,nmdz,nlgz,ldon,sldon,srdon,nbact,nh4,no3,ndet,sio4,silg,sidet,cadet_calc,cadet_arag,lith,lithdet,ldop,sldop,srdop,po4,pdet,fesm,fedi,felg,fed,fedet,o2,dic,alk hioekg_his_04750.nc NB_all_var.nc\n",
    "\n",
    "# -157.9: constant; point is well inland\n",
    "# -157.77: point encapsulates entirety of inner north bay\n",
    "# 21.48165: NB/CB CISNet midpoint \n",
    "# 21.50835: historical midpoint between CISNET oceanic sampling site (approximate; latitudinal coordinate) and CISNet NB site\n",
    "\n",
    "\n",
    "# CB sector extraction\n",
    "cdo masklonlatbox,-157.9,-157.755,21.44915,21.48165 -selname,nsm,nlg,ndi,nsmz,nmdz,nlgz,ldon,sldon,srdon,nbact,nh4,no3,ndet,sio4,silg,sidet,cadet_calc,cadet_arag,lith,lithdet,ldop,sldop,srdop,po4,pdet,fesm,fedi,felg,fed,fedet,o2,dic,alk hioekg_his_04750.nc CB_all_var.nc\n",
    "# -157.9: constant; point is well inland\n",
    "# -157.755: point encapsulates entirety of inner central bay\n",
    "# 21.44915: CB/SB CISNet midpoint\n",
    "# 21.48165: NB/CB CISNet midpoint\n",
    "\n",
    "\n",
    "# SB sector extraction\n",
    "cdo masklonlatbox,-157.9,-157.745,21.39,21.44915 -selname,nsm,nlg,ndi,nsmz,nmdz,nlgz,ldon,sldon,srdon,nbact,nh4,no3,ndet,sio4,silg,sidet,cadet_calc,cadet_arag,lith,lithdet,ldop,sldop,srdop,po4,pdet,fesm,fedi,felg,fed,fedet,o2,dic,alk hioekg_his_04750.nc SB_all_var.nc\n",
    "# -157.9: constant; point is well inland\n",
    "# -157.745: point encapsulates entirety of inner south bay; historical CISNet oceanic sampling site (approximate; longitudinal coordinate)\n",
    "# 21.39: point is well inland\n",
    "# 21.44915: CB/SB CISNet midpoint\n",
    "\n",
    "\n",
    "# Starting coords of whole grid:  \n",
    "# lon_rho : -158.02 to -157.621 degree_east\n",
    "# lat_rho : 21.3431 to 21.7166 degree_north"
   ]
  },
  {
   "cell_type": "markdown",
   "metadata": {},
   "source": [
    "### CDO: extracting surface layer only"
   ]
  },
  {
   "cell_type": "code",
   "execution_count": null,
   "metadata": {},
   "outputs": [],
   "source": [
    "# s_rho = -0.975 = HIOEKG surface layer\n",
    "\n",
    "ncks -O -d s_rho,-0.975 NB_all_var.nc NB_all_var_surface.nc\n",
    "ncks -O -d s_rho,-0.975 CB_all_var.nc CB_all_var_surface.nc\n",
    "ncks -O -d s_rho,-0.975 SB_all_var.nc SB_all_var_surface.nc"
   ]
  },
  {
   "cell_type": "markdown",
   "metadata": {},
   "source": [
    "### bash script: monthly averages"
   ]
  },
  {
   "cell_type": "code",
   "execution_count": null,
   "metadata": {},
   "outputs": [],
   "source": [
    "# This script is set up to loop over each 30 day file and take monthly averages\n",
    "# then, an average over all the monthly averages to get a straight equally weighted 10-month average.\n",
    "# Adapted from S. Zedler with permission\n",
    "\n",
    "# store path with input in local variable PATH2\n",
    "printf -v PATH2 \"/share/frinkraid3/lindsayv/hioekg-template/output_semi_daily/\"\n",
    "cd $PATH2\n",
    "# define local variable tn0; here, the integer that corresponds to the ROMS time stamp on the file (without zero padding)  -- this is Jan 2, 2013\n",
    "tn0=4750\n",
    "# for loop: loop over 13 files\n",
    "for ((i=0; i<13; i++ ));\n",
    "do\n",
    "## NOW INSIDE FOR LOOP\n",
    "\n",
    "# in this printf command, %s means to copy a string\n",
    "# and %05d means a 5 digit integer padded with 0s on the left\n",
    "printf -v FNin \"%shioekg_avg_%05d.nc\" $PATH2 $tn0\n",
    "printf -v FNout \"%shioekg_monthly_mean_%05d.nc\" $PATH2 $tn0\n",
    "# this command averages file FNin along the record dimension (time) and put the output in new file $FNout\n",
    "ncra $FNin $FNout\n",
    "# output to screen\n",
    "echo $tn0\n",
    "echo $FNin\n",
    "echo $FNout\n",
    "# increase tn0 by 30 days\n",
    "tn0=$((tn0+30))\n",
    "\n",
    "## done CLOSES FOR LOOP\n",
    "done\n",
    "cd $PATH2\n",
    "# this command is not executed but would average over all tmp_rho_mean*nc files in directory\n",
    "# note use of wild card (*)\n",
    "##ncra tmp_rho_mean_*nc rho_avg_mean.nc"
   ]
  },
  {
   "cell_type": "markdown",
   "metadata": {},
   "source": [
    "### Making video clips/GIFs"
   ]
  },
  {
   "cell_type": "markdown",
   "metadata": {},
   "source": [
    "First, clone the mkmov repo:\n",
    "```\n",
    "git clone https://github.com/chrisb13/mkmov\n",
    "```\n",
    "Ensure that ImageMagick is installed:\n",
    "```\n",
    "identify -version\n",
    "```\n",
    "Command line may suggest that you install it; if so:\n",
    "```\n",
    "sudo apt install imagemagick\n",
    "```\n",
    "Next, view the variable of choice in ncview and use ImageMagick's convert command to produce a GIF:\n",
    "\n",
    "```ncview -frames *hioekg_his_04750_05110* &\n",
    "convert frame.*.png outmovie.gif```"
   ]
  }
 ],
 "metadata": {
  "anaconda-cloud": {},
  "kernelspec": {
   "display_name": "Python 3",
   "language": "python",
   "name": "python3"
  },
  "language_info": {
   "codemirror_mode": {
    "name": "ipython",
    "version": 3
   },
   "file_extension": ".py",
   "mimetype": "text/x-python",
   "name": "python",
   "nbconvert_exporter": "python",
   "pygments_lexer": "ipython3",
   "version": "3.6.9"
  }
 },
 "nbformat": 4,
 "nbformat_minor": 1
}
