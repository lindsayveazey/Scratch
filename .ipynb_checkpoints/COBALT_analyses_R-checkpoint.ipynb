{
 "cells": [
  {
   "cell_type": "markdown",
   "metadata": {},
   "source": [
    "*A document in progress regarding my analyses of COBALT output (2/2)* "
   ]
  },
  {
   "cell_type": "markdown",
   "metadata": {},
   "source": [
    "### Set up IRkernal (to run R in Jupyter)"
   ]
  },
  {
   "cell_type": "markdown",
   "metadata": {},
   "source": [
    "```install.packages(c('repr', 'IRdisplay', 'evaluate', 'crayon', 'pbdZMQ', 'devtools', 'uuid', 'digest'))\n",
    "devtools::install_github('IRkernel/IRkernel')\n",
    "IRkernel::installspec()```"
   ]
  },
  {
   "cell_type": "markdown",
   "metadata": {},
   "source": [
    "#### Simple line graph; lines colored by region    "
   ]
  },
  {
   "cell_type": "markdown",
   "metadata": {},
   "source": [
    "```\n",
    "library(ggplot2)\n",
    "hi <- read.csv('')\n",
    "ggplot(data=hi, aes(x=Time, y=DIC, group=Region, color=Region)) + \n",
    "\tscale_color_manual(name='Regions', values=c('cyan4', 'darkorange')) +\n",
    "\tgeom_line() +\n",
    "\tgeom_point() + \n",
    "\tlabs(x = \"DIC (mol/kg)\", y = \"Time (sec)\", title =\"Fluctuations in DIC across Kaneohe Bay: 2013\") +\n",
    "\ttheme(plot.title = element_text(hjust = 0.5))\n",
    "    ```"
   ]
  },
  {
   "cell_type": "markdown",
   "metadata": {},
   "source": [
    "#### \n",
    "\n",
    "*In progress*\n",
    "\n",
    "```\n",
    "library(ncdf4)\n",
    "nc <- nc_open('/home/lindsay/Downloads/ROMS_Kaneohe_Regional_Ocean_Model_best.ncd.nc')\n",
    "str(nc)  # examine nc file structure\n",
    "# lat, lon, time, depth, mask, zeta, time_run, salt, temp, u (eastward vel), v (northward vel)\n",
    "\n",
    "v1 = nc$var[[1]] # v1 is sea_binary_mask\n",
    "v2 = nc$var[[2]] # zeta: \"absolute SSH\"; includes time mean and time varying SSH \n",
    "# with respect to a datum (i.e. zeta=0) that is a geopotential surface, \n",
    "# i.e. if zeta=constant there is no associated pressure gradient force. \n",
    "v3 = nc$var[[3]] # time_run\n",
    "v4 = nc$var[[4]] # salt\n",
    "v5 = nc$var[[5]] # temp\n",
    "v6 = nc$var[[6]] # u\n",
    "v7 = nc$var[[7]] # v\n",
    "```"
   ]
  },
  {
   "cell_type": "code",
   "execution_count": null,
   "metadata": {
    "collapsed": true
   },
   "outputs": [],
   "source": []
  }
 ],
 "metadata": {
  "kernelspec": {
   "display_name": "R",
   "language": "R",
   "name": "ir"
  },
  "language_info": {
   "codemirror_mode": "r",
   "file_extension": ".r",
   "mimetype": "text/x-r-source",
   "name": "R",
   "pygments_lexer": "r",
   "version": "3.6.0"
  }
 },
 "nbformat": 4,
 "nbformat_minor": 2
}
