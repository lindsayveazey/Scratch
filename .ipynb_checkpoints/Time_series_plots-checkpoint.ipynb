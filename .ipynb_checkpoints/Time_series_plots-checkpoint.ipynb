{
 "cells": [
  {
   "cell_type": "markdown",
   "metadata": {},
   "source": [
    "#### Time series plot: plankton (master)"
   ]
  },
  {
   "cell_type": "code",
   "execution_count": 18,
   "metadata": {},
   "outputs": [],
   "source": [
    "import netCDF4\n",
    "from netCDF4 import Dataset\n",
    "import numpy as np\n",
    "from pathlib import Path"
   ]
  },
  {
   "cell_type": "code",
   "execution_count": 23,
   "metadata": {},
   "outputs": [],
   "source": [
    "sector = ['NB', 'CB', 'SB']\n",
    "date_2013 = ['January_4750','February_4780','March_4810','April_4840','May_4870','June_4900',\n",
    "             'July_4930','August_4960','September_4990','October_5020','November_5050', 'December_5080']\n",
    "date_2014 = ['January_5115','February_5145','March_5175','April_5205','May_5235','June_5265',\n",
    "             'July_5295','August_5325','September_5335','October_5385','November_5415', 'December_5445']\n",
    "day_2013 = ['4750','4780','4810','4840','4870','4900','4930','4960','4990','5020','5050', '5080']\n",
    "day_2014 = ['5115','5145','5175','5205','5235','5265','5295','5325','5335','5385','5415', '5445']"
   ]
  },
  {
   "cell_type": "code",
   "execution_count": 53,
   "metadata": {},
   "outputs": [],
   "source": [
    "var = 'nsmz'"
   ]
  },
  {
   "cell_type": "code",
   "execution_count": 62,
   "metadata": {},
   "outputs": [
    {
     "ename": "FileNotFoundError",
     "evalue": "[Errno 2] No such file or directory: b'/home/lindsay/hioekg_2013/January_4750/NB_all_var_surface_04750.nc'",
     "output_type": "error",
     "traceback": [
      "\u001b[0;31m---------------------------------------------------------------------------\u001b[0m",
      "\u001b[0;31mFileNotFoundError\u001b[0m                         Traceback (most recent call last)",
      "\u001b[0;32m<ipython-input-62-fbf43a625663>\u001b[0m in \u001b[0;36m<module>\u001b[0;34m\u001b[0m\n\u001b[1;32m      6\u001b[0m         \u001b[0mpathway\u001b[0m \u001b[0;34m=\u001b[0m \u001b[0;34m'/home/lindsay/hioekg_2013/'\u001b[0m \u001b[0;34m+\u001b[0m \u001b[0mstr\u001b[0m\u001b[0;34m(\u001b[0m\u001b[0mdate_2013\u001b[0m\u001b[0;34m[\u001b[0m\u001b[0mj\u001b[0m\u001b[0;34m]\u001b[0m\u001b[0;34m)\u001b[0m \u001b[0;34m+\u001b[0m \u001b[0;34m'/'\u001b[0m \u001b[0;34m+\u001b[0m \u001b[0mstr\u001b[0m\u001b[0;34m(\u001b[0m\u001b[0msector\u001b[0m\u001b[0;34m[\u001b[0m\u001b[0mi\u001b[0m\u001b[0;34m]\u001b[0m\u001b[0;34m)\u001b[0m \u001b[0;34m+\u001b[0m \u001b[0;34m'_all_var_surface_0'\u001b[0m \u001b[0;34m+\u001b[0m \u001b[0mstr\u001b[0m\u001b[0;34m(\u001b[0m\u001b[0mday_2013\u001b[0m\u001b[0;34m[\u001b[0m\u001b[0mj\u001b[0m\u001b[0;34m]\u001b[0m\u001b[0;34m)\u001b[0m \u001b[0;34m+\u001b[0m \u001b[0;34m'.nc'\u001b[0m\u001b[0;34m\u001b[0m\u001b[0;34m\u001b[0m\u001b[0m\n\u001b[1;32m      7\u001b[0m         \u001b[0mfile\u001b[0m \u001b[0;34m=\u001b[0m \u001b[0mPath\u001b[0m\u001b[0;34m(\u001b[0m\u001b[0mpathway\u001b[0m\u001b[0;34m)\u001b[0m\u001b[0;34m\u001b[0m\u001b[0;34m\u001b[0m\u001b[0m\n\u001b[0;32m----> 8\u001b[0;31m         \u001b[0mopen_file\u001b[0m \u001b[0;34m=\u001b[0m \u001b[0mDataset\u001b[0m\u001b[0;34m(\u001b[0m\u001b[0mfile\u001b[0m\u001b[0;34m)\u001b[0m\u001b[0;34m\u001b[0m\u001b[0;34m\u001b[0m\u001b[0m\n\u001b[0m\u001b[1;32m      9\u001b[0m         \u001b[0;31m#var = open_file.variables[str(var)][:]\u001b[0m\u001b[0;34m\u001b[0m\u001b[0;34m\u001b[0m\u001b[0;34m\u001b[0m\u001b[0m\n\u001b[1;32m     10\u001b[0m         \u001b[0;31m#var.mean = avg.append()\u001b[0m\u001b[0;34m\u001b[0m\u001b[0;34m\u001b[0m\u001b[0;34m\u001b[0m\u001b[0m\n",
      "\u001b[0;32mnetCDF4/_netCDF4.pyx\u001b[0m in \u001b[0;36mnetCDF4._netCDF4.Dataset.__init__\u001b[0;34m()\u001b[0m\n",
      "\u001b[0;32mnetCDF4/_netCDF4.pyx\u001b[0m in \u001b[0;36mnetCDF4._netCDF4._ensure_nc_success\u001b[0;34m()\u001b[0m\n",
      "\u001b[0;31mFileNotFoundError\u001b[0m: [Errno 2] No such file or directory: b'/home/lindsay/hioekg_2013/January_4750/NB_all_var_surface_04750.nc'"
     ]
    }
   ],
   "source": [
    "avg = []\n",
    "stdev = []\n",
    "\n",
    "for i in range(0,2):\n",
    "    for j in range(0,1):\n",
    "        pathway = '/home/lindsay/hioekg_2013/' + str(date_2013[j]) + '/' + str(sector[i]) + '_all_var_surface_0' + str(day_2013[j]) + '.nc'\n",
    "        file = Path(pathway)\n",
    "        open_file = Dataset(file)\n",
    "        #var = open_file.variables[str(var)][:]\n",
    "        #var.mean = avg.append()\n",
    "        \n",
    "        print(file)"
   ]
  },
  {
   "cell_type": "code",
   "execution_count": 16,
   "metadata": {},
   "outputs": [
    {
     "data": {
      "text/plain": [
       "1.2470965631767977e-07"
      ]
     },
     "execution_count": 16,
     "metadata": {},
     "output_type": "execute_result"
    }
   ],
   "source": [
    "test = 'NB_all_var_surface_04750.nc'\n",
    "ds = Dataset(test)\n",
    "ds2 = ds.variables['nsmz'][:]\n",
    "ds2.std() # or .mean()"
   ]
  },
  {
   "cell_type": "code",
   "execution_count": null,
   "metadata": {},
   "outputs": [],
   "source": [
    "# Create list objects\n",
    "\n",
    "groups = ['nsmz', 'nmdz', 'nlgz', 'nsm', 'nlg']\n",
    "\n",
    "months = ['Jan','Feb','Mar','Apr','May','Jun','Jul','Aug','Sep','Oct','Nov','Dec']\n",
    "\n",
    "mean_2013_NB = [(1.47e-07,1.35e-07,1.47e-07,2.13e-07,1.50e-07,1.33e-07,), \n",
    "    (nmdz), \n",
    "    (nlgz), \n",
    "    (nsm), \n",
    "    (nlg)]\n",
    "\n",
    "sdn_2013_NB = [(1.24e-07,8.83e-08,1.05e-07,3.57e-037,1.63e-07,1.17e-07,), \n",
    "    (nmdz), \n",
    "    (nlgz), \n",
    "    (nsm), \n",
    "    (nlg)]\n",
    "\n",
    "mean_2013_CB = [(1.42e-07,1.34e-07,1.46e-07,1.34e-07,1.40e-07,1.25e-07), \n",
    "    (nmdz), \n",
    "    (nlgz), \n",
    "    (nsm), \n",
    "    (nlg)]\n",
    "\n",
    "sdn_2013_CB = [(8.54e-08,7.86e-08,7.83e-08,8.39e-08,1.24e-07,9.03e-08,), \n",
    "    (nmdz), \n",
    "    (nlgz), \n",
    "    (nsm), \n",
    "    (nlg)]\n",
    "\n",
    "mean_2013_SB = [(1.24e-07,1.32e-07,1.38e-07,1.30e-07,1.36e-07,1.33e-07,), \n",
    "    (nmdz), \n",
    "    (nlgz), \n",
    "    (nsm), \n",
    "    (nlg)]\n",
    "\n",
    "sdn_2013_SB = [(9.59e-09,5.25e-09,6.05e-09,4.88e-09,1.01e-08,7.29e-09,), \n",
    "    (nmdz), \n",
    "    (nlgz), \n",
    "    (nsm), \n",
    "    (nlg)]\n",
    "\n",
    "\n",
    "mean_2014_NB = [(nsmz), \n",
    "    (nmdz), \n",
    "    (nlgz), \n",
    "    (nsm), \n",
    "    (nlg)]\n",
    "\n",
    "sdn_2014_NB = [(nsmz), \n",
    "    (nmdz), \n",
    "    (nlgz), \n",
    "    (nsm), \n",
    "    (nlg)]\n",
    "\n",
    "mean_2014_CB = [(nsmz), \n",
    "    (nmdz), \n",
    "    (nlgz), \n",
    "    (nsm), \n",
    "    (nlg)]\n",
    "\n",
    "sdn_2014_CB = [(nsmz), \n",
    "    (nmdz), \n",
    "    (nlgz), \n",
    "    (nsm), \n",
    "    (nlg)]\n",
    "\n",
    "mean_2014_SB = [(nsmz), \n",
    "    (nmdz), \n",
    "    (nlgz), \n",
    "    (nsm), \n",
    "    (nlg)]\n",
    "\n",
    "sdn_2014_SB = [(nsmz), \n",
    "    (nmdz), \n",
    "    (nlgz), \n",
    "    (nsm), \n",
    "    (nlg)]"
   ]
  }
 ],
 "metadata": {
  "kernelspec": {
   "display_name": "Python 3",
   "language": "python",
   "name": "python3"
  },
  "language_info": {
   "codemirror_mode": {
    "name": "ipython",
    "version": 3
   },
   "file_extension": ".py",
   "mimetype": "text/x-python",
   "name": "python",
   "nbconvert_exporter": "python",
   "pygments_lexer": "ipython3",
   "version": "3.6.9"
  }
 },
 "nbformat": 4,
 "nbformat_minor": 2
}
