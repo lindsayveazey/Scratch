{
 "cells": [
  {
   "cell_type": "markdown",
   "metadata": {},
   "source": [
    "*A document in progress regarding my analyses of COBALT output (1/2)* "
   ]
  },
  {
   "cell_type": "markdown",
   "metadata": {},
   "source": [
    "### Install Climate Data Operators (CDO)\n",
    "```\n",
    "# Install CDO with grib2, netcdf, HDF5 support\n",
    "# Adapted from https://gist.github.com/mainvoid007/e5f1c82f50eb0459a55dfc4a0953a08e\n",
    "\n",
    "mkdir /opt/cdo-install\n",
    "sudo -s -H\n",
    "home=/opt/cdo-install\n",
    "apt-get update\n",
    "apt-get install -y wget build-essential checkinstall unzip m4 curl libcurl4-gnutls-dev\n",
    "\n",
    "# download, compile and install --> zlib\n",
    "cd $home\n",
    "wget ftp://ftp.unidata.ucar.edu/pub/netcdf/netcdf-4/zlib-1.2.8.tar.gz\n",
    "tar -xzvf zlib-1.2.8.tar.gz\n",
    "cd zlib-1.2.8\n",
    "./configure -prefix=/opt/cdo-install\n",
    "make && make check && make install\n",
    "\n",
    "# download, compile and install --> hdf5\n",
    "cd $home\n",
    "wget ftp://ftp.unidata.ucar.edu/pub/netcdf/netcdf-4/hdf5-1.8.13.tar.gz\n",
    "tar -xzvf hdf5-1.8.13.tar.gz\n",
    "cd hdf5-1.8.13\n",
    "./configure -with-zlib=/opt/cdo-install -prefix=/opt/cdo-install CFLAGS=-fPIC\n",
    "make && make check && make install\n",
    "\n",
    "# download, compile and install --> netCDF\n",
    "cd $home\n",
    "wget ftp://ftp.unidata.ucar.edu/pub/netcdf/netcdf-4.5.0.tar.gz\n",
    "tar -xzvf netcdf-4.5.0.tar.gz \n",
    "cd netcdf-4.5.0/\n",
    "CPPFLAGS=-I/opt/cdo-install/include LDFLAGS=-L/opt/cdo-install/lib ./configure -prefix=/opt/cdo-install CFLAGS=-fPIC\n",
    "make && make check && make install\n",
    "\n",
    "# download, compile and install --> jasper\n",
    "cd $home\n",
    "wget http://www.ece.uvic.ca/~frodo/jasper/software/jasper-1.900.1.zip\n",
    "unzip jasper-1.900.1.zip\n",
    "cd jasper-1.900.1\n",
    "./configure -prefix=/opt/cdo-install CFLAGS=-fPIC\n",
    "make && make check && make install\n",
    "\n",
    "# download, compile and install --> grib_api\n",
    "cd $home\n",
    "wget https://software.ecmwf.int/wiki/download/attachments/3473437/grib_api-1.24.0-Source.tar.gz?api=v2 -O grib_api-1.24.0.tar.gz\n",
    "tar -xzvf grib_api-1.24.0.tar.gz\n",
    "cd grib_api-1.24.0-Source\n",
    "./configure -prefix=/opt/cdo-install CFLAGS=-fPIC -with-netcdf=/opt/cdo-install -with-jasper=/opt/cdo-install\n",
    "make && make check && make install\n",
    "\n",
    "# download, compile and install --> cdo\n",
    "cd $home\n",
    "wget https://code.mpimet.mpg.de/attachments/download/15653/cdo-1.9.1.tar.gz\n",
    "tar -xvzf cdo-1.9.1.tar.gz\n",
    "cd cdo-1.9.1\n",
    "./configure -prefix=/opt/cdo-install CFLAGS=-fPIC -with-netcdf=/opt/cdo-install -with-jasper=/opt/cdo-install -with-hdf5=/opt/cdo-install -with-grib_api=/opt/cdo-install/grib_api-1.24.0-Source\n",
    "make && make check && make install\n",
    "```"
   ]
  },
  {
   "cell_type": "markdown",
   "metadata": {},
   "source": [
    "### Making clips"
   ]
  },
  {
   "cell_type": "markdown",
   "metadata": {},
   "source": [
    "First, clone the mkmov repo:\n",
    "```\n",
    "git clone https://github.com/chrisb13/mkmov\n",
    "```\n",
    "Ensure that ImageMagick is installed:\n",
    "```\n",
    "identify -version\n",
    "```\n",
    "Command line may suggest that you install it; if so:\n",
    "```\n",
    "sudo apt install imagemagick\n",
    "```"
   ]
  },
  {
   "cell_type": "markdown",
   "metadata": {},
   "source": [
    "Next, view the variable of choice in ncview and use ImageMagick's convert command to produce a GIF:\n",
    "\n",
    "```ncview -frames *hioekg_his_04750_05110* &\n",
    "convert frame.*.png outmovie.gif```\n"
   ]
  },
  {
   "cell_type": "markdown",
   "metadata": {
    "collapsed": true
   },
   "source": [
    "*In progress*\n",
    "```\n",
    "### Bash script looping across 10 time series files;\n",
    "# avgs over each one, then\n",
    "# avgs over the 10 avgs\n",
    "# = one 10 month avg\n",
    "\n",
    "#!/bin/bash\n",
    "\n",
    "printf -v PATHin \"/share/frinkraid/powellb/fleat/inner-nlm-w4d-2015-2016/output$\n",
    "printf -v PATHout \"/share/frinkraid4/szedler/fleat/inner-nlm-w4d-2015-2016/anal$\n",
    "  \n",
    "  t0=5479\n",
    "for ((i=0; i<22; i++ ));\n",
    "do\n",
    "k=$((t0))\n",
    "echo $k\n",
    "printf -v FNin \"%sfleat_inner_his_%05d.nc\" $PATHin $k\n",
    "printf -v FNout \"%stemp_%05d.nc\" $PATHout $k\n",
    "echo $FNin\n",
    "echo $FNout\n",
    "ncks -d ocean_time,0,239 -v temp $FNin $FNout\n",
    "t0=$((t0+30))\n",
    "done\n",
    "cd $PATHout\n",
    "ncra temp_0*nc temp_mean.nc\n",
    "```"
   ]
  },
  {
   "cell_type": "markdown",
   "metadata": {},
   "source": [
    "*In progress*\n",
    "import numpy as np\n",
    "import seapy\n",
    "depths = np.array([1,10,50,100,125,150,200], dtype=object)\n",
    "nx = 4*4/111\n",
    "ny = 4*4/111\n",
    "seapy.roms.interp.to_zgrid('hiig_cobalt_avg.nc', 'out.nc', depth=depths, threads=4, nx=nx, ny=ny)"
   ]
  }
 ],
 "metadata": {
  "anaconda-cloud": {},
  "kernelspec": {
   "display_name": "Python 3",
   "language": "python",
   "name": "python3"
  },
  "language_info": {
   "codemirror_mode": {
    "name": "ipython",
    "version": 3
   },
   "file_extension": ".py",
   "mimetype": "text/x-python",
   "name": "python",
   "nbconvert_exporter": "python",
   "pygments_lexer": "ipython3",
   "version": "3.6.8"
  }
 },
 "nbformat": 4,
 "nbformat_minor": 1
}
