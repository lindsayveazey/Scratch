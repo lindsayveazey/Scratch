{
 "cells": [
  {
   "cell_type": "markdown",
   "metadata": {},
   "source": [
    "This notebook is a collection of various notes I'm keeping throughout the process that don't pertain to any particular workflow, but here serve as an easily searchable catalogue."
   ]
  },
  {
   "cell_type": "markdown",
   "metadata": {},
   "source": [
    "#### Extract a variable, append to a .nc file:"
   ]
  },
  {
   "cell_type": "code",
   "execution_count": null,
   "metadata": {},
   "outputs": [],
   "source": [
    "nc = netCDF4.Dataset('filename.nc')\n",
    "zeta = nc.variables['zeta'][:] # This syntax calls all files\n",
    "nc.close() # Close the file after; here, it writes to it if you've changed it\n",
    "\n",
    "time = netCDF4.num2date(nc.variables['ocean_time'][:],\n",
    "                       nc.variables['ocean_time'].units)\n",
    "\n",
    "# Append:\n",
    "nc = netCDF4.Dataset('filename.nc', 'a') # a = 'append'\n",
    "zeta = 2*nc.var\n",
    "nc.variables['zeta'][:] = zeta # replace all 'zeta' values with your newly edited zeta array"
   ]
  },
  {
   "cell_type": "markdown",
   "metadata": {},
   "source": [
    "#### Some seapy notes:\n",
    "\n",
    "- A CDL file is basically a text output from a netcdf file. If you want to know the contents of a netcdf file but don't want to use programs built to read/write netcdf, you can use the simple text output of \"ncdump\" and then read/write it with a basic text editor."
   ]
  },
  {
   "cell_type": "code",
   "execution_count": null,
   "metadata": {},
   "outputs": [],
   "source": [
    "seapy.earthdistance(lon1, lat1, lon2, lat2) # distance between 2 pts\n",
    "seapy.earthangle(lon1, lat1, lon2, lat2) # angle between 2 pts\n",
    "seapy.roms.analysis.constant_depth(temp, grid, depth = 100) # interpolates everything to a certain depth (finds the nearest depth layer; may not be exact)"
   ]
  },
  {
   "cell_type": "markdown",
   "metadata": {},
   "source": [
    "*hycom.py* has a lot of good example scripts showing how to import and manipulate HYCOM data for use in ROMS. Same goes for *soda.py* (Simple Ocean Data Assimilation)- main vars include 3D Velocity, SST, Salinity, potential temperature, sea surface height, u, v current components, wind stress. Monthly timestep, 0.5 x 0.5 res (55,660 x 55,660 m)."
   ]
  },
  {
   "cell_type": "code",
   "execution_count": null,
   "metadata": {},
   "outputs": [],
   "source": [
    "\n",
    "seapy.roms.analysis.constant_depth(temp, grid, depth = 100) # interpolates everything to a certain depth (finds the nearest depth layer; may not be exact)\n"
   ]
  },
  {
   "cell_type": "markdown",
   "metadata": {},
   "source": [
    "#### Setting up remote access to Jupyter notebooks hosted on frinkraid:"
   ]
  },
  {
   "cell_type": "code",
   "execution_count": null,
   "metadata": {},
   "outputs": [],
   "source": [
    "# ssh in, then:\n",
    "cd ./jupyter\n",
    "nano jupyter_notebook_config\n",
    "c.NotebookApp.open_browser = False # changed to True\n",
    "c.NotebookApp.allow_origin = '' # changed to '0.0.0.0' to allow all origins\n",
    "c.NotebookApp.ip = '' # changed to '0.0.0.0' to listen on all IPs\n",
    "c.NotebookApp.password_required = False # unhashed this, hashed the password specification line above\n",
    "c.NotebookApp.open_browser = True # changed to False to prevent the automatic opening of an annoying frozen window\n",
    "\n",
    "dig +short myip.opendns.com @resolver1.opendns.com # get my own public IP\n",
    "\n",
    "# find current ip (this won't impact how I call jupyter on server, FYI):\n",
    "ifconfig | grep \"inet \" | grep -Fv 127.0.0.1 | awk '{print $2}' \n",
    "\n",
    "# call jupyter on frinkiac\n",
    "jupyter notebook --ip 128.171.156.147 --port 8890 "
   ]
  },
  {
   "cell_type": "markdown",
   "metadata": {},
   "source": [
    "#### Inatalling conda on Ubuntu 16.04"
   ]
  },
  {
   "cell_type": "code",
   "execution_count": null,
   "metadata": {},
   "outputs": [],
   "source": [
    "# Download the Python 2.7 64-Bit Command Line Installer (.sh extension) from https://www.anaconda.com/distribution/#download-section\n",
    "cd /tmp\n",
    "\n",
    "# Download the Anaconda link using curl. Note that I downloaded a MacOS link the first time...\n",
    "curl -0 https://repo.anaconda.com/archive/Anaconda*.sh\n",
    "\n",
    "# Verify the installer with the SHA-256 checksum\n",
    "sha256sum Anaconda3-5.0.1-Linux-x86_64.sh\n",
    "\n",
    "# Ensure the .sh is present in the file system\n",
    "ls -lt \n",
    "\n",
    "# Install (keep the bash command)\n",
    "bash Anaconda3-5.0.1-Linux-x86_64.sh"
   ]
  },
  {
   "cell_type": "markdown",
   "metadata": {},
   "source": [
    "#### Ask for help\n",
    "\n",
    "*HELP!* Inside the () in a foreign function within the notebook, click Shift + Tab"
   ]
  },
  {
   "cell_type": "markdown",
   "metadata": {},
   "source": [
    "#### tmux"
   ]
  },
  {
   "cell_type": "code",
   "execution_count": null,
   "metadata": {},
   "outputs": [],
   "source": [
    "tmux new # Opens new tmux session\n",
    "\n",
    "# All commands in tmux require the prefix shortcut, which by default is ctrl+b\n",
    "\n",
    "ctrl+b tmux new -s [name of session] # Start a new session with a specific name\n",
    "\n",
    "ctrl+b # Split pane horizontally: \" ; vertically: %\n",
    "\n",
    "ctrl+b [arrow key] # To move from pane to pane, simply use the prefix followed by the arrow key\n",
    "\n",
    "ctrl+b d # This will detach the current session and return you to your normal shell\n",
    "exit # To close\n",
    "\n",
    " source-file \"/.tmux-themepack/powerline/block/cyan.tmuxtheme\""
   ]
  },
  {
   "cell_type": "markdown",
   "metadata": {},
   "source": [
    "#### Install a tarball "
   ]
  },
  {
   "cell_type": "code",
   "execution_count": null,
   "metadata": {},
   "outputs": [],
   "source": [
    "cd \\Downloads\n",
    "tar -xzvf seapy-0.2.1.tar.gz\n",
    "cd seapy-0.2.1\n",
    "python setup.py install"
   ]
  },
  {
   "cell_type": "markdown",
   "metadata": {},
   "source": [
    "#### Quick netCDF extraction of mu, var using bash"
   ]
  },
  {
   "cell_type": "code",
   "execution_count": null,
   "metadata": {},
   "outputs": [],
   "source": [
    "ncap2 -h -O -s  'nh4_mean=nh4.avg();' hioekg_his_surface_04750.nc nh4_surface_04750_mean.nc\n",
    "ncdump -v nh4_mean nh4_surface_04750_mean.nc | sed -e '1,/data:/d' -e '$d'\n",
    "\n",
    "ncap2 -s 'nh4_sdn=(nh4-nh4.avg(ocean_time)).rmssdn(ocean_time)' hioekg_his_surface_04750.nc nh4_surface_04750_sdn.nc\n",
    "ncdump -v nh4_sdn nh4_surface_04750_sdn.nc | sed -e '1,/data:/d' -e '$d'\n",
    "\n",
    "# nh4_mean = 7.797935e-08 ;\n",
    "# nh4_sdn = 3.533257e-08 ;\n",
    "\n",
    "ncap2 -h -O -s  'no3_mean=no3.avg();' hioekg_his_surface_04750.nc no3_surface_04750_mean.nc\n",
    "ncdump -v no3_mean no3_surface_04750_mean.nc | sed -e '1,/data:/d' -e '$d'\n",
    "\n",
    "ncap2 -s 'no3_sdn=(no3-no3.avg(ocean_time)).rmssdn(ocean_time)' hioekg_his_surface_04750.nc no3_surface_04750_sdn.nc\n",
    "ncdump -v no3_sdn no3_surface_04750_sdn.nc | sed -e '1,/data:/d' -e '$d'\n",
    "\n",
    "# no3_mean = 1.365213e-06 ;\n",
    "# no3_sdn = 4.601836e-06 ;\n",
    "\n",
    "ncap2 -h -O -s  'sio4_mean=sio4.avg();' hioekg_his_surface_04750.nc sio4_surface_04750_mean.nc\n",
    "ncdump -v sio4_mean sio4_surface_04750_mean.nc | sed -e '1,/data:/d' -e '$d'\n",
    "\n",
    "ncap2 -s 'sio4_sdn=(sio4-sio4.avg(ocean_time)).rmssdn(ocean_time)' hioekg_his_surface_04750.nc sio4_surface_04750_sdn.nc\n",
    "ncdump -v sio4_sdn sio4_surface_04750_sdn.nc | sed -e '1,/data:/d' -e '$d'\n",
    "\n",
    "# sio4_mean = 2.420327e-06 ;\n",
    "# sio4_sdn = 7.683222e-06 ;\n",
    "\n",
    "ncap2 -h -O -s  'po4_mean=po4.avg();' hioekg_his_surface_04750.nc po4_surface_04750_mean.nc\n",
    "ncdump -v po4_mean po4_surface_04750_mean.nc | sed -e '1,/data:/d' -e '$d'\n",
    "\n",
    "ncap2 -s 'po4_sdn=(po4-po4.avg(ocean_time)).rmssdn(ocean_time)' hioekg_his_surface_04750.nc po4_surface_04750_sdn.nc\n",
    "ncdump -v po4_sdn po4_surface_04750_sdn.nc | sed -e '1,/data:/d' -e '$d'\n",
    "\n",
    "# po4_mean = 1.501669e-07 ;\n",
    "# po4_sdn = 3.255913e-07 ;'\n",
    "'\n",
    "ncap2 -h -O -s  'nh4_mean=nh4.avg();' hioekg_his_surface_05115.nc nh4_surface_05115_mean.nc\n",
    "ncdump -v nh4_mean nh4_surface_05115_mean.nc | sed -e '1,/data:/d' -e '$d'\n",
    "\n",
    "ncap2 -s 'nh4_sdn=(nh4-nh4.avg(ocean_time)).rmssdn(ocean_time)' hioekg_his_surface_05115.nc nh4_surface_05115_sdn.nc\n",
    "ncdump -v nh4_sdn nh4_surface_05115_sdn.nc | sed -e '1,/data:/d' -e '$d'\n",
    "\n",
    "# nh4_mean = 6.294683e-08 ;\n",
    "# nh4_sdn = 3.317916e-08 ;\n",
    "\n",
    "ncap2 -h -O -s  'no3_mean=no3.avg();' hioekg_his_surface_05115.nc no3_surface_05115_mean.nc\n",
    "ncdump -v no3_mean no3_surface_05115_mean.nc | sed -e '1,/data:/d' -e '$d'\n",
    "\n",
    "ncap2 -s 'no3_sdn=(no3-no3.avg(ocean_time)).rmssdn(ocean_time)' hioekg_his_surface_05115.nc no3_surface_05115_sdn.nc\n",
    "ncdump -v no3_sdn no3_surface_05115_sdn.nc | sed -e '1,/data:/d' -e '$d'\n",
    "\n",
    "# no3_mean = 1.485838e-06 ;\n",
    "# no3_sdn = 4.747691e-06 ;\n",
    "\n",
    "ncap2 -h -O -s  'sio4_mean=sio4.avg();' hioekg_his_surface_05115.nc sio4_surface_05115_mean.nc\n",
    "ncdump -v sio4_mean sio4_surface_05115_mean.nc | sed -e '1,/data:/d' -e '$d'\n",
    "\n",
    "ncap2 -s 'sio4_sdn=(sio4-sio4.avg(ocean_time)).rmssdn(ocean_time)' hioekg_his_surface_05115.nc sio4_surface_05115_sdn.nc\n",
    "ncdump -v sio4_sdn sio4_surface_05115_sdn.nc | sed -e '1,/data:/d' -e '$d'\n",
    "\n",
    "# sio4_mean = 2.530875e-06 ;\n",
    "# sio4_sdn = 8.033447e-06 ;\n",
    "\n",
    "ncap2 -h -O -s  'po4_mean=po4.avg();' hioekg_his_surface_05115.nc po4_surface_05115_mean.nc\n",
    "ncdump -v po4_mean po4_surface_05115_mean.nc | sed -e '1,/data:/d' -e '$d'\n",
    "\n",
    "ncap2 -s 'po4_sdn=(po4-po4.avg(ocean_time)).rmssdn(ocean_time)' hioekg_his_surface_05115.nc po4_surface_05115_sdn.nc\n",
    "ncdump -v po4_sdn po4_surface_05115_sdn.nc | sed -e '1,/data:/d' -e '$d'\n",
    "\n",
    "# po4_mean = 1.481876e-07 ;\n",
    "# po4_sdn = 3.369612e-07 ;\n"
   ]
  }
 ],
 "metadata": {
  "kernelspec": {
   "display_name": "Python 3",
   "language": "python",
   "name": "python3"
  },
  "language_info": {
   "codemirror_mode": {
    "name": "ipython",
    "version": 3
   },
   "file_extension": ".py",
   "mimetype": "text/x-python",
   "name": "python",
   "nbconvert_exporter": "python",
   "pygments_lexer": "ipython3",
   "version": "3.6.9"
  }
 },
 "nbformat": 4,
 "nbformat_minor": 2
}
