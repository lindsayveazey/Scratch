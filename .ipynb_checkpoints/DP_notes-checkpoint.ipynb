{
 "cells": [
  {
   "cell_type": "code",
   "execution_count": 2,
   "metadata": {},
   "outputs": [
    {
     "name": "stdout",
     "output_type": "stream",
     "text": [
      "No variables match your requested type.\n",
      "[4 5 6]\n",
      "[1 2]\n",
      "[3 4 5]\n",
      "[1 2 3 4 -- 6]\n",
      "[-- -- 3 4 -- 6]\n",
      "hello\n",
      "2\n",
      "3\n",
      "4\n",
      "5\n",
      "6\n",
      "7\n",
      "2\n",
      "0\n",
      "1\n",
      "2\n",
      "3\n",
      "4\n",
      "3\n",
      "0\n",
      "1\n",
      "2\n",
      "3\n",
      "4\n",
      "4\n",
      "0\n",
      "1\n",
      "2\n",
      "3\n",
      "4\n",
      "5\n",
      "0\n",
      "1\n",
      "2\n",
      "3\n",
      "4\n",
      "6\n",
      "0\n",
      "1\n",
      "2\n",
      "3\n",
      "4\n",
      "7\n",
      "0\n",
      "1\n",
      "2\n",
      "3\n",
      "4\n"
     ]
    }
   ],
   "source": [
    "'''Installing new modules: In command prompt...\n",
    "cd C:\\Python27\\ArcGIS10.4\n",
    "python -m pip install --user moduleName\n",
    "\n",
    "'''\n",
    "\n",
    "# 3 ways to use python: scripts, ipython (more interactive; line-by-line); jupyter notebooks\n",
    "\n",
    "## Importing modules\n",
    "# import <moduleName> as <alias> \n",
    "import numpy as np\n",
    "import matplotlib as plt\n",
    "import datetime as dt\n",
    "## Using a function in a module\n",
    "# moduleName.Function\n",
    "\n",
    "## Useful modules\n",
    "# numpy, datetime, netCDF4, os, matplotlib, seapy\n",
    "\n",
    "''' This is a block comment. Use it for troubleshooting multiple lines. '''\n",
    "\n",
    "## Magic commands\n",
    "% whos # lists commands available in your space\n",
    "# % paste # keeps proper indentation of your clipboard paste\n",
    "\n",
    "# You can type 'np.m' (or whatever) + tab and it will show a list of your available commands\n",
    "\n",
    "# modeuleName.Function? # helps you with this function\n",
    "\n",
    "## Arrays\n",
    "# a.shape gives (rows, cols)\n",
    "\n",
    "a = np.array([[1,2,3], [4,5,6]])\n",
    "print(a[1, : ]) # prints [4 5 6]\n",
    "\n",
    "logic = np.where(a < 3)\n",
    "morelogic = np.where(np.logical_and(a > 2, a < 6))\n",
    "print(a[logic])\n",
    "print(a[morelogic])\n",
    "\n",
    "## Masked arrays\n",
    "b = np.ma.array([1,2,3,4,5,6]) # this function declares b, or numbers 1-6, as ready to be masked\n",
    "b[4] = np.ma.masked\n",
    "print(b)\n",
    "\n",
    "c = np.ma.masked_where(b < 3, b)\n",
    "print(c)\n",
    "\n",
    "## Dictionaries organize unrelated things \n",
    "d = {'a':a, 'z':'hello'}\n",
    "print(d['z'])\n",
    "\n",
    "## For loops\n",
    "for i in range(2,8):\n",
    "    print(i)\n",
    "\n",
    "# Nested loops\n",
    "for i in range(2,8):\n",
    "    print(i)\n",
    "    for j in range(5):\n",
    "        print(j)    \n",
    "\n",
    "\n",
    "## Functions\n",
    "#def functionName(a,b,c):\n",
    "    '''Here is the block comment describing the purpose, inputs, and outputs of the function'''\n",
    "#    y = a + b\n",
    "#    x = b + c\n"
   ]
  },
  {
   "cell_type": "code",
   "execution_count": 61,
   "metadata": {},
   "outputs": [
    {
     "name": "stdout",
     "output_type": "stream",
     "text": [
      "10.49\n"
     ]
    }
   ],
   "source": [
    "## Practicing functions\n",
    "\n",
    "g = float(110)\n",
    "import math\n",
    "\n",
    "def myFunction(g):\n",
    "    '''This function uses float numbers, square roots them, and rounds to 2 dp'''\n",
    "    x = np.sqrt(g)\n",
    "    y = np.round(x, decimals = 2)\n",
    "    print(y)\n",
    "\n",
    "myFunction(g)"
   ]
  },
  {
   "cell_type": "code",
   "execution_count": 68,
   "metadata": {},
   "outputs": [
    {
     "data": {
      "text/plain": [
       "6821280.0"
      ]
     },
     "execution_count": 68,
     "metadata": {},
     "output_type": "execute_result"
    }
   ],
   "source": [
    "## Practicing with datetime\n",
    "t1 = dt.datetime(2018, 7, 22, 4, 3)\n",
    "t2 = dt.datetime(2018, 5, 4, 5, 15)\n",
    "(t1 - t2).total_seconds()\n",
    "\n",
    "# ROMS stores things from the epoch of 1-1-2000"
   ]
  },
  {
   "cell_type": "code",
   "execution_count": 69,
   "metadata": {},
   "outputs": [
    {
     "ename": "ModuleNotFoundError",
     "evalue": "No module named 'netCDF4'",
     "output_type": "error",
     "traceback": [
      "\u001b[1;31m---------------------------------------------------------------------------\u001b[0m",
      "\u001b[1;31mModuleNotFoundError\u001b[0m                       Traceback (most recent call last)",
      "\u001b[1;32m<ipython-input-69-f2bf1236a34a>\u001b[0m in \u001b[0;36m<module>\u001b[1;34m()\u001b[0m\n\u001b[0;32m      1\u001b[0m \u001b[1;31m## netCDF4\u001b[0m\u001b[1;33m\u001b[0m\u001b[1;33m\u001b[0m\u001b[0m\n\u001b[1;32m----> 2\u001b[1;33m \u001b[1;32mimport\u001b[0m \u001b[0mnetCDF4\u001b[0m\u001b[1;33m\u001b[0m\u001b[0m\n\u001b[0m",
      "\u001b[1;31mModuleNotFoundError\u001b[0m: No module named 'netCDF4'"
     ]
    }
   ],
   "source": [
    "## netCDF4\n",
    "import netCDF4\n",
    "\n",
    "nc = netCDF4.Dataset('filename.nc')\n",
    "zeta = nc.variables['zeta'][:] # This syntax calls all files\n",
    "nc.close() # close the file after; here, it writes to it if you've changed it\n",
    "\n",
    "time = netCDF4.num2date(nc.variables['ocean_time'][:],\n",
    "                       nc.variables['ocean_time'].units)\n",
    "\n",
    "## To append to a nc file:\n",
    "nc = netCDF4.Dataset('filename.nc', 'a') # a indicates 'append'\n",
    "zeta = 2*nc.var\n",
    "nc.variables['zeta'][:] = zeta # replace all 'zeta' values with your newly edited zeta array\n",
    "\n",
    "# Note that time is the one dimension that can change with Brian's models (the \"unlimited\" dim)\n",
    "# You change time first. Not quite sure about this."
   ]
  },
  {
   "cell_type": "code",
   "execution_count": null,
   "metadata": {},
   "outputs": [],
   "source": [
    "## seapy notes\n",
    "\n",
    "seapy.date2day(dt.datetime(2018,5,4)) # day2date is the reverse\n",
    "seapy.earthdistance(lon1, lat1, lon2, lat2) # distance between 2 pts\n",
    "seapy.earthangle(lon1, lat1, lon2, lat2) # angle between 2 pts\n",
    "seapy.list_files('/home/files/.*nc') # the * goes after the .\n",
    "seapy.list_files('/home/files/his_.*nc') # returns files starting with his\n",
    "nc = seapy.netcdf('...nc') # opens .nc in read mode only\n",
    "seapy.filt.bandpass(x = timeSeries, dt = numberOfUnitOfTime, low_cutoff = NULL, high_cutoff = NULL)\n",
    "# for ^, cutoff units must be the same units as dt\n",
    "\n",
    "g = seapy.model.grid('gfile.nc')\n",
    "# note that the u and v can be rotated (Kaneohe is at an angle)"
   ]
  }
 ],
 "metadata": {
  "kernelspec": {
   "display_name": "Python 3",
   "language": "python",
   "name": "python3"
  },
  "language_info": {
   "codemirror_mode": {
    "name": "ipython",
    "version": 3
   },
   "file_extension": ".py",
   "mimetype": "text/x-python",
   "name": "python",
   "nbconvert_exporter": "python",
   "pygments_lexer": "ipython3",
   "version": "3.6.6"
  }
 },
 "nbformat": 4,
 "nbformat_minor": 2
}
