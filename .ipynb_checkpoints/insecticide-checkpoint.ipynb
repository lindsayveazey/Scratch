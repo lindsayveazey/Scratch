{
 "cells": [
  {
   "cell_type": "markdown",
   "metadata": {},
   "source": [
    "<!--Introduction -->\n",
    "\n",
    "*Bugs and how to circumvent them.* \n",
    "\n",
    "\n",
    "*Last update:* 2019-04-08"
   ]
  },
  {
   "cell_type": "markdown",
   "metadata": {},
   "source": [
    "# COBALT bugs"
   ]
  },
  {
   "cell_type": "markdown",
   "metadata": {},
   "source": [
    "Here are some notes to refer to as I wade through annual runs with COBALT."
   ]
  },
  {
   "cell_type": "markdown",
   "metadata": {},
   "source": [
    "## Creating .nc files with ``setup_inner_*`` scripts\n",
    "\n",
    "1. ``_frc``: General input error when...\n",
    "\n",
    "```python\n",
    "start_day = 4749 # 1-1-2013\n",
    "end_day = 5113 # 12-31-2013\n",
    "```\n",
    "**Solution**: The script works fine, but hits a wall when a timeseries > 250 days is called from the PacIOOS server. Call dates only in segments shorter than this approximate limit, then concatenate the renamed resulting mini-files:\n",
    "\n",
    "ncrcat -h frc-wrfo-1.nc frc-wrfo-2.nc frc-wrfo.nc\n",
    "ncrcat -h frc-cobalt-1.nc frc-cobalt-2.nc frc-cobalt.nc\n",
    "ncrcat -h river-hioekg-1.nc river-hioekg-2.nc river-hioekg.nc\n",
    "\n",
    "2. ``_nest``: datetime error when...\n",
    "\n",
    "```python\n",
    "start_day = 4749\n",
    "end_day = 5113\n",
    "```\n",
    "**Solution**: The problematic file is the file for dates 5109 - 5113. At present, incorporating this file at all in the creation of .nc files causes a problem. I'm presently running 60 day segments and will concatenate the resultant files if they are sound."
   ]
  },
  {
   "cell_type": "markdown",
   "metadata": {},
   "source": [
    "## Improper his-ini start time\n",
    "\n",
    "1. For any start date, his-ini will begin at 00:00. The hioekg-bry-bio.nc file wil begin at 12:00 on the same start date. This will throw an error in the dry run.\n",
    "\n",
    "** Solution**: Change time by one day (= 86400 seconds) and rename the file.\n",
    "```bash\n",
    "ncap2 -s 'ocean_time=ocean_time+86400' his-ini-04749.nc his-ini-04750.nc\n",
    "```\n",
    "In spinup.sh, ROMS_START_DAY = 4750 to correspond with this modification."
   ]
  },
  {
   "cell_type": "markdown",
   "metadata": {},
   "source": [
    "<!--NAVIGATION-->\n",
    "< [IPython Magic Commands](01.03-Magic-Commands.ipynb) | [Contents](Index.ipynb) | [IPython and Shell Commands](01.05-IPython-And-Shell-Commands.ipynb) >\n",
    "\n",
    "<a href=\"https://colab.research.google.com/github/jakevdp/PythonDataScienceHandbook/blob/master/notebooks/01.04-Input-Output-History.ipynb\"><img align=\"left\" src=\"https://colab.research.google.com/assets/colab-badge.svg\" alt=\"Open in Colab\" title=\"Open and Execute in Google Colaboratory\"></a>\n"
   ]
  }
 ],
 "metadata": {
  "anaconda-cloud": {},
  "kernelspec": {
   "display_name": "Python 3",
   "language": "python",
   "name": "python3"
  },
  "language_info": {
   "codemirror_mode": {
    "name": "ipython",
    "version": 3
   },
   "file_extension": ".py",
   "mimetype": "text/x-python",
   "name": "python",
   "nbconvert_exporter": "python",
   "pygments_lexer": "ipython3",
   "version": "3.6.8"
  }
 },
 "nbformat": 4,
 "nbformat_minor": 1
}
