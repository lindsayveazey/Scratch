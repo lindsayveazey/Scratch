{
 "cells": [
  {
   "cell_type": "markdown",
   "metadata": {},
   "source": [
    "This notebook is a collection of various notes I'm keeping throughout the process that don't pertain to any particular workflow, but here serve as an easily searchable catalogue."
   ]
  },
  {
   "cell_type": "markdown",
   "metadata": {},
   "source": [
    "#### Extract a variable, append to a .nc file:"
   ]
  },
  {
   "cell_type": "code",
   "execution_count": null,
   "metadata": {},
   "outputs": [],
   "source": [
    "nc = netCDF4.Dataset('filename.nc')\n",
    "zeta = nc.variables['zeta'][:] # This syntax calls all files\n",
    "nc.close() # Close the file after; here, it writes to it if you've changed it\n",
    "\n",
    "time = netCDF4.num2date(nc.variables['ocean_time'][:],\n",
    "                       nc.variables['ocean_time'].units)\n",
    "\n",
    "# Append:\n",
    "nc = netCDF4.Dataset('filename.nc', 'a') # a = 'append'\n",
    "zeta = 2*nc.var\n",
    "nc.variables['zeta'][:] = zeta # replace all 'zeta' values with your newly edited zeta array"
   ]
  },
  {
   "cell_type": "markdown",
   "metadata": {},
   "source": [
    "#### Some seapy notes:\n",
    "\n",
    "- A CDL file is basically a text output from a netcdf file. If you want to know the contents of a netcdf file but don't want to use programs built to read/write netcdf, you can use the simple text output of \"ncdump\" and then read/write it with a basic text editor."
   ]
  },
  {
   "cell_type": "code",
   "execution_count": null,
   "metadata": {},
   "outputs": [],
   "source": [
    "seapy.earthdistance(lon1, lat1, lon2, lat2) # distance between 2 pts\n",
    "seapy.earthangle(lon1, lat1, lon2, lat2) # angle between 2 pts\n",
    "seapy.roms.analysis.constant_depth(temp, grid, depth = 100) # interpolates everything to a certain depth (finds the nearest depth layer; may not be exact)"
   ]
  },
  {
   "cell_type": "markdown",
   "metadata": {},
   "source": [
    "*hycom.py* has a lot of good example scripts showing how to import and manipulate HYCOM data for use in ROMS. Same goes for *soda.py* (Simple Ocean Data Assimilation)- main vars include 3D Velocity, SST, Salinity, potential temperature, sea surface height, u, v current components, wind stress. Monthly timestep, 0.5 x 0.5 res (55,660 x 55,660 m)."
   ]
  },
  {
   "cell_type": "code",
   "execution_count": null,
   "metadata": {},
   "outputs": [],
   "source": [
    "\n",
    "seapy.roms.analysis.constant_depth(temp, grid, depth = 100) # interpolates everything to a certain depth (finds the nearest depth layer; may not be exact)\n"
   ]
  },
  {
   "cell_type": "markdown",
   "metadata": {},
   "source": [
    "#### Setting up remote access to Jupyter notebooks hosted on frinkraid:"
   ]
  },
  {
   "cell_type": "code",
   "execution_count": null,
   "metadata": {},
   "outputs": [],
   "source": [
    "# ssh in, then:\n",
    "cd ./jupyter\n",
    "nano jupyter_notebook_config\n",
    "c.NotebookApp.open_browser = False # changed to True\n",
    "c.NotebookApp.allow_origin = '' # changed to '0.0.0.0' to allow all origins\n",
    "c.NotebookApp.ip = '' # changed to '0.0.0.0' to listen on all IPs\n",
    "c.NotebookApp.password_required = False # unhashed this, hashed the password specification line above\n",
    "c.NotebookApp.open_browser = True # changed to False to prevent the automatic opening of an annoying frozen window\n",
    "\n",
    "dig +short myip.opendns.com @resolver1.opendns.com # get my own public IP\n",
    "\n",
    "# find current ip (this won't impact how I call jupyter on server, FYI):\n",
    "ifconfig | grep \"inet \" | grep -Fv 127.0.0.1 | awk '{print $2}' \n",
    "\n",
    "# call jupyter on frinkiac\n",
    "jupyter notebook --ip 128.171.156.147 --port 8890 "
   ]
  },
  {
   "cell_type": "markdown",
   "metadata": {},
   "source": [
    "#### Inatalling conda on Ubuntu 16.04"
   ]
  },
  {
   "cell_type": "code",
   "execution_count": null,
   "metadata": {},
   "outputs": [],
   "source": [
    "# Download the Python 2.7 64-Bit Command Line Installer (.sh extension) from https://www.anaconda.com/distribution/#download-section\n",
    "cd /tmp\n",
    "\n",
    "# Download the Anaconda link using curl. Note that I downloaded a MacOS link the first time...\n",
    "curl -0 https://repo.anaconda.com/archive/Anaconda*.sh\n",
    "\n",
    "# Verify the installer with the SHA-256 checksum\n",
    "sha256sum Anaconda3-5.0.1-Linux-x86_64.sh\n",
    "\n",
    "# Ensure the .sh is present in the file system\n",
    "ls -lt \n",
    "\n",
    "# Install (keep the bash command)\n",
    "bash Anaconda3-5.0.1-Linux-x86_64.sh"
   ]
  },
  {
   "cell_type": "markdown",
   "metadata": {},
   "source": [
    "#### Ask for help\n",
    "\n",
    "*HELP!* Inside the () in a foreign function within the notebook, click Shift + Tab"
   ]
  },
  {
   "cell_type": "markdown",
   "metadata": {},
   "source": [
    "#### tmux"
   ]
  },
  {
   "cell_type": "code",
   "execution_count": null,
   "metadata": {},
   "outputs": [],
   "source": [
    "tmux new # Opens new tmux session\n",
    "\n",
    "# All commands in tmux require the prefix shortcut, which by default is ctrl+b\n",
    "\n",
    "ctrl+b tmux new -s [name of session] # Start a new session with a specific name\n",
    "\n",
    "ctrl+b # Split pane horizontally: \" ; vertically: %\n",
    "\n",
    "ctrl+b [arrow key] # To move from pane to pane, simply use the prefix followed by the arrow key\n",
    "\n",
    "ctrl+b d # This will detach the current session and return you to your normal shell\n",
    "exit # To close\n",
    "\n",
    " source-file \"/.tmux-themepack/powerline/block/cyan.tmuxtheme\""
   ]
  },
  {
   "cell_type": "markdown",
   "metadata": {},
   "source": [
    "#### Install a tarball "
   ]
  },
  {
   "cell_type": "code",
   "execution_count": null,
   "metadata": {},
   "outputs": [],
   "source": [
    "cd \\Downloads\n",
    "tar -xzvf seapy-0.2.1.tar.gz\n",
    "cd seapy-0.2.1\n",
    "python setup.py install"
   ]
  }
 ],
 "metadata": {
  "kernelspec": {
   "display_name": "Python 3",
   "language": "python",
   "name": "python3"
  },
  "language_info": {
   "codemirror_mode": {
    "name": "ipython",
    "version": 3
   },
   "file_extension": ".py",
   "mimetype": "text/x-python",
   "name": "python",
   "nbconvert_exporter": "python",
   "pygments_lexer": "ipython3",
   "version": "3.6.9"
  }
 },
 "nbformat": 4,
 "nbformat_minor": 2
}
