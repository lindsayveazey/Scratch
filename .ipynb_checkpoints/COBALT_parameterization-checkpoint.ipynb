{
 "cells": [
  {
   "cell_type": "markdown",
   "metadata": {},
   "source": [
    "<!--Document description-->\n",
    "\n",
    "*This document details the parameterization of COBALT for the Kaneohe (hioekg) grid.*\n",
    "\n",
    "*This is a live document that will be updated as needed.*\n",
    "\n",
    "*Last update:* 2019-02-15"
   ]
  },
  {
   "cell_type": "markdown",
   "metadata": {},
   "source": [
    "# Parameterizing COBALT"
   ]
  },
  {
   "cell_type": "markdown",
   "metadata": {},
   "source": [
    "## Rivers\n",
    "\n",
    "The rivers called by chunk #3 in ``setup_inner_frc.py`` include:\n",
    "  1. Heeia (16275000)\n",
    "  2. Waiahole (16294100)\n",
    "  3. Waihee (16284200)\n",
    "  4. Waikane (16294900)\n",
    "  \n",
    "I've structured my literature review and other research about important river constituents to prioritize findings pertaining to any of these specific rivers. If no information exists for a particular constituent from one of these rivers, I have expanded my search to include greater Oahu, followed by consideration of fluvial research across the Main Hawaiian Islands. I have avoided parameterizing the model using broad (i.e., global-scale) generalizations whenever possible.\n",
    "\n",
    "``setup_inner_frc.py`` produces the river NetCDF and contains the following relevant chunk:\n",
    "\n",
    "```python \n",
    "default_vals = {\n",
    "    'river_temp': 25,\n",
    "    'river_salt': 5,\n",
    "    'river_alk': 0.00141,\n",
    "    'river_dic': 0.0014,\n",
    "    'river_ldon': 0.000000054,\n",
    "    'river_ldop': 0.00000000195,\n",
    "    'river_ndet': 0.000025,\n",
    "    'river_nh4': 0.00000034,\n",
    "    'river_no3': 0.0000048,\n",
    "    'river_o2': 0.000395,\n",
    "    'river_pdet': 0.00000000161,\n",
    "    'river_po4': 0.0000007,\n",
    "    'river_sio4': 0.000157,\n",
    "    'river_sldon': 0.00000108,\n",
    "    'river_sldop': 0.000000039,\n",
    "    'river_srdon': 0.00000427,\n",
    "    'river_srdop': 0.000000154\n",
    "}\n",
    "\n",
    "# ...\n",
    "\n",
    "    # Create the COBALT variables we want\n",
    "    seapy.roms.cobalt.add_psource_var(\n",
    "        nc, ['alk', 'dic', 'ldon', 'ldop', 'o2', 'ndet', 'nh4', 'no3', 'pdet', 'po4', 'sio4', 'sldon', 'sldop', 'srdon', 'srdop'])```\n",
    "        \n",
    "*Note*: according to ``river-hioekg.nc``, units for all are mol/kg.\n",
    "\n",
    "I am editing ``setup_inner_frc.py`` as I go. I am also editing ``bio_cobalt.in`` as described below.\n",
    "\n",
    "**Note**: latest COBALT iteration (02-15) run without o2 incorporated (ncfiles made before final parameterization for this value)."
   ]
  },
  {
   "cell_type": "markdown",
   "metadata": {},
   "source": [
    "### bio_cobalt.in\n",
    "\n",
    "Searched ``LtracerSrc`` to locate the portion of the file that lists the 33 parameters of possible interest. Reminder to turn on the switches to write the parameters of interest to the history file, and ensure the model is also considering the tracers (the 2 rows of Ts and Fs should be identical).\n",
    "\n",
    "Parameters are grouped- somewhat arbitrarily- for readability."
   ]
  },
  {
   "cell_type": "markdown",
   "metadata": {},
   "source": [
    "#### Plankton (6 parameters)\n",
    "\n",
    "  * ``nsm`` Small Phytoplankton Nitrogen\n",
    "  * ``nlg`` Large Phytoplankton Nitrogen\n",
    "  * ``ndi`` Diazotroph Nitrogen\n",
    "  * ``nsmz`` Small Zooplankton Nitrogen\n",
    "  * ``nmdz`` Medium-sized Zooplankton Nitrogen\n",
    "  * ``nlgz`` Large Zooplankton Nitrogen\n",
    "\n",
    "As of 2019-02-12: SR sent literature pending my review.\n",
    "\n",
    "As of 2019-02-08: Discussing disseration w/ R. Hoover re: size classes of plankton in Kaneohe Bay."
   ]
  },
  {
   "cell_type": "markdown",
   "metadata": {},
   "source": [
    "#### Semi-refractory, semi-labile, labile N and P (6 parameters)\n",
    "\n",
    "  * ``ldon`` labile DON: 0.01 x (5.4 x 10-6 mol/kg) = **5.40 x 10-8 mol/kg**\n",
    "  * ``sldon`` Semilabile DON: 0.20 x (5.4 x 10-6 mol/kg) = **1.08 x 10-6 mol/kg**\n",
    "  * ``srdon`` Semi-Refractory DON: 0.79 x (5.4 x 10-6 mol/kg) = **4.27 x 10-6 mol/kg**\n",
    "  \n",
    "  * ``ldop`` labile DOP: 0.01 x (1.95 x 10-7 mol/kg) = **1.95 x 10-9 mol/kg**\n",
    "  * ``sldop`` Semilabile DOP: 0.20 x (1.95 x 10-7 mol/kg) = **3.90 x 10-8 mol/kg**\n",
    "  * ``srdop`` Semi-Refractory DOP: 0.79 x (1.95 x 10-7 mol/kg) = **1.54 x 10-7 mol/kg**\n",
    "  \n",
    "    * Per [Hoover & Mackenzie 2009](https://www.researchgate.net/publication/225712771_Fluvial_Fluxes_of_Water_Suspended_Particulate_Matter_and_Nutrients_and_Potential_Impacts_on_Tropical_Coastal_Water_Biogeochemistry_Oahu_Hawai'i): DON = 5.4 micromol/L = **5.40 x 10-6 mol/kg** and DOP = 0.195 micromol/L = **1.95 x 10−7 mol/kg**. \n",
    "    * These measurements support [Ringuet & Mackenzie 2005](https://www.researchgate.net/profile/F_Mackenzie/publication/227303537_Controls_on_Nutrient_and_Phytoplankton_Dynamics_during_Normal_Flow_and_Storm_Runoff_Conditions_Southern_Kaneohe_Bay_Hawaii/links/00b7d5293aa8ee5d17000000.pdf): DON = 7.44 (average) micromol/L = **7.44 x 10-6 mol/kg** and DOP = 0.3 (average) micromol/L = **3.00 x 10-7 mol/kg**.\n",
    "\n",
    "As of 2019-02-04: Tried locating S. Ringuet; she is long gone from the UH system and works in GIS only now.\n",
    "As of 2019-01-30: DH says that the samples were not analyzed to break down %s of labile/semi/refractory. Need to find general documentation of the breakdown and apply here.\n",
    "\n",
    "As of 2019-02-11: Emailed K. Tanaka to get his thoughts.\n",
    "\n",
    "  * Per [Wilson & Xenopoulous 2008](https://www.researchgate.net/profile/Marguerite_Xenopoulos/publication/248828330_Effects_of_agricultural_land_use_on_the_composition_of_fluvial_dissolved_organic_matter/links/00b4952121ab928d14000000.pdf): \"...higher ambient nitrogen concentrations might be expected to disproportionately increase respiration. This increased availability could result in terrestrial DOM moving shorter distances before either being respired or incorporated within stream organisms or sediments. At broader scales, this trend could result in a reduction in the overall amount of DOM reaching downstream systems.\" Study area = Ontario.\n",
    "\n",
    "  * [Mann et al. 2012](https://agupubs.onlinelibrary.wiley.com/doi/full/10.1029/2011JG001798): \"DON concentrations were highly correlated to DOC and thus followed the same trend during the study period (r = 0.92; p < 0.001; n = 18). DON ranged from ∼0.1 mg L−1 under the ice (mean = 0.09 mg L−1, n = 3) during preflush conditions to 0.6 mg L−1 (mean = 0.37 mg L−1, n = 14) during the freshet.\" Study area = Siberia.\n",
    "\n",
    "  * [Hansell et al. 2009](https://darchive.mblwhoilibrary.org/bitstream/handle/1912/3183/22-4_hansell.pdf?sequence=1): extensive paper on marine DOC. From the paper: \"This biologically labile fraction represents a large flux of carbon in the ocean, but with rapid turnover it constitutes a very small fraction (< 1%) of the ocean DOC inventory. A more biologically resistant fraction, produced in the euphotic zone at 15–20% of net community productivity (~ 2 Pg C yr-1; Hansell and Carlson, 1998b), is not immediately mineralized and instead accumulates in the surface ocean as biologically semi-labile DOC (Carlson, 2002; Hansell, 2002).\"\n",
    "  \n",
    "  * Per [Stock et al. 2014](https://www.sciencedirect.com/science/article/pii/S0079661113001079): \"Nitrogen is the biomass variable in COBALT and is assumed to be combined with carbon according to the Redfield ratio (106:16, Redfield et al., 1963) for all organic material.\" \n",
    "  \n",
    "Given the inherent adherence of COBALT to the Redfield ratio (106:16; Redfield et al. 1963), we assumed that the lability of DON would correlate closely with measurements of C (e.g., Mann et al. 2012). Per Hansell et al. (2009), we assumed that 1% of fluvial DON could be classified as labile (i.e., biologically available); this estimate supports the assertion that labile DOM is subject to respiration or incorporation into riverine organisms or sediments (Wilson & Xenopoulous 2008). We assumed that 20% of DON could be classified as semi-labile (i.e., seasonal rates of decay) with the remaining 79% of all DOM classified as semi-refractory (i.e., decadal decay rates) (Hansell et al. 2009). We applied these assumptions to our determination of fluvial DOP as well."
   ]
  },
  {
   "cell_type": "markdown",
   "metadata": {},
   "source": [
    "#### More nitrogen budget (4 parameters)\n",
    "\n",
    "  * ``nbact`` Explicit free-living heterotrophic bacteria compartment: **N/A** fluvial so far.\n",
    "     * As of 2019-02-08: Corresponding with MR; got 1 reply so far.\n",
    "    \n",
    "  * ``nh4`` Ammonia: 0.34 micromol N/L = **3.40 x 10-7 mol/kg** [Hoover & Mackenzie 2009](https://www.researchgate.net/publication/225712771_Fluvial_Fluxes_of_Water_Suspended_Particulate_Matter_and_Nutrients_and_Potential_Impacts_on_Tropical_Coastal_Water_Biogeochemistry_Oahu_Hawai'i). This value was measured directly from He'eia stream.\n",
    "     \n",
    "  * ``no3`` Nitrate: 4.8 micromol N/L = **4.80 x 10−6 mol/kg** [Hoover & Mackenzie 2009](https://www.researchgate.net/publication/225712771_Fluvial_Fluxes_of_Water_Suspended_Particulate_Matter_and_Nutrients_and_Potential_Impacts_on_Tropical_Coastal_Water_Biogeochemistry_Oahu_Hawai'i). This value was measured directly from He'eia stream.\n",
    "\n",
    "  * ``ndet`` Nitrogen detritus produced by phytoplankton aggregation and a fraction of ingestion from zooplankton and higher predators. 25 micromol N/L = **2.50 x 10-5 mol/kg** Per [Tanaka & Mackenzie 2005](https://www.researchgate.net/profile/F_Mackenzie/publication/265088005_Ecosystem_behavior_of_southern_Kaneohe_Bay_A_statistical_and_modeling_approach/links/566f30a708aec0bb67bf0739.pdf), \"the concentration of particulate N in the stream is 25 micromol N/L, which is assumed to be equivalent to the concentration of particulate organic nitrogen.\" "
   ]
  },
  {
   "cell_type": "markdown",
   "metadata": {},
   "source": [
    "#### Iron (5 parameters)\n",
    "\n",
    "  * ``fesm`` Small Phytoplankton Iron\n",
    "  * ``fedi`` Diazotroph Iron\n",
    "  * ``felg`` Large Phytoplankton Iron\n",
    "  * ``fed`` Dissolved Iron\n",
    "  * ``fedet`` Detrital Iron\n",
    "\n",
    "No notes yet."
   ]
  },
  {
   "cell_type": "markdown",
   "metadata": {},
   "source": [
    "#### Sand/detritus (7 parameters)\n",
    "\n",
    "  * ``sio4`` Silicate: 1.4 x 10-5 mol/kg to 1.73 x 10-4 mol/kg [Ringuet & Mackenzie 2005](https://www.researchgate.net/profile/F_Mackenzie/publication/227303537_Controls_on_Nutrient_and_Phytoplankton_Dynamics_during_Normal_Flow_and_Storm_Runoff_Conditions_Southern_Kaneohe_Bay_Hawaii/links/00b7d5293aa8ee5d17000000.pdf); source = multiple buoys across Kaneohe Bay. Starting parameterization with higher (mean = 1.57 x 10-4 mol/kg) number.\n",
    "  * ``silg`` Large Phytoplankton Silicon\n",
    "  * ``sidet`` Detrital Silicon\n",
    "  * ``cadet_arag`` Detrital CaCO3: Per Stock et al. 2014, \"Aragonite detritus (cadet_arag) is assumed to dissolve immediately upon reaching the sediment.\" Ignoring for now...\n",
    "  * ``cadet_calc`` Detrital CaCO3: Per Stock et al. 2014, \"Calcite, however, is more resistant to dissolution and long-term balances of calcite supply to the sediments, dissolution to overlying waters, and burial has the potential to influence ocean chemistry. The calcite concentration in the sediments is thus tracked in COBALT using the variable cased (moles CaCO 3 m -3 ) and burial and dissolution rates are based on the metamodel of Dunne et al. (2012).\" \n",
    "  \n",
    "As of 2019-02-08: K. Fagan is now KS; corresponding with A. K. (student) regarding her soon-to-be-published work on this. She has measurements of CaCO3 in mol and now determining if they are fluvial, bay-wide (reference for model output), and if she can distinguish between aragonite and calcite.\n",
    "  \n",
    "  * ``lith`` Lithogenic Aluminosilicate\n",
    "  * ``lithdet`` lithdet\n",
    "\n"
   ]
  },
  {
   "cell_type": "markdown",
   "metadata": {},
   "source": [
    "#### Etc.\n",
    "\n",
    "  * ``po4`` Phosphate: \"...measured as soluble reactive phosphorus (SRP) but often assumed equivalent to PO4^3- (phosphate)\"; 0.7 micromol = **7.00 x 10−7 mol/kg** (Table 2) [Hoover & Mackenzie 2009](https://www.researchgate.net/publication/225712771_Fluvial_Fluxes_of_Water_Suspended_Particulate_Matter_and_Nutrients_and_Potential_Impacts_on_Tropical_Coastal_Water_Biogeochemistry_Oahu_Hawai'i); 0.13 to 0.64 micromol at stream mouth = **1.33 x 10-7 to 6.56 x 10-7 mol/kg** [Ringuet & Mackenzie 2005](https://www.researchgate.net/profile/F_Mackenzie/publication/227303537_Controls_on_Nutrient_and_Phytoplankton_Dynamics_during_Normal_Flow_and_Storm_Runoff_Conditions_Southern_Kaneohe_Bay_Hawaii/links/00b7d5293aa8ee5d17000000.pdf); source = multiple buoys across Kaneohe Bay.\n",
    "\n",
    "\n",
    "  * ``pdet`` Detrital Phosphorus: \"Particulate organic phosphorus (POP) calculated by difference from total and inorganic constituents\": 0.23% of SRP (Table 3); 0.7 micromol SRP (Table 2) x 0.0023 = 0.00161 micromol POP = **1.61 x 10-9 mol/kg**  [Hoover & Mackenzie 2009](https://www.researchgate.net/publication/225712771_Fluvial_Fluxes_of_Water_Suspended_Particulate_Matter_and_Nutrients_and_Potential_Impacts_on_Tropical_Coastal_Water_Biogeochemistry_Oahu_Hawai'i)\n",
    "  \n",
    "  \n",
    "  * ``o2`` Oxygen: ~110% saturation at Kaneohe Stream mouth at 25 Celsius [converts](http://www.waterontheweb.org/under/waterquality/DOSatCalc.html) to 9.09 mg/L = 9.09 x 10-3 g/L = **3.95 x 10-4 mol/kg** [Ringuet 2003](https://scholarspace.manoa.hawaii.edu/bitstream/10125/7044/2/uhm_ms_3841_r.pdf)\n",
    " \n",
    " \n",
    "  * ``dic`` Dissolved Inorganic Carbon:  1400 micromol/kg (average) = **1.40 x 10-3 mol/kg** (Kaneohe stream; at stream mouth, 1700 micromol/kg = 1.70 x 10-3 mol/kg  [Fagan & Mackenzie 2007](https://www.researchgate.net/profile/F_Mackenzie/publication/253669603_Processes_Controlling_Air-Sea_Exchange_of_CO2_in_a_Subtropical_Pacific_Estuary/links/58dc716ca6fdcc7c9f3d738d/Processes-Controlling-Air-Sea-Exchange-of-CO2-in-a-Subtropical-Pacific-Estuary.pdf); sampling location = Kaneohe Bay surface waters and stream\n",
    "    * = 0.443 mmol/kg = 4.43 x 10-4 (average) mol/kg [Paquay et al. 2007](https://orbi.uliege.be/bitstream/2268/2597/1/paquay_et_al_2007_in_press.pdf); sampling location = rivers feeding into Hilo Bay. \n",
    "  \n",
    "  \n",
    "  * ``alk`` Alkalinity: 1410 micromol/kg (average) = **1.41 x 10-3 mol/kg** (Kaneohe stream); at stream mouth, 1950 micromol/kg = 1.95 x 10-3 mol/kg [Fagan & Mackenzie 2007](https://www.researchgate.net/profile/F_Mackenzie/publication/253669603_Processes_Controlling_Air-Sea_Exchange_of_CO2_in_a_Subtropical_Pacific_Estuary/links/58dc716ca6fdcc7c9f3d738d/Processes-Controlling-Air-Sea-Exchange-of-CO2-in-a-Subtropical-Pacific-Estuary.pdf); sampling location = Kaneohe Bay surface waters and stream. \n",
    "    * 0.376 mmol/kg = 3.76 x 10-4 (average) mol/kg [Paquay et al. 2007](https://orbi.uliege.be/bitstream/2268/2597/1/paquay_et_al_2007_in_press.pdf); sampling location = rivers feeding into Hilo Bay. \n"
   ]
  },
  {
   "cell_type": "markdown",
   "metadata": {},
   "source": [
    "##### Baywide reference values\n",
    "\n",
    "   * 1 nsm Small Phytoplankton Nitrogen\n",
    "   * 2 nlg Large Phytoplankton Nitrogen\n",
    "   * 3 ndi Diazotroph Nitrogen\n",
    "   * 4 nsmz Small Zooplankton Nitrogen\n",
    "   * 5 nmdz Medium-sized zooplankton Nitrogen\n",
    "   * 6 nlgz large Zooplankton Nitrogen\n",
    "   * 7 ldon labile DON: Bay-wide (average): 7.84 micromol = 0.01 x (8.04 x 10-6 mol/kg) = **8.04 x 10-8 mol/kg**  [Ringuet & Mackenzie 2005](https://www.researchgate.net/profile/F_Mackenzie/publication/227303537_Controls_on_Nutrient_and_Phytoplankton_Dynamics_during_Normal_Flow_and_Storm_Runoff_Conditions_Southern_Kaneohe_Bay_Hawaii/links/00b7d5293aa8ee5d17000000.pdf); source = multiple buoys across Kaneohe Bay. These are values that reflect the marine surface concentration.\n",
    "   * 8 sldon Semilabile DON: 7.84 micromol = 0.20 x (8.04 x 10-6 mol/kg) = **1.61 x 10-6 mol/kg**  [Ringuet & Mackenzie 2005](https://www.researchgate.net/profile/F_Mackenzie/publication/227303537_Controls_on_Nutrient_and_Phytoplankton_Dynamics_during_Normal_Flow_and_Storm_Runoff_Conditions_Southern_Kaneohe_Bay_Hawaii/links/00b7d5293aa8ee5d17000000.pdf); source = multiple buoys across Kaneohe Bay. These are values that reflect the marine surface concentration.\n",
    "   * 9 srdon Semi-Refractory DON: 7.84 micromol = 0.79 x (8.04 x 10-6 mol/kg) = **6.35 x 10-6 mol/kg**  [Ringuet & Mackenzie 2005](https://www.researchgate.net/profile/F_Mackenzie/publication/227303537_Controls_on_Nutrient_and_Phytoplankton_Dynamics_during_Normal_Flow_and_Storm_Runoff_Conditions_Southern_Kaneohe_Bay_Hawaii/links/00b7d5293aa8ee5d17000000.pdf); source = multiple buoys across Kaneohe Bay. These are values that reflect the marine surface concentration.\n",
    "   * 10 nbact bacterial: \n",
    "      * Bay-wide (southern basin): 0.21 micromol N/L = **2.15 x 10-7 mol/kg** [Tanaka & Mackenzie 2005](https://www.researchgate.net/profile/F_Mackenzie/publication/265088005_Ecosystem_behavior_of_southern_Kaneohe_Bay_A_statistical_and_modeling_approach/links/566f30a708aec0bb67bf0739.pdf)\n",
    "      * Bay-wide (central basin): 0.34 micromol N/L = **3.49 x 10-7 mol/kg** [Tanaka & Mackenzie 2005](https://www.researchgate.net/profile/F_Mackenzie/publication/265088005_Ecosystem_behavior_of_southern_Kaneohe_Bay_A_statistical_and_modeling_approach/links/566f30a708aec0bb67bf0739.pdf)\n",
    "   * 11 nh4 Ammonia: Bay-wide (average): .218 micromol N/L = **2.23 x 10-7 mol/kg** [Ringuet & Mackenzie 2005](https://www.researchgate.net/profile/F_Mackenzie/publication/227303537_Controls_on_Nutrient_and_Phytoplankton_Dynamics_during_Normal_Flow_and_Storm_Runoff_Conditions_Southern_Kaneohe_Bay_Hawaii/links/00b7d5293aa8ee5d17000000.pdf); source = multiple buoys across Kaneohe Bay. These are values that reflect the marine surface concentration.\n",
    "   * 12 no3 Nitrate: Bay-wide (average): 0.204 micromol N/L = **2.091 x 10-7 mol/kg** [Ringuet & Mackenzie 2005](https://www.researchgate.net/profile/F_Mackenzie/publication/227303537_Controls_on_Nutrient_and_Phytoplankton_Dynamics_during_Normal_Flow_and_Storm_Runoff_Conditions_Southern_Kaneohe_Bay_Hawaii/links/00b7d5293aa8ee5d17000000.pdf); source = multiple buoys across Kaneohe Bay. These are values that reflect the marine surface concentration.\n",
    "   * 13 ndet ndet: from Table 1, using values representing pelagic autotrophs.\n",
    "     * Bay-wide (southern basin): 0.67 micromol N/L = **6.87 x 10-7 mol/kg** [Tanaka & Mackenzie 2005](https://www.researchgate.net/profile/F_Mackenzie/publication/265088005_Ecosystem_behavior_of_southern_Kaneohe_Bay_A_statistical_and_modeling_approach/links/566f30a708aec0bb67bf0739.pdf)\n",
    "     *  Bay-wide (central basin): 0.32 micromol N/L = **3.28 x 10-7  mol/kg** [Tanaka & Mackenzie 2005](https://www.researchgate.net/profile/F_Mackenzie/publication/265088005_Ecosystem_behavior_of_southern_Kaneohe_Bay_A_statistical_and_modeling_approach/links/566f30a708aec0bb67bf0739.pdf)\n",
    "   * 14 sio4 Silicate: Bay-wide (average): 7.28 micromol = **7.46 x 10-6 mol/kg** [Ringuet & Mackenzie 2005](https://www.researchgate.net/profile/F_Mackenzie/publication/227303537_Controls_on_Nutrient_and_Phytoplankton_Dynamics_during_Normal_Flow_and_Storm_Runoff_Conditions_Southern_Kaneohe_Bay_Hawaii/links/00b7d5293aa8ee5d17000000.pdf); source = multiple buoys across Kaneohe Bay.\n",
    "   * 15 silg Large Phytoplankton Silicon\n",
    "   * 16 sidet Detrital Silicon\n",
    "   * 17 cadet_calc Detrital CaCO3: reached out to A. A. at Scripps about this.\n",
    "   * 18 cadet_arag Detrital CaCO3: reached out to A. A. at Scripps about this.\n",
    "   * 19 lith Lithogenic Aluminosilicate\n",
    "   * 20 lithdet lithdet\n",
    "   * 21 ldop labile DOP: Bay-wide (average): 0.148 micromol = 0.01 x (1.52 x 10-7 mol/kg) = **1.52 x 10-9 mol/kg**  [Ringuet & Mackenzie 2005](https://www.researchgate.net/profile/F_Mackenzie/publication/227303537_Controls_on_Nutrient_and_Phytoplankton_Dynamics_during_Normal_Flow_and_Storm_Runoff_Conditions_Southern_Kaneohe_Bay_Hawaii/links/00b7d5293aa8ee5d17000000.pdf); source = multiple buoys across Kaneohe Bay. These are values that reflect the marine surface concentration.\n",
    "   * 22 sldop Semilabile DOP: Bay-wide (average): 0.148 micromol = 0.20 x (1.52 x 10-7 mol/kg) = **3.04 x 10-8 mol/kg**  [Ringuet & Mackenzie 2005](https://www.researchgate.net/profile/F_Mackenzie/publication/227303537_Controls_on_Nutrient_and_Phytoplankton_Dynamics_during_Normal_Flow_and_Storm_Runoff_Conditions_Southern_Kaneohe_Bay_Hawaii/links/00b7d5293aa8ee5d17000000.pdf); source = multiple buoys across Kaneohe Bay. These are values that reflect the marine surface concentration.\n",
    "   * 23 srdop Semi-Refractory DOP: Bay-wide (average): 0.148 micromol = 0.79 x (1.52 x 10-7 mol/kg) = **1.20 x 10-7 mol/kg**  [Ringuet & Mackenzie 2005](https://www.researchgate.net/profile/F_Mackenzie/publication/227303537_Controls_on_Nutrient_and_Phytoplankton_Dynamics_during_Normal_Flow_and_Storm_Runoff_Conditions_Southern_Kaneohe_Bay_Hawaii/links/00b7d5293aa8ee5d17000000.pdf); source = multiple buoys across Kaneohe Bay. These are values that reflect the marine surface concentration.\n",
    "   * 24 po4 Phosphate: Bay-wide (average): 0.122 micromol = **1.25 x 10-7 mol/kg** [Ringuet & Mackenzie 2005](https://www.researchgate.net/profile/F_Mackenzie/publication/227303537_Controls_on_Nutrient_and_Phytoplankton_Dynamics_during_Normal_Flow_and_Storm_Runoff_Conditions_Southern_Kaneohe_Bay_Hawaii/links/00b7d5293aa8ee5d17000000.pdf); source = multiple buoys across Kaneohe Bay. These are values that reflect the marine surface concentration.\n",
    "   * 25 pdet Detrital Phosphorus\n",
    "   * 26 fesm Small Phytoplankton Iron\n",
    "   * 27 fedi Diazotroph Iron\n",
    "   * 28 felg Large Phytoplankton Iron\n",
    "   * 29 fed Dissolved Iron\n",
    "   * 30 fedet Detrital Iron\n",
    "   * 31 o2 Oxygen: 250 micromol/kg = **2.50 x 10-4 mol/kg** [Andersson et al. 2009](https://www.biogeosciences.net/6/1811/2009/bg-6-1811-2009.pdf); control = simulation of bay environment.\n",
    "   * 32 dic Dissolved Inorganic Carbon: Bay-wide (average): 1913 micromol/kg = **1.91 x 10-3 mol/kg** [Fagan & Mackenzie 2007](https://www.researchgate.net/profile/F_Mackenzie/publication/253669603_Processes_Controlling_Air-Sea_Exchange_of_CO2_in_a_Subtropical_Pacific_Estuary/links/58dc716ca6fdcc7c9f3d738d/Processes-Controlling-Air-Sea-Exchange-of-CO2-in-a-Subtropical-Pacific-Estuary.pdf)\n",
    "   * 33 alk Alkalinity: Bay-wide (average): 2170 micromol/kg = **2.17 x 10-3 mol/kg** [Fagan & Mackenzie 2007](https://www.researchgate.net/profile/F_Mackenzie/publication/253669603_Processes_Controlling_Air-Sea_Exchange_of_CO2_in_a_Subtropical_Pacific_Estuary/links/58dc716ca6fdcc7c9f3d738d/Processes-Controlling-Air-Sea-Exchange-of-CO2-in-a-Subtropical-Pacific-Estuary.pdf)\n",
    "\n",
    " "
   ]
  },
  {
   "cell_type": "markdown",
   "metadata": {},
   "source": [
    "##### More parameterization notes that didn't fit elsewhere\n",
    "\n",
    "  * \"Due to high flushing rates, recovery times of bay waters from storm perturbations ranged from 3 to 8 d and appeared to be correlated with tidal range. Storm inputs have a significant effect on the water column ecosystem and biogeochemistry in southern Kaneohe Bay. The perturbations were only transient events and the system rapidly recovered to prestorm conditions.\" [Ringuet & Mackenzie 2005](https://www.researchgate.net/profile/F_Mackenzie/publication/227303537_Controls_on_Nutrient_and_Phytoplankton_Dynamics_during_Normal_Flow_and_Storm_Runoff_Conditions_Southern_Kaneohe_Bay_Hawaii/links/00b7d5293aa8ee5d17000000.pdf)\n",
    "  * [Ringuet & Mackenzie 2005](https://www.researchgate.net/profile/F_Mackenzie/publication/227303537_Controls_on_Nutrient_and_Phytoplankton_Dynamics_during_Normal_Flow_and_Storm_Runoff_Conditions_Southern_Kaneohe_Bay_Hawaii/links/00b7d5293aa8ee5d17000000.pdf) have more information about seasonal changes in nutrient cycles across the bay.\n",
    "  * [Ringuet & Mackenzie 2005](https://www.researchgate.net/profile/F_Mackenzie/publication/227303537_Controls_on_Nutrient_and_Phytoplankton_Dynamics_during_Normal_Flow_and_Storm_Runoff_Conditions_Southern_Kaneohe_Bay_Hawaii/links/00b7d5293aa8ee5d17000000.pdf) note that DIN:DIP across the bay = 3-5\n",
    "  * [Drupp et al. 2011](https://www.researchgate.net/profile/F_Mackenzie/publication/253153306_Nutrient_inputs_dynamics_and_phytoplankton_response_in_a_semi-enclosed_subtropical_embayment_Kaneohe_Bay_Hawaii/links/566372d808ae418a786bb1ce.pdf) contains good information on seasonal chemical changes across the bay.\n",
    "  * \"The concentration of ammonium in streams was assumed to be zero in KECOM because dissolved inorganic nitrogen is predominantly nitrate in Hawaiian streams (Smith et al., 1981). However, the ammonium concentration is not altogether negligible, as suggested by the observations of Hoover (2002), but is not significant enough to include in the model calculations.\" [Tanaka & Mackenzie 2005](https://www.researchgate.net/profile/F_Mackenzie/publication/265088005_Ecosystem_behavior_of_southern_Kaneohe_Bay_A_statistical_and_modeling_approach/links/566f30a708aec0bb67bf0739.pdf)\n",
    "    * Note that ammonia is represented as nh4 in the model; technically, its chemical formula is nh3. I am *assuming* based on the lack of any mentions of ammonium whatsoever that nh4, specified as ammonia, represents ammonia.\n"
   ]
  }
 ],
 "metadata": {
  "anaconda-cloud": {},
  "kernelspec": {
   "display_name": "Python 3",
   "language": "python",
   "name": "python3"
  },
  "language_info": {
   "codemirror_mode": {
    "name": "ipython",
    "version": 3
   },
   "file_extension": ".py",
   "mimetype": "text/x-python",
   "name": "python",
   "nbconvert_exporter": "python",
   "pygments_lexer": "ipython3",
   "version": "3.6.3"
  }
 },
 "nbformat": 4,
 "nbformat_minor": 1
}
