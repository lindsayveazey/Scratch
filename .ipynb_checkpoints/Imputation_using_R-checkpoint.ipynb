{
 "cells": [
  {
   "cell_type": "markdown",
   "metadata": {},
   "source": [
    "The imputation modules available in Python are taking far, far too long to process these data frames. I'm going to try R.\n",
    "\n",
    "**References**: \n",
    "\n",
    "- http://fastml.com/impute-missing-values-with-amelia/\n",
    "\n",
    "### Load CSVs"
   ]
  },
  {
   "cell_type": "code",
   "execution_count": 3,
   "metadata": {},
   "outputs": [],
   "source": [
    "setwd('/home/lindsay/hioekg-compare-years/')\n",
    "nsmz_df_2013=read.csv('nsmz_semidaily_df_2013.csv')\n",
    "nmdz_df_2013=read.csv('nmdz_semidaily_df_2013.csv')\n",
    "nlgz_df_2013=read.csv('nlgz_semidaily_df_2013.csv')\n",
    "nsm_df_2013=read.csv('nsm_semidaily_df_2013.csv')\n",
    "nlg_df_2013=read.csv('nlg_semidaily_df_2013.csv')\n",
    "\n",
    "nsmz_df_2014=read.csv('nsmz_semidaily_df_2014.csv')\n",
    "nmdz_df_2014=read.csv('nmdz_semidaily_df_2014.csv')\n",
    "nlgz_df_2014=read.csv('nlgz_semidaily_df_2014.csv')\n",
    "nsm_df_2014=read.csv('nsm_semidaily_df_2014.csv')\n",
    "nlg_df_2014=read.csv('nlg_semidaily_df_2014.csv')"
   ]
  },
  {
   "cell_type": "code",
   "execution_count": 6,
   "metadata": {},
   "outputs": [],
   "source": [
    "df <- nsmz_df_2013[,3:4]"
   ]
  },
  {
   "cell_type": "code",
   "execution_count": 8,
   "metadata": {},
   "outputs": [],
   "source": [
    "df$concentration <- replace(df$concentration, which(df$concentration < 0), NA)"
   ]
  },
  {
   "cell_type": "code",
   "execution_count": 16,
   "metadata": {},
   "outputs": [
    {
     "name": "stderr",
     "output_type": "stream",
     "text": [
      "Installing package into ‘/home/lindsay/R/x86_64-pc-linux-gnu-library/3.6’\n",
      "(as ‘lib’ is unspecified)\n",
      "also installing the dependency ‘RcppArmadillo’\n",
      "\n",
      "Warning message in system2(cmd0, args, env = env, stdout = outfile, stderr = outfile, :\n",
      "“system call failed: Cannot allocate memory”Warning message in system2(cmd0, args, env = env, stdout = outfile, stderr = outfile, :\n",
      "“error in running command”Warning message in install.packages(\"Amelia\"):\n",
      "“installation of package ‘RcppArmadillo’ had non-zero exit status”Warning message in system2(cmd0, args, env = env, stdout = outfile, stderr = outfile, :\n",
      "“system call failed: Cannot allocate memory”Warning message in system2(cmd0, args, env = env, stdout = outfile, stderr = outfile, :\n",
      "“error in running command”Warning message in install.packages(\"Amelia\"):\n",
      "“installation of package ‘Amelia’ had non-zero exit status”"
     ]
    }
   ],
   "source": [
    "install.packages('Amelia')"
   ]
  },
  {
   "cell_type": "code",
   "execution_count": 10,
   "metadata": {},
   "outputs": [
    {
     "ename": "ERROR",
     "evalue": "Error in amelia(df, idvars = idvars): could not find function \"amelia\"\n",
     "output_type": "error",
     "traceback": [
      "Error in amelia(df, idvars = idvars): could not find function \"amelia\"\nTraceback:\n"
     ]
    }
   ],
   "source": [
    "idvars = ('date')\n",
    "\n",
    "a.out = amelia(df, idvars = idvars)"
   ]
  }
 ],
 "metadata": {
  "kernelspec": {
   "display_name": "R",
   "language": "R",
   "name": "ir"
  },
  "language_info": {
   "codemirror_mode": "r",
   "file_extension": ".r",
   "mimetype": "text/x-r-source",
   "name": "R",
   "pygments_lexer": "r",
   "version": "3.6.1"
  }
 },
 "nbformat": 4,
 "nbformat_minor": 2
}
