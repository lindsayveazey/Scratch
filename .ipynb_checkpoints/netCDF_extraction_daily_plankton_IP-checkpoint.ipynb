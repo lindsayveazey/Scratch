{
 "cells": [
  {
   "cell_type": "markdown",
   "metadata": {},
   "source": [
    "## Data extraction: daily, plankton"
   ]
  },
  {
   "cell_type": "markdown",
   "metadata": {},
   "source": [
    "In bash, I scped the files from the server to my local machine:\n",
    "```\n",
    "cd /home/lindsay/hioekg-2013\n",
    "scp lindsayv@frinkiac.soest.hawaii.edu:/share/frinkraid3/lindsayv/hioekg-2013/output_semi_daily/hioekg_his_* .\n",
    "```\n",
    "\n",
    "I ran the following loop to extract the surface layer for each half-day average:\n",
    "\n",
    "```\n",
    "printf -v PATH2 \"/home/lindsay/hioekg-2013/\"\n",
    "cd $PATH2\n",
    "# define local variable tn0; here, the integer that corresponds to the ROMS time stamp on the file (without zero padding)  -- this is Jan 2, 2013\n",
    "tn0=4750\n",
    "# for loop: loop over 13 files\n",
    "for ((i=0; i<13; i++ ));\n",
    "do\n",
    "## NOW INSIDE FOR LOOP\n",
    "\n",
    "# in this printf command, %s means to copy a string\n",
    "# and %05d means a 5 digit integer padded with 0s on the left\n",
    "printf -v FNin \"%shioekg_his_%05d.nc\" $PATH2 $tn0\n",
    "printf -v FNout \"%shioekg_his_surface_%05d.nc\" $PATH2 $tn0\n",
    "# this command extracts the surface layer (s_rho) and put the output in new file $FNout\n",
    "ncks -O -d s_rho,-0.975 $FNin $FNout\n",
    "# output to screen\n",
    "echo $tn0\n",
    "echo $FNin\n",
    "echo $FNout\n",
    "# increase tn0 by 30 days\n",
    "tn0=$((tn0+30))\n",
    "\n",
    "## done CLOSES FOR LOOP\n",
    "done\n",
    "cd $PATH2\n",
    "\n",
    "```"
   ]
  },
  {
   "cell_type": "markdown",
   "metadata": {},
   "source": [
    "#### Import modules"
   ]
  },
  {
   "cell_type": "code",
   "execution_count": 16,
   "metadata": {},
   "outputs": [],
   "source": [
    "import netCDF4\n",
    "from netCDF4 import Dataset\n",
    "import numpy as np\n",
    "import pandas as pd\n",
    "from pathlib import Path\n",
    "import os\n",
    "import seaborn as sns\n",
    "import matplotlib.pyplot as plt\n",
    "import xarray as xr\n",
    "import scipy.stats as stats\n",
    "import researchpy as rp\n",
    "import statsmodels.api as sm\n",
    "from statsmodels.formula.api import ols\n",
    "import plotly.graph_objects as go\n",
    "from statsmodels.tsa.stattools import adfuller\n",
    "from statsmodels.tsa.seasonal import seasonal_decompose\n",
    "from statsmodels.tsa.arima_model import ARIMA\n",
    "from pandas.plotting import register_matplotlib_converters\n",
    "register_matplotlib_converters()"
   ]
  },
  {
   "cell_type": "markdown",
   "metadata": {},
   "source": [
    "#### Define lists called in the forthcoming for loops"
   ]
  },
  {
   "cell_type": "code",
   "execution_count": 2,
   "metadata": {},
   "outputs": [],
   "source": [
    "day_2013 = ['4750','4780','4810','4840','4870','4900','4930','4960','4990','5020','5050', '5080'] \n",
    "day_2014 = ['5115','5145','5175','5205','5235','5265','5295','5325','5355','5385','5415', '5445']"
   ]
  },
  {
   "cell_type": "code",
   "execution_count": 3,
   "metadata": {},
   "outputs": [
    {
     "name": "stdout",
     "output_type": "stream",
     "text": [
      "/home/lindsay/hioekg-2013\n",
      "hioekg_his_04750.nc  hioekg_his_05020.nc          hioekg_his_surface_04930.nc\r\n",
      "hioekg_his_04780.nc  hioekg_his_05050.nc          hioekg_his_surface_04960.nc\r\n",
      "hioekg_his_04810.nc  hioekg_his_05110.nc          hioekg_his_surface_04990.nc\r\n",
      "hioekg_his_04840.nc  hioekg_his_surface_04750.nc  hioekg_his_surface_05020.nc\r\n",
      "hioekg_his_04870.nc  hioekg_his_surface_04780.nc  hioekg_his_surface_05050.nc\r\n",
      "hioekg_his_04900.nc  hioekg_his_surface_04810.nc  hioekg_his_surface_05080.nc\r\n",
      "hioekg_his_04930.nc  hioekg_his_surface_04840.nc  hioekg_his_surface_05110.nc\r\n",
      "hioekg_his_04960.nc  hioekg_his_surface_04870.nc  \u001b[0m\u001b[01;34mSeasonal\u001b[0m/\r\n",
      "hioekg_his_04990.nc  hioekg_his_surface_04900.nc  test.nc\r\n"
     ]
    }
   ],
   "source": [
    "%cd /home/lindsay/hioekg-2013/\n",
    "%ls"
   ]
  },
  {
   "cell_type": "markdown",
   "metadata": {},
   "source": [
    "## Loop through all history files for 2013"
   ]
  },
  {
   "cell_type": "code",
   "execution_count": 4,
   "metadata": {},
   "outputs": [
    {
     "name": "stdout",
     "output_type": "stream",
     "text": [
      "/home/lindsay/hioekg-2013\n"
     ]
    }
   ],
   "source": [
    "# Reset the working directory before running the loops\n",
    "%pwd\n",
    "%cd /home/lindsay/hioekg-2013/\n",
    "\n",
    "# Add master list for the files collected by this first nested loop and group lists\n",
    "file_list = []\n",
    "nsmz=[]\n",
    "nmdz=[]\n",
    "nlgz=[]\n",
    "nsm=[]\n",
    "nlg=[]\n",
    "\n",
    "for i in range(0,12):\n",
    "        folder = '/home/lindsay/hioekg-2013/'\n",
    "        os.chdir(folder)\n",
    "        file = xr.open_dataset('hioekg_his_surface_0' + str(day_2013[i]) + '.nc')\n",
    "        file_list.append(file)      \n",
    "\n",
    "for item in file_list: \n",
    "# nsmz: Small zooplankton\n",
    "    dat = item.nsmz\n",
    "    dat_numpy = dat.values\n",
    "    dat_numpy=dat_numpy[~np.isnan(dat_numpy)]\n",
    "    nsmz.append(dat_numpy)\n",
    "# nmdz: Medium zooplankton\n",
    "    dat = item.nmdz\n",
    "    dat_numpy = dat.values\n",
    "    dat_numpy=dat_numpy[~np.isnan(dat_numpy)]\n",
    "    nmdz.append(dat_numpy)\n",
    "# nlgz: Large zooplankton\n",
    "    dat = item.nlgz\n",
    "    dat_numpy = dat.values\n",
    "    dat_numpy=dat_numpy[~np.isnan(dat_numpy)]\n",
    "    nlgz.append(dat_numpy)\n",
    "# nsm: Small phytoplankton\n",
    "    dat = item.nsm\n",
    "    dat_numpy = dat.values\n",
    "    dat_numpy=dat_numpy[~np.isnan(dat_numpy)]\n",
    "    nsm.append(dat_numpy)\n",
    "# nlg: Large phytoplankton\n",
    "    dat = item.nlg\n",
    "    dat_numpy = dat.values\n",
    "    dat_numpy=dat_numpy[~np.isnan(dat_numpy)]\n",
    "    nlg.append(dat_numpy)"
   ]
  },
  {
   "cell_type": "code",
   "execution_count": 5,
   "metadata": {},
   "outputs": [
    {
     "data": {
      "text/plain": [
       "12"
      ]
     },
     "execution_count": 5,
     "metadata": {},
     "output_type": "execute_result"
    }
   ],
   "source": [
    "len(nsm)"
   ]
  },
  {
   "cell_type": "code",
   "execution_count": 6,
   "metadata": {},
   "outputs": [
    {
     "data": {
      "text/plain": [
       "614636"
      ]
     },
     "execution_count": 6,
     "metadata": {},
     "output_type": "execute_result"
    }
   ],
   "source": [
    "len(nsm[4])"
   ]
  },
  {
   "cell_type": "code",
   "execution_count": 78,
   "metadata": {},
   "outputs": [
    {
     "data": {
      "text/plain": [
       "90684"
      ]
     },
     "execution_count": 78,
     "metadata": {},
     "output_type": "execute_result"
    }
   ],
   "source": [
    "len(nsm[12]) # Awkward last bit of December- maybe ignore? Or deal w separately. \n",
    "# Rerunning loop above to not include for now."
   ]
  },
  {
   "cell_type": "code",
   "execution_count": 7,
   "metadata": {},
   "outputs": [
    {
     "data": {
      "text/plain": [
       "10076.0"
      ]
     },
     "execution_count": 7,
     "metadata": {},
     "output_type": "execute_result"
    }
   ],
   "source": [
    "614636/61"
   ]
  },
  {
   "cell_type": "markdown",
   "metadata": {},
   "source": [
    "The len of each array=614636. Each variable list contains 61 frames, so each frame (= each 12 hour half day average) is len=10076.\n",
    "\n",
    "For 4750, data collection starts at Jan 2 00:00 and ends Feb 1 00:00 = 61 frames. I want to remove the 61st frame from each array: 614636-10076=604560.\n",
    "\n",
    "I want to label each of the 12 arrays of len=604560 in the list with a month and date.\n",
    "\n",
    "I want to label every other frame (half day average, len=10076) with timestamp 00:00 or 12:00.\n",
    "\n",
    "My path forward:\n",
    "\n",
    "- Use a for loop to slice each array within the lists to include indices from 0:604560 (slices off the day that is repeated at the start of the next month).\n",
    "- Use a nested loop to label each i as i (from month/date list)\n",
    "- Once my df is assembled, label every i%2 (every other frame/row) from timestamp list, starting at 00:00\n",
    "\n",
    "Then I'll apply this framework to the 2014 data.\n",
    "For now, I am ignoring that tiny chunk at the end of December; may add it in once I have the other data nicely labeled."
   ]
  },
  {
   "cell_type": "markdown",
   "metadata": {},
   "source": [
    "#### Classifying values by date, month, time"
   ]
  },
  {
   "cell_type": "code",
   "execution_count": 8,
   "metadata": {},
   "outputs": [],
   "source": [
    "# Creating 12-unit date list and month list, 2-unit timestamp list, and empty list to store organized values:\n",
    "date = ['2013-01-01','2013-02-01','2013-03-01','2013-04-01','2013-05-01',\n",
    "        '2013-06-01','2013-07-01','2013-08-01','2013-09-01','2013-10-01',\n",
    "        '2013-11-01','2013-12-01']\n",
    "month=['Jan','Feb','Mar','Apr','May','Jun','Jul','Aug','Sep','Oct','Nov','Dec']\n",
    "timestamp=['00:00','12:00']\n",
    "\n",
    "# Store my dfs separately for my own benefit in error reduction\n",
    "list_for_dataframe_nsmz_2013=[]\n",
    "list_for_dataframe_nmdz_2013=[]\n",
    "list_for_dataframe_nlgz_2013=[]\n",
    "list_for_dataframe_nsm_2013=[]\n",
    "list_for_dataframe_nlg_2013=[]"
   ]
  },
  {
   "cell_type": "markdown",
   "metadata": {},
   "source": [
    "#### nsmz (2013)"
   ]
  },
  {
   "cell_type": "code",
   "execution_count": 9,
   "metadata": {},
   "outputs": [
    {
     "name": "stdout",
     "output_type": "stream",
     "text": [
      "/home/lindsay/hioekg-2013\n",
      "7254720\n",
      "/home/lindsay/hioekg-compare-years\n"
     ]
    },
    {
     "data": {
      "text/html": [
       "<div>\n",
       "<style scoped>\n",
       "    .dataframe tbody tr th:only-of-type {\n",
       "        vertical-align: middle;\n",
       "    }\n",
       "\n",
       "    .dataframe tbody tr th {\n",
       "        vertical-align: top;\n",
       "    }\n",
       "\n",
       "    .dataframe thead th {\n",
       "        text-align: right;\n",
       "    }\n",
       "</style>\n",
       "<table border=\"1\" class=\"dataframe\">\n",
       "  <thead>\n",
       "    <tr style=\"text-align: right;\">\n",
       "      <th></th>\n",
       "      <th>month</th>\n",
       "      <th>date</th>\n",
       "      <th>concentration</th>\n",
       "      <th>group</th>\n",
       "      <th>year</th>\n",
       "      <th>timestamp</th>\n",
       "    </tr>\n",
       "  </thead>\n",
       "  <tbody>\n",
       "    <tr>\n",
       "      <td>0</td>\n",
       "      <td>Jan</td>\n",
       "      <td>2013-01-01</td>\n",
       "      <td>1.406497e-07</td>\n",
       "      <td>nsmz</td>\n",
       "      <td>2013</td>\n",
       "      <td>00:00</td>\n",
       "    </tr>\n",
       "    <tr>\n",
       "      <td>1</td>\n",
       "      <td>Jan</td>\n",
       "      <td>2013-01-01</td>\n",
       "      <td>1.406054e-07</td>\n",
       "      <td>nsmz</td>\n",
       "      <td>2013</td>\n",
       "      <td>12:00</td>\n",
       "    </tr>\n",
       "    <tr>\n",
       "      <td>2</td>\n",
       "      <td>Jan</td>\n",
       "      <td>2013-01-01</td>\n",
       "      <td>1.405610e-07</td>\n",
       "      <td>nsmz</td>\n",
       "      <td>2013</td>\n",
       "      <td>00:00</td>\n",
       "    </tr>\n",
       "    <tr>\n",
       "      <td>3</td>\n",
       "      <td>Jan</td>\n",
       "      <td>2013-01-01</td>\n",
       "      <td>1.405165e-07</td>\n",
       "      <td>nsmz</td>\n",
       "      <td>2013</td>\n",
       "      <td>12:00</td>\n",
       "    </tr>\n",
       "    <tr>\n",
       "      <td>4</td>\n",
       "      <td>Jan</td>\n",
       "      <td>2013-01-01</td>\n",
       "      <td>1.407283e-07</td>\n",
       "      <td>nsmz</td>\n",
       "      <td>2013</td>\n",
       "      <td>00:00</td>\n",
       "    </tr>\n",
       "  </tbody>\n",
       "</table>\n",
       "</div>"
      ],
      "text/plain": [
       "  month        date  concentration group  year timestamp\n",
       "0   Jan  2013-01-01   1.406497e-07  nsmz  2013     00:00\n",
       "1   Jan  2013-01-01   1.406054e-07  nsmz  2013     12:00\n",
       "2   Jan  2013-01-01   1.405610e-07  nsmz  2013     00:00\n",
       "3   Jan  2013-01-01   1.405165e-07  nsmz  2013     12:00\n",
       "4   Jan  2013-01-01   1.407283e-07  nsmz  2013     00:00"
      ]
     },
     "execution_count": 9,
     "metadata": {},
     "output_type": "execute_result"
    }
   ],
   "source": [
    "%cd /home/lindsay/hioekg-2013\n",
    "\n",
    "# Iterating sequentially (i) through each array (element) in the list of arrays (selection)\n",
    "for i,element in enumerate(nsmz):\n",
    "    element = element[0:604560]\n",
    "    this_date = date[i] # each array i is assigned date i\n",
    "    this_month = month[i] # each array i is assigned month i\n",
    "    for sub_element in element:\n",
    "        list_for_dataframe_nsmz_2013.append(\n",
    "            {'month': this_month, 'date': this_date, 'concentration': sub_element})\n",
    "\n",
    "nsmz_df_2013 = pd.DataFrame(list_for_dataframe_nsmz_2013)\n",
    "\n",
    "# Add group identifier and year column\n",
    "nsmz_df_2013['group']='nsmz'\n",
    "nsmz_df_2013['year']=2013\n",
    "\n",
    "# Add timestamp:\n",
    "timestamp = ['00:00','12:00'] * 3627360 # one half the length of the df\n",
    "nsmz_df_2013['timestamp']= timestamp\n",
    "print(len(nsmz_df_2013))\n",
    "\n",
    "%cd /home/lindsay/hioekg-compare-years/\n",
    "pd.DataFrame.to_csv(nsmz_df_2013,'nsmz_semidaily_df_2013.csv')\n",
    "nsmz_df_2013.head()"
   ]
  },
  {
   "cell_type": "markdown",
   "metadata": {},
   "source": [
    "#### nmdz (2013)"
   ]
  },
  {
   "cell_type": "code",
   "execution_count": 103,
   "metadata": {},
   "outputs": [
    {
     "name": "stdout",
     "output_type": "stream",
     "text": [
      "/home/lindsay/hioekg-2013\n",
      "7254720\n",
      "/home/lindsay/hioekg-compare-years\n"
     ]
    },
    {
     "data": {
      "text/html": [
       "<div>\n",
       "<style scoped>\n",
       "    .dataframe tbody tr th:only-of-type {\n",
       "        vertical-align: middle;\n",
       "    }\n",
       "\n",
       "    .dataframe tbody tr th {\n",
       "        vertical-align: top;\n",
       "    }\n",
       "\n",
       "    .dataframe thead th {\n",
       "        text-align: right;\n",
       "    }\n",
       "</style>\n",
       "<table border=\"1\" class=\"dataframe\">\n",
       "  <thead>\n",
       "    <tr style=\"text-align: right;\">\n",
       "      <th></th>\n",
       "      <th>month</th>\n",
       "      <th>date</th>\n",
       "      <th>concentration</th>\n",
       "      <th>group</th>\n",
       "      <th>year</th>\n",
       "      <th>timestamp</th>\n",
       "    </tr>\n",
       "  </thead>\n",
       "  <tbody>\n",
       "    <tr>\n",
       "      <td>0</td>\n",
       "      <td>Jan</td>\n",
       "      <td>2013-01-01</td>\n",
       "      <td>5.923502e-08</td>\n",
       "      <td>nmdz</td>\n",
       "      <td>2013</td>\n",
       "      <td>00:00</td>\n",
       "    </tr>\n",
       "    <tr>\n",
       "      <td>1</td>\n",
       "      <td>Jan</td>\n",
       "      <td>2013-01-01</td>\n",
       "      <td>5.925435e-08</td>\n",
       "      <td>nmdz</td>\n",
       "      <td>2013</td>\n",
       "      <td>12:00</td>\n",
       "    </tr>\n",
       "    <tr>\n",
       "      <td>2</td>\n",
       "      <td>Jan</td>\n",
       "      <td>2013-01-01</td>\n",
       "      <td>5.927377e-08</td>\n",
       "      <td>nmdz</td>\n",
       "      <td>2013</td>\n",
       "      <td>00:00</td>\n",
       "    </tr>\n",
       "    <tr>\n",
       "      <td>3</td>\n",
       "      <td>Jan</td>\n",
       "      <td>2013-01-01</td>\n",
       "      <td>5.929326e-08</td>\n",
       "      <td>nmdz</td>\n",
       "      <td>2013</td>\n",
       "      <td>12:00</td>\n",
       "    </tr>\n",
       "    <tr>\n",
       "      <td>4</td>\n",
       "      <td>Jan</td>\n",
       "      <td>2013-01-01</td>\n",
       "      <td>5.917489e-08</td>\n",
       "      <td>nmdz</td>\n",
       "      <td>2013</td>\n",
       "      <td>00:00</td>\n",
       "    </tr>\n",
       "  </tbody>\n",
       "</table>\n",
       "</div>"
      ],
      "text/plain": [
       "  month        date  concentration group  year timestamp\n",
       "0   Jan  2013-01-01   5.923502e-08  nmdz  2013     00:00\n",
       "1   Jan  2013-01-01   5.925435e-08  nmdz  2013     12:00\n",
       "2   Jan  2013-01-01   5.927377e-08  nmdz  2013     00:00\n",
       "3   Jan  2013-01-01   5.929326e-08  nmdz  2013     12:00\n",
       "4   Jan  2013-01-01   5.917489e-08  nmdz  2013     00:00"
      ]
     },
     "execution_count": 103,
     "metadata": {},
     "output_type": "execute_result"
    }
   ],
   "source": [
    "%cd /home/lindsay/hioekg-2013\n",
    "\n",
    "# Iterating sequentially (i) through each array (element) in the list of arrays (selection)\n",
    "for i,element in enumerate(nmdz):\n",
    "    element = element[0:604560]\n",
    "    this_date = date[i] # each array i is assigned date i\n",
    "    this_month = month[i] # each array i is assigned month i\n",
    "    for sub_element in element:\n",
    "        list_for_dataframe_nmdz_2013.append(\n",
    "            {'month': this_month, 'date': this_date, 'concentration': sub_element})\n",
    "\n",
    "nmdz_df_2013 = pd.DataFrame(list_for_dataframe_nmdz_2013)\n",
    "\n",
    "# Add group identifier and year column\n",
    "nmdz_df_2013['group']='nmdz'\n",
    "nmdz_df_2013['year']=2013\n",
    "\n",
    "# Add timestamp:\n",
    "timestamp = ['00:00','12:00'] * 3627360 # one half the length of the df\n",
    "nmdz_df_2013['timestamp']= timestamp\n",
    "print(len(nmdz_df_2013))\n",
    "\n",
    "%cd /home/lindsay/hioekg-compare-years/\n",
    "pd.DataFrame.to_csv(nmdz_df_2013,'nmdz_semidaily_df_2013.csv')\n",
    "nmdz_df_2013.head()"
   ]
  },
  {
   "cell_type": "markdown",
   "metadata": {},
   "source": [
    "#### nlgz (2013)"
   ]
  },
  {
   "cell_type": "code",
   "execution_count": 109,
   "metadata": {},
   "outputs": [
    {
     "name": "stdout",
     "output_type": "stream",
     "text": [
      "/home/lindsay/hioekg-2013\n",
      "7254720\n",
      "/home/lindsay/hioekg-compare-years\n"
     ]
    },
    {
     "data": {
      "text/html": [
       "<div>\n",
       "<style scoped>\n",
       "    .dataframe tbody tr th:only-of-type {\n",
       "        vertical-align: middle;\n",
       "    }\n",
       "\n",
       "    .dataframe tbody tr th {\n",
       "        vertical-align: top;\n",
       "    }\n",
       "\n",
       "    .dataframe thead th {\n",
       "        text-align: right;\n",
       "    }\n",
       "</style>\n",
       "<table border=\"1\" class=\"dataframe\">\n",
       "  <thead>\n",
       "    <tr style=\"text-align: right;\">\n",
       "      <th></th>\n",
       "      <th>month</th>\n",
       "      <th>date</th>\n",
       "      <th>concentration</th>\n",
       "      <th>group</th>\n",
       "      <th>year</th>\n",
       "      <th>timestamp</th>\n",
       "    </tr>\n",
       "  </thead>\n",
       "  <tbody>\n",
       "    <tr>\n",
       "      <td>0</td>\n",
       "      <td>Jan</td>\n",
       "      <td>2013-01-01</td>\n",
       "      <td>1.366578e-08</td>\n",
       "      <td>nlgz</td>\n",
       "      <td>2013</td>\n",
       "      <td>00:00</td>\n",
       "    </tr>\n",
       "    <tr>\n",
       "      <td>1</td>\n",
       "      <td>Jan</td>\n",
       "      <td>2013-01-01</td>\n",
       "      <td>1.367985e-08</td>\n",
       "      <td>nlgz</td>\n",
       "      <td>2013</td>\n",
       "      <td>12:00</td>\n",
       "    </tr>\n",
       "    <tr>\n",
       "      <td>2</td>\n",
       "      <td>Jan</td>\n",
       "      <td>2013-01-01</td>\n",
       "      <td>1.369398e-08</td>\n",
       "      <td>nlgz</td>\n",
       "      <td>2013</td>\n",
       "      <td>00:00</td>\n",
       "    </tr>\n",
       "    <tr>\n",
       "      <td>3</td>\n",
       "      <td>Jan</td>\n",
       "      <td>2013-01-01</td>\n",
       "      <td>1.370815e-08</td>\n",
       "      <td>nlgz</td>\n",
       "      <td>2013</td>\n",
       "      <td>12:00</td>\n",
       "    </tr>\n",
       "    <tr>\n",
       "      <td>4</td>\n",
       "      <td>Jan</td>\n",
       "      <td>2013-01-01</td>\n",
       "      <td>1.363337e-08</td>\n",
       "      <td>nlgz</td>\n",
       "      <td>2013</td>\n",
       "      <td>00:00</td>\n",
       "    </tr>\n",
       "  </tbody>\n",
       "</table>\n",
       "</div>"
      ],
      "text/plain": [
       "  month        date  concentration group  year timestamp\n",
       "0   Jan  2013-01-01   1.366578e-08  nlgz  2013     00:00\n",
       "1   Jan  2013-01-01   1.367985e-08  nlgz  2013     12:00\n",
       "2   Jan  2013-01-01   1.369398e-08  nlgz  2013     00:00\n",
       "3   Jan  2013-01-01   1.370815e-08  nlgz  2013     12:00\n",
       "4   Jan  2013-01-01   1.363337e-08  nlgz  2013     00:00"
      ]
     },
     "execution_count": 109,
     "metadata": {},
     "output_type": "execute_result"
    }
   ],
   "source": [
    "%cd /home/lindsay/hioekg-2013\n",
    "\n",
    "# Iterating sequentially (i) through each array (element) in the list of arrays (selection)\n",
    "for i,element in enumerate(nlgz):\n",
    "    element = element[0:604560]\n",
    "    this_date = date[i] # each array i is assigned date i\n",
    "    this_month = month[i] # each array i is assigned month i\n",
    "    for sub_element in element:\n",
    "        list_for_dataframe_nlgz_2013.append(\n",
    "            {'month': this_month, 'date': this_date, 'concentration': sub_element})\n",
    "\n",
    "nlgz_df_2013 = pd.DataFrame(list_for_dataframe_nlgz_2013)\n",
    "\n",
    "# Add group identifier and year column\n",
    "nlgz_df_2013['group']='nlgz'\n",
    "nlgz_df_2013['year']=2013\n",
    "\n",
    "# Add timestamp:\n",
    "timestamp = ['00:00','12:00'] * 3627360 # one half the length of the df\n",
    "nlgz_df_2013['timestamp']= timestamp\n",
    "print(len(nlgz_df_2013))\n",
    "\n",
    "%cd /home/lindsay/hioekg-compare-years/\n",
    "pd.DataFrame.to_csv(nlgz_df_2013,'nlgz_semidaily_df_2013.csv')\n",
    "nlgz_df_2013.head()"
   ]
  },
  {
   "cell_type": "markdown",
   "metadata": {},
   "source": [
    "#### nsm"
   ]
  },
  {
   "cell_type": "code",
   "execution_count": 110,
   "metadata": {},
   "outputs": [
    {
     "name": "stdout",
     "output_type": "stream",
     "text": [
      "/home/lindsay/hioekg-2013\n",
      "7254720\n",
      "/home/lindsay/hioekg-compare-years\n"
     ]
    },
    {
     "data": {
      "text/html": [
       "<div>\n",
       "<style scoped>\n",
       "    .dataframe tbody tr th:only-of-type {\n",
       "        vertical-align: middle;\n",
       "    }\n",
       "\n",
       "    .dataframe tbody tr th {\n",
       "        vertical-align: top;\n",
       "    }\n",
       "\n",
       "    .dataframe thead th {\n",
       "        text-align: right;\n",
       "    }\n",
       "</style>\n",
       "<table border=\"1\" class=\"dataframe\">\n",
       "  <thead>\n",
       "    <tr style=\"text-align: right;\">\n",
       "      <th></th>\n",
       "      <th>month</th>\n",
       "      <th>date</th>\n",
       "      <th>concentration</th>\n",
       "      <th>group</th>\n",
       "      <th>year</th>\n",
       "      <th>timestamp</th>\n",
       "    </tr>\n",
       "  </thead>\n",
       "  <tbody>\n",
       "    <tr>\n",
       "      <td>0</td>\n",
       "      <td>Jan</td>\n",
       "      <td>2013-01-01</td>\n",
       "      <td>9.019494e-08</td>\n",
       "      <td>nsm</td>\n",
       "      <td>2013</td>\n",
       "      <td>00:00</td>\n",
       "    </tr>\n",
       "    <tr>\n",
       "      <td>1</td>\n",
       "      <td>Jan</td>\n",
       "      <td>2013-01-01</td>\n",
       "      <td>9.021880e-08</td>\n",
       "      <td>nsm</td>\n",
       "      <td>2013</td>\n",
       "      <td>12:00</td>\n",
       "    </tr>\n",
       "    <tr>\n",
       "      <td>2</td>\n",
       "      <td>Jan</td>\n",
       "      <td>2013-01-01</td>\n",
       "      <td>9.024291e-08</td>\n",
       "      <td>nsm</td>\n",
       "      <td>2013</td>\n",
       "      <td>00:00</td>\n",
       "    </tr>\n",
       "    <tr>\n",
       "      <td>3</td>\n",
       "      <td>Jan</td>\n",
       "      <td>2013-01-01</td>\n",
       "      <td>9.026729e-08</td>\n",
       "      <td>nsm</td>\n",
       "      <td>2013</td>\n",
       "      <td>12:00</td>\n",
       "    </tr>\n",
       "    <tr>\n",
       "      <td>4</td>\n",
       "      <td>Jan</td>\n",
       "      <td>2013-01-01</td>\n",
       "      <td>9.017967e-08</td>\n",
       "      <td>nsm</td>\n",
       "      <td>2013</td>\n",
       "      <td>00:00</td>\n",
       "    </tr>\n",
       "  </tbody>\n",
       "</table>\n",
       "</div>"
      ],
      "text/plain": [
       "  month        date  concentration group  year timestamp\n",
       "0   Jan  2013-01-01   9.019494e-08   nsm  2013     00:00\n",
       "1   Jan  2013-01-01   9.021880e-08   nsm  2013     12:00\n",
       "2   Jan  2013-01-01   9.024291e-08   nsm  2013     00:00\n",
       "3   Jan  2013-01-01   9.026729e-08   nsm  2013     12:00\n",
       "4   Jan  2013-01-01   9.017967e-08   nsm  2013     00:00"
      ]
     },
     "execution_count": 110,
     "metadata": {},
     "output_type": "execute_result"
    }
   ],
   "source": [
    "%cd /home/lindsay/hioekg-2013\n",
    "\n",
    "# Iterating sequentially (i) through each array (element) in the list of arrays (selection)\n",
    "for i,element in enumerate(nsm):\n",
    "    element = element[0:604560]\n",
    "    this_date = date[i] # each array i is assigned date i\n",
    "    this_month = month[i] # each array i is assigned month i\n",
    "    for sub_element in element:\n",
    "        list_for_dataframe_nsm_2013.append(\n",
    "            {'month': this_month, 'date': this_date, 'concentration': sub_element})\n",
    "\n",
    "nsm_df_2013 = pd.DataFrame(list_for_dataframe_nsm_2013)\n",
    "\n",
    "# Add group identifier and year column\n",
    "nsm_df_2013['group']='nsm'\n",
    "nsm_df_2013['year']=2013\n",
    "\n",
    "# Add timestamp:\n",
    "timestamp = ['00:00','12:00'] * 3627360 # one half the length of the df\n",
    "nsm_df_2013['timestamp']= timestamp\n",
    "print(len(nsm_df_2013))\n",
    "\n",
    "%cd /home/lindsay/hioekg-compare-years/\n",
    "pd.DataFrame.to_csv(nsm_df_2013,'nsm_semidaily_df_2013.csv')\n",
    "nsm_df_2013.head()"
   ]
  },
  {
   "cell_type": "markdown",
   "metadata": {},
   "source": [
    "#### nlg"
   ]
  },
  {
   "cell_type": "code",
   "execution_count": 13,
   "metadata": {},
   "outputs": [
    {
     "name": "stdout",
     "output_type": "stream",
     "text": [
      "/home/lindsay/hioekg-2013\n",
      "7254720\n",
      "/home/lindsay/hioekg-compare-years\n"
     ]
    },
    {
     "data": {
      "text/html": [
       "<div>\n",
       "<style scoped>\n",
       "    .dataframe tbody tr th:only-of-type {\n",
       "        vertical-align: middle;\n",
       "    }\n",
       "\n",
       "    .dataframe tbody tr th {\n",
       "        vertical-align: top;\n",
       "    }\n",
       "\n",
       "    .dataframe thead th {\n",
       "        text-align: right;\n",
       "    }\n",
       "</style>\n",
       "<table border=\"1\" class=\"dataframe\">\n",
       "  <thead>\n",
       "    <tr style=\"text-align: right;\">\n",
       "      <th></th>\n",
       "      <th>month</th>\n",
       "      <th>date</th>\n",
       "      <th>concentration</th>\n",
       "      <th>group</th>\n",
       "      <th>year</th>\n",
       "      <th>timestamp</th>\n",
       "    </tr>\n",
       "  </thead>\n",
       "  <tbody>\n",
       "    <tr>\n",
       "      <td>0</td>\n",
       "      <td>Jan</td>\n",
       "      <td>2013-01-01</td>\n",
       "      <td>7.828189e-08</td>\n",
       "      <td>nlg</td>\n",
       "      <td>2013</td>\n",
       "      <td>00:00</td>\n",
       "    </tr>\n",
       "    <tr>\n",
       "      <td>1</td>\n",
       "      <td>Jan</td>\n",
       "      <td>2013-01-01</td>\n",
       "      <td>7.821094e-08</td>\n",
       "      <td>nlg</td>\n",
       "      <td>2013</td>\n",
       "      <td>12:00</td>\n",
       "    </tr>\n",
       "    <tr>\n",
       "      <td>2</td>\n",
       "      <td>Jan</td>\n",
       "      <td>2013-01-01</td>\n",
       "      <td>7.813979e-08</td>\n",
       "      <td>nlg</td>\n",
       "      <td>2013</td>\n",
       "      <td>00:00</td>\n",
       "    </tr>\n",
       "    <tr>\n",
       "      <td>3</td>\n",
       "      <td>Jan</td>\n",
       "      <td>2013-01-01</td>\n",
       "      <td>7.806845e-08</td>\n",
       "      <td>nlg</td>\n",
       "      <td>2013</td>\n",
       "      <td>12:00</td>\n",
       "    </tr>\n",
       "    <tr>\n",
       "      <td>4</td>\n",
       "      <td>Jan</td>\n",
       "      <td>2013-01-01</td>\n",
       "      <td>7.844851e-08</td>\n",
       "      <td>nlg</td>\n",
       "      <td>2013</td>\n",
       "      <td>00:00</td>\n",
       "    </tr>\n",
       "  </tbody>\n",
       "</table>\n",
       "</div>"
      ],
      "text/plain": [
       "  month        date  concentration group  year timestamp\n",
       "0   Jan  2013-01-01   7.828189e-08   nlg  2013     00:00\n",
       "1   Jan  2013-01-01   7.821094e-08   nlg  2013     12:00\n",
       "2   Jan  2013-01-01   7.813979e-08   nlg  2013     00:00\n",
       "3   Jan  2013-01-01   7.806845e-08   nlg  2013     12:00\n",
       "4   Jan  2013-01-01   7.844851e-08   nlg  2013     00:00"
      ]
     },
     "execution_count": 13,
     "metadata": {},
     "output_type": "execute_result"
    }
   ],
   "source": [
    "%cd /home/lindsay/hioekg-2013\n",
    "\n",
    "# Iterating sequentially (i) through each array (element) in the list of arrays (selection)\n",
    "for i,element in enumerate(nlg):\n",
    "    element = element[0:604560]\n",
    "    this_date = date[i] # each array i is assigned date i\n",
    "    this_month = month[i] # each array i is assigned month i\n",
    "    for sub_element in element:\n",
    "        list_for_dataframe_nlg_2013.append(\n",
    "            {'month': this_month, 'date': this_date, 'concentration': sub_element})\n",
    "\n",
    "nlg_df_2013 = pd.DataFrame(list_for_dataframe_nlg_2013)\n",
    "\n",
    "# Add group identifier and year column\n",
    "nlg_df_2013['group']='nlg'\n",
    "nlg_df_2013['year']=2013\n",
    "\n",
    "# Add timestamp:\n",
    "timestamp = ['00:00','12:00'] * 3627360 # one half the length of the df\n",
    "nlg_df_2013['timestamp']= timestamp\n",
    "print(len(nlg_df_2013))\n",
    "\n",
    "%cd /home/lindsay/hioekg-compare-years/\n",
    "pd.DataFrame.to_csv(nlg_df_2013,'nlg_semidaily_df_2013.csv')\n",
    "nlg_df_2013.head()"
   ]
  },
  {
   "cell_type": "markdown",
   "metadata": {},
   "source": [
    "This machine will actually die if I try to concatenate all dataframes. So I'm not going to do that."
   ]
  },
  {
   "cell_type": "markdown",
   "metadata": {},
   "source": [
    "## Loop through each sector: 2014"
   ]
  },
  {
   "cell_type": "code",
   "execution_count": 14,
   "metadata": {},
   "outputs": [
    {
     "name": "stdout",
     "output_type": "stream",
     "text": [
      "/home/lindsay/hioekg-2014\n"
     ]
    },
    {
     "ename": "FileNotFoundError",
     "evalue": "[Errno 2] No such file or directory: b'/home/lindsay/hioekg-2014/hioekg_his_surface_05115.nc'",
     "output_type": "error",
     "traceback": [
      "\u001b[0;31m---------------------------------------------------------------------------\u001b[0m",
      "\u001b[0;31mKeyError\u001b[0m                                  Traceback (most recent call last)",
      "\u001b[0;32m~/anaconda3/lib/python3.6/site-packages/xarray/backends/file_manager.py\u001b[0m in \u001b[0;36m_acquire_with_cache_info\u001b[0;34m(self, needs_lock)\u001b[0m\n\u001b[1;32m    194\u001b[0m             \u001b[0;32mtry\u001b[0m\u001b[0;34m:\u001b[0m\u001b[0;34m\u001b[0m\u001b[0;34m\u001b[0m\u001b[0m\n\u001b[0;32m--> 195\u001b[0;31m                 \u001b[0mfile\u001b[0m \u001b[0;34m=\u001b[0m \u001b[0mself\u001b[0m\u001b[0;34m.\u001b[0m\u001b[0m_cache\u001b[0m\u001b[0;34m[\u001b[0m\u001b[0mself\u001b[0m\u001b[0;34m.\u001b[0m\u001b[0m_key\u001b[0m\u001b[0;34m]\u001b[0m\u001b[0;34m\u001b[0m\u001b[0;34m\u001b[0m\u001b[0m\n\u001b[0m\u001b[1;32m    196\u001b[0m             \u001b[0;32mexcept\u001b[0m \u001b[0mKeyError\u001b[0m\u001b[0;34m:\u001b[0m\u001b[0;34m\u001b[0m\u001b[0;34m\u001b[0m\u001b[0m\n",
      "\u001b[0;32m~/anaconda3/lib/python3.6/site-packages/xarray/backends/lru_cache.py\u001b[0m in \u001b[0;36m__getitem__\u001b[0;34m(self, key)\u001b[0m\n\u001b[1;32m     42\u001b[0m         \u001b[0;32mwith\u001b[0m \u001b[0mself\u001b[0m\u001b[0;34m.\u001b[0m\u001b[0m_lock\u001b[0m\u001b[0;34m:\u001b[0m\u001b[0;34m\u001b[0m\u001b[0;34m\u001b[0m\u001b[0m\n\u001b[0;32m---> 43\u001b[0;31m             \u001b[0mvalue\u001b[0m \u001b[0;34m=\u001b[0m \u001b[0mself\u001b[0m\u001b[0;34m.\u001b[0m\u001b[0m_cache\u001b[0m\u001b[0;34m[\u001b[0m\u001b[0mkey\u001b[0m\u001b[0;34m]\u001b[0m\u001b[0;34m\u001b[0m\u001b[0;34m\u001b[0m\u001b[0m\n\u001b[0m\u001b[1;32m     44\u001b[0m             \u001b[0mself\u001b[0m\u001b[0;34m.\u001b[0m\u001b[0m_cache\u001b[0m\u001b[0;34m.\u001b[0m\u001b[0mmove_to_end\u001b[0m\u001b[0;34m(\u001b[0m\u001b[0mkey\u001b[0m\u001b[0;34m)\u001b[0m\u001b[0;34m\u001b[0m\u001b[0;34m\u001b[0m\u001b[0m\n",
      "\u001b[0;31mKeyError\u001b[0m: [<class 'netCDF4._netCDF4.Dataset'>, ('/home/lindsay/hioekg-2014/hioekg_his_surface_05115.nc',), 'r', (('clobber', True), ('diskless', False), ('format', 'NETCDF4'), ('persist', False))]",
      "\nDuring handling of the above exception, another exception occurred:\n",
      "\u001b[0;31mFileNotFoundError\u001b[0m                         Traceback (most recent call last)",
      "\u001b[0;32m<ipython-input-14-b696bdcd9038>\u001b[0m in \u001b[0;36m<module>\u001b[0;34m\u001b[0m\n\u001b[1;32m     14\u001b[0m         \u001b[0mfolder\u001b[0m \u001b[0;34m=\u001b[0m \u001b[0;34m'/home/lindsay/hioekg-2014/'\u001b[0m\u001b[0;34m\u001b[0m\u001b[0;34m\u001b[0m\u001b[0m\n\u001b[1;32m     15\u001b[0m         \u001b[0mos\u001b[0m\u001b[0;34m.\u001b[0m\u001b[0mchdir\u001b[0m\u001b[0;34m(\u001b[0m\u001b[0mfolder\u001b[0m\u001b[0;34m)\u001b[0m\u001b[0;34m\u001b[0m\u001b[0;34m\u001b[0m\u001b[0m\n\u001b[0;32m---> 16\u001b[0;31m         \u001b[0mfile\u001b[0m \u001b[0;34m=\u001b[0m \u001b[0mxr\u001b[0m\u001b[0;34m.\u001b[0m\u001b[0mopen_dataset\u001b[0m\u001b[0;34m(\u001b[0m\u001b[0;34m'hioekg_his_surface_0'\u001b[0m \u001b[0;34m+\u001b[0m \u001b[0mstr\u001b[0m\u001b[0;34m(\u001b[0m\u001b[0mday_2014\u001b[0m\u001b[0;34m[\u001b[0m\u001b[0mi\u001b[0m\u001b[0;34m]\u001b[0m\u001b[0;34m)\u001b[0m \u001b[0;34m+\u001b[0m \u001b[0;34m'.nc'\u001b[0m\u001b[0;34m)\u001b[0m\u001b[0;34m\u001b[0m\u001b[0;34m\u001b[0m\u001b[0m\n\u001b[0m\u001b[1;32m     17\u001b[0m         \u001b[0mfile_list\u001b[0m\u001b[0;34m.\u001b[0m\u001b[0mappend\u001b[0m\u001b[0;34m(\u001b[0m\u001b[0mfile\u001b[0m\u001b[0;34m)\u001b[0m\u001b[0;34m\u001b[0m\u001b[0;34m\u001b[0m\u001b[0m\n\u001b[1;32m     18\u001b[0m \u001b[0;34m\u001b[0m\u001b[0m\n",
      "\u001b[0;32m~/anaconda3/lib/python3.6/site-packages/xarray/backends/api.py\u001b[0m in \u001b[0;36mopen_dataset\u001b[0;34m(filename_or_obj, group, decode_cf, mask_and_scale, decode_times, autoclose, concat_characters, decode_coords, engine, chunks, lock, cache, drop_variables, backend_kwargs, use_cftime)\u001b[0m\n\u001b[1;32m    497\u001b[0m         \u001b[0;32mif\u001b[0m \u001b[0mengine\u001b[0m \u001b[0;34m==\u001b[0m \u001b[0;34m\"netcdf4\"\u001b[0m\u001b[0;34m:\u001b[0m\u001b[0;34m\u001b[0m\u001b[0;34m\u001b[0m\u001b[0m\n\u001b[1;32m    498\u001b[0m             store = backends.NetCDF4DataStore.open(\n\u001b[0;32m--> 499\u001b[0;31m                 \u001b[0mfilename_or_obj\u001b[0m\u001b[0;34m,\u001b[0m \u001b[0mgroup\u001b[0m\u001b[0;34m=\u001b[0m\u001b[0mgroup\u001b[0m\u001b[0;34m,\u001b[0m \u001b[0mlock\u001b[0m\u001b[0;34m=\u001b[0m\u001b[0mlock\u001b[0m\u001b[0;34m,\u001b[0m \u001b[0;34m**\u001b[0m\u001b[0mbackend_kwargs\u001b[0m\u001b[0;34m\u001b[0m\u001b[0;34m\u001b[0m\u001b[0m\n\u001b[0m\u001b[1;32m    500\u001b[0m             )\n\u001b[1;32m    501\u001b[0m         \u001b[0;32melif\u001b[0m \u001b[0mengine\u001b[0m \u001b[0;34m==\u001b[0m \u001b[0;34m\"scipy\"\u001b[0m\u001b[0;34m:\u001b[0m\u001b[0;34m\u001b[0m\u001b[0;34m\u001b[0m\u001b[0m\n",
      "\u001b[0;32m~/anaconda3/lib/python3.6/site-packages/xarray/backends/netCDF4_.py\u001b[0m in \u001b[0;36mopen\u001b[0;34m(cls, filename, mode, format, group, clobber, diskless, persist, lock, lock_maker, autoclose)\u001b[0m\n\u001b[1;32m    387\u001b[0m             \u001b[0mnetCDF4\u001b[0m\u001b[0;34m.\u001b[0m\u001b[0mDataset\u001b[0m\u001b[0;34m,\u001b[0m \u001b[0mfilename\u001b[0m\u001b[0;34m,\u001b[0m \u001b[0mmode\u001b[0m\u001b[0;34m=\u001b[0m\u001b[0mmode\u001b[0m\u001b[0;34m,\u001b[0m \u001b[0mkwargs\u001b[0m\u001b[0;34m=\u001b[0m\u001b[0mkwargs\u001b[0m\u001b[0;34m\u001b[0m\u001b[0;34m\u001b[0m\u001b[0m\n\u001b[1;32m    388\u001b[0m         )\n\u001b[0;32m--> 389\u001b[0;31m         \u001b[0;32mreturn\u001b[0m \u001b[0mcls\u001b[0m\u001b[0;34m(\u001b[0m\u001b[0mmanager\u001b[0m\u001b[0;34m,\u001b[0m \u001b[0mgroup\u001b[0m\u001b[0;34m=\u001b[0m\u001b[0mgroup\u001b[0m\u001b[0;34m,\u001b[0m \u001b[0mmode\u001b[0m\u001b[0;34m=\u001b[0m\u001b[0mmode\u001b[0m\u001b[0;34m,\u001b[0m \u001b[0mlock\u001b[0m\u001b[0;34m=\u001b[0m\u001b[0mlock\u001b[0m\u001b[0;34m,\u001b[0m \u001b[0mautoclose\u001b[0m\u001b[0;34m=\u001b[0m\u001b[0mautoclose\u001b[0m\u001b[0;34m)\u001b[0m\u001b[0;34m\u001b[0m\u001b[0;34m\u001b[0m\u001b[0m\n\u001b[0m\u001b[1;32m    390\u001b[0m \u001b[0;34m\u001b[0m\u001b[0m\n\u001b[1;32m    391\u001b[0m     \u001b[0;32mdef\u001b[0m \u001b[0m_acquire\u001b[0m\u001b[0;34m(\u001b[0m\u001b[0mself\u001b[0m\u001b[0;34m,\u001b[0m \u001b[0mneeds_lock\u001b[0m\u001b[0;34m=\u001b[0m\u001b[0;32mTrue\u001b[0m\u001b[0;34m)\u001b[0m\u001b[0;34m:\u001b[0m\u001b[0;34m\u001b[0m\u001b[0;34m\u001b[0m\u001b[0m\n",
      "\u001b[0;32m~/anaconda3/lib/python3.6/site-packages/xarray/backends/netCDF4_.py\u001b[0m in \u001b[0;36m__init__\u001b[0;34m(self, manager, group, mode, lock, autoclose)\u001b[0m\n\u001b[1;32m    333\u001b[0m         \u001b[0mself\u001b[0m\u001b[0;34m.\u001b[0m\u001b[0m_group\u001b[0m \u001b[0;34m=\u001b[0m \u001b[0mgroup\u001b[0m\u001b[0;34m\u001b[0m\u001b[0;34m\u001b[0m\u001b[0m\n\u001b[1;32m    334\u001b[0m         \u001b[0mself\u001b[0m\u001b[0;34m.\u001b[0m\u001b[0m_mode\u001b[0m \u001b[0;34m=\u001b[0m \u001b[0mmode\u001b[0m\u001b[0;34m\u001b[0m\u001b[0;34m\u001b[0m\u001b[0m\n\u001b[0;32m--> 335\u001b[0;31m         \u001b[0mself\u001b[0m\u001b[0;34m.\u001b[0m\u001b[0mformat\u001b[0m \u001b[0;34m=\u001b[0m \u001b[0mself\u001b[0m\u001b[0;34m.\u001b[0m\u001b[0mds\u001b[0m\u001b[0;34m.\u001b[0m\u001b[0mdata_model\u001b[0m\u001b[0;34m\u001b[0m\u001b[0;34m\u001b[0m\u001b[0m\n\u001b[0m\u001b[1;32m    336\u001b[0m         \u001b[0mself\u001b[0m\u001b[0;34m.\u001b[0m\u001b[0m_filename\u001b[0m \u001b[0;34m=\u001b[0m \u001b[0mself\u001b[0m\u001b[0;34m.\u001b[0m\u001b[0mds\u001b[0m\u001b[0;34m.\u001b[0m\u001b[0mfilepath\u001b[0m\u001b[0;34m(\u001b[0m\u001b[0;34m)\u001b[0m\u001b[0;34m\u001b[0m\u001b[0;34m\u001b[0m\u001b[0m\n\u001b[1;32m    337\u001b[0m         \u001b[0mself\u001b[0m\u001b[0;34m.\u001b[0m\u001b[0mis_remote\u001b[0m \u001b[0;34m=\u001b[0m \u001b[0mis_remote_uri\u001b[0m\u001b[0;34m(\u001b[0m\u001b[0mself\u001b[0m\u001b[0;34m.\u001b[0m\u001b[0m_filename\u001b[0m\u001b[0;34m)\u001b[0m\u001b[0;34m\u001b[0m\u001b[0;34m\u001b[0m\u001b[0m\n",
      "\u001b[0;32m~/anaconda3/lib/python3.6/site-packages/xarray/backends/netCDF4_.py\u001b[0m in \u001b[0;36mds\u001b[0;34m(self)\u001b[0m\n\u001b[1;32m    396\u001b[0m     \u001b[0;34m@\u001b[0m\u001b[0mproperty\u001b[0m\u001b[0;34m\u001b[0m\u001b[0;34m\u001b[0m\u001b[0m\n\u001b[1;32m    397\u001b[0m     \u001b[0;32mdef\u001b[0m \u001b[0mds\u001b[0m\u001b[0;34m(\u001b[0m\u001b[0mself\u001b[0m\u001b[0;34m)\u001b[0m\u001b[0;34m:\u001b[0m\u001b[0;34m\u001b[0m\u001b[0;34m\u001b[0m\u001b[0m\n\u001b[0;32m--> 398\u001b[0;31m         \u001b[0;32mreturn\u001b[0m \u001b[0mself\u001b[0m\u001b[0;34m.\u001b[0m\u001b[0m_acquire\u001b[0m\u001b[0;34m(\u001b[0m\u001b[0;34m)\u001b[0m\u001b[0;34m\u001b[0m\u001b[0;34m\u001b[0m\u001b[0m\n\u001b[0m\u001b[1;32m    399\u001b[0m \u001b[0;34m\u001b[0m\u001b[0m\n\u001b[1;32m    400\u001b[0m     \u001b[0;32mdef\u001b[0m \u001b[0mopen_store_variable\u001b[0m\u001b[0;34m(\u001b[0m\u001b[0mself\u001b[0m\u001b[0;34m,\u001b[0m \u001b[0mname\u001b[0m\u001b[0;34m,\u001b[0m \u001b[0mvar\u001b[0m\u001b[0;34m)\u001b[0m\u001b[0;34m:\u001b[0m\u001b[0;34m\u001b[0m\u001b[0;34m\u001b[0m\u001b[0m\n",
      "\u001b[0;32m~/anaconda3/lib/python3.6/site-packages/xarray/backends/netCDF4_.py\u001b[0m in \u001b[0;36m_acquire\u001b[0;34m(self, needs_lock)\u001b[0m\n\u001b[1;32m    390\u001b[0m \u001b[0;34m\u001b[0m\u001b[0m\n\u001b[1;32m    391\u001b[0m     \u001b[0;32mdef\u001b[0m \u001b[0m_acquire\u001b[0m\u001b[0;34m(\u001b[0m\u001b[0mself\u001b[0m\u001b[0;34m,\u001b[0m \u001b[0mneeds_lock\u001b[0m\u001b[0;34m=\u001b[0m\u001b[0;32mTrue\u001b[0m\u001b[0;34m)\u001b[0m\u001b[0;34m:\u001b[0m\u001b[0;34m\u001b[0m\u001b[0;34m\u001b[0m\u001b[0m\n\u001b[0;32m--> 392\u001b[0;31m         \u001b[0;32mwith\u001b[0m \u001b[0mself\u001b[0m\u001b[0;34m.\u001b[0m\u001b[0m_manager\u001b[0m\u001b[0;34m.\u001b[0m\u001b[0macquire_context\u001b[0m\u001b[0;34m(\u001b[0m\u001b[0mneeds_lock\u001b[0m\u001b[0;34m)\u001b[0m \u001b[0;32mas\u001b[0m \u001b[0mroot\u001b[0m\u001b[0;34m:\u001b[0m\u001b[0;34m\u001b[0m\u001b[0;34m\u001b[0m\u001b[0m\n\u001b[0m\u001b[1;32m    393\u001b[0m             \u001b[0mds\u001b[0m \u001b[0;34m=\u001b[0m \u001b[0m_nc4_require_group\u001b[0m\u001b[0;34m(\u001b[0m\u001b[0mroot\u001b[0m\u001b[0;34m,\u001b[0m \u001b[0mself\u001b[0m\u001b[0;34m.\u001b[0m\u001b[0m_group\u001b[0m\u001b[0;34m,\u001b[0m \u001b[0mself\u001b[0m\u001b[0;34m.\u001b[0m\u001b[0m_mode\u001b[0m\u001b[0;34m)\u001b[0m\u001b[0;34m\u001b[0m\u001b[0;34m\u001b[0m\u001b[0m\n\u001b[1;32m    394\u001b[0m         \u001b[0;32mreturn\u001b[0m \u001b[0mds\u001b[0m\u001b[0;34m\u001b[0m\u001b[0;34m\u001b[0m\u001b[0m\n",
      "\u001b[0;32m~/anaconda3/lib/python3.6/contextlib.py\u001b[0m in \u001b[0;36m__enter__\u001b[0;34m(self)\u001b[0m\n\u001b[1;32m     79\u001b[0m     \u001b[0;32mdef\u001b[0m \u001b[0m__enter__\u001b[0m\u001b[0;34m(\u001b[0m\u001b[0mself\u001b[0m\u001b[0;34m)\u001b[0m\u001b[0;34m:\u001b[0m\u001b[0;34m\u001b[0m\u001b[0;34m\u001b[0m\u001b[0m\n\u001b[1;32m     80\u001b[0m         \u001b[0;32mtry\u001b[0m\u001b[0;34m:\u001b[0m\u001b[0;34m\u001b[0m\u001b[0;34m\u001b[0m\u001b[0m\n\u001b[0;32m---> 81\u001b[0;31m             \u001b[0;32mreturn\u001b[0m \u001b[0mnext\u001b[0m\u001b[0;34m(\u001b[0m\u001b[0mself\u001b[0m\u001b[0;34m.\u001b[0m\u001b[0mgen\u001b[0m\u001b[0;34m)\u001b[0m\u001b[0;34m\u001b[0m\u001b[0;34m\u001b[0m\u001b[0m\n\u001b[0m\u001b[1;32m     82\u001b[0m         \u001b[0;32mexcept\u001b[0m \u001b[0mStopIteration\u001b[0m\u001b[0;34m:\u001b[0m\u001b[0;34m\u001b[0m\u001b[0;34m\u001b[0m\u001b[0m\n\u001b[1;32m     83\u001b[0m             \u001b[0;32mraise\u001b[0m \u001b[0mRuntimeError\u001b[0m\u001b[0;34m(\u001b[0m\u001b[0;34m\"generator didn't yield\"\u001b[0m\u001b[0;34m)\u001b[0m \u001b[0;32mfrom\u001b[0m \u001b[0;32mNone\u001b[0m\u001b[0;34m\u001b[0m\u001b[0;34m\u001b[0m\u001b[0m\n",
      "\u001b[0;32m~/anaconda3/lib/python3.6/site-packages/xarray/backends/file_manager.py\u001b[0m in \u001b[0;36macquire_context\u001b[0;34m(self, needs_lock)\u001b[0m\n\u001b[1;32m    181\u001b[0m     \u001b[0;32mdef\u001b[0m \u001b[0macquire_context\u001b[0m\u001b[0;34m(\u001b[0m\u001b[0mself\u001b[0m\u001b[0;34m,\u001b[0m \u001b[0mneeds_lock\u001b[0m\u001b[0;34m=\u001b[0m\u001b[0;32mTrue\u001b[0m\u001b[0;34m)\u001b[0m\u001b[0;34m:\u001b[0m\u001b[0;34m\u001b[0m\u001b[0;34m\u001b[0m\u001b[0m\n\u001b[1;32m    182\u001b[0m         \u001b[0;34m\"\"\"Context manager for acquiring a file.\"\"\"\u001b[0m\u001b[0;34m\u001b[0m\u001b[0;34m\u001b[0m\u001b[0m\n\u001b[0;32m--> 183\u001b[0;31m         \u001b[0mfile\u001b[0m\u001b[0;34m,\u001b[0m \u001b[0mcached\u001b[0m \u001b[0;34m=\u001b[0m \u001b[0mself\u001b[0m\u001b[0;34m.\u001b[0m\u001b[0m_acquire_with_cache_info\u001b[0m\u001b[0;34m(\u001b[0m\u001b[0mneeds_lock\u001b[0m\u001b[0;34m)\u001b[0m\u001b[0;34m\u001b[0m\u001b[0;34m\u001b[0m\u001b[0m\n\u001b[0m\u001b[1;32m    184\u001b[0m         \u001b[0;32mtry\u001b[0m\u001b[0;34m:\u001b[0m\u001b[0;34m\u001b[0m\u001b[0;34m\u001b[0m\u001b[0m\n\u001b[1;32m    185\u001b[0m             \u001b[0;32myield\u001b[0m \u001b[0mfile\u001b[0m\u001b[0;34m\u001b[0m\u001b[0;34m\u001b[0m\u001b[0m\n",
      "\u001b[0;32m~/anaconda3/lib/python3.6/site-packages/xarray/backends/file_manager.py\u001b[0m in \u001b[0;36m_acquire_with_cache_info\u001b[0;34m(self, needs_lock)\u001b[0m\n\u001b[1;32m    199\u001b[0m                     \u001b[0mkwargs\u001b[0m \u001b[0;34m=\u001b[0m \u001b[0mkwargs\u001b[0m\u001b[0;34m.\u001b[0m\u001b[0mcopy\u001b[0m\u001b[0;34m(\u001b[0m\u001b[0;34m)\u001b[0m\u001b[0;34m\u001b[0m\u001b[0;34m\u001b[0m\u001b[0m\n\u001b[1;32m    200\u001b[0m                     \u001b[0mkwargs\u001b[0m\u001b[0;34m[\u001b[0m\u001b[0;34m\"mode\"\u001b[0m\u001b[0;34m]\u001b[0m \u001b[0;34m=\u001b[0m \u001b[0mself\u001b[0m\u001b[0;34m.\u001b[0m\u001b[0m_mode\u001b[0m\u001b[0;34m\u001b[0m\u001b[0;34m\u001b[0m\u001b[0m\n\u001b[0;32m--> 201\u001b[0;31m                 \u001b[0mfile\u001b[0m \u001b[0;34m=\u001b[0m \u001b[0mself\u001b[0m\u001b[0;34m.\u001b[0m\u001b[0m_opener\u001b[0m\u001b[0;34m(\u001b[0m\u001b[0;34m*\u001b[0m\u001b[0mself\u001b[0m\u001b[0;34m.\u001b[0m\u001b[0m_args\u001b[0m\u001b[0;34m,\u001b[0m \u001b[0;34m**\u001b[0m\u001b[0mkwargs\u001b[0m\u001b[0;34m)\u001b[0m\u001b[0;34m\u001b[0m\u001b[0;34m\u001b[0m\u001b[0m\n\u001b[0m\u001b[1;32m    202\u001b[0m                 \u001b[0;32mif\u001b[0m \u001b[0mself\u001b[0m\u001b[0;34m.\u001b[0m\u001b[0m_mode\u001b[0m \u001b[0;34m==\u001b[0m \u001b[0;34m\"w\"\u001b[0m\u001b[0;34m:\u001b[0m\u001b[0;34m\u001b[0m\u001b[0;34m\u001b[0m\u001b[0m\n\u001b[1;32m    203\u001b[0m                     \u001b[0;31m# ensure file doesn't get overriden when opened again\u001b[0m\u001b[0;34m\u001b[0m\u001b[0;34m\u001b[0m\u001b[0;34m\u001b[0m\u001b[0m\n",
      "\u001b[0;32mnetCDF4/_netCDF4.pyx\u001b[0m in \u001b[0;36mnetCDF4._netCDF4.Dataset.__init__\u001b[0;34m()\u001b[0m\n",
      "\u001b[0;32mnetCDF4/_netCDF4.pyx\u001b[0m in \u001b[0;36mnetCDF4._netCDF4._ensure_nc_success\u001b[0;34m()\u001b[0m\n",
      "\u001b[0;31mFileNotFoundError\u001b[0m: [Errno 2] No such file or directory: b'/home/lindsay/hioekg-2014/hioekg_his_surface_05115.nc'"
     ]
    }
   ],
   "source": [
    "# Reset the working directory before running the loops\n",
    "%pwd\n",
    "%cd /home/lindsay/hioekg-2014/\n",
    "\n",
    "# Add master list for the files collected by this first nested loop and group lists\n",
    "file_list = []\n",
    "nsmz=[]\n",
    "nmdz=[]\n",
    "nlgz=[]\n",
    "nsm=[]\n",
    "nlg=[]\n",
    "\n",
    "for i in range(0,12):\n",
    "        folder = '/home/lindsay/hioekg-2014/'\n",
    "        os.chdir(folder)\n",
    "        file = xr.open_dataset('hioekg_his_surface_0' + str(day_2014[i]) + '.nc')\n",
    "        file_list.append(file)      \n",
    "\n",
    "for item in file_list: \n",
    "# nsmz: Small zooplankton\n",
    "    dat = item.nsmz\n",
    "    dat_numpy = dat.values\n",
    "    dat_numpy=dat_numpy[~np.isnan(dat_numpy)]\n",
    "    nsmz.append(dat_numpy)\n",
    "# nmdz: Medium zooplankton\n",
    "    dat = item.nmdz\n",
    "    dat_numpy = dat.values\n",
    "    dat_numpy=dat_numpy[~np.isnan(dat_numpy)]\n",
    "    nmdz.append(dat_numpy)\n",
    "# nlgz: Large zooplankton\n",
    "    dat = item.nlgz\n",
    "    dat_numpy = dat.values\n",
    "    dat_numpy=dat_numpy[~np.isnan(dat_numpy)]\n",
    "    nlgz.append(dat_numpy)\n",
    "# nsm: Small phytoplankton\n",
    "    dat = item.nsm\n",
    "    dat_numpy = dat.values\n",
    "    dat_numpy=dat_numpy[~np.isnan(dat_numpy)]\n",
    "    nsm.append(dat_numpy)\n",
    "# nlg: Large phytoplankton\n",
    "    dat = item.nlg\n",
    "    dat_numpy = dat.values\n",
    "    dat_numpy=dat_numpy[~np.isnan(dat_numpy)]\n",
    "    nlg.append(dat_numpy)"
   ]
  },
  {
   "cell_type": "code",
   "execution_count": 47,
   "metadata": {},
   "outputs": [],
   "source": [
    "# Creating 12-unit date list and month list, 2-unit timestamp list, and empty list to store organized values:\n",
    "date = ['2014-01-01','2014-02-01','2014-03-01','2014-04-01','2014-05-01',\n",
    "        '2014-06-01','2014-07-01','2014-08-01','2014-09-01','2014-10-01',\n",
    "        '2014-11-01','2014-12-01']\n",
    "month=['Jan','Feb','Mar','Apr','May','Jun','Jul','Aug','Sep','Oct','Nov','Dec']\n",
    "timestamp=['00:00','12:00']\n",
    "\n",
    "# Store my dfs separately for my own benefit in error reduction\n",
    "list_for_dataframe_nsmz_2014=[]\n",
    "list_for_dataframe_nmdz_2014=[]\n",
    "list_for_dataframe_nlgz_2014=[]\n",
    "list_for_dataframe_nsm_2014=[]\n",
    "list_for_dataframe_nlg_2014=[]"
   ]
  },
  {
   "cell_type": "markdown",
   "metadata": {},
   "source": [
    "#### nsmz (2014)"
   ]
  },
  {
   "cell_type": "code",
   "execution_count": 48,
   "metadata": {},
   "outputs": [
    {
     "name": "stdout",
     "output_type": "stream",
     "text": [
      "/home/lindsay/hioekg-2014\n",
      "77808\n",
      "/home/lindsay/hioekg-compare-years\n"
     ]
    }
   ],
   "source": [
    "%cd /home/lindsay/hioekg-2014\n",
    "\n",
    "# Iterating sequentially (i) through each array (element) in the list of arrays (selection)\n",
    "for i,element in enumerate(nsmz):\n",
    "    element = element[0:604560]\n",
    "    this_date = date[i] # each array i is assigned date i\n",
    "    this_month = month[i] # each array i is assigned month i\n",
    "    for sub_element in element:\n",
    "        list_for_dataframe_nsmz_2014.append(\n",
    "            {'month': this_month, 'date': this_date, 'concentration': sub_element})\n",
    "\n",
    "nsmz_df_2014 = pd.DataFrame(list_for_dataframe_nsmz_2014)\n",
    "\n",
    "# Add group identifier and year column\n",
    "nsmz_df_2014['group']='nsmz'\n",
    "nsmz_df_2014['year']=2014\n",
    "\n",
    "# Add timestamp:\n",
    "timestamp = ['00:00','12:00'] * 3627360 # one half the length of the df\n",
    "nsmz_df_2014['timestamp']= timestamp\n",
    "print(len(nsmz_df_2014))\n",
    "\n",
    "%cd /home/lindsay/hioekg-compare-years/\n",
    "pd.DataFrame.to_csv(nsmz_df_2014,'nsmz_semidaily_df_2014.csv')\n",
    "nsmz_df_2014.head()"
   ]
  },
  {
   "cell_type": "markdown",
   "metadata": {},
   "source": [
    "#### nmdz (2014)"
   ]
  },
  {
   "cell_type": "code",
   "execution_count": 49,
   "metadata": {},
   "outputs": [
    {
     "name": "stdout",
     "output_type": "stream",
     "text": [
      "/home/lindsay/hioekg-2014\n",
      "77808\n",
      "/home/lindsay/hioekg-compare-years\n"
     ]
    }
   ],
   "source": [
    "%cd /home/lindsay/hioekg-2014\n",
    "\n",
    "# Iterating sequentially (i) through each array (element) in the list of arrays (selection)\n",
    "for i,element in enumerate(nmdz):\n",
    "    element = element[0:604560]\n",
    "    this_date = date[i] # each array i is assigned date i\n",
    "    this_month = month[i] # each array i is assigned month i\n",
    "    for sub_element in element:\n",
    "        list_for_dataframe_nmdz_2014.append(\n",
    "            {'month': this_month, 'date': this_date, 'concentration': sub_element})\n",
    "\n",
    "nmdz_df_2014 = pd.DataFrame(list_for_dataframe_nmdz_2014)\n",
    "\n",
    "# Add group identifier and year column\n",
    "nmdz_df_2014['group']='nmdz'\n",
    "nmdz_df_2014['year']=2014\n",
    "\n",
    "# Add timestamp:\n",
    "timestamp = ['00:00','12:00'] * 3627360 # one half the length of the df\n",
    "nmdz_df_2014['timestamp']= timestamp\n",
    "print(len(nmdz_df_2014))\n",
    "\n",
    "%cd /home/lindsay/hioekg-compare-years/\n",
    "pd.DataFrame.to_csv(nmdz_df_2014,'nmdz_semidaily_df_2014.csv')\n",
    "nmdz_df_2014.head()"
   ]
  },
  {
   "cell_type": "markdown",
   "metadata": {},
   "source": [
    "#### nlgz (2014)"
   ]
  },
  {
   "cell_type": "code",
   "execution_count": 50,
   "metadata": {},
   "outputs": [
    {
     "name": "stdout",
     "output_type": "stream",
     "text": [
      "/home/lindsay/hioekg-2014\n",
      "77808\n",
      "/home/lindsay/hioekg-compare-years\n"
     ]
    }
   ],
   "source": [
    "%cd /home/lindsay/hioekg-2014\n",
    "\n",
    "# Iterating sequentially (i) through each array (element) in the list of arrays (selection)\n",
    "for i,element in enumerate(nlgz):\n",
    "    element = element[0:604560]\n",
    "    this_date = date[i] # each array i is assigned date i\n",
    "    this_month = month[i] # each array i is assigned month i\n",
    "    for sub_element in element:\n",
    "        list_for_dataframe_nlgz_2014.append(\n",
    "            {'month': this_month, 'date': this_date, 'concentration': sub_element})\n",
    "\n",
    "nlgz_df_2014 = pd.DataFrame(list_for_dataframe_nlgz_2014)\n",
    "\n",
    "# Add group identifier and year column\n",
    "nlgz_df_2014['group']='nlgz'\n",
    "nlgz_df_2014['year']=2014\n",
    "\n",
    "# Add timestamp:\n",
    "timestamp = ['00:00','12:00'] * 3627360 # one half the length of the df\n",
    "nlgz_df_2014['timestamp']= timestamp\n",
    "print(len(nlgz_df_2014))\n",
    "\n",
    "%cd /home/lindsay/hioekg-compare-years/\n",
    "pd.DataFrame.to_csv(nlgz_df_2014,'nlgz_semidaily_df_2014.csv')\n",
    "nlgz_df_2014.head()"
   ]
  },
  {
   "cell_type": "markdown",
   "metadata": {},
   "source": [
    "#### nsm (2014)"
   ]
  },
  {
   "cell_type": "code",
   "execution_count": 51,
   "metadata": {},
   "outputs": [
    {
     "name": "stdout",
     "output_type": "stream",
     "text": [
      "/home/lindsay/hioekg-2014\n",
      "77808\n",
      "/home/lindsay/hioekg-compare-years\n"
     ]
    }
   ],
   "source": [
    "%cd /home/lindsay/hioekg-2014\n",
    "\n",
    "# Iterating sequentially (i) through each array (element) in the list of arrays (selection)\n",
    "for i,element in enumerate(nsm):\n",
    "    element = element[0:604560]\n",
    "    this_date = date[i] # each array i is assigned date i\n",
    "    this_month = month[i] # each array i is assigned month i\n",
    "    for sub_element in element:\n",
    "        list_for_dataframe_nsm_2014.append(\n",
    "            {'month': this_month, 'date': this_date, 'concentration': sub_element})\n",
    "\n",
    "nsm_df_2014 = pd.DataFrame(list_for_dataframe_nsm_2014)\n",
    "\n",
    "# Add group identifier and year column\n",
    "nsm_df_2014['group']='nsm'\n",
    "nsm_df_2014['year']=2014\n",
    "\n",
    "# Add timestamp:\n",
    "timestamp = ['00:00','12:00'] * 3627360 # one half the length of the df\n",
    "nsm_df_2014['timestamp']= timestamp\n",
    "print(len(nsm_df_2014))\n",
    "\n",
    "%cd /home/lindsay/hioekg-compare-years/\n",
    "pd.DataFrame.to_csv(nsm_df_2014,'nsm_semidaily_df_2014.csv')\n",
    "nsm_df_2014.head()"
   ]
  },
  {
   "cell_type": "markdown",
   "metadata": {},
   "source": [
    "#### nlg (2014)"
   ]
  },
  {
   "cell_type": "code",
   "execution_count": 52,
   "metadata": {},
   "outputs": [
    {
     "name": "stdout",
     "output_type": "stream",
     "text": [
      "/home/lindsay/hioekg-2014\n",
      "77808\n",
      "/home/lindsay/hioekg-compare-years\n"
     ]
    }
   ],
   "source": [
    "%cd /home/lindsay/hioekg-2014\n",
    "\n",
    "# Iterating sequentially (i) through each array (element) in the list of arrays (selection)\n",
    "for i,element in enumerate(nlg):\n",
    "    element = element[0:604560]\n",
    "    this_date = date[i] # each array i is assigned date i\n",
    "    this_month = month[i] # each array i is assigned month i\n",
    "    for sub_element in element:\n",
    "        list_for_dataframe_nlg_2014.append(\n",
    "            {'month': this_month, 'date': this_date, 'concentration': sub_element})\n",
    "\n",
    "nlg_df_2014 = pd.DataFrame(list_for_dataframe_nlg_2014)\n",
    "\n",
    "# Add group identifier and year column\n",
    "nlg_df_2014['group']='nlg'\n",
    "nlg_df_2014['year']=2014\n",
    "\n",
    "# Add timestamp:\n",
    "timestamp = ['00:00','12:00'] * 3627360 # one half the length of the df\n",
    "nlg_df_2014['timestamp']= timestamp\n",
    "print(len(nlg_df_2014))\n",
    "\n",
    "%cd /home/lindsay/hioekg-compare-years/\n",
    "pd.DataFrame.to_csv(nlg_df_2014,'nlg_semidaily_df_2014.csv')\n",
    "nlg_df_2014.head()"
   ]
  },
  {
   "cell_type": "markdown",
   "metadata": {},
   "source": [
    "### Time series analyses\n",
    "Testing for Granger causality and building an ARIMA model.\n",
    "\n",
    "**References**: \n",
    "- https://stats.stackexchange.com/questions/160278/testing-for-granger-causality\n",
    "- https://www.statsmodels.org/stable/generated/statsmodels.tsa.stattools.grangercausalitytests.html\n",
    "- https://www.machinelearningplus.com/time-series/time-series-analysis-python/\n",
    "- https://towardsdatascience.com/machine-learning-part-19-time-series-and-autoregressive-integrated-moving-average-model-arima-c1005347b0d7\n"
   ]
  },
  {
   "cell_type": "markdown",
   "metadata": {},
   "source": [
    "I first need to ensure that my timeseries are stationary.\n",
    "\n",
    "#### Reload CSVs"
   ]
  },
  {
   "cell_type": "code",
   "execution_count": null,
   "metadata": {},
   "outputs": [],
   "source": [
    "%cd /home/lindsay/hioekg-compare-years/\n",
    "\n",
    "nsmz_df_2013=pd.read_csv('nsmz_semidaily_df_2013.csv', parse_dates = ['month'], index_col = ['month'])\n",
    "nmdz_df_2013=pd.read_csv('nmdz_semidaily_df_2013.csv', parse_dates = ['month'], index_col = ['month'])\n",
    "nlgz_df_2013=pd.read_csv('nlgz_semidaily_df_2013.csv', parse_dates = ['month'], index_col = ['month'])\n",
    "nsm_df_2013=pd.read_csv('nsm_semidaily_df_2013.csv', parse_dates = ['month'], index_col = ['month'])\n",
    "nlg_df_2013=pd.read_csv('nlg_semidaily_df_2013.csv', parse_dates = ['month'], index_col = ['month'])\n",
    "\n",
    "nsmz_df_2014=pd.read_csv('nsmz_semidaily_df_2014.csv', parse_dates = ['month'], index_col = ['month'])\n",
    "nmdz_df_2014=pd.read_csv('nmdz_semidaily_df_2014.csv', parse_dates = ['month'], index_col = ['month'])\n",
    "nlgz_df_2014=pd.read_csv('nlgz_semidaily_df_2014.csv', parse_dates = ['month'], index_col = ['month'])\n",
    "nsm_df_2014=pd.read_csv('nsm_semidaily_df_2014.csv', parse_dates = ['month'], index_col = ['month'])\n",
    "nlg_df_2014=pd.read_csv('nlg_semidaily_df_2014.csv', parse_dates = ['month'], index_col = ['month'])"
   ]
  },
  {
   "cell_type": "markdown",
   "metadata": {},
   "source": [
    "I need to de-season the data and then test for stationarity to ensure that my ARIMA is valid."
   ]
  },
  {
   "cell_type": "code",
   "execution_count": null,
   "metadata": {},
   "outputs": [],
   "source": []
  }
 ],
 "metadata": {
  "kernelspec": {
   "display_name": "Python 3",
   "language": "python",
   "name": "python3"
  },
  "language_info": {
   "codemirror_mode": {
    "name": "ipython",
    "version": 3
   },
   "file_extension": ".py",
   "mimetype": "text/x-python",
   "name": "python",
   "nbconvert_exporter": "python",
   "pygments_lexer": "ipython3",
   "version": "3.6.9"
  }
 },
 "nbformat": 4,
 "nbformat_minor": 2
}
