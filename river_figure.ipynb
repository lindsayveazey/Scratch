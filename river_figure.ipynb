{
 "cells": [
  {
   "cell_type": "markdown",
   "metadata": {},
   "source": [
    "## River figure(s): cumulative flow, weekly or bi-monthly flow\n",
    "\n",
    "#### Import modules and files"
   ]
  },
  {
   "cell_type": "code",
   "execution_count": 2,
   "metadata": {},
   "outputs": [],
   "source": [
    "import numpy as np\n",
    "import pandas as pd\n",
    "from pathlib import Path\n",
    "import os\n",
    "import seaborn as sns\n",
    "import matplotlib.pyplot as plt"
   ]
  },
  {
   "cell_type": "code",
   "execution_count": 60,
   "metadata": {},
   "outputs": [
    {
     "name": "stdout",
     "output_type": "stream",
     "text": [
      "/home/lindsay\n"
     ]
    }
   ],
   "source": [
    "%cd '/home/lindsay/'\n",
    "\n",
    "heeia_13 = pd.read_csv('heeia_13.csv', sep='\\t', header=None)\n",
    "heeia_13.columns = ['USGS', 'ID', 'Date', 'Zone', 'Heeia_13', 'A']\n",
    "heeia_13 = pd.DataFrame.drop(heeia_13, columns=['USGS', 'ID', 'Zone', 'A'])\n",
    "heeia_14 = pd.read_csv('heeia_14.csv', sep='\\t', header=None)\n",
    "heeia_14.columns = ['USGS', 'ID', 'Date', 'Zone', 'Heeia_14', 'A']\n",
    "heeia_14 = pd.DataFrame.drop(heeia_14, columns=['USGS', 'ID', 'Zone', 'A'])\n",
    "waiahole_13 = pd.read_csv('waiahole_13.csv', sep='\\t', header=None) \n",
    "waiahole_13.columns = ['USGS', 'ID', 'Date', 'Zone', 'Waiahole_13', 'A']\n",
    "waiahole_13 = pd.DataFrame.drop(waiahole_13, columns=['USGS', 'ID', 'Zone', 'A'])\n",
    "waiahole_14 = pd.read_csv('waiahole_14.csv', sep='\\t', header=None)\n",
    "waiahole_14.columns = ['USGS', 'ID', 'Date', 'Zone', 'Waiahole_14', 'A']\n",
    "waiahole_14 = pd.DataFrame.drop(waiahole_14, columns=['USGS', 'ID', 'Zone', 'A'])\n",
    "waihee_13 = pd.read_csv('waihee_13.csv', sep='\\t', header=None) \n",
    "waihee_13.columns = ['USGS', 'ID', 'Date', 'Zone', 'Waihee_13', 'A']\n",
    "waihee_13 = pd.DataFrame.drop(waihee_13, columns=['USGS', 'ID', 'Zone', 'A'])                                \n",
    "waihee_14 = pd.read_csv('waihee_14.csv', sep='\\t', header=None) \n",
    "waihee_14.columns = ['USGS', 'ID', 'Date', 'Zone', 'Waihee_14', 'A']\n",
    "waihee_14 = pd.DataFrame.drop(waihee_14, columns=['USGS', 'ID', 'Zone', 'A']) \n",
    "waikane_13 = pd.read_csv('waikane_13.csv', sep='\\t', header=None)\n",
    "waikane_13.columns = ['USGS', 'ID', 'Date', 'Zone', 'Waikane_13', 'A']\n",
    "waikane_13 = pd.DataFrame.drop(waikane_13, columns=['USGS', 'ID', 'Zone', 'A']) \n",
    "waikane_14 = pd.read_csv('waikane_14.csv', sep='\\t', header=None) \n",
    "waikane_14.columns = ['USGS', 'ID', 'Date', 'Zone', 'Waikane_14', 'A']\n",
    "waikane_14 = pd.DataFrame.drop(waikane_14, columns=['USGS', 'ID', 'Zone', 'A']) "
   ]
  },
  {
   "cell_type": "markdown",
   "metadata": {},
   "source": [
    "Given the inconsistent data lengths and sporadic missing data, I'm going to merge all CSVs based on the Date column from the 'waiahole_14' CSV, which has the most rows (len = 34661). "
   ]
  },
  {
   "cell_type": "code",
   "execution_count": 82,
   "metadata": {},
   "outputs": [
    {
     "ename": "TypeError",
     "evalue": "concat() got an unexpected keyword argument 'by'",
     "output_type": "error",
     "traceback": [
      "\u001b[0;31m---------------------------------------------------------------------------\u001b[0m",
      "\u001b[0;31mTypeError\u001b[0m                                 Traceback (most recent call last)",
      "\u001b[0;32m<ipython-input-82-c2040294d338>\u001b[0m in \u001b[0;36m<module>\u001b[0;34m\u001b[0m\n\u001b[0;32m----> 1\u001b[0;31m \u001b[0mdf\u001b[0m \u001b[0;34m=\u001b[0m \u001b[0mpd\u001b[0m\u001b[0;34m.\u001b[0m\u001b[0mconcat\u001b[0m\u001b[0;34m(\u001b[0m\u001b[0;34m[\u001b[0m\u001b[0mwaiahole_14\u001b[0m\u001b[0;34m,\u001b[0m \u001b[0mwaiahole_13\u001b[0m\u001b[0;34m]\u001b[0m\u001b[0;34m,\u001b[0m \u001b[0mby\u001b[0m\u001b[0;34m=\u001b[0m\u001b[0;34m[\u001b[0m\u001b[0;34m'Date'\u001b[0m\u001b[0;34m]\u001b[0m\u001b[0;34m)\u001b[0m\u001b[0;34m\u001b[0m\u001b[0;34m\u001b[0m\u001b[0m\n\u001b[0m",
      "\u001b[0;31mTypeError\u001b[0m: concat() got an unexpected keyword argument 'by'"
     ]
    }
   ],
   "source": [
    "df = pd.concat([waiahole_14, waiahole_13], by=['Date'])"
   ]
  },
  {
   "cell_type": "code",
   "execution_count": 80,
   "metadata": {},
   "outputs": [
    {
     "data": {
      "text/html": [
       "<div>\n",
       "<style scoped>\n",
       "    .dataframe tbody tr th:only-of-type {\n",
       "        vertical-align: middle;\n",
       "    }\n",
       "\n",
       "    .dataframe tbody tr th {\n",
       "        vertical-align: top;\n",
       "    }\n",
       "\n",
       "    .dataframe thead th {\n",
       "        text-align: right;\n",
       "    }\n",
       "</style>\n",
       "<table border=\"1\" class=\"dataframe\">\n",
       "  <thead>\n",
       "    <tr style=\"text-align: right;\">\n",
       "      <th></th>\n",
       "      <th>Date</th>\n",
       "      <th>Waiahole_13</th>\n",
       "      <th>Waiahole_14</th>\n",
       "    </tr>\n",
       "  </thead>\n",
       "  <tbody>\n",
       "    <tr>\n",
       "      <th>0</th>\n",
       "      <td>2014-01-02 00:00</td>\n",
       "      <td>NaN</td>\n",
       "      <td>34.7</td>\n",
       "    </tr>\n",
       "    <tr>\n",
       "      <th>1</th>\n",
       "      <td>2014-01-02 00:15</td>\n",
       "      <td>NaN</td>\n",
       "      <td>34.7</td>\n",
       "    </tr>\n",
       "    <tr>\n",
       "      <th>2</th>\n",
       "      <td>2014-01-02 00:30</td>\n",
       "      <td>NaN</td>\n",
       "      <td>34.7</td>\n",
       "    </tr>\n",
       "    <tr>\n",
       "      <th>3</th>\n",
       "      <td>2014-01-02 00:45</td>\n",
       "      <td>NaN</td>\n",
       "      <td>34.7</td>\n",
       "    </tr>\n",
       "    <tr>\n",
       "      <th>4</th>\n",
       "      <td>2014-01-02 01:00</td>\n",
       "      <td>NaN</td>\n",
       "      <td>34.7</td>\n",
       "    </tr>\n",
       "    <tr>\n",
       "      <th>...</th>\n",
       "      <td>...</td>\n",
       "      <td>...</td>\n",
       "      <td>...</td>\n",
       "    </tr>\n",
       "    <tr>\n",
       "      <th>34506</th>\n",
       "      <td>2013-12-28 22:45</td>\n",
       "      <td>37.5</td>\n",
       "      <td>NaN</td>\n",
       "    </tr>\n",
       "    <tr>\n",
       "      <th>34507</th>\n",
       "      <td>2013-12-28 23:00</td>\n",
       "      <td>37.5</td>\n",
       "      <td>NaN</td>\n",
       "    </tr>\n",
       "    <tr>\n",
       "      <th>34508</th>\n",
       "      <td>2013-12-28 23:15</td>\n",
       "      <td>36.6</td>\n",
       "      <td>NaN</td>\n",
       "    </tr>\n",
       "    <tr>\n",
       "      <th>34509</th>\n",
       "      <td>2013-12-28 23:30</td>\n",
       "      <td>37.5</td>\n",
       "      <td>NaN</td>\n",
       "    </tr>\n",
       "    <tr>\n",
       "      <th>34510</th>\n",
       "      <td>2013-12-28 23:45</td>\n",
       "      <td>36.6</td>\n",
       "      <td>NaN</td>\n",
       "    </tr>\n",
       "  </tbody>\n",
       "</table>\n",
       "<p>69225 rows × 3 columns</p>\n",
       "</div>"
      ],
      "text/plain": [
       "                   Date  Waiahole_13  Waiahole_14\n",
       "0      2014-01-02 00:00          NaN         34.7\n",
       "1      2014-01-02 00:15          NaN         34.7\n",
       "2      2014-01-02 00:30          NaN         34.7\n",
       "3      2014-01-02 00:45          NaN         34.7\n",
       "4      2014-01-02 01:00          NaN         34.7\n",
       "...                 ...          ...          ...\n",
       "34506  2013-12-28 22:45         37.5          NaN\n",
       "34507  2013-12-28 23:00         37.5          NaN\n",
       "34508  2013-12-28 23:15         36.6          NaN\n",
       "34509  2013-12-28 23:30         37.5          NaN\n",
       "34510  2013-12-28 23:45         36.6          NaN\n",
       "\n",
       "[69225 rows x 3 columns]"
      ]
     },
     "execution_count": 80,
     "metadata": {},
     "output_type": "execute_result"
    }
   ],
   "source": [
    "df"
   ]
  }
 ],
 "metadata": {
  "kernelspec": {
   "display_name": "Python 3",
   "language": "python",
   "name": "python3"
  },
  "language_info": {
   "codemirror_mode": {
    "name": "ipython",
    "version": 3
   },
   "file_extension": ".py",
   "mimetype": "text/x-python",
   "name": "python",
   "nbconvert_exporter": "python",
   "pygments_lexer": "ipython3",
   "version": "3.6.9"
  }
 },
 "nbformat": 4,
 "nbformat_minor": 2
}
