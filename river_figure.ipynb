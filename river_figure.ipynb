{
 "cells": [
  {
   "cell_type": "markdown",
   "metadata": {},
   "source": [
    "## River figure(s): cumulative flow, weekly or bi-monthly flow\n",
    "\n",
    "### Import modules and files"
   ]
  },
  {
   "cell_type": "code",
   "execution_count": 339,
   "metadata": {},
   "outputs": [],
   "source": [
    "import numpy as np\n",
    "import pandas as pd\n",
    "from pathlib import Path\n",
    "import os\n",
    "import seaborn as sns\n",
    "import matplotlib\n",
    "import matplotlib.pyplot as plt\n",
    "import datetime\n",
    "import plotly.express as px\n",
    "import plotly.graph_objects as go\n",
    "from dateutil import rrule, parser"
   ]
  },
  {
   "cell_type": "code",
   "execution_count": 265,
   "metadata": {},
   "outputs": [
    {
     "name": "stdout",
     "output_type": "stream",
     "text": [
      "/home/lindsay\n"
     ]
    }
   ],
   "source": [
    "%cd '/home/lindsay/'\n",
    "\n",
    "heeia_13 = pd.read_csv('heeia_13.csv', sep='\\t', header=None)\n",
    "heeia_13.columns = ['USGS', 'ID', 'Date', 'Zone', 'Heeia', 'A']\n",
    "heeia_13 = pd.DataFrame.drop(heeia_13, columns=['USGS', 'ID', 'Zone', 'A'])\n",
    "heeia_14 = pd.read_csv('heeia_14.csv', sep='\\t', header=None)\n",
    "heeia_14.columns = ['USGS', 'ID', 'Date', 'Zone', 'Heeia', 'A']\n",
    "heeia_14 = pd.DataFrame.drop(heeia_14, columns=['USGS', 'ID', 'Zone', 'A'])\n",
    "waiahole_13 = pd.read_csv('waiahole_13.csv', sep='\\t', header=None) \n",
    "waiahole_13.columns = ['USGS', 'ID', 'Date', 'Zone', 'Waiahole', 'A']\n",
    "waiahole_13 = pd.DataFrame.drop(waiahole_13, columns=['USGS', 'ID', 'Zone', 'A'])\n",
    "waiahole_14 = pd.read_csv('waiahole_14.csv', sep='\\t', header=None)\n",
    "waiahole_14.columns = ['USGS', 'ID', 'Date', 'Zone', 'Waiahole', 'A']\n",
    "waiahole_14 = pd.DataFrame.drop(waiahole_14, columns=['USGS', 'ID', 'Zone', 'A'])\n",
    "waihee_13 = pd.read_csv('waihee_13.csv', sep='\\t', header=None) \n",
    "waihee_13.columns = ['USGS', 'ID', 'Date', 'Zone', 'Waihee', 'A']\n",
    "waihee_13 = pd.DataFrame.drop(waihee_13, columns=['USGS', 'ID', 'Zone', 'A'])                                \n",
    "waihee_14 = pd.read_csv('waihee_14.csv', sep='\\t', header=None) \n",
    "waihee_14.columns = ['USGS', 'ID', 'Date', 'Zone', 'Waihee', 'A']\n",
    "waihee_14 = pd.DataFrame.drop(waihee_14, columns=['USGS', 'ID', 'Zone', 'A']) \n",
    "waikane_13 = pd.read_csv('waikane_13.csv', sep='\\t', header=None)\n",
    "waikane_13.columns = ['USGS', 'ID', 'Date', 'Zone', 'Waikane', 'A']\n",
    "waikane_13 = pd.DataFrame.drop(waikane_13, columns=['USGS', 'ID', 'Zone', 'A']) \n",
    "waikane_14 = pd.read_csv('waikane_14.csv', sep='\\t', header=None) \n",
    "waikane_14.columns = ['USGS', 'ID', 'Date', 'Zone', 'Waikane', 'A']\n",
    "waikane_14 = pd.DataFrame.drop(waikane_14, columns=['USGS', 'ID', 'Zone', 'A']) "
   ]
  },
  {
   "cell_type": "markdown",
   "metadata": {},
   "source": [
    "### Data cleaning\n",
    "\n",
    "Given the inconsistent data lengths and sporadic missing data, I'm going to start by merging all CSVs based on the Date column.\n",
    "\n",
    "Next, I'll separate the timestamps from the dates, then resample to mean daily values, calculate cumulative running sums, and finally, resample to mean weekly values."
   ]
  },
  {
   "cell_type": "code",
   "execution_count": 266,
   "metadata": {},
   "outputs": [],
   "source": [
    "df_13 = pd.merge(waiahole_13, waikane_13, on='Date', how='outer', sort = True)\n",
    "df_13 = pd.merge(df_13, waihee_13, on='Date', how='outer', sort = True)\n",
    "df_13 = pd.merge(df_13, heeia_13, on='Date', how='outer', sort = True)\n",
    "\n",
    "df_14 = pd.merge(waiahole_14, waikane_14, on='Date', how='outer', sort = True)\n",
    "df_14 = pd.merge(df_14, waihee_14, on='Date', how='outer', sort = True)\n",
    "df_14 = pd.merge(df_14, heeia_14, on='Date', how='outer', sort = True)"
   ]
  },
  {
   "cell_type": "code",
   "execution_count": 267,
   "metadata": {},
   "outputs": [],
   "source": [
    "# Remove timestamps\n",
    "df_13['Date'] = pd.to_datetime(df_13['Date']).dt.date\n",
    "df_14['Date'] = pd.to_datetime(df_14['Date']).dt.date\n",
    "# Classify date col as datetime object\n",
    "df_13['Date'] = pd.to_datetime(df_13['Date'])\n",
    "df_14['Date'] = pd.to_datetime(df_14['Date'])\n",
    "# Group by and average values by day\n",
    "df_13 = df_13.set_index('Date').groupby(pd.Grouper(freq='d')).mean().dropna(how='all')\n",
    "df_14 = df_14.set_index('Date').groupby(pd.Grouper(freq='d')).mean().dropna(how='all')"
   ]
  },
  {
   "cell_type": "code",
   "execution_count": 268,
   "metadata": {},
   "outputs": [],
   "source": [
    "# Calculate cumulative sums\n",
    "df_13['Waiahole_cs'] = df_13['Waiahole'].cumsum()\n",
    "df_13['Waikane_cs'] = df_13['Waikane'].cumsum()\n",
    "df_13['Waihee_cs'] = df_13['Waihee'].cumsum()\n",
    "df_13['Heeia_cs'] = df_13['Heeia'].cumsum()\n",
    "\n",
    "df_14['Waiahole_cs'] = df_14['Waiahole'].cumsum()\n",
    "df_14['Waikane_cs'] = df_14['Waikane'].cumsum()\n",
    "df_14['Waihee_cs'] = df_14['Waihee'].cumsum()\n",
    "df_14['Heeia_cs'] = df_14['Heeia'].cumsum()"
   ]
  },
  {
   "cell_type": "code",
   "execution_count": 427,
   "metadata": {},
   "outputs": [],
   "source": [
    "# Weekly resampling\n",
    "df_13_weekly = df_13.resample('1W').mean().dropna(how='all')\n",
    "df_14_weekly = df_14.resample('1W').mean().dropna(how='all')\n",
    "# Sum all four cumulative sums \n",
    "df_13_weekly['Cumulative'] = df_13_weekly.iloc[:,4:7].sum(axis=1)\n",
    "df_14_weekly['Cumulative'] = df_14_weekly.iloc[:,4:7].sum(axis=1)\n",
    "# Add weekly x column, 'Date'\n",
    "df_13_weekly['Date'] = df_13_weekly.index\n",
    "df_14_weekly['Date'] = df_14_weekly.index\n",
    "# Drop individual river cumulative sums \n",
    "df_13_weekly = pd.DataFrame.drop(df_13_weekly, columns=['Waiahole_cs', 'Waikane_cs', 'Waihee_cs', 'Heeia_cs']) \n",
    "df_14_weekly = pd.DataFrame.drop(df_14_weekly, columns=['Waiahole_cs', 'Waikane_cs', 'Waihee_cs', 'Heeia_cs']) "
   ]
  },
  {
   "cell_type": "code",
   "execution_count": 428,
   "metadata": {},
   "outputs": [],
   "source": [
    "# Change units from cubic ft per s to L per s\n",
    "df_13_weekly['Waiahole'] = df_13_weekly['Waiahole'].apply(lambda x: x*28.3168)\n",
    "df_13_weekly['Waikane'] = df_13_weekly['Waikane'].apply(lambda x: x*28.3168)\n",
    "df_13_weekly['Waihee'] = df_13_weekly['Waihee'].apply(lambda x: x*28.3168)\n",
    "df_13_weekly['Heeia'] = df_13_weekly['Heeia'].apply(lambda x: x*28.3168)\n",
    "df_13_weekly['Cumulative'] = df_13_weekly['Cumulative'].apply(lambda x: x*28.3168)\n",
    "\n",
    "df_14_weekly['Waiahole'] = df_14_weekly['Waiahole'].apply(lambda x: x*28.3168)\n",
    "df_14_weekly['Waikane'] = df_14_weekly['Waikane'].apply(lambda x: x*28.3168)\n",
    "df_14_weekly['Waihee'] = df_14_weekly['Waihee'].apply(lambda x: x*28.3168)\n",
    "df_14_weekly['Heeia'] = df_14_weekly['Heeia'].apply(lambda x: x*28.3168)\n",
    "df_14_weekly['Cumulative'] = df_14_weekly['Cumulative'].apply(lambda x: x*28.3168)"
   ]
  },
  {
   "cell_type": "code",
   "execution_count": 429,
   "metadata": {},
   "outputs": [],
   "source": [
    "# Calculate mean discharge for all rivers\n",
    "df_13_weekly['Average'] = df_13_weekly.iloc[:,0:4].mean(axis=1)\n",
    "df_14_weekly['Average'] = df_14_weekly.iloc[:,0:4].mean(axis=1)"
   ]
  },
  {
   "cell_type": "code",
   "execution_count": 430,
   "metadata": {},
   "outputs": [],
   "source": [
    "pd.DataFrame.to_csv(df_13_weekly, 'df_13_weekly.csv')\n",
    "pd.DataFrame.to_csv(df_14_weekly, 'df_14_weekly.csv')"
   ]
  },
  {
   "cell_type": "code",
   "execution_count": 365,
   "metadata": {},
   "outputs": [],
   "source": [
    "# Tired, manual editing ahead, insert caution sirens.\n",
    "df = pd.read_csv('df_weekly.csv')"
   ]
  },
  {
   "cell_type": "code",
   "execution_count": 382,
   "metadata": {},
   "outputs": [],
   "source": [
    "df_13_weekly['Month'] = df['Month'].values.astype(str)\n",
    "df_14_weekly['Month'] = df['Month'].values.astype(str)"
   ]
  },
  {
   "cell_type": "markdown",
   "metadata": {},
   "source": [
    "### Plot party\n",
    "\n",
    "For each year, I want to show the weekly discharge, and I also want to plot the running summed total for the year. "
   ]
  },
  {
   "cell_type": "code",
   "execution_count": 418,
   "metadata": {},
   "outputs": [
    {
     "data": {
      "text/plain": [
       "54"
      ]
     },
     "execution_count": 418,
     "metadata": {},
     "output_type": "execute_result"
    }
   ],
   "source": [
    "frames = [df_13_weekly, df_14_weekly]\n",
    "df_all = pd.concat(frames)\n",
    "len(df_all)"
   ]
  },
  {
   "cell_type": "code",
   "execution_count": 392,
   "metadata": {},
   "outputs": [
    {
     "data": {
      "text/html": [
       "<div>\n",
       "<style scoped>\n",
       "    .dataframe tbody tr th:only-of-type {\n",
       "        vertical-align: middle;\n",
       "    }\n",
       "\n",
       "    .dataframe tbody tr th {\n",
       "        vertical-align: top;\n",
       "    }\n",
       "\n",
       "    .dataframe thead th {\n",
       "        text-align: right;\n",
       "    }\n",
       "</style>\n",
       "<table border=\"1\" class=\"dataframe\">\n",
       "  <thead>\n",
       "    <tr style=\"text-align: right;\">\n",
       "      <th></th>\n",
       "      <th>Waiahole</th>\n",
       "      <th>Waikane</th>\n",
       "      <th>Waihee</th>\n",
       "      <th>Heeia</th>\n",
       "      <th>Cumulative</th>\n",
       "      <th>Date</th>\n",
       "      <th>Average</th>\n",
       "      <th>Month</th>\n",
       "    </tr>\n",
       "    <tr>\n",
       "      <th>Date</th>\n",
       "      <th></th>\n",
       "      <th></th>\n",
       "      <th></th>\n",
       "      <th></th>\n",
       "      <th></th>\n",
       "      <th></th>\n",
       "      <th></th>\n",
       "      <th></th>\n",
       "    </tr>\n",
       "  </thead>\n",
       "  <tbody>\n",
       "    <tr>\n",
       "      <th>2013-01-06</th>\n",
       "      <td>888.368808</td>\n",
       "      <td>690.200714</td>\n",
       "      <td>NaN</td>\n",
       "      <td>45.505688</td>\n",
       "      <td>5143.494083</td>\n",
       "      <td>2013-01-06</td>\n",
       "      <td>541.358403</td>\n",
       "      <td>Jan</td>\n",
       "    </tr>\n",
       "    <tr>\n",
       "      <th>2013-01-13</th>\n",
       "      <td>809.616079</td>\n",
       "      <td>345.567777</td>\n",
       "      <td>NaN</td>\n",
       "      <td>41.187881</td>\n",
       "      <td>12668.963466</td>\n",
       "      <td>2013-01-13</td>\n",
       "      <td>398.790579</td>\n",
       "      <td>Jan</td>\n",
       "    </tr>\n",
       "    <tr>\n",
       "      <th>2013-01-20</th>\n",
       "      <td>755.970070</td>\n",
       "      <td>257.327234</td>\n",
       "      <td>NaN</td>\n",
       "      <td>44.657532</td>\n",
       "      <td>20290.507721</td>\n",
       "      <td>2013-01-20</td>\n",
       "      <td>352.651612</td>\n",
       "      <td>Jan</td>\n",
       "    </tr>\n",
       "    <tr>\n",
       "      <th>2013-01-27</th>\n",
       "      <td>730.324825</td>\n",
       "      <td>304.974043</td>\n",
       "      <td>NaN</td>\n",
       "      <td>54.102365</td>\n",
       "      <td>26822.016564</td>\n",
       "      <td>2013-01-27</td>\n",
       "      <td>363.133744</td>\n",
       "      <td>Jan</td>\n",
       "    </tr>\n",
       "    <tr>\n",
       "      <th>2013-02-03</th>\n",
       "      <td>1191.412505</td>\n",
       "      <td>511.000675</td>\n",
       "      <td>110.000936</td>\n",
       "      <td>56.413639</td>\n",
       "      <td>39205.858611</td>\n",
       "      <td>2013-02-03</td>\n",
       "      <td>467.206939</td>\n",
       "      <td>Feb</td>\n",
       "    </tr>\n",
       "  </tbody>\n",
       "</table>\n",
       "</div>"
      ],
      "text/plain": [
       "               Waiahole     Waikane      Waihee      Heeia    Cumulative  \\\n",
       "Date                                                                       \n",
       "2013-01-06   888.368808  690.200714         NaN  45.505688   5143.494083   \n",
       "2013-01-13   809.616079  345.567777         NaN  41.187881  12668.963466   \n",
       "2013-01-20   755.970070  257.327234         NaN  44.657532  20290.507721   \n",
       "2013-01-27   730.324825  304.974043         NaN  54.102365  26822.016564   \n",
       "2013-02-03  1191.412505  511.000675  110.000936  56.413639  39205.858611   \n",
       "\n",
       "                 Date     Average Month  \n",
       "Date                                     \n",
       "2013-01-06 2013-01-06  541.358403   Jan  \n",
       "2013-01-13 2013-01-13  398.790579   Jan  \n",
       "2013-01-20 2013-01-20  352.651612   Jan  \n",
       "2013-01-27 2013-01-27  363.133744   Jan  \n",
       "2013-02-03 2013-02-03  467.206939   Feb  "
      ]
     },
     "execution_count": 392,
     "metadata": {},
     "output_type": "execute_result"
    }
   ],
   "source": [
    "df_all.head()"
   ]
  },
  {
   "cell_type": "code",
   "execution_count": 421,
   "metadata": {},
   "outputs": [
    {
     "data": {
      "application/vnd.plotly.v1+json": {
       "config": {
        "plotlyServerURL": "https://plot.ly"
       },
       "data": [
        {
         "line": {
          "color": "deepskyblue"
         },
         "name": "Average",
         "opacity": 0.8,
         "type": "scatter",
         "x": [
          "2013-01-06T00:00:00",
          "2013-01-20T00:00:00",
          "2013-02-03T00:00:00",
          "2013-02-17T00:00:00",
          "2013-03-03T00:00:00",
          "2013-03-17T00:00:00",
          "2013-03-31T00:00:00",
          "2013-04-14T00:00:00",
          "2013-04-28T00:00:00",
          "2013-05-12T00:00:00",
          "2013-05-26T00:00:00",
          "2013-06-09T00:00:00",
          "2013-06-23T00:00:00",
          "2013-07-07T00:00:00",
          "2013-07-21T00:00:00",
          "2013-08-04T00:00:00",
          "2013-08-18T00:00:00",
          "2013-09-01T00:00:00",
          "2013-09-15T00:00:00",
          "2013-09-29T00:00:00",
          "2013-10-13T00:00:00",
          "2013-10-27T00:00:00",
          "2013-11-10T00:00:00",
          "2013-11-24T00:00:00",
          "2013-12-08T00:00:00",
          "2013-12-22T00:00:00",
          "2014-01-05T00:00:00",
          "2014-01-05T00:00:00",
          "2014-01-19T00:00:00",
          "2014-02-02T00:00:00",
          "2014-02-16T00:00:00",
          "2014-03-02T00:00:00",
          "2014-03-16T00:00:00",
          "2014-03-30T00:00:00",
          "2014-04-13T00:00:00",
          "2014-04-27T00:00:00",
          "2014-05-11T00:00:00",
          "2014-05-25T00:00:00",
          "2014-06-08T00:00:00",
          "2014-06-22T00:00:00",
          "2014-07-06T00:00:00",
          "2014-07-20T00:00:00",
          "2014-08-03T00:00:00",
          "2014-08-17T00:00:00",
          "2014-08-31T00:00:00",
          "2014-09-14T00:00:00",
          "2014-09-28T00:00:00",
          "2014-10-12T00:00:00",
          "2014-10-26T00:00:00",
          "2014-11-09T00:00:00",
          "2014-11-23T00:00:00",
          "2014-12-07T00:00:00",
          "2014-12-21T00:00:00",
          "2015-01-04T00:00:00"
         ],
         "y": [
          19.11792303837343,
          13.268487103174602,
          13.544211929563488,
          8.540329241071428,
          10.223686679246441,
          8.656387802221397,
          10.645250082671954,
          9.29052579365079,
          17.882273721988792,
          16.841074005965172,
          14.590218842047129,
          20.479796421129315,
          9.377951595568781,
          11.60149739583333,
          8.621930803571432,
          9.441183035714285,
          16.00498176942445,
          9.50474575109649,
          10.044803980418115,
          10.227594141604005,
          11.221878669100802,
          11.23929873511904,
          42.10504139539207,
          15.989181134259258,
          14.27358258928571,
          17.736295851580046,
          12.92748697916666,
          15.374338487972501,
          13.45955605158729,
          12.4909375,
          19.43065750414212,
          13.83391321215986,
          21.182682911706344,
          17.367608259725515,
          14.409892113095237,
          12.171049107142858,
          15.265801711309521,
          17.254921818632752,
          15.09876752730731,
          11.644533110119047,
          11.683260788690474,
          45.38290623309716,
          19.32154080513785,
          13.35595255354075,
          11.346901041666671,
          11.052155877976196,
          11.294157366071435,
          11.749679148445095,
          18.19482133338633,
          14.679023437500005,
          13.744144345238096,
          14.563899768348065,
          11.378710222069605,
          21.83756757793324
         ]
        },
        {
         "line": {
          "color": "deepskyblue"
         },
         "name": "Cumulative",
         "opacity": 0.8,
         "type": "scatter",
         "x": [
          "2013-01-06T00:00:00",
          "2013-01-20T00:00:00",
          "2013-02-03T00:00:00",
          "2013-02-17T00:00:00",
          "2013-03-03T00:00:00",
          "2013-03-17T00:00:00",
          "2013-03-31T00:00:00",
          "2013-04-14T00:00:00",
          "2013-04-28T00:00:00",
          "2013-05-12T00:00:00",
          "2013-05-26T00:00:00",
          "2013-06-09T00:00:00",
          "2013-06-23T00:00:00",
          "2013-07-07T00:00:00",
          "2013-07-21T00:00:00",
          "2013-08-04T00:00:00",
          "2013-08-18T00:00:00",
          "2013-09-01T00:00:00",
          "2013-09-15T00:00:00",
          "2013-09-29T00:00:00",
          "2013-10-13T00:00:00",
          "2013-10-27T00:00:00",
          "2013-11-10T00:00:00",
          "2013-11-24T00:00:00",
          "2013-12-08T00:00:00",
          "2013-12-22T00:00:00",
          "2014-01-05T00:00:00",
          "2014-01-05T00:00:00",
          "2014-01-19T00:00:00",
          "2014-02-02T00:00:00",
          "2014-02-16T00:00:00",
          "2014-03-02T00:00:00",
          "2014-03-16T00:00:00",
          "2014-03-30T00:00:00",
          "2014-04-13T00:00:00",
          "2014-04-27T00:00:00",
          "2014-05-11T00:00:00",
          "2014-05-25T00:00:00",
          "2014-06-08T00:00:00",
          "2014-06-22T00:00:00",
          "2014-07-06T00:00:00",
          "2014-07-20T00:00:00",
          "2014-08-03T00:00:00",
          "2014-08-17T00:00:00",
          "2014-08-31T00:00:00",
          "2014-09-14T00:00:00",
          "2014-09-28T00:00:00",
          "2014-10-12T00:00:00",
          "2014-10-26T00:00:00",
          "2014-11-09T00:00:00",
          "2014-11-23T00:00:00",
          "2014-12-07T00:00:00",
          "2014-12-21T00:00:00",
          "2015-01-04T00:00:00"
         ],
         "y": [
          181.64107817869416,
          581.9773277184586,
          1169.798885258141,
          1752.0559363494108,
          2270.5902255154638,
          2755.834701844011,
          3232.3739044346257,
          2900.191976021724,
          4269.434577287101,
          4953.861560635891,
          6082.522930469768,
          6952.688789259027,
          7522.399025028895,
          8108.169028335776,
          8615.809184585776,
          9093.245516431014,
          9812.987925606483,
          10468.953155841466,
          10969.669611113943,
          11538.332456705406,
          12068.263959041846,
          12671.040370482277,
          13506.206225597776,
          15728.09040962291,
          16445.718287433752,
          17319.87422641051,
          17964.489766332554,
          110.2531510416666,
          465.65840773809487,
          1021.9900446428566,
          1808.2052633314918,
          2780.8070783101894,
          3713.482489859474,
          4655.094544908571,
          5612.179915289678,
          6288.625108742059,
          7071.153613206344,
          7886.976455242782,
          8861.67253800756,
          9540.542173424225,
          10163.985588602798,
          10920.921423875223,
          13550.825958013953,
          14377.787425913728,
          15010.07930367514,
          15620.37314296086,
          16203.359392960858,
          16873.33008568437,
          17581.353912589402,
          18480.696247730208,
          19261.396805765926,
          19990.10581564565,
          20723.743499226566,
          21408.97106563031
         ]
        }
       ],
       "layout": {
        "template": {
         "data": {
          "bar": [
           {
            "error_x": {
             "color": "#2a3f5f"
            },
            "error_y": {
             "color": "#2a3f5f"
            },
            "marker": {
             "line": {
              "color": "#E5ECF6",
              "width": 0.5
             }
            },
            "type": "bar"
           }
          ],
          "barpolar": [
           {
            "marker": {
             "line": {
              "color": "#E5ECF6",
              "width": 0.5
             }
            },
            "type": "barpolar"
           }
          ],
          "carpet": [
           {
            "aaxis": {
             "endlinecolor": "#2a3f5f",
             "gridcolor": "white",
             "linecolor": "white",
             "minorgridcolor": "white",
             "startlinecolor": "#2a3f5f"
            },
            "baxis": {
             "endlinecolor": "#2a3f5f",
             "gridcolor": "white",
             "linecolor": "white",
             "minorgridcolor": "white",
             "startlinecolor": "#2a3f5f"
            },
            "type": "carpet"
           }
          ],
          "choropleth": [
           {
            "colorbar": {
             "outlinewidth": 0,
             "ticks": ""
            },
            "type": "choropleth"
           }
          ],
          "contour": [
           {
            "colorbar": {
             "outlinewidth": 0,
             "ticks": ""
            },
            "colorscale": [
             [
              0,
              "#0d0887"
             ],
             [
              0.1111111111111111,
              "#46039f"
             ],
             [
              0.2222222222222222,
              "#7201a8"
             ],
             [
              0.3333333333333333,
              "#9c179e"
             ],
             [
              0.4444444444444444,
              "#bd3786"
             ],
             [
              0.5555555555555556,
              "#d8576b"
             ],
             [
              0.6666666666666666,
              "#ed7953"
             ],
             [
              0.7777777777777778,
              "#fb9f3a"
             ],
             [
              0.8888888888888888,
              "#fdca26"
             ],
             [
              1,
              "#f0f921"
             ]
            ],
            "type": "contour"
           }
          ],
          "contourcarpet": [
           {
            "colorbar": {
             "outlinewidth": 0,
             "ticks": ""
            },
            "type": "contourcarpet"
           }
          ],
          "heatmap": [
           {
            "colorbar": {
             "outlinewidth": 0,
             "ticks": ""
            },
            "colorscale": [
             [
              0,
              "#0d0887"
             ],
             [
              0.1111111111111111,
              "#46039f"
             ],
             [
              0.2222222222222222,
              "#7201a8"
             ],
             [
              0.3333333333333333,
              "#9c179e"
             ],
             [
              0.4444444444444444,
              "#bd3786"
             ],
             [
              0.5555555555555556,
              "#d8576b"
             ],
             [
              0.6666666666666666,
              "#ed7953"
             ],
             [
              0.7777777777777778,
              "#fb9f3a"
             ],
             [
              0.8888888888888888,
              "#fdca26"
             ],
             [
              1,
              "#f0f921"
             ]
            ],
            "type": "heatmap"
           }
          ],
          "heatmapgl": [
           {
            "colorbar": {
             "outlinewidth": 0,
             "ticks": ""
            },
            "colorscale": [
             [
              0,
              "#0d0887"
             ],
             [
              0.1111111111111111,
              "#46039f"
             ],
             [
              0.2222222222222222,
              "#7201a8"
             ],
             [
              0.3333333333333333,
              "#9c179e"
             ],
             [
              0.4444444444444444,
              "#bd3786"
             ],
             [
              0.5555555555555556,
              "#d8576b"
             ],
             [
              0.6666666666666666,
              "#ed7953"
             ],
             [
              0.7777777777777778,
              "#fb9f3a"
             ],
             [
              0.8888888888888888,
              "#fdca26"
             ],
             [
              1,
              "#f0f921"
             ]
            ],
            "type": "heatmapgl"
           }
          ],
          "histogram": [
           {
            "marker": {
             "colorbar": {
              "outlinewidth": 0,
              "ticks": ""
             }
            },
            "type": "histogram"
           }
          ],
          "histogram2d": [
           {
            "colorbar": {
             "outlinewidth": 0,
             "ticks": ""
            },
            "colorscale": [
             [
              0,
              "#0d0887"
             ],
             [
              0.1111111111111111,
              "#46039f"
             ],
             [
              0.2222222222222222,
              "#7201a8"
             ],
             [
              0.3333333333333333,
              "#9c179e"
             ],
             [
              0.4444444444444444,
              "#bd3786"
             ],
             [
              0.5555555555555556,
              "#d8576b"
             ],
             [
              0.6666666666666666,
              "#ed7953"
             ],
             [
              0.7777777777777778,
              "#fb9f3a"
             ],
             [
              0.8888888888888888,
              "#fdca26"
             ],
             [
              1,
              "#f0f921"
             ]
            ],
            "type": "histogram2d"
           }
          ],
          "histogram2dcontour": [
           {
            "colorbar": {
             "outlinewidth": 0,
             "ticks": ""
            },
            "colorscale": [
             [
              0,
              "#0d0887"
             ],
             [
              0.1111111111111111,
              "#46039f"
             ],
             [
              0.2222222222222222,
              "#7201a8"
             ],
             [
              0.3333333333333333,
              "#9c179e"
             ],
             [
              0.4444444444444444,
              "#bd3786"
             ],
             [
              0.5555555555555556,
              "#d8576b"
             ],
             [
              0.6666666666666666,
              "#ed7953"
             ],
             [
              0.7777777777777778,
              "#fb9f3a"
             ],
             [
              0.8888888888888888,
              "#fdca26"
             ],
             [
              1,
              "#f0f921"
             ]
            ],
            "type": "histogram2dcontour"
           }
          ],
          "mesh3d": [
           {
            "colorbar": {
             "outlinewidth": 0,
             "ticks": ""
            },
            "type": "mesh3d"
           }
          ],
          "parcoords": [
           {
            "line": {
             "colorbar": {
              "outlinewidth": 0,
              "ticks": ""
             }
            },
            "type": "parcoords"
           }
          ],
          "scatter": [
           {
            "marker": {
             "colorbar": {
              "outlinewidth": 0,
              "ticks": ""
             }
            },
            "type": "scatter"
           }
          ],
          "scatter3d": [
           {
            "line": {
             "colorbar": {
              "outlinewidth": 0,
              "ticks": ""
             }
            },
            "marker": {
             "colorbar": {
              "outlinewidth": 0,
              "ticks": ""
             }
            },
            "type": "scatter3d"
           }
          ],
          "scattercarpet": [
           {
            "marker": {
             "colorbar": {
              "outlinewidth": 0,
              "ticks": ""
             }
            },
            "type": "scattercarpet"
           }
          ],
          "scattergeo": [
           {
            "marker": {
             "colorbar": {
              "outlinewidth": 0,
              "ticks": ""
             }
            },
            "type": "scattergeo"
           }
          ],
          "scattergl": [
           {
            "marker": {
             "colorbar": {
              "outlinewidth": 0,
              "ticks": ""
             }
            },
            "type": "scattergl"
           }
          ],
          "scattermapbox": [
           {
            "marker": {
             "colorbar": {
              "outlinewidth": 0,
              "ticks": ""
             }
            },
            "type": "scattermapbox"
           }
          ],
          "scatterpolar": [
           {
            "marker": {
             "colorbar": {
              "outlinewidth": 0,
              "ticks": ""
             }
            },
            "type": "scatterpolar"
           }
          ],
          "scatterpolargl": [
           {
            "marker": {
             "colorbar": {
              "outlinewidth": 0,
              "ticks": ""
             }
            },
            "type": "scatterpolargl"
           }
          ],
          "scatterternary": [
           {
            "marker": {
             "colorbar": {
              "outlinewidth": 0,
              "ticks": ""
             }
            },
            "type": "scatterternary"
           }
          ],
          "surface": [
           {
            "colorbar": {
             "outlinewidth": 0,
             "ticks": ""
            },
            "colorscale": [
             [
              0,
              "#0d0887"
             ],
             [
              0.1111111111111111,
              "#46039f"
             ],
             [
              0.2222222222222222,
              "#7201a8"
             ],
             [
              0.3333333333333333,
              "#9c179e"
             ],
             [
              0.4444444444444444,
              "#bd3786"
             ],
             [
              0.5555555555555556,
              "#d8576b"
             ],
             [
              0.6666666666666666,
              "#ed7953"
             ],
             [
              0.7777777777777778,
              "#fb9f3a"
             ],
             [
              0.8888888888888888,
              "#fdca26"
             ],
             [
              1,
              "#f0f921"
             ]
            ],
            "type": "surface"
           }
          ],
          "table": [
           {
            "cells": {
             "fill": {
              "color": "#EBF0F8"
             },
             "line": {
              "color": "white"
             }
            },
            "header": {
             "fill": {
              "color": "#C8D4E3"
             },
             "line": {
              "color": "white"
             }
            },
            "type": "table"
           }
          ]
         },
         "layout": {
          "annotationdefaults": {
           "arrowcolor": "#2a3f5f",
           "arrowhead": 0,
           "arrowwidth": 1
          },
          "colorscale": {
           "diverging": [
            [
             0,
             "#8e0152"
            ],
            [
             0.1,
             "#c51b7d"
            ],
            [
             0.2,
             "#de77ae"
            ],
            [
             0.3,
             "#f1b6da"
            ],
            [
             0.4,
             "#fde0ef"
            ],
            [
             0.5,
             "#f7f7f7"
            ],
            [
             0.6,
             "#e6f5d0"
            ],
            [
             0.7,
             "#b8e186"
            ],
            [
             0.8,
             "#7fbc41"
            ],
            [
             0.9,
             "#4d9221"
            ],
            [
             1,
             "#276419"
            ]
           ],
           "sequential": [
            [
             0,
             "#0d0887"
            ],
            [
             0.1111111111111111,
             "#46039f"
            ],
            [
             0.2222222222222222,
             "#7201a8"
            ],
            [
             0.3333333333333333,
             "#9c179e"
            ],
            [
             0.4444444444444444,
             "#bd3786"
            ],
            [
             0.5555555555555556,
             "#d8576b"
            ],
            [
             0.6666666666666666,
             "#ed7953"
            ],
            [
             0.7777777777777778,
             "#fb9f3a"
            ],
            [
             0.8888888888888888,
             "#fdca26"
            ],
            [
             1,
             "#f0f921"
            ]
           ],
           "sequentialminus": [
            [
             0,
             "#0d0887"
            ],
            [
             0.1111111111111111,
             "#46039f"
            ],
            [
             0.2222222222222222,
             "#7201a8"
            ],
            [
             0.3333333333333333,
             "#9c179e"
            ],
            [
             0.4444444444444444,
             "#bd3786"
            ],
            [
             0.5555555555555556,
             "#d8576b"
            ],
            [
             0.6666666666666666,
             "#ed7953"
            ],
            [
             0.7777777777777778,
             "#fb9f3a"
            ],
            [
             0.8888888888888888,
             "#fdca26"
            ],
            [
             1,
             "#f0f921"
            ]
           ]
          },
          "colorway": [
           "#636efa",
           "#EF553B",
           "#00cc96",
           "#ab63fa",
           "#FFA15A",
           "#19d3f3",
           "#FF6692",
           "#B6E880",
           "#FF97FF",
           "#FECB52"
          ],
          "font": {
           "color": "#2a3f5f"
          },
          "geo": {
           "bgcolor": "white",
           "lakecolor": "white",
           "landcolor": "#E5ECF6",
           "showlakes": true,
           "showland": true,
           "subunitcolor": "white"
          },
          "hoverlabel": {
           "align": "left"
          },
          "hovermode": "closest",
          "mapbox": {
           "style": "light"
          },
          "paper_bgcolor": "white",
          "plot_bgcolor": "#E5ECF6",
          "polar": {
           "angularaxis": {
            "gridcolor": "white",
            "linecolor": "white",
            "ticks": ""
           },
           "bgcolor": "#E5ECF6",
           "radialaxis": {
            "gridcolor": "white",
            "linecolor": "white",
            "ticks": ""
           }
          },
          "scene": {
           "xaxis": {
            "backgroundcolor": "#E5ECF6",
            "gridcolor": "white",
            "gridwidth": 2,
            "linecolor": "white",
            "showbackground": true,
            "ticks": "",
            "zerolinecolor": "white"
           },
           "yaxis": {
            "backgroundcolor": "#E5ECF6",
            "gridcolor": "white",
            "gridwidth": 2,
            "linecolor": "white",
            "showbackground": true,
            "ticks": "",
            "zerolinecolor": "white"
           },
           "zaxis": {
            "backgroundcolor": "#E5ECF6",
            "gridcolor": "white",
            "gridwidth": 2,
            "linecolor": "white",
            "showbackground": true,
            "ticks": "",
            "zerolinecolor": "white"
           }
          },
          "shapedefaults": {
           "line": {
            "color": "#2a3f5f"
           }
          },
          "ternary": {
           "aaxis": {
            "gridcolor": "white",
            "linecolor": "white",
            "ticks": ""
           },
           "baxis": {
            "gridcolor": "white",
            "linecolor": "white",
            "ticks": ""
           },
           "bgcolor": "#E5ECF6",
           "caxis": {
            "gridcolor": "white",
            "linecolor": "white",
            "ticks": ""
           }
          },
          "title": {
           "x": 0.05
          },
          "xaxis": {
           "automargin": true,
           "gridcolor": "white",
           "linecolor": "white",
           "ticks": "",
           "zerolinecolor": "white",
           "zerolinewidth": 2
          },
          "yaxis": {
           "automargin": true,
           "gridcolor": "white",
           "linecolor": "white",
           "ticks": "",
           "zerolinecolor": "white",
           "zerolinewidth": 2
          }
         }
        },
        "title": {
         "text": "Weekly mean river discharge into Kaneohe Bay"
        },
        "xaxis": {
         "range": [
          "2013-01-02",
          "2014-12-29"
         ],
         "title": {
          "text": "Date"
         }
        },
        "yaxis": {
         "title": {
          "text": "Discharge (L/s)"
         }
        }
       }
      },
      "text/html": [
       "<div>\n",
       "        \n",
       "        \n",
       "            <div id=\"f3570ee2-44d8-4885-a380-86c2da1d1040\" class=\"plotly-graph-div\" style=\"height:525px; width:100%;\"></div>\n",
       "            <script type=\"text/javascript\">\n",
       "                require([\"plotly\"], function(Plotly) {\n",
       "                    window.PLOTLYENV=window.PLOTLYENV || {};\n",
       "                    \n",
       "                if (document.getElementById(\"f3570ee2-44d8-4885-a380-86c2da1d1040\")) {\n",
       "                    Plotly.newPlot(\n",
       "                        'f3570ee2-44d8-4885-a380-86c2da1d1040',\n",
       "                        [{\"line\": {\"color\": \"deepskyblue\"}, \"name\": \"Average\", \"opacity\": 0.8, \"type\": \"scatter\", \"x\": [\"2013-01-06T00:00:00\", \"2013-01-20T00:00:00\", \"2013-02-03T00:00:00\", \"2013-02-17T00:00:00\", \"2013-03-03T00:00:00\", \"2013-03-17T00:00:00\", \"2013-03-31T00:00:00\", \"2013-04-14T00:00:00\", \"2013-04-28T00:00:00\", \"2013-05-12T00:00:00\", \"2013-05-26T00:00:00\", \"2013-06-09T00:00:00\", \"2013-06-23T00:00:00\", \"2013-07-07T00:00:00\", \"2013-07-21T00:00:00\", \"2013-08-04T00:00:00\", \"2013-08-18T00:00:00\", \"2013-09-01T00:00:00\", \"2013-09-15T00:00:00\", \"2013-09-29T00:00:00\", \"2013-10-13T00:00:00\", \"2013-10-27T00:00:00\", \"2013-11-10T00:00:00\", \"2013-11-24T00:00:00\", \"2013-12-08T00:00:00\", \"2013-12-22T00:00:00\", \"2014-01-05T00:00:00\", \"2014-01-05T00:00:00\", \"2014-01-19T00:00:00\", \"2014-02-02T00:00:00\", \"2014-02-16T00:00:00\", \"2014-03-02T00:00:00\", \"2014-03-16T00:00:00\", \"2014-03-30T00:00:00\", \"2014-04-13T00:00:00\", \"2014-04-27T00:00:00\", \"2014-05-11T00:00:00\", \"2014-05-25T00:00:00\", \"2014-06-08T00:00:00\", \"2014-06-22T00:00:00\", \"2014-07-06T00:00:00\", \"2014-07-20T00:00:00\", \"2014-08-03T00:00:00\", \"2014-08-17T00:00:00\", \"2014-08-31T00:00:00\", \"2014-09-14T00:00:00\", \"2014-09-28T00:00:00\", \"2014-10-12T00:00:00\", \"2014-10-26T00:00:00\", \"2014-11-09T00:00:00\", \"2014-11-23T00:00:00\", \"2014-12-07T00:00:00\", \"2014-12-21T00:00:00\", \"2015-01-04T00:00:00\"], \"y\": [19.11792303837343, 13.268487103174602, 13.544211929563488, 8.540329241071428, 10.223686679246441, 8.656387802221397, 10.645250082671954, 9.29052579365079, 17.882273721988792, 16.841074005965172, 14.590218842047129, 20.479796421129315, 9.377951595568781, 11.60149739583333, 8.621930803571432, 9.441183035714285, 16.00498176942445, 9.50474575109649, 10.044803980418115, 10.227594141604005, 11.221878669100802, 11.23929873511904, 42.10504139539207, 15.989181134259258, 14.27358258928571, 17.736295851580046, 12.92748697916666, 15.374338487972501, 13.45955605158729, 12.4909375, 19.43065750414212, 13.83391321215986, 21.182682911706344, 17.367608259725515, 14.409892113095237, 12.171049107142858, 15.265801711309521, 17.254921818632752, 15.09876752730731, 11.644533110119047, 11.683260788690474, 45.38290623309716, 19.32154080513785, 13.35595255354075, 11.346901041666671, 11.052155877976196, 11.294157366071435, 11.749679148445095, 18.19482133338633, 14.679023437500005, 13.744144345238096, 14.563899768348065, 11.378710222069605, 21.83756757793324]}, {\"line\": {\"color\": \"deepskyblue\"}, \"name\": \"Cumulative\", \"opacity\": 0.8, \"type\": \"scatter\", \"x\": [\"2013-01-06T00:00:00\", \"2013-01-20T00:00:00\", \"2013-02-03T00:00:00\", \"2013-02-17T00:00:00\", \"2013-03-03T00:00:00\", \"2013-03-17T00:00:00\", \"2013-03-31T00:00:00\", \"2013-04-14T00:00:00\", \"2013-04-28T00:00:00\", \"2013-05-12T00:00:00\", \"2013-05-26T00:00:00\", \"2013-06-09T00:00:00\", \"2013-06-23T00:00:00\", \"2013-07-07T00:00:00\", \"2013-07-21T00:00:00\", \"2013-08-04T00:00:00\", \"2013-08-18T00:00:00\", \"2013-09-01T00:00:00\", \"2013-09-15T00:00:00\", \"2013-09-29T00:00:00\", \"2013-10-13T00:00:00\", \"2013-10-27T00:00:00\", \"2013-11-10T00:00:00\", \"2013-11-24T00:00:00\", \"2013-12-08T00:00:00\", \"2013-12-22T00:00:00\", \"2014-01-05T00:00:00\", \"2014-01-05T00:00:00\", \"2014-01-19T00:00:00\", \"2014-02-02T00:00:00\", \"2014-02-16T00:00:00\", \"2014-03-02T00:00:00\", \"2014-03-16T00:00:00\", \"2014-03-30T00:00:00\", \"2014-04-13T00:00:00\", \"2014-04-27T00:00:00\", \"2014-05-11T00:00:00\", \"2014-05-25T00:00:00\", \"2014-06-08T00:00:00\", \"2014-06-22T00:00:00\", \"2014-07-06T00:00:00\", \"2014-07-20T00:00:00\", \"2014-08-03T00:00:00\", \"2014-08-17T00:00:00\", \"2014-08-31T00:00:00\", \"2014-09-14T00:00:00\", \"2014-09-28T00:00:00\", \"2014-10-12T00:00:00\", \"2014-10-26T00:00:00\", \"2014-11-09T00:00:00\", \"2014-11-23T00:00:00\", \"2014-12-07T00:00:00\", \"2014-12-21T00:00:00\", \"2015-01-04T00:00:00\"], \"y\": [181.64107817869416, 581.9773277184586, 1169.798885258141, 1752.0559363494108, 2270.5902255154638, 2755.834701844011, 3232.3739044346257, 2900.191976021724, 4269.434577287101, 4953.861560635891, 6082.522930469768, 6952.688789259027, 7522.399025028895, 8108.169028335776, 8615.809184585776, 9093.245516431014, 9812.987925606483, 10468.953155841466, 10969.669611113943, 11538.332456705406, 12068.263959041846, 12671.040370482277, 13506.206225597776, 15728.09040962291, 16445.718287433752, 17319.87422641051, 17964.489766332554, 110.2531510416666, 465.65840773809487, 1021.9900446428566, 1808.2052633314918, 2780.8070783101894, 3713.482489859474, 4655.094544908571, 5612.179915289678, 6288.625108742059, 7071.153613206344, 7886.976455242782, 8861.67253800756, 9540.542173424225, 10163.985588602798, 10920.921423875223, 13550.825958013953, 14377.787425913728, 15010.07930367514, 15620.37314296086, 16203.359392960858, 16873.33008568437, 17581.353912589402, 18480.696247730208, 19261.396805765926, 19990.10581564565, 20723.743499226566, 21408.97106563031]}],\n",
       "                        {\"template\": {\"data\": {\"bar\": [{\"error_x\": {\"color\": \"#2a3f5f\"}, \"error_y\": {\"color\": \"#2a3f5f\"}, \"marker\": {\"line\": {\"color\": \"#E5ECF6\", \"width\": 0.5}}, \"type\": \"bar\"}], \"barpolar\": [{\"marker\": {\"line\": {\"color\": \"#E5ECF6\", \"width\": 0.5}}, \"type\": \"barpolar\"}], \"carpet\": [{\"aaxis\": {\"endlinecolor\": \"#2a3f5f\", \"gridcolor\": \"white\", \"linecolor\": \"white\", \"minorgridcolor\": \"white\", \"startlinecolor\": \"#2a3f5f\"}, \"baxis\": {\"endlinecolor\": \"#2a3f5f\", \"gridcolor\": \"white\", \"linecolor\": \"white\", \"minorgridcolor\": \"white\", \"startlinecolor\": \"#2a3f5f\"}, \"type\": \"carpet\"}], \"choropleth\": [{\"colorbar\": {\"outlinewidth\": 0, \"ticks\": \"\"}, \"type\": \"choropleth\"}], \"contour\": [{\"colorbar\": {\"outlinewidth\": 0, \"ticks\": \"\"}, \"colorscale\": [[0.0, \"#0d0887\"], [0.1111111111111111, \"#46039f\"], [0.2222222222222222, \"#7201a8\"], [0.3333333333333333, \"#9c179e\"], [0.4444444444444444, \"#bd3786\"], [0.5555555555555556, \"#d8576b\"], [0.6666666666666666, \"#ed7953\"], [0.7777777777777778, \"#fb9f3a\"], [0.8888888888888888, \"#fdca26\"], [1.0, \"#f0f921\"]], \"type\": \"contour\"}], \"contourcarpet\": [{\"colorbar\": {\"outlinewidth\": 0, \"ticks\": \"\"}, \"type\": \"contourcarpet\"}], \"heatmap\": [{\"colorbar\": {\"outlinewidth\": 0, \"ticks\": \"\"}, \"colorscale\": [[0.0, \"#0d0887\"], [0.1111111111111111, \"#46039f\"], [0.2222222222222222, \"#7201a8\"], [0.3333333333333333, \"#9c179e\"], [0.4444444444444444, \"#bd3786\"], [0.5555555555555556, \"#d8576b\"], [0.6666666666666666, \"#ed7953\"], [0.7777777777777778, \"#fb9f3a\"], [0.8888888888888888, \"#fdca26\"], [1.0, \"#f0f921\"]], \"type\": \"heatmap\"}], \"heatmapgl\": [{\"colorbar\": {\"outlinewidth\": 0, \"ticks\": \"\"}, \"colorscale\": [[0.0, \"#0d0887\"], [0.1111111111111111, \"#46039f\"], [0.2222222222222222, \"#7201a8\"], [0.3333333333333333, \"#9c179e\"], [0.4444444444444444, \"#bd3786\"], [0.5555555555555556, \"#d8576b\"], [0.6666666666666666, \"#ed7953\"], [0.7777777777777778, \"#fb9f3a\"], [0.8888888888888888, \"#fdca26\"], [1.0, \"#f0f921\"]], \"type\": \"heatmapgl\"}], \"histogram\": [{\"marker\": {\"colorbar\": {\"outlinewidth\": 0, \"ticks\": \"\"}}, \"type\": \"histogram\"}], \"histogram2d\": [{\"colorbar\": {\"outlinewidth\": 0, \"ticks\": \"\"}, \"colorscale\": [[0.0, \"#0d0887\"], [0.1111111111111111, \"#46039f\"], [0.2222222222222222, \"#7201a8\"], [0.3333333333333333, \"#9c179e\"], [0.4444444444444444, \"#bd3786\"], [0.5555555555555556, \"#d8576b\"], [0.6666666666666666, \"#ed7953\"], [0.7777777777777778, \"#fb9f3a\"], [0.8888888888888888, \"#fdca26\"], [1.0, \"#f0f921\"]], \"type\": \"histogram2d\"}], \"histogram2dcontour\": [{\"colorbar\": {\"outlinewidth\": 0, \"ticks\": \"\"}, \"colorscale\": [[0.0, \"#0d0887\"], [0.1111111111111111, \"#46039f\"], [0.2222222222222222, \"#7201a8\"], [0.3333333333333333, \"#9c179e\"], [0.4444444444444444, \"#bd3786\"], [0.5555555555555556, \"#d8576b\"], [0.6666666666666666, \"#ed7953\"], [0.7777777777777778, \"#fb9f3a\"], [0.8888888888888888, \"#fdca26\"], [1.0, \"#f0f921\"]], \"type\": \"histogram2dcontour\"}], \"mesh3d\": [{\"colorbar\": {\"outlinewidth\": 0, \"ticks\": \"\"}, \"type\": \"mesh3d\"}], \"parcoords\": [{\"line\": {\"colorbar\": {\"outlinewidth\": 0, \"ticks\": \"\"}}, \"type\": \"parcoords\"}], \"scatter\": [{\"marker\": {\"colorbar\": {\"outlinewidth\": 0, \"ticks\": \"\"}}, \"type\": \"scatter\"}], \"scatter3d\": [{\"line\": {\"colorbar\": {\"outlinewidth\": 0, \"ticks\": \"\"}}, \"marker\": {\"colorbar\": {\"outlinewidth\": 0, \"ticks\": \"\"}}, \"type\": \"scatter3d\"}], \"scattercarpet\": [{\"marker\": {\"colorbar\": {\"outlinewidth\": 0, \"ticks\": \"\"}}, \"type\": \"scattercarpet\"}], \"scattergeo\": [{\"marker\": {\"colorbar\": {\"outlinewidth\": 0, \"ticks\": \"\"}}, \"type\": \"scattergeo\"}], \"scattergl\": [{\"marker\": {\"colorbar\": {\"outlinewidth\": 0, \"ticks\": \"\"}}, \"type\": \"scattergl\"}], \"scattermapbox\": [{\"marker\": {\"colorbar\": {\"outlinewidth\": 0, \"ticks\": \"\"}}, \"type\": \"scattermapbox\"}], \"scatterpolar\": [{\"marker\": {\"colorbar\": {\"outlinewidth\": 0, \"ticks\": \"\"}}, \"type\": \"scatterpolar\"}], \"scatterpolargl\": [{\"marker\": {\"colorbar\": {\"outlinewidth\": 0, \"ticks\": \"\"}}, \"type\": \"scatterpolargl\"}], \"scatterternary\": [{\"marker\": {\"colorbar\": {\"outlinewidth\": 0, \"ticks\": \"\"}}, \"type\": \"scatterternary\"}], \"surface\": [{\"colorbar\": {\"outlinewidth\": 0, \"ticks\": \"\"}, \"colorscale\": [[0.0, \"#0d0887\"], [0.1111111111111111, \"#46039f\"], [0.2222222222222222, \"#7201a8\"], [0.3333333333333333, \"#9c179e\"], [0.4444444444444444, \"#bd3786\"], [0.5555555555555556, \"#d8576b\"], [0.6666666666666666, \"#ed7953\"], [0.7777777777777778, \"#fb9f3a\"], [0.8888888888888888, \"#fdca26\"], [1.0, \"#f0f921\"]], \"type\": \"surface\"}], \"table\": [{\"cells\": {\"fill\": {\"color\": \"#EBF0F8\"}, \"line\": {\"color\": \"white\"}}, \"header\": {\"fill\": {\"color\": \"#C8D4E3\"}, \"line\": {\"color\": \"white\"}}, \"type\": \"table\"}]}, \"layout\": {\"annotationdefaults\": {\"arrowcolor\": \"#2a3f5f\", \"arrowhead\": 0, \"arrowwidth\": 1}, \"colorscale\": {\"diverging\": [[0, \"#8e0152\"], [0.1, \"#c51b7d\"], [0.2, \"#de77ae\"], [0.3, \"#f1b6da\"], [0.4, \"#fde0ef\"], [0.5, \"#f7f7f7\"], [0.6, \"#e6f5d0\"], [0.7, \"#b8e186\"], [0.8, \"#7fbc41\"], [0.9, \"#4d9221\"], [1, \"#276419\"]], \"sequential\": [[0.0, \"#0d0887\"], [0.1111111111111111, \"#46039f\"], [0.2222222222222222, \"#7201a8\"], [0.3333333333333333, \"#9c179e\"], [0.4444444444444444, \"#bd3786\"], [0.5555555555555556, \"#d8576b\"], [0.6666666666666666, \"#ed7953\"], [0.7777777777777778, \"#fb9f3a\"], [0.8888888888888888, \"#fdca26\"], [1.0, \"#f0f921\"]], \"sequentialminus\": [[0.0, \"#0d0887\"], [0.1111111111111111, \"#46039f\"], [0.2222222222222222, \"#7201a8\"], [0.3333333333333333, \"#9c179e\"], [0.4444444444444444, \"#bd3786\"], [0.5555555555555556, \"#d8576b\"], [0.6666666666666666, \"#ed7953\"], [0.7777777777777778, \"#fb9f3a\"], [0.8888888888888888, \"#fdca26\"], [1.0, \"#f0f921\"]]}, \"colorway\": [\"#636efa\", \"#EF553B\", \"#00cc96\", \"#ab63fa\", \"#FFA15A\", \"#19d3f3\", \"#FF6692\", \"#B6E880\", \"#FF97FF\", \"#FECB52\"], \"font\": {\"color\": \"#2a3f5f\"}, \"geo\": {\"bgcolor\": \"white\", \"lakecolor\": \"white\", \"landcolor\": \"#E5ECF6\", \"showlakes\": true, \"showland\": true, \"subunitcolor\": \"white\"}, \"hoverlabel\": {\"align\": \"left\"}, \"hovermode\": \"closest\", \"mapbox\": {\"style\": \"light\"}, \"paper_bgcolor\": \"white\", \"plot_bgcolor\": \"#E5ECF6\", \"polar\": {\"angularaxis\": {\"gridcolor\": \"white\", \"linecolor\": \"white\", \"ticks\": \"\"}, \"bgcolor\": \"#E5ECF6\", \"radialaxis\": {\"gridcolor\": \"white\", \"linecolor\": \"white\", \"ticks\": \"\"}}, \"scene\": {\"xaxis\": {\"backgroundcolor\": \"#E5ECF6\", \"gridcolor\": \"white\", \"gridwidth\": 2, \"linecolor\": \"white\", \"showbackground\": true, \"ticks\": \"\", \"zerolinecolor\": \"white\"}, \"yaxis\": {\"backgroundcolor\": \"#E5ECF6\", \"gridcolor\": \"white\", \"gridwidth\": 2, \"linecolor\": \"white\", \"showbackground\": true, \"ticks\": \"\", \"zerolinecolor\": \"white\"}, \"zaxis\": {\"backgroundcolor\": \"#E5ECF6\", \"gridcolor\": \"white\", \"gridwidth\": 2, \"linecolor\": \"white\", \"showbackground\": true, \"ticks\": \"\", \"zerolinecolor\": \"white\"}}, \"shapedefaults\": {\"line\": {\"color\": \"#2a3f5f\"}}, \"ternary\": {\"aaxis\": {\"gridcolor\": \"white\", \"linecolor\": \"white\", \"ticks\": \"\"}, \"baxis\": {\"gridcolor\": \"white\", \"linecolor\": \"white\", \"ticks\": \"\"}, \"bgcolor\": \"#E5ECF6\", \"caxis\": {\"gridcolor\": \"white\", \"linecolor\": \"white\", \"ticks\": \"\"}}, \"title\": {\"x\": 0.05}, \"xaxis\": {\"automargin\": true, \"gridcolor\": \"white\", \"linecolor\": \"white\", \"ticks\": \"\", \"zerolinecolor\": \"white\", \"zerolinewidth\": 2}, \"yaxis\": {\"automargin\": true, \"gridcolor\": \"white\", \"linecolor\": \"white\", \"ticks\": \"\", \"zerolinecolor\": \"white\", \"zerolinewidth\": 2}}}, \"title\": {\"text\": \"Weekly mean river discharge into Kaneohe Bay\"}, \"xaxis\": {\"range\": [\"2013-01-02\", \"2014-12-29\"], \"title\": {\"text\": \"Date\"}}, \"yaxis\": {\"title\": {\"text\": \"Discharge (L/s)\"}}},\n",
       "                        {\"responsive\": true}\n",
       "                    ).then(function(){\n",
       "                            \n",
       "var gd = document.getElementById('f3570ee2-44d8-4885-a380-86c2da1d1040');\n",
       "var x = new MutationObserver(function (mutations, observer) {{\n",
       "        var display = window.getComputedStyle(gd).display;\n",
       "        if (!display || display === 'none') {{\n",
       "            console.log([gd, 'removed!']);\n",
       "            Plotly.purge(gd);\n",
       "            observer.disconnect();\n",
       "        }}\n",
       "}});\n",
       "\n",
       "// Listen for the removal of the full notebook cells\n",
       "var notebookContainer = gd.closest('#notebook-container');\n",
       "if (notebookContainer) {{\n",
       "    x.observe(notebookContainer, {childList: true});\n",
       "}}\n",
       "\n",
       "// Listen for the clearing of the current output cell\n",
       "var outputEl = gd.closest('.output');\n",
       "if (outputEl) {{\n",
       "    x.observe(outputEl, {childList: true});\n",
       "}}\n",
       "\n",
       "                        })\n",
       "                };\n",
       "                });\n",
       "            </script>\n",
       "        </div>"
      ]
     },
     "metadata": {},
     "output_type": "display_data"
    }
   ],
   "source": [
    "fig = go.Figure()\n",
    "fig.add_trace(go.Scatter(\n",
    "                x=df_all.Date,\n",
    "                y=df_all['Average'],\n",
    "                name=\"Average\",\n",
    "                line_color='deepskyblue',\n",
    "                opacity=0.8))\n",
    "\n",
    "fig.add_trace(go.Scatter(\n",
    "                x=df_all.Date,\n",
    "                y=df_all['Cumulative'],\n",
    "                name=\"Cumulative\",\n",
    "                line_color='deepskyblue',\n",
    "                opacity=0.8))\n",
    "\n",
    "# Use date string to set xaxis range\n",
    "fig.update_layout(xaxis_range=['2013-01-02','2014-12-29'],\n",
    "                  title_text=\"Weekly mean river discharge into Kaneohe Bay\",\n",
    "                  xaxis_title=\"Date\",\n",
    "                  yaxis_title=\"Discharge (L/s)\")\n",
    "fig.show()"
   ]
  }
 ],
 "metadata": {
  "kernelspec": {
   "display_name": "Python 3",
   "language": "python",
   "name": "python3"
  },
  "language_info": {
   "codemirror_mode": {
    "name": "ipython",
    "version": 3
   },
   "file_extension": ".py",
   "mimetype": "text/x-python",
   "name": "python",
   "nbconvert_exporter": "python",
   "pygments_lexer": "ipython3",
   "version": "3.6.9"
  }
 },
 "nbformat": 4,
 "nbformat_minor": 2
}
