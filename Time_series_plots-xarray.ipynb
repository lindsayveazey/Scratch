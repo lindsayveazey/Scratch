{
 "cells": [
  {
   "cell_type": "markdown",
   "metadata": {},
   "source": [
    "### Time series plotting: plankton (master)"
   ]
  },
  {
   "cell_type": "markdown",
   "metadata": {},
   "source": [
    "#### Import modules"
   ]
  },
  {
   "cell_type": "code",
   "execution_count": 5,
   "metadata": {},
   "outputs": [],
   "source": [
    "import netCDF4\n",
    "from netCDF4 import Dataset\n",
    "import numpy as np\n",
    "import pandas as pd\n",
    "from pathlib import Path\n",
    "import os\n",
    "import seaborn as sns\n",
    "import matplotlib.pyplot as plt\n",
    "import xarray as xr"
   ]
  },
  {
   "cell_type": "markdown",
   "metadata": {},
   "source": [
    "#### Define lists called in the forthcoming for loops"
   ]
  },
  {
   "cell_type": "code",
   "execution_count": 8,
   "metadata": {},
   "outputs": [],
   "source": [
    "sector = ['NB', 'CB', 'SB']\n",
    "date_2013 = ['January_4750','February_4780','March_4810','April_4840','May_4870','June_4900',\n",
    "             'July_4930','August_4960','September_4990','October_5020','November_5050', 'December_5080']\n",
    "date_2014 = ['January_5115','February_5145','March_5175','April_5205','May_5235','June_5265',\n",
    "             'July_5295','August_5325','September_5355','October_5385','November_5415', 'December_5445']\n",
    "day_2013 = ['4750','4780','4810','4840','4870','4900','4930','4960','4990','5020','5050', '5080']\n",
    "day_2014 = ['5115','5145','5175','5205','5235','5265','5295','5325','5355','5385','5415', '5445']"
   ]
  },
  {
   "cell_type": "markdown",
   "metadata": {},
   "source": [
    "## Loop through all months for each sector: 2013"
   ]
  },
  {
   "cell_type": "code",
   "execution_count": 97,
   "metadata": {},
   "outputs": [
    {
     "name": "stdout",
     "output_type": "stream",
     "text": [
      "/home/lindsay/hioekg-2013\n"
     ]
    }
   ],
   "source": [
    "# Reset the working directory before running the loops\n",
    "%pwd\n",
    "%cd /home/lindsay/hioekg-2013/\n",
    "\n",
    "# Add master list for the files collected by this first nested loop and group lists\n",
    "file_list = []\n",
    "nsmz=[]\n",
    "nmdz=[]\n",
    "nlgz=[]\n",
    "nsm=[]\n",
    "nlg=[]\n",
    "\n",
    "for i in range(0,12):\n",
    "    for j in range(0,3):\n",
    "        folder = '/home/lindsay/hioekg-2013/' + str(date_2013[i]) + '/'\n",
    "        os.chdir(folder)\n",
    "        file = xr.open_dataset(str(sector[j]) + '_all_var_surface_0' + str(day_2013[i]) + '.nc')\n",
    "        file_list.append(file)      \n",
    "\n",
    "for item in file_list: \n",
    "# nsmz: Small zooplankton\n",
    "    dat = item.nsmz\n",
    "    dat_numpy = dat.values\n",
    "    dat_numpy=dat_numpy[~np.isnan(dat_numpy)]\n",
    "    nsmz.append(dat_numpy)\n",
    "# nmdz: Medium zooplankton\n",
    "    dat = item.nmdz\n",
    "    dat_numpy = dat.values\n",
    "    dat_numpy=dat_numpy[~np.isnan(dat_numpy)]\n",
    "    nmdz.append(dat_numpy)\n",
    "# nlgz: Large zooplankton\n",
    "    dat = item.nlgz\n",
    "    dat_numpy = dat.values\n",
    "    dat_numpy=dat_numpy[~np.isnan(dat_numpy)]\n",
    "    nlgz.append(dat_numpy)\n",
    "# nsm: Small phytoplankton\n",
    "    dat = item.nsm\n",
    "    dat_numpy = dat.values\n",
    "    dat_numpy=dat_numpy[~np.isnan(dat_numpy)]\n",
    "    nsm.append(dat_numpy)\n",
    "# nlg: Large phytoplankton\n",
    "    dat = item.nlg\n",
    "    dat_numpy = dat.values\n",
    "    dat_numpy=dat_numpy[~np.isnan(dat_numpy)]\n",
    "    nlg.append(dat_numpy)"
   ]
  },
  {
   "cell_type": "markdown",
   "metadata": {},
   "source": [
    "Inspecting the elements of file_list indicates that the order of the arrays in my variable lists are as such:\n",
    "\n",
    "- Jan_NB, Jan_CB, Jan_SB, Feb_NB, Feb_CB, Feb_SB...and so on.\n",
    "\n",
    "My path forward:\n",
    "- Loop through each array element in each list\n",
    "- For elements 0-2, must join array with a Date list of '01-01-2013', 3-5 '02-01-2013'...\n",
    "- All elements joined with alternating Sector lists of NB, CB, SB...\n",
    "\n",
    "My approach at this point is to extract elements in groups of 3 and tailor each for loop accordingly.\n",
    "\n",
    "Then, run this loop for 2014, and for the other variables, and append those lists to this master df. This will make plotting and further manipulation pretty easy."
   ]
  },
  {
   "cell_type": "code",
   "execution_count": 110,
   "metadata": {},
   "outputs": [],
   "source": [
    "### Change the selection object each time you change the list...\n",
    "selection = nmdz\n",
    "\n",
    "# Creating 12-unit date list, 3-unit sector list, and empty list to store organized values:\n",
    "date = ['01-01-2013','02-01-2013','03-01-2013','04-01-2013','05-01-2013','06-01-2013','07-01-2013','08-01-2013',\n",
    "        '09-01-2013','10-01-2013','11-01-2013','12-01-2013']\n",
    "sector=['NB','CB','SB']\n",
    "list_for_dataframe=[]\n",
    "\n",
    "# Iterating sequentially (i) through each array (element) in the list of arrays (selection)\n",
    "for element in selection:\n",
    "    for i in range(0,36):\n",
    "        this_month = date[i//3] # integer division: 0,1,2//3 returns same val (0); 3,4,5 returns same val (1)...\n",
    "        this_sector = sector[i%3] # this moves faster- every other element, sequence of 3\n",
    "        for sub_element in element:\n",
    "            list_for_dataframe.append(\n",
    "                {'month': this_month, 'sector': this_sector, 'concentration': sub_element})\n",
    "        \n",
    "# The loop above produces a list of dicts"
   ]
  },
  {
   "cell_type": "markdown",
   "metadata": {},
   "source": [
    "Pandas magic: the list of dicts has been organized into a df, with each value entry in a row with its associated keys as column heads.\n",
    "\n",
    "#### Change group label each time:"
   ]
  },
  {
   "cell_type": "code",
   "execution_count": 111,
   "metadata": {},
   "outputs": [
    {
     "name": "stdout",
     "output_type": "stream",
     "text": [
      "2801088\n"
     ]
    },
    {
     "data": {
      "text/html": [
       "<div>\n",
       "<style scoped>\n",
       "    .dataframe tbody tr th:only-of-type {\n",
       "        vertical-align: middle;\n",
       "    }\n",
       "\n",
       "    .dataframe tbody tr th {\n",
       "        vertical-align: top;\n",
       "    }\n",
       "\n",
       "    .dataframe thead th {\n",
       "        text-align: right;\n",
       "    }\n",
       "</style>\n",
       "<table border=\"1\" class=\"dataframe\">\n",
       "  <thead>\n",
       "    <tr style=\"text-align: right;\">\n",
       "      <th></th>\n",
       "      <th>month</th>\n",
       "      <th>sector</th>\n",
       "      <th>concentration</th>\n",
       "      <th>group</th>\n",
       "      <th>year</th>\n",
       "    </tr>\n",
       "  </thead>\n",
       "  <tbody>\n",
       "    <tr>\n",
       "      <td>0</td>\n",
       "      <td>01-01-2013</td>\n",
       "      <td>NB</td>\n",
       "      <td>8.901746e-08</td>\n",
       "      <td>nmdz</td>\n",
       "      <td>2013</td>\n",
       "    </tr>\n",
       "    <tr>\n",
       "      <td>1</td>\n",
       "      <td>01-01-2013</td>\n",
       "      <td>NB</td>\n",
       "      <td>8.895691e-08</td>\n",
       "      <td>nmdz</td>\n",
       "      <td>2013</td>\n",
       "    </tr>\n",
       "    <tr>\n",
       "      <td>2</td>\n",
       "      <td>01-01-2013</td>\n",
       "      <td>NB</td>\n",
       "      <td>8.855688e-08</td>\n",
       "      <td>nmdz</td>\n",
       "      <td>2013</td>\n",
       "    </tr>\n",
       "    <tr>\n",
       "      <td>3</td>\n",
       "      <td>01-01-2013</td>\n",
       "      <td>NB</td>\n",
       "      <td>8.859870e-08</td>\n",
       "      <td>nmdz</td>\n",
       "      <td>2013</td>\n",
       "    </tr>\n",
       "    <tr>\n",
       "      <td>4</td>\n",
       "      <td>01-01-2013</td>\n",
       "      <td>NB</td>\n",
       "      <td>8.841269e-08</td>\n",
       "      <td>nmdz</td>\n",
       "      <td>2013</td>\n",
       "    </tr>\n",
       "  </tbody>\n",
       "</table>\n",
       "</div>"
      ],
      "text/plain": [
       "        month sector  concentration group  year\n",
       "0  01-01-2013     NB   8.901746e-08  nmdz  2013\n",
       "1  01-01-2013     NB   8.895691e-08  nmdz  2013\n",
       "2  01-01-2013     NB   8.855688e-08  nmdz  2013\n",
       "3  01-01-2013     NB   8.859870e-08  nmdz  2013\n",
       "4  01-01-2013     NB   8.841269e-08  nmdz  2013"
      ]
     },
     "execution_count": 111,
     "metadata": {},
     "output_type": "execute_result"
    }
   ],
   "source": [
    "df = pd.DataFrame(list_for_dataframe)\n",
    "\n",
    "# Add group identifier and year column\n",
    "df['group']='nmdz'\n",
    "df['year']=2013\n",
    "print(len(df))\n",
    "df.head()"
   ]
  },
  {
   "cell_type": "markdown",
   "metadata": {},
   "source": [
    "#### Change the name of the file written each time to correspond with the group:"
   ]
  },
  {
   "cell_type": "code",
   "execution_count": 112,
   "metadata": {},
   "outputs": [],
   "source": [
    "nmdz_df_2013 = df"
   ]
  },
  {
   "cell_type": "markdown",
   "metadata": {},
   "source": [
    "#### Concatenate all dataframes"
   ]
  },
  {
   "cell_type": "code",
   "execution_count": 115,
   "metadata": {},
   "outputs": [
    {
     "data": {
      "text/html": [
       "<div>\n",
       "<style scoped>\n",
       "    .dataframe tbody tr th:only-of-type {\n",
       "        vertical-align: middle;\n",
       "    }\n",
       "\n",
       "    .dataframe tbody tr th {\n",
       "        vertical-align: top;\n",
       "    }\n",
       "\n",
       "    .dataframe thead th {\n",
       "        text-align: right;\n",
       "    }\n",
       "</style>\n",
       "<table border=\"1\" class=\"dataframe\">\n",
       "  <thead>\n",
       "    <tr style=\"text-align: right;\">\n",
       "      <th></th>\n",
       "      <th>month</th>\n",
       "      <th>sector</th>\n",
       "      <th>concentration</th>\n",
       "      <th>group</th>\n",
       "      <th>year</th>\n",
       "    </tr>\n",
       "  </thead>\n",
       "  <tbody>\n",
       "    <tr>\n",
       "      <td>2801083</td>\n",
       "      <td>12-01-2013</td>\n",
       "      <td>SB</td>\n",
       "      <td>7.168995e-08</td>\n",
       "      <td>nlg</td>\n",
       "      <td>2013</td>\n",
       "    </tr>\n",
       "    <tr>\n",
       "      <td>2801084</td>\n",
       "      <td>12-01-2013</td>\n",
       "      <td>SB</td>\n",
       "      <td>7.165477e-08</td>\n",
       "      <td>nlg</td>\n",
       "      <td>2013</td>\n",
       "    </tr>\n",
       "    <tr>\n",
       "      <td>2801085</td>\n",
       "      <td>12-01-2013</td>\n",
       "      <td>SB</td>\n",
       "      <td>7.163389e-08</td>\n",
       "      <td>nlg</td>\n",
       "      <td>2013</td>\n",
       "    </tr>\n",
       "    <tr>\n",
       "      <td>2801086</td>\n",
       "      <td>12-01-2013</td>\n",
       "      <td>SB</td>\n",
       "      <td>7.162012e-08</td>\n",
       "      <td>nlg</td>\n",
       "      <td>2013</td>\n",
       "    </tr>\n",
       "    <tr>\n",
       "      <td>2801087</td>\n",
       "      <td>12-01-2013</td>\n",
       "      <td>SB</td>\n",
       "      <td>7.161326e-08</td>\n",
       "      <td>nlg</td>\n",
       "      <td>2013</td>\n",
       "    </tr>\n",
       "  </tbody>\n",
       "</table>\n",
       "</div>"
      ],
      "text/plain": [
       "              month sector  concentration group  year\n",
       "2801083  12-01-2013     SB   7.168995e-08   nlg  2013\n",
       "2801084  12-01-2013     SB   7.165477e-08   nlg  2013\n",
       "2801085  12-01-2013     SB   7.163389e-08   nlg  2013\n",
       "2801086  12-01-2013     SB   7.162012e-08   nlg  2013\n",
       "2801087  12-01-2013     SB   7.161326e-08   nlg  2013"
      ]
     },
     "execution_count": 115,
     "metadata": {},
     "output_type": "execute_result"
    }
   ],
   "source": [
    "all_frames = [nsmz_df_2013,nmdz_df_2013,nlgz_df_2013,nsm_df_2013,nlg_df_2013]\n",
    "\n",
    "df_2013 = pd.concat(all_frames, axis=0)\n",
    "df_2013.tail()"
   ]
  },
  {
   "cell_type": "markdown",
   "metadata": {},
   "source": [
    "## Loop through each sector: 2014"
   ]
  },
  {
   "cell_type": "code",
   "execution_count": 75,
   "metadata": {},
   "outputs": [
    {
     "name": "stdout",
     "output_type": "stream",
     "text": [
      "/home/lindsay/hioekg-2014\n"
     ]
    }
   ],
   "source": [
    "# Reset the working directory before running the loops\n",
    "%pwd\n",
    "%cd /home/lindsay/hioekg-2014/\n",
    "\n",
    "# Add master list for the files collected by this first nested loop and group lists\n",
    "file_list = []\n",
    "nsmz=[]\n",
    "nmdz=[]\n",
    "nlgz=[]\n",
    "nsm=[]\n",
    "nlg=[]\n",
    "\n",
    "for i in range(0,12):\n",
    "    for j in range(0,3):\n",
    "        folder = '/home/lindsay/hioekg-2014/' + str(date_2014[i]) + '/'\n",
    "        os.chdir(folder)\n",
    "        file = xr.open_dataset(str(sector[j]) + '_all_var_surface_0' + str(day_2014[i]) + '.nc')\n",
    "        file_list.append(file)      \n",
    "\n",
    "for item in file_list: \n",
    "# nsmz: Small zooplankton\n",
    "    dat = item.nsmz\n",
    "    dat_numpy = dat.values\n",
    "    dat_numpy=dat_numpy[~np.isnan(dat_numpy)]\n",
    "    nsmz.append(dat_numpy)\n",
    "# nmdz: Medium zooplankton\n",
    "    dat = item.nmdz\n",
    "    dat_numpy = dat.values\n",
    "    dat_numpy=dat_numpy[~np.isnan(dat_numpy)]\n",
    "    nmdz.append(dat_numpy)\n",
    "# nlgz: Large zooplankton\n",
    "    dat = item.nlgz\n",
    "    dat_numpy = dat.values\n",
    "    dat_numpy=dat_numpy[~np.isnan(dat_numpy)]\n",
    "    nlgz.append(dat_numpy)\n",
    "# nsm: Small phytoplankton\n",
    "    dat = item.nsm\n",
    "    dat_numpy = dat.values\n",
    "    dat_numpy=dat_numpy[~np.isnan(dat_numpy)]\n",
    "    nsm.append(dat_numpy)\n",
    "# nlg: Large phytoplankton\n",
    "    dat = item.nlg\n",
    "    dat_numpy = dat.values\n",
    "    dat_numpy=dat_numpy[~np.isnan(dat_numpy)]\n",
    "    nlg.append(dat_numpy)"
   ]
  },
  {
   "cell_type": "code",
   "execution_count": 88,
   "metadata": {},
   "outputs": [],
   "source": [
    "### Change the selection object each time you change the list...\n",
    "selection = nsm\n",
    "\n",
    "# Creating 12-unit date list, 3-unit sector list, and empty list to store organized values:\n",
    "date = ['01-01-2014','02-01-2014','03-01-2014','04-01-2014','05-01-2014','06-01-2014','07-01-2014','08-01-2014',\n",
    "        '09-01-2014','10-01-2014','11-01-2014','12-01-2014']\n",
    "sector=['NB','CB','SB']\n",
    "list_for_dataframe=[]\n",
    "\n",
    "# Iterating sequentially (i) through each array (element) in the list of arrays (selection)\n",
    "for element in selection:\n",
    "    for i in range(0,36):\n",
    "        this_month = date[i//3] # integer division: 0,1,2//3 returns same val (0); 3,4,5 returns same val (1)...\n",
    "        this_sector = sector[i%3] # this moves faster- every other element, sequence of 3\n",
    "        for sub_element in element:\n",
    "            list_for_dataframe.append(\n",
    "                {'month': this_month, 'sector': this_sector, 'concentration': sub_element})\n",
    "        \n",
    "# The loop above produces a list of dicts"
   ]
  },
  {
   "cell_type": "markdown",
   "metadata": {},
   "source": [
    "#### Change the group identifier each time"
   ]
  },
  {
   "cell_type": "code",
   "execution_count": 89,
   "metadata": {},
   "outputs": [
    {
     "name": "stdout",
     "output_type": "stream",
     "text": [
      "2801088\n"
     ]
    },
    {
     "data": {
      "text/html": [
       "<div>\n",
       "<style scoped>\n",
       "    .dataframe tbody tr th:only-of-type {\n",
       "        vertical-align: middle;\n",
       "    }\n",
       "\n",
       "    .dataframe tbody tr th {\n",
       "        vertical-align: top;\n",
       "    }\n",
       "\n",
       "    .dataframe thead th {\n",
       "        text-align: right;\n",
       "    }\n",
       "</style>\n",
       "<table border=\"1\" class=\"dataframe\">\n",
       "  <thead>\n",
       "    <tr style=\"text-align: right;\">\n",
       "      <th></th>\n",
       "      <th>month</th>\n",
       "      <th>sector</th>\n",
       "      <th>concentration</th>\n",
       "      <th>group</th>\n",
       "      <th>year</th>\n",
       "    </tr>\n",
       "  </thead>\n",
       "  <tbody>\n",
       "    <tr>\n",
       "      <td>0</td>\n",
       "      <td>01-01-2014</td>\n",
       "      <td>NB</td>\n",
       "      <td>4.616109e-08</td>\n",
       "      <td>nsm</td>\n",
       "      <td>2014</td>\n",
       "    </tr>\n",
       "    <tr>\n",
       "      <td>1</td>\n",
       "      <td>01-01-2014</td>\n",
       "      <td>NB</td>\n",
       "      <td>4.620185e-08</td>\n",
       "      <td>nsm</td>\n",
       "      <td>2014</td>\n",
       "    </tr>\n",
       "    <tr>\n",
       "      <td>2</td>\n",
       "      <td>01-01-2014</td>\n",
       "      <td>NB</td>\n",
       "      <td>4.733561e-08</td>\n",
       "      <td>nsm</td>\n",
       "      <td>2014</td>\n",
       "    </tr>\n",
       "    <tr>\n",
       "      <td>3</td>\n",
       "      <td>01-01-2014</td>\n",
       "      <td>NB</td>\n",
       "      <td>4.706590e-08</td>\n",
       "      <td>nsm</td>\n",
       "      <td>2014</td>\n",
       "    </tr>\n",
       "    <tr>\n",
       "      <td>4</td>\n",
       "      <td>01-01-2014</td>\n",
       "      <td>NB</td>\n",
       "      <td>4.721580e-08</td>\n",
       "      <td>nsm</td>\n",
       "      <td>2014</td>\n",
       "    </tr>\n",
       "  </tbody>\n",
       "</table>\n",
       "</div>"
      ],
      "text/plain": [
       "        month sector  concentration group  year\n",
       "0  01-01-2014     NB   4.616109e-08   nsm  2014\n",
       "1  01-01-2014     NB   4.620185e-08   nsm  2014\n",
       "2  01-01-2014     NB   4.733561e-08   nsm  2014\n",
       "3  01-01-2014     NB   4.706590e-08   nsm  2014\n",
       "4  01-01-2014     NB   4.721580e-08   nsm  2014"
      ]
     },
     "execution_count": 89,
     "metadata": {},
     "output_type": "execute_result"
    }
   ],
   "source": [
    "df = pd.DataFrame(list_for_dataframe)\n",
    "\n",
    "# Add group identifier and year column\n",
    "df['group']='nsm'\n",
    "df['year']=2014\n",
    "print(len(df))\n",
    "df.head()"
   ]
  },
  {
   "cell_type": "markdown",
   "metadata": {},
   "source": [
    "#### Change the name each time to match the group"
   ]
  },
  {
   "cell_type": "code",
   "execution_count": 90,
   "metadata": {},
   "outputs": [],
   "source": [
    "nsm_df_2014 = df"
   ]
  },
  {
   "cell_type": "markdown",
   "metadata": {},
   "source": [
    "#### Concatenate all 2014 dataframes"
   ]
  },
  {
   "cell_type": "code",
   "execution_count": 93,
   "metadata": {},
   "outputs": [],
   "source": [
    "all_frames = [nsmz_df_2014,nmdz_df_2014,nlgz_df_2014,nsm_df_2014,nlg_df_2014]\n",
    "\n",
    "df_2014 = pd.concat(all_frames, axis=0)"
   ]
  },
  {
   "cell_type": "code",
   "execution_count": 117,
   "metadata": {},
   "outputs": [
    {
     "data": {
      "text/html": [
       "<div>\n",
       "<style scoped>\n",
       "    .dataframe tbody tr th:only-of-type {\n",
       "        vertical-align: middle;\n",
       "    }\n",
       "\n",
       "    .dataframe tbody tr th {\n",
       "        vertical-align: top;\n",
       "    }\n",
       "\n",
       "    .dataframe thead th {\n",
       "        text-align: right;\n",
       "    }\n",
       "</style>\n",
       "<table border=\"1\" class=\"dataframe\">\n",
       "  <thead>\n",
       "    <tr style=\"text-align: right;\">\n",
       "      <th></th>\n",
       "      <th>month</th>\n",
       "      <th>sector</th>\n",
       "      <th>concentration</th>\n",
       "      <th>group</th>\n",
       "      <th>year</th>\n",
       "    </tr>\n",
       "  </thead>\n",
       "  <tbody>\n",
       "    <tr>\n",
       "      <td>0</td>\n",
       "      <td>01-01-2014</td>\n",
       "      <td>NB</td>\n",
       "      <td>4.837016e-07</td>\n",
       "      <td>nsmz</td>\n",
       "      <td>2014</td>\n",
       "    </tr>\n",
       "    <tr>\n",
       "      <td>1</td>\n",
       "      <td>01-01-2014</td>\n",
       "      <td>NB</td>\n",
       "      <td>4.910902e-07</td>\n",
       "      <td>nsmz</td>\n",
       "      <td>2014</td>\n",
       "    </tr>\n",
       "    <tr>\n",
       "      <td>2</td>\n",
       "      <td>01-01-2014</td>\n",
       "      <td>NB</td>\n",
       "      <td>4.626904e-07</td>\n",
       "      <td>nsmz</td>\n",
       "      <td>2014</td>\n",
       "    </tr>\n",
       "    <tr>\n",
       "      <td>3</td>\n",
       "      <td>01-01-2014</td>\n",
       "      <td>NB</td>\n",
       "      <td>4.782062e-07</td>\n",
       "      <td>nsmz</td>\n",
       "      <td>2014</td>\n",
       "    </tr>\n",
       "    <tr>\n",
       "      <td>4</td>\n",
       "      <td>01-01-2014</td>\n",
       "      <td>NB</td>\n",
       "      <td>5.002344e-07</td>\n",
       "      <td>nsmz</td>\n",
       "      <td>2014</td>\n",
       "    </tr>\n",
       "  </tbody>\n",
       "</table>\n",
       "</div>"
      ],
      "text/plain": [
       "        month sector  concentration group  year\n",
       "0  01-01-2014     NB   4.837016e-07  nsmz  2014\n",
       "1  01-01-2014     NB   4.910902e-07  nsmz  2014\n",
       "2  01-01-2014     NB   4.626904e-07  nsmz  2014\n",
       "3  01-01-2014     NB   4.782062e-07  nsmz  2014\n",
       "4  01-01-2014     NB   5.002344e-07  nsmz  2014"
      ]
     },
     "execution_count": 117,
     "metadata": {},
     "output_type": "execute_result"
    }
   ],
   "source": [
    "df_2014.head()"
   ]
  },
  {
   "cell_type": "markdown",
   "metadata": {},
   "source": [
    "#### Concatenate the large year-distinct dfs"
   ]
  },
  {
   "cell_type": "code",
   "execution_count": 120,
   "metadata": {},
   "outputs": [],
   "source": [
    "yrs = [df_2013,df_2014]\n",
    "df_all = pd.concat(yrs, axis=0)"
   ]
  },
  {
   "cell_type": "markdown",
   "metadata": {},
   "source": [
    "#### Write dfs to file"
   ]
  },
  {
   "cell_type": "code",
   "execution_count": 123,
   "metadata": {},
   "outputs": [
    {
     "name": "stdout",
     "output_type": "stream",
     "text": [
      "/home/lindsay/hioekg-compare-years\n"
     ]
    }
   ],
   "source": [
    "%cd /home/lindsay/hioekg-compare-years/\n",
    "\n",
    "pd.DataFrame.to_csv(df_all, 'df_all.csv')"
   ]
  }
 ],
 "metadata": {
  "kernelspec": {
   "display_name": "Python 3",
   "language": "python",
   "name": "python3"
  },
  "language_info": {
   "codemirror_mode": {
    "name": "ipython",
    "version": 3
   },
   "file_extension": ".py",
   "mimetype": "text/x-python",
   "name": "python",
   "nbconvert_exporter": "python",
   "pygments_lexer": "ipython3",
   "version": "3.6.9"
  }
 },
 "nbformat": 4,
 "nbformat_minor": 2
}
