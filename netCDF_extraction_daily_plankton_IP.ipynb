{
 "cells": [
  {
   "cell_type": "markdown",
   "metadata": {},
   "source": [
    "## Data extraction: daily, plankton\n",
    "\n",
    "**References**:\n",
    "- https://machinelearningmastery.com/sarima-for-time-series-forecasting-in-python/\n",
    "- https://otexts.com/fpp2/stationarity.html"
   ]
  },
  {
   "cell_type": "markdown",
   "metadata": {},
   "source": [
    "Some notes....\n",
    "  - Seasonal Autoregressive Integrated Moving Average (SARIMA): method for time series forecasting with univariate data containing trends and seasonality.\n",
    "  - I may want to simply compute the Granger Causality for my time series."
   ]
  },
  {
   "cell_type": "markdown",
   "metadata": {},
   "source": [
    "#### Import modules"
   ]
  },
  {
   "cell_type": "code",
   "execution_count": 96,
   "metadata": {},
   "outputs": [],
   "source": [
    "import netCDF4\n",
    "from netCDF4 import Dataset\n",
    "import numpy as np\n",
    "import pandas as pd\n",
    "from pathlib import Path\n",
    "import os\n",
    "import seaborn as sns\n",
    "import matplotlib.pyplot as plt\n",
    "import xarray as xr\n",
    "import scipy.stats as stats\n",
    "import researchpy as rp\n",
    "import statsmodels.api as sm\n",
    "from statsmodels.formula.api import ols\n",
    "import plotly.graph_objects as go"
   ]
  },
  {
   "cell_type": "markdown",
   "metadata": {},
   "source": [
    "#### Define lists called in the forthcoming for loops"
   ]
  },
  {
   "cell_type": "code",
   "execution_count": 2,
   "metadata": {},
   "outputs": [],
   "source": [
    "sector = ['NB', 'CB', 'SB']\n",
    "time_code = ['00:00','03:00','06:00','09:00','12:00','15:00','18:00','21:00']\n",
    "date_2013 = ['January_4750','February_4780','March_4810','April_4840','May_4870','June_4900',\n",
    "             'July_4930','August_4960','September_4990','October_5020','November_5050', 'December_5080']\n",
    "date_2014 = ['January_5115','February_5145','March_5175','April_5205','May_5235','June_5265',\n",
    "             'July_5295','August_5325','September_5355','October_5385','November_5415', 'December_5445']\n",
    "day_2013 = ['4750','4780','4810','4840','4870','4900','4930','4960','4990','5020','5050', '5080']\n",
    "day_2014 = ['5115','5145','5175','5205','5235','5265','5295','5325','5355','5385','5415', '5445']"
   ]
  },
  {
   "cell_type": "markdown",
   "metadata": {},
   "source": [
    "## Loop through all months for each sector: 2013"
   ]
  },
  {
   "cell_type": "code",
   "execution_count": 38,
   "metadata": {},
   "outputs": [
    {
     "name": "stdout",
     "output_type": "stream",
     "text": [
      "/home/lindsay/hioekg-2013\n"
     ]
    }
   ],
   "source": [
    "# Reset the working directory before running the loops\n",
    "%pwd\n",
    "%cd /home/lindsay/hioekg-2013/\n",
    "\n",
    "# Add master list for the files collected by this first nested loop and group lists\n",
    "file_list = []\n",
    "nsmz=[]\n",
    "nmdz=[]\n",
    "nlgz=[]\n",
    "nsm=[]\n",
    "nlg=[]\n",
    "\n",
    "for i in range(0,12):\n",
    "    for j in range(0,3):\n",
    "        folder = '/home/lindsay/hioekg-2013/' + str(date_2013[i]) + '/'\n",
    "        os.chdir(folder)\n",
    "        file = xr.open_dataset(str(sector[j]) + '_all_var_surface_0' + str(day_2013[i]) + '.nc')\n",
    "        file_list.append(file)      \n",
    "\n",
    "for item in file_list: \n",
    "# nsmz: Small zooplankton\n",
    "    dat = item.nsmz\n",
    "    dat_numpy = dat.values\n",
    "    dat_numpy=dat_numpy[~np.isnan(dat_numpy)]\n",
    "    nsmz.append(dat_numpy)\n",
    "# nmdz: Medium zooplankton\n",
    "    dat = item.nmdz\n",
    "    dat_numpy = dat.values\n",
    "    dat_numpy=dat_numpy[~np.isnan(dat_numpy)]\n",
    "    nmdz.append(dat_numpy)\n",
    "# nlgz: Large zooplankton\n",
    "    dat = item.nlgz\n",
    "    dat_numpy = dat.values\n",
    "    dat_numpy=dat_numpy[~np.isnan(dat_numpy)]\n",
    "    nlgz.append(dat_numpy)\n",
    "# nsm: Small phytoplankton\n",
    "    dat = item.nsm\n",
    "    dat_numpy = dat.values\n",
    "    dat_numpy=dat_numpy[~np.isnan(dat_numpy)]\n",
    "    nsm.append(dat_numpy)\n",
    "# nlg: Large phytoplankton\n",
    "    dat = item.nlg\n",
    "    dat_numpy = dat.values\n",
    "    dat_numpy=dat_numpy[~np.isnan(dat_numpy)]\n",
    "    nlg.append(dat_numpy)"
   ]
  },
  {
   "cell_type": "markdown",
   "metadata": {},
   "source": [
    "Inspecting the elements of file_list indicates that the order of the arrays in my variable lists are as such:\n",
    "\n",
    "- Jan_NB, Jan_CB, Jan_SB, Feb_NB, Feb_CB, Feb_SB...and so on.\n",
    "\n",
    "My path forward:\n",
    "- Loop through each array element in each list\n",
    "- For elements 0-2, must join array with a Date list of '01-01-2013', 3-5 '02-01-2013'...\n",
    "- All elements joined with alternating Sector lists of NB, CB, SB...\n",
    "\n",
    "My approach at this point is to extract elements in groups of 3 and tailor each for loop accordingly.\n",
    "\n",
    "Then, run this loop for 2014, and for the other variables, and append those lists to this master df. This will make plotting and further manipulation pretty easy."
   ]
  },
  {
   "cell_type": "markdown",
   "metadata": {},
   "source": [
    "#### Classifying values by time, sector"
   ]
  },
  {
   "cell_type": "code",
   "execution_count": 39,
   "metadata": {},
   "outputs": [],
   "source": [
    "# Creating 12-unit date list and month list, 3-unit sector list, and empty list to store organized values:\n",
    "date = ['01-01-2013','02-01-2013','03-01-2013','04-01-2013','05-01-2013','06-01-2013','07-01-2013','08-01-2013',\n",
    "        '09-01-2013','10-01-2013','11-01-2013','12-01-2013']\n",
    "#month=['01','02','03','04','05','06','07','08','09','10','11','12']\n",
    "month=['Jan','Feb','Mar','Apr','May','Jun','Jul','Aug','Sep','Oct','Nov','Dec']\n",
    "sector=['NB','CB','SB']\n",
    "\n",
    "# Store my dfs separately for my own benefit in error reduction\n",
    "list_for_dataframe_nsmz_2013=[]\n",
    "list_for_dataframe_nmdz_2013=[]\n",
    "list_for_dataframe_nlgz_2013=[]\n",
    "list_for_dataframe_nsm_2013=[]\n",
    "list_for_dataframe_nlg_2013=[]"
   ]
  },
  {
   "cell_type": "markdown",
   "metadata": {},
   "source": [
    "#### nsmz (2013)"
   ]
  },
  {
   "cell_type": "code",
   "execution_count": 40,
   "metadata": {},
   "outputs": [
    {
     "name": "stdout",
     "output_type": "stream",
     "text": [
      "/home/lindsay/hioekg-2013\n",
      "77808\n",
      "/home/lindsay/hioekg-compare-years\n"
     ]
    }
   ],
   "source": [
    "%cd /home/lindsay/hioekg-2013\n",
    "\n",
    "# Iterating sequentially (i) through each array (element) in the list of arrays (selection)\n",
    "for i,element in enumerate(nsmz):\n",
    "    this_date = date[i//3] # integer division: 0,1,2//3 returns same val (0); 3,4,5 returns same val (1)...\n",
    "    this_month = month[i//3] # integer division: 0,1,2//3 returns same val (0); 3,4,5 returns same val (1)...\n",
    "    this_sector = sector[i%3] # this moves faster- every other element, sequence of 3\n",
    "    for sub_element in element:\n",
    "        list_for_dataframe_nsmz_2013.append(\n",
    "            {'month': this_month, 'date': this_date, 'sector': this_sector, 'concentration': sub_element})\n",
    "\n",
    "nsmz_df_2013 = pd.DataFrame(list_for_dataframe_nsmz_2013)\n",
    "# Add group identifier and year column\n",
    "nsmz_df_2013['group']='nsmz'\n",
    "nsmz_df_2013['year']=2013\n",
    "print(len(nsmz_df_2013))\n",
    "nsmz_df_2013.head()\n",
    "\n",
    "%cd /home/lindsay/hioekg-compare-years/\n",
    "pd.DataFrame.to_csv(nsmz_df_2013,'nsmz_df_2013.csv')"
   ]
  },
  {
   "cell_type": "markdown",
   "metadata": {},
   "source": [
    "#### nmdz (2013)"
   ]
  },
  {
   "cell_type": "code",
   "execution_count": 41,
   "metadata": {},
   "outputs": [
    {
     "name": "stdout",
     "output_type": "stream",
     "text": [
      "/home/lindsay/hioekg-2013\n",
      "77808\n",
      "/home/lindsay/hioekg-compare-years\n"
     ]
    }
   ],
   "source": [
    "%cd /home/lindsay/hioekg-2013\n",
    "\n",
    "# Iterating sequentially (i) through each array (element) in the list of arrays (selection)\n",
    "for i,element in enumerate(nmdz):\n",
    "    this_date = date[i//3] # integer division: 0,1,2//3 returns same val (0); 3,4,5 returns same val (1)...\n",
    "    this_month = month[i//3] # integer division: 0,1,2//3 returns same val (0); 3,4,5 returns same val (1)...\n",
    "    this_sector = sector[i%3] # this moves faster- every other element, sequence of 3\n",
    "    for sub_element in element:\n",
    "        list_for_dataframe_nmdz_2013.append(\n",
    "            {'month': this_month, 'date': this_date, 'sector': this_sector, 'concentration': sub_element})\n",
    "\n",
    "nmdz_df_2013 = pd.DataFrame(list_for_dataframe_nmdz_2013)\n",
    "# Add group identifier and year column\n",
    "nmdz_df_2013['group']='nmdz'\n",
    "nmdz_df_2013['year']=2013\n",
    "print(len(nmdz_df_2013))\n",
    "nmdz_df_2013.head()\n",
    "\n",
    "%cd /home/lindsay/hioekg-compare-years/\n",
    "pd.DataFrame.to_csv(nmdz_df_2013,'nmdz_df_2013.csv')"
   ]
  },
  {
   "cell_type": "markdown",
   "metadata": {},
   "source": [
    "#### nlgz (2013)"
   ]
  },
  {
   "cell_type": "code",
   "execution_count": 42,
   "metadata": {},
   "outputs": [
    {
     "name": "stdout",
     "output_type": "stream",
     "text": [
      "/home/lindsay/hioekg-2013\n",
      "77808\n",
      "/home/lindsay/hioekg-compare-years\n"
     ]
    }
   ],
   "source": [
    "%cd /home/lindsay/hioekg-2013\n",
    "\n",
    "# Iterating sequentially (i) through each array (element) in the list of arrays (selection)\n",
    "for i,element in enumerate(nlgz):\n",
    "    this_date = date[i//3] # integer division: 0,1,2//3 returns same val (0); 3,4,5 returns same val (1)...\n",
    "    this_month = month[i//3] # integer division: 0,1,2//3 returns same val (0); 3,4,5 returns same val (1)...\n",
    "    this_sector = sector[i%3] # this moves faster- every other element, sequence of 3\n",
    "    for sub_element in element:\n",
    "        list_for_dataframe_nlgz_2013.append(\n",
    "            {'month': this_month, 'date': this_date, 'sector': this_sector, 'concentration': sub_element})\n",
    "\n",
    "nlgz_df_2013 = pd.DataFrame(list_for_dataframe_nlgz_2013)\n",
    "# Add group identifier and year column\n",
    "nlgz_df_2013['group']='nlgz'\n",
    "nlgz_df_2013['year']=2013\n",
    "print(len(nlgz_df_2013))\n",
    "nlgz_df_2013.head()\n",
    "\n",
    "%cd /home/lindsay/hioekg-compare-years/\n",
    "pd.DataFrame.to_csv(nlgz_df_2013,'nlgz_df_2013.csv')"
   ]
  },
  {
   "cell_type": "markdown",
   "metadata": {},
   "source": [
    "#### nsm"
   ]
  },
  {
   "cell_type": "code",
   "execution_count": 43,
   "metadata": {},
   "outputs": [
    {
     "name": "stdout",
     "output_type": "stream",
     "text": [
      "/home/lindsay/hioekg-2013\n",
      "77808\n",
      "/home/lindsay/hioekg-compare-years\n"
     ]
    }
   ],
   "source": [
    "%cd /home/lindsay/hioekg-2013\n",
    "\n",
    "# Iterating sequentially (i) through each array (element) in the list of arrays (selection)\n",
    "for i,element in enumerate(nsm):\n",
    "    this_date = date[i//3] # integer division: 0,1,2//3 returns same val (0); 3,4,5 returns same val (1)...\n",
    "    this_month = month[i//3] # integer division: 0,1,2//3 returns same val (0); 3,4,5 returns same val (1)...\n",
    "    this_sector = sector[i%3] # this moves faster- every other element, sequence of 3\n",
    "    for sub_element in element:\n",
    "        list_for_dataframe_nsm_2013.append(\n",
    "            {'month': this_month, 'date': this_date, 'sector': this_sector, 'concentration': sub_element})\n",
    "\n",
    "nsm_df_2013 = pd.DataFrame(list_for_dataframe_nsm_2013)\n",
    "# Add group identifier and year column\n",
    "nsm_df_2013['group']='nsm'\n",
    "nsm_df_2013['year']=2013\n",
    "print(len(nsm_df_2013))\n",
    "nsm_df_2013.head()\n",
    "\n",
    "%cd /home/lindsay/hioekg-compare-years/\n",
    "pd.DataFrame.to_csv(nsm_df_2013,'nsm_df_2013.csv')"
   ]
  },
  {
   "cell_type": "markdown",
   "metadata": {},
   "source": [
    "#### nlg"
   ]
  },
  {
   "cell_type": "code",
   "execution_count": 44,
   "metadata": {},
   "outputs": [
    {
     "name": "stdout",
     "output_type": "stream",
     "text": [
      "/home/lindsay/hioekg-2013\n",
      "77808\n",
      "/home/lindsay/hioekg-compare-years\n"
     ]
    }
   ],
   "source": [
    "%cd /home/lindsay/hioekg-2013\n",
    "\n",
    "# Iterating sequentially (i) through each array (element) in the list of arrays (selection)\n",
    "for i,element in enumerate(nlg):\n",
    "    this_date = date[i//3] # integer division: 0,1,2//3 returns same val (0); 3,4,5 returns same val (1)...\n",
    "    this_month = month[i//3] # integer division: 0,1,2//3 returns same val (0); 3,4,5 returns same val (1)...\n",
    "    this_sector = sector[i%3] # this moves faster- every other element, sequence of 3\n",
    "    for sub_element in element:\n",
    "        list_for_dataframe_nlg_2013.append(\n",
    "            {'month': this_month, 'date': this_date, 'sector': this_sector, 'concentration': sub_element})\n",
    "\n",
    "nlg_df_2013 = pd.DataFrame(list_for_dataframe_nlg_2013)\n",
    "# Add group identifier and year column\n",
    "nlg_df_2013['group']='nlg'\n",
    "nlg_df_2013['year']=2013\n",
    "print(len(nlg_df_2013))\n",
    "nlg_df_2013.head()\n",
    "\n",
    "%cd /home/lindsay/hioekg-compare-years/\n",
    "pd.DataFrame.to_csv(nlg_df_2013,'nlg_df_2013.csv')"
   ]
  },
  {
   "cell_type": "markdown",
   "metadata": {},
   "source": [
    "#### Concatenate all dataframes"
   ]
  },
  {
   "cell_type": "code",
   "execution_count": 45,
   "metadata": {},
   "outputs": [
    {
     "data": {
      "text/html": [
       "<div>\n",
       "<style scoped>\n",
       "    .dataframe tbody tr th:only-of-type {\n",
       "        vertical-align: middle;\n",
       "    }\n",
       "\n",
       "    .dataframe tbody tr th {\n",
       "        vertical-align: top;\n",
       "    }\n",
       "\n",
       "    .dataframe thead th {\n",
       "        text-align: right;\n",
       "    }\n",
       "</style>\n",
       "<table border=\"1\" class=\"dataframe\">\n",
       "  <thead>\n",
       "    <tr style=\"text-align: right;\">\n",
       "      <th></th>\n",
       "      <th>month</th>\n",
       "      <th>date</th>\n",
       "      <th>sector</th>\n",
       "      <th>concentration</th>\n",
       "      <th>group</th>\n",
       "      <th>year</th>\n",
       "    </tr>\n",
       "  </thead>\n",
       "  <tbody>\n",
       "    <tr>\n",
       "      <td>77803</td>\n",
       "      <td>Dec</td>\n",
       "      <td>12-01-2013</td>\n",
       "      <td>SB</td>\n",
       "      <td>7.168995e-08</td>\n",
       "      <td>nlg</td>\n",
       "      <td>2013</td>\n",
       "    </tr>\n",
       "    <tr>\n",
       "      <td>77804</td>\n",
       "      <td>Dec</td>\n",
       "      <td>12-01-2013</td>\n",
       "      <td>SB</td>\n",
       "      <td>7.165477e-08</td>\n",
       "      <td>nlg</td>\n",
       "      <td>2013</td>\n",
       "    </tr>\n",
       "    <tr>\n",
       "      <td>77805</td>\n",
       "      <td>Dec</td>\n",
       "      <td>12-01-2013</td>\n",
       "      <td>SB</td>\n",
       "      <td>7.163389e-08</td>\n",
       "      <td>nlg</td>\n",
       "      <td>2013</td>\n",
       "    </tr>\n",
       "    <tr>\n",
       "      <td>77806</td>\n",
       "      <td>Dec</td>\n",
       "      <td>12-01-2013</td>\n",
       "      <td>SB</td>\n",
       "      <td>7.162012e-08</td>\n",
       "      <td>nlg</td>\n",
       "      <td>2013</td>\n",
       "    </tr>\n",
       "    <tr>\n",
       "      <td>77807</td>\n",
       "      <td>Dec</td>\n",
       "      <td>12-01-2013</td>\n",
       "      <td>SB</td>\n",
       "      <td>7.161326e-08</td>\n",
       "      <td>nlg</td>\n",
       "      <td>2013</td>\n",
       "    </tr>\n",
       "  </tbody>\n",
       "</table>\n",
       "</div>"
      ],
      "text/plain": [
       "      month        date sector  concentration group  year\n",
       "77803   Dec  12-01-2013     SB   7.168995e-08   nlg  2013\n",
       "77804   Dec  12-01-2013     SB   7.165477e-08   nlg  2013\n",
       "77805   Dec  12-01-2013     SB   7.163389e-08   nlg  2013\n",
       "77806   Dec  12-01-2013     SB   7.162012e-08   nlg  2013\n",
       "77807   Dec  12-01-2013     SB   7.161326e-08   nlg  2013"
      ]
     },
     "execution_count": 45,
     "metadata": {},
     "output_type": "execute_result"
    }
   ],
   "source": [
    "all_frames = [nsmz_df_2013,nmdz_df_2013,nlgz_df_2013,nsm_df_2013,nlg_df_2013]\n",
    "\n",
    "df_2013 = pd.concat(all_frames, axis=0)\n",
    "df_2013.tail()"
   ]
  },
  {
   "cell_type": "markdown",
   "metadata": {},
   "source": [
    "## Loop through each sector: 2014"
   ]
  },
  {
   "cell_type": "code",
   "execution_count": 46,
   "metadata": {},
   "outputs": [
    {
     "name": "stdout",
     "output_type": "stream",
     "text": [
      "/home/lindsay/hioekg-2014\n"
     ]
    }
   ],
   "source": [
    "# Reset the working directory before running the loops\n",
    "%pwd\n",
    "%cd /home/lindsay/hioekg-2014/\n",
    "\n",
    "# Add master list for the files collected by this first nested loop and group lists\n",
    "file_list = []\n",
    "nsmz=[]\n",
    "nmdz=[]\n",
    "nlgz=[]\n",
    "nsm=[]\n",
    "nlg=[]\n",
    "\n",
    "for i in range(0,12):\n",
    "    for j in range(0,3):\n",
    "        folder = '/home/lindsay/hioekg-2014/' + str(date_2014[i]) + '/'\n",
    "        os.chdir(folder)\n",
    "        file = xr.open_dataset(str(sector[j]) + '_all_var_surface_0' + str(day_2014[i]) + '.nc')\n",
    "        file_list.append(file)      \n",
    "\n",
    "for item in file_list: \n",
    "# nsmz: Small zooplankton\n",
    "    dat = item.nsmz\n",
    "    dat_numpy = dat.values\n",
    "    dat_numpy=dat_numpy[~np.isnan(dat_numpy)]\n",
    "    nsmz.append(dat_numpy)\n",
    "# nmdz: Medium zooplankton\n",
    "    dat = item.nmdz\n",
    "    dat_numpy = dat.values\n",
    "    dat_numpy=dat_numpy[~np.isnan(dat_numpy)]\n",
    "    nmdz.append(dat_numpy)\n",
    "# nlgz: Large zooplankton\n",
    "    dat = item.nlgz\n",
    "    dat_numpy = dat.values\n",
    "    dat_numpy=dat_numpy[~np.isnan(dat_numpy)]\n",
    "    nlgz.append(dat_numpy)\n",
    "# nsm: Small phytoplankton\n",
    "    dat = item.nsm\n",
    "    dat_numpy = dat.values\n",
    "    dat_numpy=dat_numpy[~np.isnan(dat_numpy)]\n",
    "    nsm.append(dat_numpy)\n",
    "# nlg: Large phytoplankton\n",
    "    dat = item.nlg\n",
    "    dat_numpy = dat.values\n",
    "    dat_numpy=dat_numpy[~np.isnan(dat_numpy)]\n",
    "    nlg.append(dat_numpy)"
   ]
  },
  {
   "cell_type": "code",
   "execution_count": 47,
   "metadata": {},
   "outputs": [],
   "source": [
    "# Creating 12-unit date list and month list, 3-unit sector list, and empty list to store organized values:\n",
    "date = ['01-01-2014','02-01-2014','03-01-2014','04-01-2014','05-01-2014','06-01-2014','07-01-2014','08-01-2014',\n",
    "        '09-01-2014','10-01-2014','11-01-2014','12-01-2014']\n",
    "#month=['01','02','03','04','05','06','07','08','09','10','11','12']\n",
    "month=['Jan','Feb','Mar','Apr','May','Jun','Jul','Aug','Sep','Oct','Nov','Dec']\n",
    "sector=['NB','CB','SB']\n",
    "\n",
    "# Store my dfs separately for my own benefit in error reduction\n",
    "list_for_dataframe_nsmz_2014=[]\n",
    "list_for_dataframe_nmdz_2014=[]\n",
    "list_for_dataframe_nlgz_2014=[]\n",
    "list_for_dataframe_nsm_2014=[]\n",
    "list_for_dataframe_nlg_2014=[]"
   ]
  },
  {
   "cell_type": "markdown",
   "metadata": {},
   "source": [
    "#### nsmz (2014)"
   ]
  },
  {
   "cell_type": "code",
   "execution_count": 48,
   "metadata": {},
   "outputs": [
    {
     "name": "stdout",
     "output_type": "stream",
     "text": [
      "/home/lindsay/hioekg-2014\n",
      "77808\n",
      "/home/lindsay/hioekg-compare-years\n"
     ]
    }
   ],
   "source": [
    "%cd /home/lindsay/hioekg-2014\n",
    "\n",
    "# Iterating sequentially (i) through each array (element) in the list of arrays (selection)\n",
    "for i,element in enumerate(nsmz):\n",
    "    this_date = date[i//3] # integer division: 0,1,2//3 returns same val (0); 3,4,5 returns same val (1)...\n",
    "    this_month = month[i//3] # integer division: 0,1,2//3 returns same val (0); 3,4,5 returns same val (1)...\n",
    "    this_sector = sector[i%3] # this moves faster- every other element, sequence of 3\n",
    "    for sub_element in element:\n",
    "        list_for_dataframe_nsmz_2014.append(\n",
    "            {'month': this_month, 'date': this_date, 'sector': this_sector, 'concentration': sub_element})\n",
    "\n",
    "nsmz_df_2014 = pd.DataFrame(list_for_dataframe_nsmz_2014)\n",
    "# Add group identifier and year column\n",
    "nsmz_df_2014['group']='nsmz'\n",
    "nsmz_df_2014['year']=2014\n",
    "print(len(nsmz_df_2014))\n",
    "nsmz_df_2014.head()\n",
    "\n",
    "%cd /home/lindsay/hioekg-compare-years/\n",
    "pd.DataFrame.to_csv(nsmz_df_2014,'nsmz_df_2014.csv')"
   ]
  },
  {
   "cell_type": "markdown",
   "metadata": {},
   "source": [
    "#### nmdz (2014)"
   ]
  },
  {
   "cell_type": "code",
   "execution_count": 49,
   "metadata": {},
   "outputs": [
    {
     "name": "stdout",
     "output_type": "stream",
     "text": [
      "/home/lindsay/hioekg-2014\n",
      "77808\n",
      "/home/lindsay/hioekg-compare-years\n"
     ]
    }
   ],
   "source": [
    "%cd /home/lindsay/hioekg-2014\n",
    "\n",
    "# Iterating sequentially (i) through each array (element) in the list of arrays (selection)\n",
    "for i,element in enumerate(nmdz):\n",
    "    this_date = date[i//3] # integer division: 0,1,2//3 returns same val (0); 3,4,5 returns same val (1)...\n",
    "    this_month = month[i//3] # integer division: 0,1,2//3 returns same val (0); 3,4,5 returns same val (1)...\n",
    "    this_sector = sector[i%3] # this moves faster- every other element, sequence of 3\n",
    "    for sub_element in element:\n",
    "        list_for_dataframe_nmdz_2014.append(\n",
    "            {'month': this_month, 'date': this_date, 'sector': this_sector, 'concentration': sub_element})\n",
    "\n",
    "nmdz_df_2014 = pd.DataFrame(list_for_dataframe_nmdz_2014)\n",
    "# Add group identifier and year column\n",
    "nmdz_df_2014['group']='nmdz'\n",
    "nmdz_df_2014['year']=2014\n",
    "print(len(nmdz_df_2014))\n",
    "nmdz_df_2014.head()\n",
    "\n",
    "%cd /home/lindsay/hioekg-compare-years/\n",
    "pd.DataFrame.to_csv(nmdz_df_2014,'nmdz_df_2014.csv')"
   ]
  },
  {
   "cell_type": "markdown",
   "metadata": {},
   "source": [
    "#### nlgz (2014)"
   ]
  },
  {
   "cell_type": "code",
   "execution_count": 50,
   "metadata": {},
   "outputs": [
    {
     "name": "stdout",
     "output_type": "stream",
     "text": [
      "/home/lindsay/hioekg-2014\n",
      "77808\n",
      "/home/lindsay/hioekg-compare-years\n"
     ]
    }
   ],
   "source": [
    "%cd /home/lindsay/hioekg-2014\n",
    "\n",
    "# Iterating sequentially (i) through each array (element) in the list of arrays (selection)\n",
    "for i,element in enumerate(nlgz):\n",
    "    this_date = date[i//3] # integer division: 0,1,2//3 returns same val (0); 3,4,5 returns same val (1)...\n",
    "    this_month = month[i//3] # integer division: 0,1,2//3 returns same val (0); 3,4,5 returns same val (1)...\n",
    "    this_sector = sector[i%3] # this moves faster- every other element, sequence of 3\n",
    "    for sub_element in element:\n",
    "        list_for_dataframe_nlgz_2014.append(\n",
    "            {'month': this_month, 'date': this_date, 'sector': this_sector, 'concentration': sub_element})\n",
    "\n",
    "nlgz_df_2014 = pd.DataFrame(list_for_dataframe_nlgz_2014)\n",
    "# Add group identifier and year column\n",
    "nlgz_df_2014['group']='nlgz'\n",
    "nlgz_df_2014['year']=2014\n",
    "print(len(nlgz_df_2014))\n",
    "nlgz_df_2014.head()\n",
    "\n",
    "%cd /home/lindsay/hioekg-compare-years/\n",
    "pd.DataFrame.to_csv(nlgz_df_2014,'nlgz_df_2014.csv')"
   ]
  },
  {
   "cell_type": "markdown",
   "metadata": {},
   "source": [
    "#### nsm (2014)"
   ]
  },
  {
   "cell_type": "code",
   "execution_count": 51,
   "metadata": {},
   "outputs": [
    {
     "name": "stdout",
     "output_type": "stream",
     "text": [
      "/home/lindsay/hioekg-2014\n",
      "77808\n",
      "/home/lindsay/hioekg-compare-years\n"
     ]
    }
   ],
   "source": [
    "%cd /home/lindsay/hioekg-2014\n",
    "\n",
    "# Iterating sequentially (i) through each array (element) in the list of arrays (selection)\n",
    "for i,element in enumerate(nsm):\n",
    "    this_date = date[i//3] # integer division: 0,1,2//3 returns same val (0); 3,4,5 returns same val (1)...\n",
    "    this_month = month[i//3] # integer division: 0,1,2//3 returns same val (0); 3,4,5 returns same val (1)...\n",
    "    this_sector = sector[i%3] # this moves faster- every other element, sequence of 3\n",
    "    for sub_element in element:\n",
    "        list_for_dataframe_nsm_2014.append(\n",
    "            {'month': this_month, 'date': this_date, 'sector': this_sector, 'concentration': sub_element})\n",
    "\n",
    "nsm_df_2014 = pd.DataFrame(list_for_dataframe_nsm_2014)\n",
    "# Add group identifier and year column\n",
    "nsm_df_2014['group']='nsm'\n",
    "nsm_df_2014['year']=2014\n",
    "print(len(nsm_df_2014))\n",
    "nsm_df_2014.head()\n",
    "\n",
    "%cd /home/lindsay/hioekg-compare-years/\n",
    "pd.DataFrame.to_csv(nsm_df_2014,'nsm_df_2014.csv')"
   ]
  },
  {
   "cell_type": "markdown",
   "metadata": {},
   "source": [
    "#### nlg (2014)"
   ]
  },
  {
   "cell_type": "code",
   "execution_count": 52,
   "metadata": {},
   "outputs": [
    {
     "name": "stdout",
     "output_type": "stream",
     "text": [
      "/home/lindsay/hioekg-2014\n",
      "77808\n",
      "/home/lindsay/hioekg-compare-years\n"
     ]
    }
   ],
   "source": [
    "%cd /home/lindsay/hioekg-2014\n",
    "\n",
    "# Iterating sequentially (i) through each array (element) in the list of arrays (selection)\n",
    "for i,element in enumerate(nlg):\n",
    "    this_date = date[i//3] # integer division: 0,1,2//3 returns same val (0); 3,4,5 returns same val (1)...\n",
    "    this_month = month[i//3] # integer division: 0,1,2//3 returns same val (0); 3,4,5 returns same val (1)...\n",
    "    this_sector = sector[i%3] # this moves faster- every other element, sequence of 3\n",
    "    for sub_element in element:\n",
    "        list_for_dataframe_nlg_2014.append(\n",
    "            {'month': this_month, 'date': this_date, 'sector': this_sector, 'concentration': sub_element})\n",
    "\n",
    "nlg_df_2014 = pd.DataFrame(list_for_dataframe_nlg_2014)\n",
    "# Add group identifier and year column\n",
    "nlg_df_2014['group']='nlg'\n",
    "nlg_df_2014['year']=2014\n",
    "print(len(nlg_df_2014))\n",
    "nlg_df_2014.head()\n",
    "\n",
    "%cd /home/lindsay/hioekg-compare-years/\n",
    "pd.DataFrame.to_csv(nlg_df_2014,'nlg_df_2014.csv')"
   ]
  },
  {
   "cell_type": "markdown",
   "metadata": {},
   "source": [
    "#### Concatenate all 2014 dataframes"
   ]
  },
  {
   "cell_type": "code",
   "execution_count": 53,
   "metadata": {},
   "outputs": [],
   "source": [
    "all_frames = [nsmz_df_2014,nmdz_df_2014,nlgz_df_2014,nsm_df_2014,nlg_df_2014]\n",
    "\n",
    "df_2014 = pd.concat(all_frames, axis=0)"
   ]
  },
  {
   "cell_type": "code",
   "execution_count": 54,
   "metadata": {},
   "outputs": [],
   "source": [
    "df_2014.head()\n",
    "pd.DataFrame.to_csv(df_2014,'df_2014.csv')"
   ]
  },
  {
   "cell_type": "markdown",
   "metadata": {},
   "source": [
    "#### Concatenate the large year-distinct dfs"
   ]
  },
  {
   "cell_type": "code",
   "execution_count": 55,
   "metadata": {},
   "outputs": [],
   "source": [
    "yrs = [df_2013,df_2014]\n",
    "df_all = pd.concat(yrs, axis=0)"
   ]
  },
  {
   "cell_type": "markdown",
   "metadata": {},
   "source": [
    "#### Write dfs to file"
   ]
  },
  {
   "cell_type": "code",
   "execution_count": 56,
   "metadata": {},
   "outputs": [
    {
     "name": "stdout",
     "output_type": "stream",
     "text": [
      "/home/lindsay/hioekg-compare-years\n"
     ]
    }
   ],
   "source": [
    "%cd /home/lindsay/hioekg-compare-years/\n",
    "\n",
    "pd.DataFrame.to_csv(df_all, 'df_all.csv')"
   ]
  },
  {
   "cell_type": "markdown",
   "metadata": {},
   "source": [
    "##### For use if/when the kernel dies:"
   ]
  },
  {
   "cell_type": "code",
   "execution_count": 57,
   "metadata": {},
   "outputs": [
    {
     "name": "stdout",
     "output_type": "stream",
     "text": [
      "/home/lindsay/hioekg-compare-years\n"
     ]
    }
   ],
   "source": [
    "%cd /home/lindsay/hioekg-compare-years/\n",
    "\n",
    "nsmz_df_2013=pd.read_csv('nsmz_df_2013.csv')\n",
    "nmdz_df_2013=pd.read_csv('nmdz_df_2013.csv')\n",
    "nlgz_df_2013=pd.read_csv('nlgz_df_2013.csv')\n",
    "nsm_df_2013=pd.read_csv('nsm_df_2013.csv')\n",
    "nlg_df_2013=pd.read_csv('nlg_df_2013.csv')\n",
    "\n",
    "nsmz_df_2014=pd.read_csv('nsmz_df_2014.csv')\n",
    "nmdz_df_2014=pd.read_csv('nmdz_df_2014.csv')\n",
    "nlgz_df_2014=pd.read_csv('nlgz_df_2014.csv')\n",
    "nsm_df_2014=pd.read_csv('nsm_df_2014.csv')\n",
    "nlg_df_2014=pd.read_csv('nlg_df_2014.csv')\n",
    "\n",
    "df_all=pd.read_csv('df_all.csv')"
   ]
  },
  {
   "cell_type": "markdown",
   "metadata": {},
   "source": [
    "### Statistical fun(ctions)\n",
    "\n",
    "I really care about the large zooplankton. So let's see if I should care, statistically speaking.\n",
    "\n",
    "#### Paired sample t-test *or* Wilcoxon signed-rank test\n",
    "I want to see if there are differences in the mean concentrations of each group comparing the same month in 2013 v. 2014.\n",
    "- The t score is a ratio between the difference between two groups and the difference within the groups. The larger the t score, the more difference there is between groups. The smaller the t score, the more similarity there is between groups. A t score of 3 means that the groups are three times as different from each other as they are within each other. When you run a t test, the bigger the t-value, the more likely it is that the results are repeatable.\n",
    "- I am going to look at the month-to-month t-scores for each group.\n",
    "- The paired t-test assumes normality of the differences between groups. To test this, I am going run the Shapiro-Wilk test for normality. If the [W-value is small](https://emilkirkegaard.dk/en/?p=4452) (<0.99) and the p-value is significant (<0.05), the group fails the test and the Wilcoxon signed-rank test is a good non-parametric alternative."
   ]
  },
  {
   "cell_type": "code",
   "execution_count": 76,
   "metadata": {},
   "outputs": [
    {
     "name": "stderr",
     "output_type": "stream",
     "text": [
      "/home/lindsay/anaconda3/lib/python3.6/site-packages/ipykernel_launcher.py:7: FutureWarning: Sorting because non-concatenation axis is not aligned. A future version\n",
      "of pandas will change to not sort by default.\n",
      "\n",
      "To accept the future behavior, pass 'sort=False'.\n",
      "\n",
      "To retain the current behavior and silence the warning, pass 'sort=True'.\n",
      "\n",
      "  import sys\n",
      "/home/lindsay/anaconda3/lib/python3.6/site-packages/ipykernel_launcher.py:8: FutureWarning: Sorting because non-concatenation axis is not aligned. A future version\n",
      "of pandas will change to not sort by default.\n",
      "\n",
      "To accept the future behavior, pass 'sort=False'.\n",
      "\n",
      "To retain the current behavior and silence the warning, pass 'sort=True'.\n",
      "\n",
      "  \n",
      "/home/lindsay/anaconda3/lib/python3.6/site-packages/ipykernel_launcher.py:9: FutureWarning: Sorting because non-concatenation axis is not aligned. A future version\n",
      "of pandas will change to not sort by default.\n",
      "\n",
      "To accept the future behavior, pass 'sort=False'.\n",
      "\n",
      "To retain the current behavior and silence the warning, pass 'sort=True'.\n",
      "\n",
      "  if __name__ == '__main__':\n",
      "/home/lindsay/anaconda3/lib/python3.6/site-packages/ipykernel_launcher.py:10: FutureWarning: Sorting because non-concatenation axis is not aligned. A future version\n",
      "of pandas will change to not sort by default.\n",
      "\n",
      "To accept the future behavior, pass 'sort=False'.\n",
      "\n",
      "To retain the current behavior and silence the warning, pass 'sort=True'.\n",
      "\n",
      "  # Remove the CWD from sys.path while we load stuff.\n",
      "/home/lindsay/anaconda3/lib/python3.6/site-packages/ipykernel_launcher.py:11: FutureWarning: Sorting because non-concatenation axis is not aligned. A future version\n",
      "of pandas will change to not sort by default.\n",
      "\n",
      "To accept the future behavior, pass 'sort=False'.\n",
      "\n",
      "To retain the current behavior and silence the warning, pass 'sort=True'.\n",
      "\n",
      "  # This is added back by InteractiveShellApp.init_path()\n"
     ]
    }
   ],
   "source": [
    "nsmz_yrs = [nsmz_df_2013,nsmz_df_2014]\n",
    "nmdz_yrs = [nmdz_df_2013,nmdz_df_2014]\n",
    "nlgz_yrs = [nlgz_df_2013,nlgz_df_2014]\n",
    "nsm_yrs = [nsm_df_2013,nsm_df_2014]\n",
    "nlg_yrs = [nlg_df_2013,nlg_df_2014]\n",
    "\n",
    "nsmz_df = pd.concat(nsmz_yrs, axis=0)\n",
    "nmdz_df = pd.concat(nmdz_yrs, axis=0)\n",
    "nlgz_df = pd.concat(nlgz_yrs, axis=0)\n",
    "nsm_df = pd.concat(nsm_yrs, axis=0)\n",
    "nlg_df = pd.concat(nlg_yrs, axis=0)"
   ]
  },
  {
   "cell_type": "markdown",
   "metadata": {},
   "source": [
    "#### Testing for normality for each group year-to-year"
   ]
  },
  {
   "cell_type": "code",
   "execution_count": 79,
   "metadata": {},
   "outputs": [
    {
     "name": "stdout",
     "output_type": "stream",
     "text": [
      "nsmz:\n",
      "(0.19189798831939697, 0.0)\n",
      "nmdz:\n",
      "(0.6648262143135071, 0.0)\n",
      "nlgz:\n",
      "(0.8492623567581177, 0.0)\n",
      "nsm:\n",
      "(0.7858284711837769, 0.0)\n",
      "nlg:\n",
      "(0.44932371377944946, 0.0)\n"
     ]
    }
   ],
   "source": [
    "nsmz_df_2014['nsmz_difference'] = abs(nsmz_df_2014['concentration'] - nsmz_df_2013['concentration'])\n",
    "print(str('nsmz:'))\n",
    "print(stats.shapiro(nsmz_df_2014['nsmz_difference']))\n",
    "\n",
    "nmdz_df_2014['nmdz_difference'] = abs(nmdz_df_2014['concentration'] - nmdz_df_2013['concentration'])\n",
    "print(str('nmdz:'))\n",
    "print(stats.shapiro(nmdz_df_2014['nmdz_difference']))\n",
    "\n",
    "nlgz_df_2014['nlgz_difference'] = abs(nlgz_df_2014['concentration'] - nlgz_df_2013['concentration'])\n",
    "print(str('nlgz:'))\n",
    "print(stats.shapiro(nlgz_df_2014['nlgz_difference']))\n",
    "\n",
    "nsm_df_2014['nsm_difference'] = abs(nsm_df_2014['concentration'] - nsm_df_2013['concentration'])\n",
    "print(str('nsm:'))\n",
    "print(stats.shapiro(nsm_df_2014['nsm_difference']))\n",
    "\n",
    "nlg_df_2014['nlg_difference'] = abs(nlg_df_2014['concentration'] - nlg_df_2013['concentration'])\n",
    "print(str('nlg:'))\n",
    "print(stats.shapiro(nlg_df_2014['nlg_difference']))"
   ]
  },
  {
   "cell_type": "markdown",
   "metadata": {},
   "source": [
    "Indeed, I can't assume normality from any of these groups, and that is fine and not terribly surprising. "
   ]
  },
  {
   "cell_type": "markdown",
   "metadata": {},
   "source": [
    "#### Wilcoxon sign-ranked test\n",
    "\n",
    "Assumptions are all met:\n",
    "- The dependent variable (DV) must be continuous which is measured on an ordinal or continuous scale\n",
    "- The paired observations are randomly and independently drawn\n",
    "- The paired observations come from the same population\n",
    "\n",
    "I am interested in how statistically important the differences in monthly means are for the same group in different years."
   ]
  },
  {
   "cell_type": "markdown",
   "metadata": {},
   "source": [
    "##### nsmz"
   ]
  },
  {
   "cell_type": "code",
   "execution_count": 80,
   "metadata": {},
   "outputs": [],
   "source": [
    "nsmz_Jan_2013= nsmz_df_2013.loc[nsmz_df_2013['month']=='Jan']\n",
    "nsmz_Feb_2013= nsmz_df_2013.loc[nsmz_df_2013['month']=='Feb']\n",
    "nsmz_Mar_2013= nsmz_df_2013.loc[nsmz_df_2013['month']=='Mar']\n",
    "nsmz_Apr_2013= nsmz_df_2013.loc[nsmz_df_2013['month']=='Apr']\n",
    "nsmz_May_2013= nsmz_df_2013.loc[nsmz_df_2013['month']=='May']\n",
    "nsmz_Jun_2013= nsmz_df_2013.loc[nsmz_df_2013['month']=='Jun']\n",
    "nsmz_Jul_2013= nsmz_df_2013.loc[nsmz_df_2013['month']=='Jul']\n",
    "nsmz_Aug_2013= nsmz_df_2013.loc[nsmz_df_2013['month']=='Aug']\n",
    "nsmz_Sep_2013= nsmz_df_2013.loc[nsmz_df_2013['month']=='Sep']\n",
    "nsmz_Oct_2013= nsmz_df_2013.loc[nsmz_df_2013['month']=='Oct']\n",
    "nsmz_Nov_2013= nsmz_df_2013.loc[nsmz_df_2013['month']=='Nov']\n",
    "nsmz_Dec_2013= nsmz_df_2013.loc[nsmz_df_2013['month']=='Dec']\n",
    "\n",
    "nsmz_Jan_2014= nsmz_df_2014.loc[nsmz_df_2014['month']=='Jan']\n",
    "nsmz_Feb_2014= nsmz_df_2014.loc[nsmz_df_2014['month']=='Feb']\n",
    "nsmz_Mar_2014= nsmz_df_2014.loc[nsmz_df_2014['month']=='Mar']\n",
    "nsmz_Apr_2014= nsmz_df_2014.loc[nsmz_df_2014['month']=='Apr']\n",
    "nsmz_May_2014= nsmz_df_2014.loc[nsmz_df_2014['month']=='May']\n",
    "nsmz_Jun_2014= nsmz_df_2014.loc[nsmz_df_2014['month']=='Jun']\n",
    "nsmz_Jul_2014= nsmz_df_2014.loc[nsmz_df_2014['month']=='Jul']\n",
    "nsmz_Aug_2014= nsmz_df_2014.loc[nsmz_df_2014['month']=='Aug']\n",
    "nsmz_Sep_2014= nsmz_df_2014.loc[nsmz_df_2014['month']=='Sep']\n",
    "nsmz_Oct_2014= nsmz_df_2014.loc[nsmz_df_2014['month']=='Oct']\n",
    "nsmz_Nov_2014= nsmz_df_2014.loc[nsmz_df_2014['month']=='Nov']\n",
    "nsmz_Dec_2014= nsmz_df_2014.loc[nsmz_df_2014['month']=='Dec']"
   ]
  },
  {
   "cell_type": "code",
   "execution_count": 81,
   "metadata": {},
   "outputs": [
    {
     "name": "stdout",
     "output_type": "stream",
     "text": [
      "Jan nsmz:\n",
      "WilcoxonResult(statistic=0.0, pvalue=0.0)\n",
      "Feb nsmz:\n",
      "WilcoxonResult(statistic=0.0, pvalue=0.0)\n",
      "Mar nsmz:\n",
      "WilcoxonResult(statistic=0.0, pvalue=0.0)\n",
      "Apr nsmz:\n",
      "WilcoxonResult(statistic=0.0, pvalue=0.0)\n",
      "May nsmz:\n",
      "WilcoxonResult(statistic=0.0, pvalue=0.0)\n",
      "Jun nsmz:\n",
      "WilcoxonResult(statistic=0.0, pvalue=0.0)\n",
      "Jul nsmz:\n",
      "WilcoxonResult(statistic=0.0, pvalue=0.0)\n",
      "Aug nsmz:\n",
      "WilcoxonResult(statistic=0.0, pvalue=0.0)\n",
      "Sep nsmz:\n",
      "WilcoxonResult(statistic=0.0, pvalue=0.0)\n",
      "Oct nsmz:\n",
      "WilcoxonResult(statistic=0.0, pvalue=0.0)\n",
      "Nov nsmz:\n",
      "WilcoxonResult(statistic=0.0, pvalue=0.0)\n",
      "Dec nsmz:\n",
      "WilcoxonResult(statistic=0.0, pvalue=0.0)\n"
     ]
    }
   ],
   "source": [
    "print(str('Jan nsmz:'))\n",
    "print(stats.wilcoxon(nsmz_Jan_2014['nsmz_difference']))\n",
    "print(str('Feb nsmz:'))\n",
    "print(stats.wilcoxon(nsmz_Feb_2014['nsmz_difference']))    \n",
    "print(str('Mar nsmz:'))\n",
    "print(stats.wilcoxon(nsmz_Mar_2014['nsmz_difference']))  \n",
    "print(str('Apr nsmz:'))\n",
    "print(stats.wilcoxon(nsmz_Apr_2014['nsmz_difference']))\n",
    "print(str('May nsmz:'))\n",
    "print(stats.wilcoxon(nsmz_May_2014['nsmz_difference']))  \n",
    "print(str('Jun nsmz:'))\n",
    "print(stats.wilcoxon(nsmz_Jun_2014['nsmz_difference']))   \n",
    "print(str('Jul nsmz:'))\n",
    "print(stats.wilcoxon(nsmz_Jul_2014['nsmz_difference']))\n",
    "print(str('Aug nsmz:'))\n",
    "print(stats.wilcoxon(nsmz_Aug_2014['nsmz_difference']))   \n",
    "print(str('Sep nsmz:'))\n",
    "print(stats.wilcoxon(nsmz_Sep_2014['nsmz_difference']))    \n",
    "print(str('Oct nsmz:'))\n",
    "print(stats.wilcoxon(nsmz_Oct_2014['nsmz_difference']))\n",
    "print(str('Nov nsmz:'))\n",
    "print(stats.wilcoxon(nsmz_Nov_2014['nsmz_difference']))   \n",
    "print(str('Dec nsmz:'))\n",
    "print(stats.wilcoxon(nsmz_Dec_2014['nsmz_difference']))"
   ]
  },
  {
   "cell_type": "markdown",
   "metadata": {},
   "source": [
    "##### nmdz"
   ]
  },
  {
   "cell_type": "code",
   "execution_count": 82,
   "metadata": {},
   "outputs": [
    {
     "name": "stdout",
     "output_type": "stream",
     "text": [
      "Jan nmdz:\n",
      "WilcoxonResult(statistic=0.0, pvalue=0.0)\n",
      "Feb nmdz:\n",
      "WilcoxonResult(statistic=0.0, pvalue=0.0)\n",
      "Mar nmdz:\n",
      "WilcoxonResult(statistic=0.0, pvalue=0.0)\n",
      "Apr nmdz:\n",
      "WilcoxonResult(statistic=0.0, pvalue=0.0)\n",
      "May nmdz:\n",
      "WilcoxonResult(statistic=0.0, pvalue=0.0)\n",
      "Jun nmdz:\n",
      "WilcoxonResult(statistic=0.0, pvalue=0.0)\n",
      "Jul nmdz:\n",
      "WilcoxonResult(statistic=0.0, pvalue=0.0)\n",
      "Aug nmdz:\n",
      "WilcoxonResult(statistic=0.0, pvalue=0.0)\n",
      "Sep nmdz:\n",
      "WilcoxonResult(statistic=0.0, pvalue=0.0)\n",
      "Oct nmdz:\n",
      "WilcoxonResult(statistic=0.0, pvalue=0.0)\n",
      "Nov nmdz:\n",
      "WilcoxonResult(statistic=0.0, pvalue=0.0)\n",
      "Dec nmdz:\n",
      "WilcoxonResult(statistic=0.0, pvalue=0.0)\n"
     ]
    }
   ],
   "source": [
    "nmdz_Jan_2013= nmdz_df_2013.loc[nmdz_df_2013['month']=='Jan']\n",
    "nmdz_Feb_2013= nmdz_df_2013.loc[nmdz_df_2013['month']=='Feb']\n",
    "nmdz_Mar_2013= nmdz_df_2013.loc[nmdz_df_2013['month']=='Mar']\n",
    "nmdz_Apr_2013= nmdz_df_2013.loc[nmdz_df_2013['month']=='Apr']\n",
    "nmdz_May_2013= nmdz_df_2013.loc[nmdz_df_2013['month']=='May']\n",
    "nmdz_Jun_2013= nmdz_df_2013.loc[nmdz_df_2013['month']=='Jun']\n",
    "nmdz_Jul_2013= nmdz_df_2013.loc[nmdz_df_2013['month']=='Jul']\n",
    "nmdz_Aug_2013= nmdz_df_2013.loc[nmdz_df_2013['month']=='Aug']\n",
    "nmdz_Sep_2013= nmdz_df_2013.loc[nmdz_df_2013['month']=='Sep']\n",
    "nmdz_Oct_2013= nmdz_df_2013.loc[nmdz_df_2013['month']=='Oct']\n",
    "nmdz_Nov_2013= nmdz_df_2013.loc[nmdz_df_2013['month']=='Nov']\n",
    "nmdz_Dec_2013= nmdz_df_2013.loc[nmdz_df_2013['month']=='Dec']\n",
    "\n",
    "nmdz_Jan_2014= nmdz_df_2014.loc[nmdz_df_2014['month']=='Jan']\n",
    "nmdz_Feb_2014= nmdz_df_2014.loc[nmdz_df_2014['month']=='Feb']\n",
    "nmdz_Mar_2014= nmdz_df_2014.loc[nmdz_df_2014['month']=='Mar']\n",
    "nmdz_Apr_2014= nmdz_df_2014.loc[nmdz_df_2014['month']=='Apr']\n",
    "nmdz_May_2014= nmdz_df_2014.loc[nmdz_df_2014['month']=='May']\n",
    "nmdz_Jun_2014= nmdz_df_2014.loc[nmdz_df_2014['month']=='Jun']\n",
    "nmdz_Jul_2014= nmdz_df_2014.loc[nmdz_df_2014['month']=='Jul']\n",
    "nmdz_Aug_2014= nmdz_df_2014.loc[nmdz_df_2014['month']=='Aug']\n",
    "nmdz_Sep_2014= nmdz_df_2014.loc[nmdz_df_2014['month']=='Sep']\n",
    "nmdz_Oct_2014= nmdz_df_2014.loc[nmdz_df_2014['month']=='Oct']\n",
    "nmdz_Nov_2014= nmdz_df_2014.loc[nmdz_df_2014['month']=='Nov']\n",
    "nmdz_Dec_2014= nmdz_df_2014.loc[nmdz_df_2014['month']=='Dec']\n",
    "\n",
    "print(str('Jan nmdz:'))\n",
    "print(stats.wilcoxon(nmdz_Jan_2014['nmdz_difference']))\n",
    "print(str('Feb nmdz:'))\n",
    "print(stats.wilcoxon(nmdz_Feb_2014['nmdz_difference']))    \n",
    "print(str('Mar nmdz:'))\n",
    "print(stats.wilcoxon(nmdz_Mar_2014['nmdz_difference']))  \n",
    "print(str('Apr nmdz:'))\n",
    "print(stats.wilcoxon(nmdz_Apr_2014['nmdz_difference']))\n",
    "print(str('May nmdz:'))\n",
    "print(stats.wilcoxon(nmdz_May_2014['nmdz_difference']))  \n",
    "print(str('Jun nmdz:'))\n",
    "print(stats.wilcoxon(nmdz_Jun_2014['nmdz_difference']))   \n",
    "print(str('Jul nmdz:'))\n",
    "print(stats.wilcoxon(nmdz_Jul_2014['nmdz_difference']))\n",
    "print(str('Aug nmdz:'))\n",
    "print(stats.wilcoxon(nmdz_Aug_2014['nmdz_difference']))   \n",
    "print(str('Sep nmdz:'))\n",
    "print(stats.wilcoxon(nmdz_Sep_2014['nmdz_difference']))    \n",
    "print(str('Oct nmdz:'))\n",
    "print(stats.wilcoxon(nmdz_Oct_2014['nmdz_difference']))\n",
    "print(str('Nov nmdz:'))\n",
    "print(stats.wilcoxon(nmdz_Nov_2014['nmdz_difference']))   \n",
    "print(str('Dec nmdz:'))\n",
    "print(stats.wilcoxon(nmdz_Dec_2014['nmdz_difference']))"
   ]
  },
  {
   "cell_type": "markdown",
   "metadata": {},
   "source": [
    "#### nlgz"
   ]
  },
  {
   "cell_type": "code",
   "execution_count": 87,
   "metadata": {},
   "outputs": [
    {
     "name": "stdout",
     "output_type": "stream",
     "text": [
      "Jan nlgz:\n",
      "WilcoxonResult(statistic=0.0, pvalue=0.0)\n",
      "Feb nlgz:\n",
      "WilcoxonResult(statistic=0.0, pvalue=0.0)\n",
      "Mar nlgz:\n",
      "WilcoxonResult(statistic=0.0, pvalue=0.0)\n",
      "Apr nlgz:\n",
      "WilcoxonResult(statistic=0.0, pvalue=0.0)\n",
      "May nlgz:\n",
      "WilcoxonResult(statistic=0.0, pvalue=0.0)\n",
      "Jun nlgz:\n",
      "WilcoxonResult(statistic=0.0, pvalue=0.0)\n",
      "Jul nlgz:\n",
      "WilcoxonResult(statistic=0.0, pvalue=0.0)\n",
      "Aug nlgz:\n",
      "WilcoxonResult(statistic=0.0, pvalue=0.0)\n",
      "Sep nlgz:\n",
      "WilcoxonResult(statistic=0.0, pvalue=0.0)\n",
      "Oct nlgz:\n",
      "WilcoxonResult(statistic=0.0, pvalue=0.0)\n",
      "Nov nlgz:\n",
      "WilcoxonResult(statistic=0.0, pvalue=0.0)\n",
      "Dec nlgz:\n",
      "WilcoxonResult(statistic=0.0, pvalue=0.0)\n"
     ]
    }
   ],
   "source": [
    "nlgz_Jan_2013= nlgz_df_2013.loc[nlgz_df_2013['month']=='Jan']\n",
    "nlgz_Feb_2013= nlgz_df_2013.loc[nlgz_df_2013['month']=='Feb']\n",
    "nlgz_Mar_2013= nlgz_df_2013.loc[nlgz_df_2013['month']=='Mar']\n",
    "nlgz_Apr_2013= nlgz_df_2013.loc[nlgz_df_2013['month']=='Apr']\n",
    "nlgz_May_2013= nlgz_df_2013.loc[nlgz_df_2013['month']=='May']\n",
    "nlgz_Jun_2013= nlgz_df_2013.loc[nlgz_df_2013['month']=='Jun']\n",
    "nlgz_Jul_2013= nlgz_df_2013.loc[nlgz_df_2013['month']=='Jul']\n",
    "nlgz_Aug_2013= nlgz_df_2013.loc[nlgz_df_2013['month']=='Aug']\n",
    "nlgz_Sep_2013= nlgz_df_2013.loc[nlgz_df_2013['month']=='Sep']\n",
    "nlgz_Oct_2013= nlgz_df_2013.loc[nlgz_df_2013['month']=='Oct']\n",
    "nlgz_Nov_2013= nlgz_df_2013.loc[nlgz_df_2013['month']=='Nov']\n",
    "nlgz_Dec_2013= nlgz_df_2013.loc[nlgz_df_2013['month']=='Dec']\n",
    "\n",
    "nlgz_Jan_2014= nlgz_df_2014.loc[nlgz_df_2014['month']=='Jan']\n",
    "nlgz_Feb_2014= nlgz_df_2014.loc[nlgz_df_2014['month']=='Feb']\n",
    "nlgz_Mar_2014= nlgz_df_2014.loc[nlgz_df_2014['month']=='Mar']\n",
    "nlgz_Apr_2014= nlgz_df_2014.loc[nlgz_df_2014['month']=='Apr']\n",
    "nlgz_May_2014= nlgz_df_2014.loc[nlgz_df_2014['month']=='May']\n",
    "nlgz_Jun_2014= nlgz_df_2014.loc[nlgz_df_2014['month']=='Jun']\n",
    "nlgz_Jul_2014= nlgz_df_2014.loc[nlgz_df_2014['month']=='Jul']\n",
    "nlgz_Aug_2014= nlgz_df_2014.loc[nlgz_df_2014['month']=='Aug']\n",
    "nlgz_Sep_2014= nlgz_df_2014.loc[nlgz_df_2014['month']=='Sep']\n",
    "nlgz_Oct_2014= nlgz_df_2014.loc[nlgz_df_2014['month']=='Oct']\n",
    "nlgz_Nov_2014= nlgz_df_2014.loc[nlgz_df_2014['month']=='Nov']\n",
    "nlgz_Dec_2014= nlgz_df_2014.loc[nlgz_df_2014['month']=='Dec']\n",
    "\n",
    "print(str('Jan nlgz:'))\n",
    "print(stats.wilcoxon(nlgz_Jan_2014['nlgz_difference'], zero_method='pratt'))\n",
    "print(str('Feb nlgz:'))\n",
    "print(stats.wilcoxon(nlgz_Feb_2014['nlgz_difference'], zero_method='pratt'))    \n",
    "print(str('Mar nlgz:'))\n",
    "print(stats.wilcoxon(nlgz_Mar_2014['nlgz_difference'], zero_method='pratt'))  \n",
    "print(str('Apr nlgz:'))\n",
    "print(stats.wilcoxon(nlgz_Apr_2014['nlgz_difference'], zero_method='pratt'))\n",
    "print(str('May nlgz:'))\n",
    "print(stats.wilcoxon(nlgz_May_2014['nlgz_difference'], zero_method='pratt'))  \n",
    "print(str('Jun nlgz:'))\n",
    "print(stats.wilcoxon(nlgz_Jun_2014['nlgz_difference'], zero_method='pratt'))  \n",
    "print(str('Jul nlgz:'))\n",
    "print(stats.wilcoxon(nlgz_Jul_2014['nlgz_difference'], zero_method='pratt'))\n",
    "print(str('Aug nlgz:'))\n",
    "print(stats.wilcoxon(nlgz_Aug_2014['nlgz_difference'], zero_method='pratt'))   \n",
    "print(str('Sep nlgz:'))\n",
    "print(stats.wilcoxon(nlgz_Sep_2014['nlgz_difference'], zero_method='pratt'))    \n",
    "print(str('Oct nlgz:'))\n",
    "print(stats.wilcoxon(nlgz_Oct_2014['nlgz_difference'], zero_method='pratt'))\n",
    "print(str('Nov nlgz:'))\n",
    "print(stats.wilcoxon(nlgz_Nov_2014['nlgz_difference'], zero_method='pratt'))\n",
    "print(str('Dec nlgz:'))\n",
    "print(stats.wilcoxon(nlgz_Dec_2014['nlgz_difference'], zero_method='pratt'))"
   ]
  },
  {
   "cell_type": "markdown",
   "metadata": {},
   "source": [
    "#### Looking at seasonal differences"
   ]
  },
  {
   "cell_type": "code",
   "execution_count": 93,
   "metadata": {},
   "outputs": [],
   "source": [
    "nlgz_dry_2013= [nlgz_May_2013,nlgz_Jun_2013,nlgz_Jul_2013,nlgz_Aug_2013,nlgz_Sep_2013]\n",
    "nlgz_dry_2013 = pd.concat(nlgz_dry_2013, axis=0)\n",
    "nlgz_dry_2014= [nlgz_May_2014,nlgz_Jun_2014,nlgz_Jul_2014,nlgz_Aug_2014,nlgz_Sep_2014]\n",
    "nlgz_dry_2014 = pd.concat(nlgz_dry_2014, axis=0)"
   ]
  },
  {
   "cell_type": "code",
   "execution_count": 95,
   "metadata": {},
   "outputs": [
    {
     "name": "stdout",
     "output_type": "stream",
     "text": [
      "Dry season nlgz:\n",
      "WilcoxonResult(statistic=0.0, pvalue=0.0)\n"
     ]
    }
   ],
   "source": [
    "print(str('Dry season nlgz:'))\n",
    "print(stats.wilcoxon(nlgz_dry_2014['nlgz_difference'], zero_method='pratt'))"
   ]
  },
  {
   "cell_type": "markdown",
   "metadata": {},
   "source": [
    "### Heatmaps\n",
    "\n",
    "The Wilcoxon test so far indicates no clear differences within groups by month or season. I wonder if sectors may show something interesting..."
   ]
  },
  {
   "cell_type": "code",
   "execution_count": 105,
   "metadata": {},
   "outputs": [
    {
     "data": {
      "text/plain": [
       "\"\\nnsm_May_2013_NB= nsm_May_2013.loc[nsm_May_2013['sector']=='NB']\\nnsm_May_2013_CB= nsm_May_2013.loc[nsm_May_2013['sector']=='CB']\\nnsm_May_2013_SB= nsm_May_2013.loc[nsm_May_2013['sector']=='SB']\\n\\nnsm_Jun_2013_NB= nsm_Jun_2013.loc[nsm_Jun_2013['sector']=='NB']\\nnsm_Jun_2013_CB= nsm_Jun_2013.loc[nsm_Jun_2013['sector']=='CB']\\nnsm_Jun_2013_SB= nsm_Jun_2013.loc[nsm_Jun_2013['sector']=='SB']\\n\\nnsm_Jul_2013_NB= nsm_Jul_2013.loc[nsm_Jul_2013['sector']=='NB']\\nnsm_Jul_2013_CB= nsm_Jul_2013.loc[nsm_Jul_2013['sector']=='CB']\\nnsm_Jul_2013_SB= nsm_Jul_2013.loc[nsm_Jul_2013['sector']=='SB']\\n\\nnsm_Aug_2013_NB= nsm_Aug_2013.loc[nsm_Aug_2013['sector']=='NB']\\nnsm_Aug_2013_CB= nsm_Aug_2013.loc[nsm_Aug_2013['sector']=='CB']\\nnsm_Aug_2013_SB= nsm_Aug_2013.loc[nsm_Aug_2013['sector']=='SB']\\n\\nnsm_Sep_2013_NB= nsm_Sep_2013.loc[nsm_Sep_2013['sector']=='NB']\\nnsm_Sep_2013_CB= nsm_Sep_2013.loc[nsm_Sep_2013['sector']=='CB']\\nnsm_Sep_2013_SB= nsm_Sep_2013.loc[nsm_Sep_2013['sector']=='SB']\\n\\nnlg_May_2013_NB= nlg_May_2013.loc[nlg_May_2013['sector']=='NB']\\nnlg_May_2013_CB= nlg_May_2013.loc[nlg_May_2013['sector']=='CB']\\nnlg_May_2013_SB= nlg_May_2013.loc[nlg_May_2013['sector']=='SB']\\n\\nnlg_Jun_2013_NB= nlg_Jun_2013.loc[nlg_Jun_2013['sector']=='NB']\\nnlg_Jun_2013_CB= nlg_Jun_2013.loc[nlg_Jun_2013['sector']=='CB']\\nnlg_Jun_2013_SB= nlg_Jun_2013.loc[nlg_Jun_2013['sector']=='SB']\\n\\nnlg_Jul_2013_NB= nlg_Jul_2013.loc[nlg_Jul_2013['sector']=='NB']\\nnlg_Jul_2013_CB= nlg_Jul_2013.loc[nlg_Jul_2013['sector']=='CB']\\nnlg_Jul_2013_SB= nlg_Jul_2013.loc[nlg_Jul_2013['sector']=='SB']\\n\\nnlg_Aug_2013_NB= nlg_Aug_2013.loc[nlg_Aug_2013['sector']=='NB']\\nnlg_Aug_2013_CB= nlg_Aug_2013.loc[nlg_Aug_2013['sector']=='CB']\\nnlg_Aug_2013_SB= nlg_Aug_2013.loc[nlg_Aug_2013['sector']=='SB']\\n\\nnlg_Sep_2013_NB= nlg_Sep_2013.loc[nlg_Sep_2013['sector']=='NB']\\nnlg_Sep_2013_CB= nlg_Sep_2013.loc[nlg_Sep_2013['sector']=='CB']\\nnlg_Sep_2013_SB= nlg_Sep_2013.loc[nlg_Sep_2013['sector']=='SB']\\n\""
      ]
     },
     "execution_count": 105,
     "metadata": {},
     "output_type": "execute_result"
    }
   ],
   "source": [
    "nsmz_May_2013_NB= nsmz_May_2013.loc[nsmz_May_2013['sector']=='NB']\n",
    "nsmz_May_2013_CB= nsmz_May_2013.loc[nsmz_May_2013['sector']=='CB']\n",
    "nsmz_May_2013_SB= nsmz_May_2013.loc[nsmz_May_2013['sector']=='SB']\n",
    "\n",
    "nsmz_Jun_2013_NB= nsmz_Jun_2013.loc[nsmz_Jun_2013['sector']=='NB']\n",
    "nsmz_Jun_2013_CB= nsmz_Jun_2013.loc[nsmz_Jun_2013['sector']=='CB']\n",
    "nsmz_Jun_2013_SB= nsmz_Jun_2013.loc[nsmz_Jun_2013['sector']=='SB']\n",
    "\n",
    "nsmz_Jul_2013_NB= nsmz_Jul_2013.loc[nsmz_Jul_2013['sector']=='NB']\n",
    "nsmz_Jul_2013_CB= nsmz_Jul_2013.loc[nsmz_Jul_2013['sector']=='CB']\n",
    "nsmz_Jul_2013_SB= nsmz_Jul_2013.loc[nsmz_Jul_2013['sector']=='SB']\n",
    "\n",
    "nsmz_Aug_2013_NB= nsmz_Aug_2013.loc[nsmz_Aug_2013['sector']=='NB']\n",
    "nsmz_Aug_2013_CB= nsmz_Aug_2013.loc[nsmz_Aug_2013['sector']=='CB']\n",
    "nsmz_Aug_2013_SB= nsmz_Aug_2013.loc[nsmz_Aug_2013['sector']=='SB']\n",
    "\n",
    "nsmz_Sep_2013_NB= nsmz_Sep_2013.loc[nsmz_Sep_2013['sector']=='NB']\n",
    "nsmz_Sep_2013_CB= nsmz_Sep_2013.loc[nsmz_Sep_2013['sector']=='CB']\n",
    "nsmz_Sep_2013_SB= nsmz_Sep_2013.loc[nsmz_Sep_2013['sector']=='SB']\n",
    "\n",
    "nmdz_May_2013_NB= nmdz_May_2013.loc[nmdz_May_2013['sector']=='NB']\n",
    "nmdz_May_2013_CB= nmdz_May_2013.loc[nmdz_May_2013['sector']=='CB']\n",
    "nmdz_May_2013_SB= nmdz_May_2013.loc[nmdz_May_2013['sector']=='SB']\n",
    "\n",
    "nmdz_Jun_2013_NB= nmdz_Jun_2013.loc[nmdz_Jun_2013['sector']=='NB']\n",
    "nmdz_Jun_2013_CB= nmdz_Jun_2013.loc[nmdz_Jun_2013['sector']=='CB']\n",
    "nmdz_Jun_2013_SB= nmdz_Jun_2013.loc[nmdz_Jun_2013['sector']=='SB']\n",
    "\n",
    "nmdz_Jul_2013_NB= nmdz_Jul_2013.loc[nmdz_Jul_2013['sector']=='NB']\n",
    "nmdz_Jul_2013_CB= nmdz_Jul_2013.loc[nmdz_Jul_2013['sector']=='CB']\n",
    "nmdz_Jul_2013_SB= nmdz_Jul_2013.loc[nmdz_Jul_2013['sector']=='SB']\n",
    "\n",
    "nmdz_Aug_2013_NB= nmdz_Aug_2013.loc[nmdz_Aug_2013['sector']=='NB']\n",
    "nmdz_Aug_2013_CB= nmdz_Aug_2013.loc[nmdz_Aug_2013['sector']=='CB']\n",
    "nmdz_Aug_2013_SB= nmdz_Aug_2013.loc[nmdz_Aug_2013['sector']=='SB']\n",
    "\n",
    "nmdz_Sep_2013_NB= nmdz_Sep_2013.loc[nmdz_Sep_2013['sector']=='NB']\n",
    "nmdz_Sep_2013_CB= nmdz_Sep_2013.loc[nmdz_Sep_2013['sector']=='CB']\n",
    "nmdz_Sep_2013_SB= nmdz_Sep_2013.loc[nmdz_Sep_2013['sector']=='SB']\n",
    "\n",
    "nlgz_May_2013_NB= nlgz_May_2013.loc[nlgz_May_2013['sector']=='NB']\n",
    "nlgz_May_2013_CB= nlgz_May_2013.loc[nlgz_May_2013['sector']=='CB']\n",
    "nlgz_May_2013_SB= nlgz_May_2013.loc[nlgz_May_2013['sector']=='SB']\n",
    "\n",
    "nlgz_Jun_2013_NB= nlgz_Jun_2013.loc[nlgz_Jun_2013['sector']=='NB']\n",
    "nlgz_Jun_2013_CB= nlgz_Jun_2013.loc[nlgz_Jun_2013['sector']=='CB']\n",
    "nlgz_Jun_2013_SB= nlgz_Jun_2013.loc[nlgz_Jun_2013['sector']=='SB']\n",
    "\n",
    "nlgz_Jul_2013_NB= nlgz_Jul_2013.loc[nlgz_Jul_2013['sector']=='NB']\n",
    "nlgz_Jul_2013_CB= nlgz_Jul_2013.loc[nlgz_Jul_2013['sector']=='CB']\n",
    "nlgz_Jul_2013_SB= nlgz_Jul_2013.loc[nlgz_Jul_2013['sector']=='SB']\n",
    "\n",
    "nlgz_Aug_2013_NB= nlgz_Aug_2013.loc[nlgz_Aug_2013['sector']=='NB']\n",
    "nlgz_Aug_2013_CB= nlgz_Aug_2013.loc[nlgz_Aug_2013['sector']=='CB']\n",
    "nlgz_Aug_2013_SB= nlgz_Aug_2013.loc[nlgz_Aug_2013['sector']=='SB']\n",
    "\n",
    "nlgz_Sep_2013_NB= nlgz_Sep_2013.loc[nlgz_Sep_2013['sector']=='NB']\n",
    "nlgz_Sep_2013_CB= nlgz_Sep_2013.loc[nlgz_Sep_2013['sector']=='CB']\n",
    "nlgz_Sep_2013_SB= nlgz_Sep_2013.loc[nlgz_Sep_2013['sector']=='SB']\n",
    "'''\n",
    "nsm_May_2013_NB= nsm_May_2013.loc[nsm_May_2013['sector']=='NB']\n",
    "nsm_May_2013_CB= nsm_May_2013.loc[nsm_May_2013['sector']=='CB']\n",
    "nsm_May_2013_SB= nsm_May_2013.loc[nsm_May_2013['sector']=='SB']\n",
    "\n",
    "nsm_Jun_2013_NB= nsm_Jun_2013.loc[nsm_Jun_2013['sector']=='NB']\n",
    "nsm_Jun_2013_CB= nsm_Jun_2013.loc[nsm_Jun_2013['sector']=='CB']\n",
    "nsm_Jun_2013_SB= nsm_Jun_2013.loc[nsm_Jun_2013['sector']=='SB']\n",
    "\n",
    "nsm_Jul_2013_NB= nsm_Jul_2013.loc[nsm_Jul_2013['sector']=='NB']\n",
    "nsm_Jul_2013_CB= nsm_Jul_2013.loc[nsm_Jul_2013['sector']=='CB']\n",
    "nsm_Jul_2013_SB= nsm_Jul_2013.loc[nsm_Jul_2013['sector']=='SB']\n",
    "\n",
    "nsm_Aug_2013_NB= nsm_Aug_2013.loc[nsm_Aug_2013['sector']=='NB']\n",
    "nsm_Aug_2013_CB= nsm_Aug_2013.loc[nsm_Aug_2013['sector']=='CB']\n",
    "nsm_Aug_2013_SB= nsm_Aug_2013.loc[nsm_Aug_2013['sector']=='SB']\n",
    "\n",
    "nsm_Sep_2013_NB= nsm_Sep_2013.loc[nsm_Sep_2013['sector']=='NB']\n",
    "nsm_Sep_2013_CB= nsm_Sep_2013.loc[nsm_Sep_2013['sector']=='CB']\n",
    "nsm_Sep_2013_SB= nsm_Sep_2013.loc[nsm_Sep_2013['sector']=='SB']\n",
    "\n",
    "nlg_May_2013_NB= nlg_May_2013.loc[nlg_May_2013['sector']=='NB']\n",
    "nlg_May_2013_CB= nlg_May_2013.loc[nlg_May_2013['sector']=='CB']\n",
    "nlg_May_2013_SB= nlg_May_2013.loc[nlg_May_2013['sector']=='SB']\n",
    "\n",
    "nlg_Jun_2013_NB= nlg_Jun_2013.loc[nlg_Jun_2013['sector']=='NB']\n",
    "nlg_Jun_2013_CB= nlg_Jun_2013.loc[nlg_Jun_2013['sector']=='CB']\n",
    "nlg_Jun_2013_SB= nlg_Jun_2013.loc[nlg_Jun_2013['sector']=='SB']\n",
    "\n",
    "nlg_Jul_2013_NB= nlg_Jul_2013.loc[nlg_Jul_2013['sector']=='NB']\n",
    "nlg_Jul_2013_CB= nlg_Jul_2013.loc[nlg_Jul_2013['sector']=='CB']\n",
    "nlg_Jul_2013_SB= nlg_Jul_2013.loc[nlg_Jul_2013['sector']=='SB']\n",
    "\n",
    "nlg_Aug_2013_NB= nlg_Aug_2013.loc[nlg_Aug_2013['sector']=='NB']\n",
    "nlg_Aug_2013_CB= nlg_Aug_2013.loc[nlg_Aug_2013['sector']=='CB']\n",
    "nlg_Aug_2013_SB= nlg_Aug_2013.loc[nlg_Aug_2013['sector']=='SB']\n",
    "\n",
    "nlg_Sep_2013_NB= nlg_Sep_2013.loc[nlg_Sep_2013['sector']=='NB']\n",
    "nlg_Sep_2013_CB= nlg_Sep_2013.loc[nlg_Sep_2013['sector']=='CB']\n",
    "nlg_Sep_2013_SB= nlg_Sep_2013.loc[nlg_Sep_2013['sector']=='SB']\n",
    "'''"
   ]
  },
  {
   "cell_type": "code",
   "execution_count": 106,
   "metadata": {},
   "outputs": [
    {
     "name": "stdout",
     "output_type": "stream",
     "text": [
      "Dry season median nsmz 2013 (NB):\n",
      "Unnamed: 0       2.001375e+05\n",
      "concentration    4.678852e-07\n",
      "year             1.006500e+04\n",
      "dtype: float64\n",
      "Dry season median nsmz 2013 (CB):\n",
      "Unnamed: 0       2.127425e+05\n",
      "concentration    5.340631e-07\n",
      "year             1.006500e+04\n",
      "dtype: float64\n",
      "Dry season median nsmz 2013 (SB):\n",
      "Unnamed: 0       2.233325e+05\n",
      "concentration    6.603765e-07\n",
      "year             1.006500e+04\n",
      "dtype: float64\n",
      "Dry season median nmdz 2013 (NB):\n",
      "Unnamed: 0       2.001375e+05\n",
      "concentration    3.112258e-07\n",
      "year             1.006500e+04\n",
      "dtype: float64\n",
      "Dry season median nmdz 2013 (CB):\n",
      "Unnamed: 0       2.127425e+05\n",
      "concentration    4.170460e-07\n",
      "year             1.006500e+04\n",
      "dtype: float64\n",
      "Dry season median nmdz 2013 (SB):\n",
      "Unnamed: 0       2.233325e+05\n",
      "concentration    6.245155e-07\n",
      "year             1.006500e+04\n",
      "dtype: float64\n",
      "Dry season median nlgz 2013 (NB):\n",
      "Unnamed: 0       2.001375e+05\n",
      "concentration    5.986258e-08\n",
      "year             1.006500e+04\n",
      "dtype: float64\n",
      "Dry season median nlgz 2013 (CB):\n",
      "Unnamed: 0       2.127425e+05\n",
      "concentration    7.253272e-08\n",
      "year             1.006500e+04\n",
      "dtype: float64\n",
      "Dry season median nlgz 2013 (SB):\n",
      "Unnamed: 0       2.233325e+05\n",
      "concentration    1.027933e-07\n",
      "year             1.006500e+04\n",
      "dtype: float64\n"
     ]
    }
   ],
   "source": [
    "print(str('Dry season median nsmz 2013 (NB):'))\n",
    "print((nsmz_May_2013_NB.median()) + \n",
    "      (nsmz_Jun_2013_NB.median()) + \n",
    "       (nsmz_Jul_2013_NB.median()) + \n",
    "       (nsmz_Aug_2013_NB.median()) + \n",
    "       (nsmz_Sep_2013_NB.median()))\n",
    "\n",
    "print(str('Dry season median nsmz 2013 (CB):'))\n",
    "print((nsmz_May_2013_CB.median()) + \n",
    "      (nsmz_Jun_2013_CB.median()) + \n",
    "       (nsmz_Jul_2013_CB.median()) + \n",
    "       (nsmz_Aug_2013_CB.median()) + \n",
    "       (nsmz_Sep_2013_CB.median()))\n",
    "\n",
    "print(str('Dry season median nsmz 2013 (SB):'))\n",
    "print((nsmz_May_2013_SB.median()) + \n",
    "      (nsmz_Jun_2013_SB.median()) + \n",
    "       (nsmz_Jul_2013_SB.median()) + \n",
    "       (nsmz_Aug_2013_SB.median()) + \n",
    "       (nsmz_Sep_2013_SB.median()))\n",
    "\n",
    "print(str('Dry season median nmdz 2013 (NB):'))\n",
    "print((nmdz_May_2013_NB.median()) + \n",
    "      (nmdz_Jun_2013_NB.median()) + \n",
    "       (nmdz_Jul_2013_NB.median()) + \n",
    "       (nmdz_Aug_2013_NB.median()) + \n",
    "       (nmdz_Sep_2013_NB.median()))\n",
    "\n",
    "print(str('Dry season median nmdz 2013 (CB):'))\n",
    "print((nmdz_May_2013_CB.median()) + \n",
    "      (nmdz_Jun_2013_CB.median()) + \n",
    "       (nmdz_Jul_2013_CB.median()) + \n",
    "       (nmdz_Aug_2013_CB.median()) + \n",
    "       (nmdz_Sep_2013_CB.median()))\n",
    "\n",
    "print(str('Dry season median nmdz 2013 (SB):'))\n",
    "print((nmdz_May_2013_SB.median()) + \n",
    "      (nmdz_Jun_2013_SB.median()) + \n",
    "       (nmdz_Jul_2013_SB.median()) + \n",
    "       (nmdz_Aug_2013_SB.median()) + \n",
    "       (nmdz_Sep_2013_SB.median()))\n",
    "\n",
    "print(str('Dry season median nlgz 2013 (NB):'))\n",
    "print((nlgz_May_2013_NB.median()) + \n",
    "      (nlgz_Jun_2013_NB.median()) + \n",
    "       (nlgz_Jul_2013_NB.median()) + \n",
    "       (nlgz_Aug_2013_NB.median()) + \n",
    "       (nlgz_Sep_2013_NB.median()))\n",
    "\n",
    "print(str('Dry season median nlgz 2013 (CB):'))\n",
    "print((nlgz_May_2013_CB.median()) + \n",
    "      (nlgz_Jun_2013_CB.median()) + \n",
    "       (nlgz_Jul_2013_CB.median()) + \n",
    "       (nlgz_Aug_2013_CB.median()) + \n",
    "       (nlgz_Sep_2013_CB.median()))\n",
    "\n",
    "print(str('Dry season median nlgz 2013 (SB):'))\n",
    "print((nlgz_May_2013_SB.median()) + \n",
    "      (nlgz_Jun_2013_SB.median()) + \n",
    "       (nlgz_Jul_2013_SB.median()) + \n",
    "       (nlgz_Aug_2013_SB.median()) + \n",
    "       (nlgz_Sep_2013_SB.median()))"
   ]
  },
  {
   "cell_type": "code",
   "execution_count": 108,
   "metadata": {},
   "outputs": [
    {
     "data": {
      "text/plain": [
       "\"\\nnsm_May_2014_NB= nsm_May_2014.loc[nsm_May_2014['sector']=='NB']\\nnsm_May_2014_CB= nsm_May_2014.loc[nsm_May_2014['sector']=='CB']\\nnsm_May_2014_SB= nsm_May_2014.loc[nsm_May_2014['sector']=='SB']\\n\\nnsm_Jun_2014_NB= nsm_Jun_2014.loc[nsm_Jun_2014['sector']=='NB']\\nnsm_Jun_2014_CB= nsm_Jun_2014.loc[nsm_Jun_2014['sector']=='CB']\\nnsm_Jun_2014_SB= nsm_Jun_2014.loc[nsm_Jun_2014['sector']=='SB']\\n\\nnsm_Jul_2014_NB= nsm_Jul_2014.loc[nsm_Jul_2014['sector']=='NB']\\nnsm_Jul_2014_CB= nsm_Jul_2014.loc[nsm_Jul_2014['sector']=='CB']\\nnsm_Jul_2014_SB= nsm_Jul_2014.loc[nsm_Jul_2014['sector']=='SB']\\n\\nnsm_Aug_2014_NB= nsm_Aug_2014.loc[nsm_Aug_2014['sector']=='NB']\\nnsm_Aug_2014_CB= nsm_Aug_2014.loc[nsm_Aug_2014['sector']=='CB']\\nnsm_Aug_2014_SB= nsm_Aug_2014.loc[nsm_Aug_2014['sector']=='SB']\\n\\nnsm_Sep_2014_NB= nsm_Sep_2014.loc[nsm_Sep_2014['sector']=='NB']\\nnsm_Sep_2014_CB= nsm_Sep_2014.loc[nsm_Sep_2014['sector']=='CB']\\nnsm_Sep_2014_SB= nsm_Sep_2014.loc[nsm_Sep_2014['sector']=='SB']\\n\\nnlg_May_2014_NB= nlg_May_2014.loc[nlg_May_2014['sector']=='NB']\\nnlg_May_2014_CB= nlg_May_2014.loc[nlg_May_2014['sector']=='CB']\\nnlg_May_2014_SB= nlg_May_2014.loc[nlg_May_2014['sector']=='SB']\\n\\nnlg_Jun_2014_NB= nlg_Jun_2014.loc[nlg_Jun_2014['sector']=='NB']\\nnlg_Jun_2014_CB= nlg_Jun_2014.loc[nlg_Jun_2014['sector']=='CB']\\nnlg_Jun_2014_SB= nlg_Jun_2014.loc[nlg_Jun_2014['sector']=='SB']\\n\\nnlg_Jul_2014_NB= nlg_Jul_2014.loc[nlg_Jul_2014['sector']=='NB']\\nnlg_Jul_2014_CB= nlg_Jul_2014.loc[nlg_Jul_2014['sector']=='CB']\\nnlg_Jul_2014_SB= nlg_Jul_2014.loc[nlg_Jul_2014['sector']=='SB']\\n\\nnlg_Aug_2014_NB= nlg_Aug_2014.loc[nlg_Aug_2014['sector']=='NB']\\nnlg_Aug_2014_CB= nlg_Aug_2014.loc[nlg_Aug_2014['sector']=='CB']\\nnlg_Aug_2014_SB= nlg_Aug_2014.loc[nlg_Aug_2014['sector']=='SB']\\n\\nnlg_Sep_2014_NB= nlg_Sep_2014.loc[nlg_Sep_2014['sector']=='NB']\\nnlg_Sep_2014_CB= nlg_Sep_2014.loc[nlg_Sep_2014['sector']=='CB']\\nnlg_Sep_2014_SB= nlg_Sep_2014.loc[nlg_Sep_2014['sector']=='SB']\\n\""
      ]
     },
     "execution_count": 108,
     "metadata": {},
     "output_type": "execute_result"
    }
   ],
   "source": [
    "nsmz_May_2014_NB= nsmz_May_2014.loc[nsmz_May_2014['sector']=='NB']\n",
    "nsmz_May_2014_CB= nsmz_May_2014.loc[nsmz_May_2014['sector']=='CB']\n",
    "nsmz_May_2014_SB= nsmz_May_2014.loc[nsmz_May_2014['sector']=='SB']\n",
    "\n",
    "nsmz_Jun_2014_NB= nsmz_Jun_2014.loc[nsmz_Jun_2014['sector']=='NB']\n",
    "nsmz_Jun_2014_CB= nsmz_Jun_2014.loc[nsmz_Jun_2014['sector']=='CB']\n",
    "nsmz_Jun_2014_SB= nsmz_Jun_2014.loc[nsmz_Jun_2014['sector']=='SB']\n",
    "\n",
    "nsmz_Jul_2014_NB= nsmz_Jul_2014.loc[nsmz_Jul_2014['sector']=='NB']\n",
    "nsmz_Jul_2014_CB= nsmz_Jul_2014.loc[nsmz_Jul_2014['sector']=='CB']\n",
    "nsmz_Jul_2014_SB= nsmz_Jul_2014.loc[nsmz_Jul_2014['sector']=='SB']\n",
    "\n",
    "nsmz_Aug_2014_NB= nsmz_Aug_2014.loc[nsmz_Aug_2014['sector']=='NB']\n",
    "nsmz_Aug_2014_CB= nsmz_Aug_2014.loc[nsmz_Aug_2014['sector']=='CB']\n",
    "nsmz_Aug_2014_SB= nsmz_Aug_2014.loc[nsmz_Aug_2014['sector']=='SB']\n",
    "\n",
    "nsmz_Sep_2014_NB= nsmz_Sep_2014.loc[nsmz_Sep_2014['sector']=='NB']\n",
    "nsmz_Sep_2014_CB= nsmz_Sep_2014.loc[nsmz_Sep_2014['sector']=='CB']\n",
    "nsmz_Sep_2014_SB= nsmz_Sep_2014.loc[nsmz_Sep_2014['sector']=='SB']\n",
    "\n",
    "nmdz_May_2014_NB= nmdz_May_2014.loc[nmdz_May_2014['sector']=='NB']\n",
    "nmdz_May_2014_CB= nmdz_May_2014.loc[nmdz_May_2014['sector']=='CB']\n",
    "nmdz_May_2014_SB= nmdz_May_2014.loc[nmdz_May_2014['sector']=='SB']\n",
    "\n",
    "nmdz_Jun_2014_NB= nmdz_Jun_2014.loc[nmdz_Jun_2014['sector']=='NB']\n",
    "nmdz_Jun_2014_CB= nmdz_Jun_2014.loc[nmdz_Jun_2014['sector']=='CB']\n",
    "nmdz_Jun_2014_SB= nmdz_Jun_2014.loc[nmdz_Jun_2014['sector']=='SB']\n",
    "\n",
    "nmdz_Jul_2014_NB= nmdz_Jul_2014.loc[nmdz_Jul_2014['sector']=='NB']\n",
    "nmdz_Jul_2014_CB= nmdz_Jul_2014.loc[nmdz_Jul_2014['sector']=='CB']\n",
    "nmdz_Jul_2014_SB= nmdz_Jul_2014.loc[nmdz_Jul_2014['sector']=='SB']\n",
    "\n",
    "nmdz_Aug_2014_NB= nmdz_Aug_2014.loc[nmdz_Aug_2014['sector']=='NB']\n",
    "nmdz_Aug_2014_CB= nmdz_Aug_2014.loc[nmdz_Aug_2014['sector']=='CB']\n",
    "nmdz_Aug_2014_SB= nmdz_Aug_2014.loc[nmdz_Aug_2014['sector']=='SB']\n",
    "\n",
    "nmdz_Sep_2014_NB= nmdz_Sep_2014.loc[nmdz_Sep_2014['sector']=='NB']\n",
    "nmdz_Sep_2014_CB= nmdz_Sep_2014.loc[nmdz_Sep_2014['sector']=='CB']\n",
    "nmdz_Sep_2014_SB= nmdz_Sep_2014.loc[nmdz_Sep_2014['sector']=='SB']\n",
    "\n",
    "nlgz_May_2014_NB= nlgz_May_2014.loc[nlgz_May_2014['sector']=='NB']\n",
    "nlgz_May_2014_CB= nlgz_May_2014.loc[nlgz_May_2014['sector']=='CB']\n",
    "nlgz_May_2014_SB= nlgz_May_2014.loc[nlgz_May_2014['sector']=='SB']\n",
    "\n",
    "nlgz_Jun_2014_NB= nlgz_Jun_2014.loc[nlgz_Jun_2014['sector']=='NB']\n",
    "nlgz_Jun_2014_CB= nlgz_Jun_2014.loc[nlgz_Jun_2014['sector']=='CB']\n",
    "nlgz_Jun_2014_SB= nlgz_Jun_2014.loc[nlgz_Jun_2014['sector']=='SB']\n",
    "\n",
    "nlgz_Jul_2014_NB= nlgz_Jul_2014.loc[nlgz_Jul_2014['sector']=='NB']\n",
    "nlgz_Jul_2014_CB= nlgz_Jul_2014.loc[nlgz_Jul_2014['sector']=='CB']\n",
    "nlgz_Jul_2014_SB= nlgz_Jul_2014.loc[nlgz_Jul_2014['sector']=='SB']\n",
    "\n",
    "nlgz_Aug_2014_NB= nlgz_Aug_2014.loc[nlgz_Aug_2014['sector']=='NB']\n",
    "nlgz_Aug_2014_CB= nlgz_Aug_2014.loc[nlgz_Aug_2014['sector']=='CB']\n",
    "nlgz_Aug_2014_SB= nlgz_Aug_2014.loc[nlgz_Aug_2014['sector']=='SB']\n",
    "\n",
    "nlgz_Sep_2014_NB= nlgz_Sep_2014.loc[nlgz_Sep_2014['sector']=='NB']\n",
    "nlgz_Sep_2014_CB= nlgz_Sep_2014.loc[nlgz_Sep_2014['sector']=='CB']\n",
    "nlgz_Sep_2014_SB= nlgz_Sep_2014.loc[nlgz_Sep_2014['sector']=='SB']\n",
    "'''\n",
    "nsm_May_2014_NB= nsm_May_2014.loc[nsm_May_2014['sector']=='NB']\n",
    "nsm_May_2014_CB= nsm_May_2014.loc[nsm_May_2014['sector']=='CB']\n",
    "nsm_May_2014_SB= nsm_May_2014.loc[nsm_May_2014['sector']=='SB']\n",
    "\n",
    "nsm_Jun_2014_NB= nsm_Jun_2014.loc[nsm_Jun_2014['sector']=='NB']\n",
    "nsm_Jun_2014_CB= nsm_Jun_2014.loc[nsm_Jun_2014['sector']=='CB']\n",
    "nsm_Jun_2014_SB= nsm_Jun_2014.loc[nsm_Jun_2014['sector']=='SB']\n",
    "\n",
    "nsm_Jul_2014_NB= nsm_Jul_2014.loc[nsm_Jul_2014['sector']=='NB']\n",
    "nsm_Jul_2014_CB= nsm_Jul_2014.loc[nsm_Jul_2014['sector']=='CB']\n",
    "nsm_Jul_2014_SB= nsm_Jul_2014.loc[nsm_Jul_2014['sector']=='SB']\n",
    "\n",
    "nsm_Aug_2014_NB= nsm_Aug_2014.loc[nsm_Aug_2014['sector']=='NB']\n",
    "nsm_Aug_2014_CB= nsm_Aug_2014.loc[nsm_Aug_2014['sector']=='CB']\n",
    "nsm_Aug_2014_SB= nsm_Aug_2014.loc[nsm_Aug_2014['sector']=='SB']\n",
    "\n",
    "nsm_Sep_2014_NB= nsm_Sep_2014.loc[nsm_Sep_2014['sector']=='NB']\n",
    "nsm_Sep_2014_CB= nsm_Sep_2014.loc[nsm_Sep_2014['sector']=='CB']\n",
    "nsm_Sep_2014_SB= nsm_Sep_2014.loc[nsm_Sep_2014['sector']=='SB']\n",
    "\n",
    "nlg_May_2014_NB= nlg_May_2014.loc[nlg_May_2014['sector']=='NB']\n",
    "nlg_May_2014_CB= nlg_May_2014.loc[nlg_May_2014['sector']=='CB']\n",
    "nlg_May_2014_SB= nlg_May_2014.loc[nlg_May_2014['sector']=='SB']\n",
    "\n",
    "nlg_Jun_2014_NB= nlg_Jun_2014.loc[nlg_Jun_2014['sector']=='NB']\n",
    "nlg_Jun_2014_CB= nlg_Jun_2014.loc[nlg_Jun_2014['sector']=='CB']\n",
    "nlg_Jun_2014_SB= nlg_Jun_2014.loc[nlg_Jun_2014['sector']=='SB']\n",
    "\n",
    "nlg_Jul_2014_NB= nlg_Jul_2014.loc[nlg_Jul_2014['sector']=='NB']\n",
    "nlg_Jul_2014_CB= nlg_Jul_2014.loc[nlg_Jul_2014['sector']=='CB']\n",
    "nlg_Jul_2014_SB= nlg_Jul_2014.loc[nlg_Jul_2014['sector']=='SB']\n",
    "\n",
    "nlg_Aug_2014_NB= nlg_Aug_2014.loc[nlg_Aug_2014['sector']=='NB']\n",
    "nlg_Aug_2014_CB= nlg_Aug_2014.loc[nlg_Aug_2014['sector']=='CB']\n",
    "nlg_Aug_2014_SB= nlg_Aug_2014.loc[nlg_Aug_2014['sector']=='SB']\n",
    "\n",
    "nlg_Sep_2014_NB= nlg_Sep_2014.loc[nlg_Sep_2014['sector']=='NB']\n",
    "nlg_Sep_2014_CB= nlg_Sep_2014.loc[nlg_Sep_2014['sector']=='CB']\n",
    "nlg_Sep_2014_SB= nlg_Sep_2014.loc[nlg_Sep_2014['sector']=='SB']\n",
    "'''"
   ]
  },
  {
   "cell_type": "code",
   "execution_count": 109,
   "metadata": {},
   "outputs": [
    {
     "name": "stdout",
     "output_type": "stream",
     "text": [
      "Dry season median nsmz 2014 (NB):\n",
      "Unnamed: 0         2.001375e+05\n",
      "concentration      4.843919e-07\n",
      "year               1.007000e+04\n",
      "nsmz_difference    4.188630e-08\n",
      "dtype: float64\n",
      "Dry season median nsmz 2014 (CB):\n",
      "Unnamed: 0         2.127425e+05\n",
      "concentration      5.681661e-07\n",
      "year               1.007000e+04\n",
      "nsmz_difference    3.930785e-08\n",
      "dtype: float64\n",
      "Dry season median nsmz 2014 (SB):\n",
      "Unnamed: 0         2.233325e+05\n",
      "concentration      6.630281e-07\n",
      "year               1.007000e+04\n",
      "nsmz_difference    2.446531e-08\n",
      "dtype: float64\n",
      "Dry season median nmdz 2014 (NB):\n",
      "Unnamed: 0         2.001375e+05\n",
      "concentration      3.255327e-07\n",
      "year               1.007000e+04\n",
      "nmdz_difference    1.720501e-08\n",
      "dtype: float64\n",
      "Dry season median nmdz 2014 (CB):\n",
      "Unnamed: 0         2.127425e+05\n",
      "concentration      4.477446e-07\n",
      "year               1.007000e+04\n",
      "nmdz_difference    3.667747e-08\n",
      "dtype: float64\n",
      "Dry season median nmdz 2014 (SB):\n",
      "Unnamed: 0         2.233325e+05\n",
      "concentration      6.252172e-07\n",
      "year               1.007000e+04\n",
      "nmdz_difference    4.167169e-08\n",
      "dtype: float64\n",
      "Dry season median nlgz 2014 (NB):\n",
      "Unnamed: 0         2.001375e+05\n",
      "concentration      8.967694e-08\n",
      "year               1.007000e+04\n",
      "nlgz_difference    2.888644e-08\n",
      "dtype: float64\n",
      "Dry season median nlgz 2014 (CB):\n",
      "Unnamed: 0         2.127425e+05\n",
      "concentration      1.059913e-07\n",
      "year               1.007000e+04\n",
      "nlgz_difference    3.271860e-08\n",
      "dtype: float64\n",
      "Dry season median nlgz 2014 (SB):\n",
      "Unnamed: 0         2.233325e+05\n",
      "concentration      1.358523e-07\n",
      "year               1.007000e+04\n",
      "nlgz_difference    3.355697e-08\n",
      "dtype: float64\n"
     ]
    }
   ],
   "source": [
    "print(str('Dry season median nsmz 2014 (NB):'))\n",
    "print((nsmz_May_2014_NB.median()) + \n",
    "      (nsmz_Jun_2014_NB.median()) + \n",
    "       (nsmz_Jul_2014_NB.median()) + \n",
    "       (nsmz_Aug_2014_NB.median()) + \n",
    "       (nsmz_Sep_2014_NB.median()))\n",
    "\n",
    "print(str('Dry season median nsmz 2014 (CB):'))\n",
    "print((nsmz_May_2014_CB.median()) + \n",
    "      (nsmz_Jun_2014_CB.median()) + \n",
    "       (nsmz_Jul_2014_CB.median()) + \n",
    "       (nsmz_Aug_2014_CB.median()) + \n",
    "       (nsmz_Sep_2014_CB.median()))\n",
    "\n",
    "print(str('Dry season median nsmz 2014 (SB):'))\n",
    "print((nsmz_May_2014_SB.median()) + \n",
    "      (nsmz_Jun_2014_SB.median()) + \n",
    "       (nsmz_Jul_2014_SB.median()) + \n",
    "       (nsmz_Aug_2014_SB.median()) + \n",
    "       (nsmz_Sep_2014_SB.median()))\n",
    "\n",
    "print(str('Dry season median nmdz 2014 (NB):'))\n",
    "print((nmdz_May_2014_NB.median()) + \n",
    "      (nmdz_Jun_2014_NB.median()) + \n",
    "       (nmdz_Jul_2014_NB.median()) + \n",
    "       (nmdz_Aug_2014_NB.median()) + \n",
    "       (nmdz_Sep_2014_NB.median()))\n",
    "\n",
    "print(str('Dry season median nmdz 2014 (CB):'))\n",
    "print((nmdz_May_2014_CB.median()) + \n",
    "      (nmdz_Jun_2014_CB.median()) + \n",
    "       (nmdz_Jul_2014_CB.median()) + \n",
    "       (nmdz_Aug_2014_CB.median()) + \n",
    "       (nmdz_Sep_2014_CB.median()))\n",
    "\n",
    "print(str('Dry season median nmdz 2014 (SB):'))\n",
    "print((nmdz_May_2014_SB.median()) + \n",
    "      (nmdz_Jun_2014_SB.median()) + \n",
    "       (nmdz_Jul_2014_SB.median()) + \n",
    "       (nmdz_Aug_2014_SB.median()) + \n",
    "       (nmdz_Sep_2014_SB.median()))\n",
    "\n",
    "print(str('Dry season median nlgz 2014 (NB):'))\n",
    "print((nlgz_May_2014_NB.median()) + \n",
    "      (nlgz_Jun_2014_NB.median()) + \n",
    "       (nlgz_Jul_2014_NB.median()) + \n",
    "       (nlgz_Aug_2014_NB.median()) + \n",
    "       (nlgz_Sep_2014_NB.median()))\n",
    "\n",
    "print(str('Dry season median nlgz 2014 (CB):'))\n",
    "print((nlgz_May_2014_CB.median()) + \n",
    "      (nlgz_Jun_2014_CB.median()) + \n",
    "       (nlgz_Jul_2014_CB.median()) + \n",
    "       (nlgz_Aug_2014_CB.median()) + \n",
    "       (nlgz_Sep_2014_CB.median()))\n",
    "\n",
    "print(str('Dry season median nlgz 2014 (SB):'))\n",
    "print((nlgz_May_2014_SB.median()) + \n",
    "      (nlgz_Jun_2014_SB.median()) + \n",
    "       (nlgz_Jul_2014_SB.median()) + \n",
    "       (nlgz_Aug_2014_SB.median()) + \n",
    "       (nlgz_Sep_2014_SB.median()))"
   ]
  },
  {
   "cell_type": "code",
   "execution_count": 126,
   "metadata": {},
   "outputs": [
    {
     "data": {
      "application/vnd.plotly.v1+json": {
       "config": {
        "plotlyServerURL": "https://plot.ly"
       },
       "data": [
        {
         "colorscale": [
          [
           0,
           "#440154"
          ],
          [
           0.1111111111111111,
           "#482878"
          ],
          [
           0.2222222222222222,
           "#3e4989"
          ],
          [
           0.3333333333333333,
           "#31688e"
          ],
          [
           0.4444444444444444,
           "#26828e"
          ],
          [
           0.5555555555555556,
           "#1f9e89"
          ],
          [
           0.6666666666666666,
           "#35b779"
          ],
          [
           0.7777777777777778,
           "#6ece58"
          ],
          [
           0.8888888888888888,
           "#b5de2b"
          ],
          [
           1,
           "#fde725"
          ]
         ],
         "type": "heatmap",
         "x": [
          "NB",
          "CB",
          "SB"
         ],
         "y": [
          "Small zoos",
          "Med zoos",
          "Large zoos"
         ],
         "z": [
          [
           1.0364025695931478,
           1.0636704119850187,
           1.0045454545454546
          ],
          [
           1.0482315112540193,
           1.0743405275779379,
           1.001602564102564
          ],
          [
           1.4974958263772955,
           1.4620689655172414,
           1.3106796116504855
          ]
         ],
         "zmax": 1.5,
         "zmin": 1
        }
       ],
       "layout": {
        "template": {
         "data": {
          "bar": [
           {
            "error_x": {
             "color": "#2a3f5f"
            },
            "error_y": {
             "color": "#2a3f5f"
            },
            "marker": {
             "line": {
              "color": "#E5ECF6",
              "width": 0.5
             }
            },
            "type": "bar"
           }
          ],
          "barpolar": [
           {
            "marker": {
             "line": {
              "color": "#E5ECF6",
              "width": 0.5
             }
            },
            "type": "barpolar"
           }
          ],
          "carpet": [
           {
            "aaxis": {
             "endlinecolor": "#2a3f5f",
             "gridcolor": "white",
             "linecolor": "white",
             "minorgridcolor": "white",
             "startlinecolor": "#2a3f5f"
            },
            "baxis": {
             "endlinecolor": "#2a3f5f",
             "gridcolor": "white",
             "linecolor": "white",
             "minorgridcolor": "white",
             "startlinecolor": "#2a3f5f"
            },
            "type": "carpet"
           }
          ],
          "choropleth": [
           {
            "colorbar": {
             "outlinewidth": 0,
             "ticks": ""
            },
            "type": "choropleth"
           }
          ],
          "contour": [
           {
            "colorbar": {
             "outlinewidth": 0,
             "ticks": ""
            },
            "colorscale": [
             [
              0,
              "#0d0887"
             ],
             [
              0.1111111111111111,
              "#46039f"
             ],
             [
              0.2222222222222222,
              "#7201a8"
             ],
             [
              0.3333333333333333,
              "#9c179e"
             ],
             [
              0.4444444444444444,
              "#bd3786"
             ],
             [
              0.5555555555555556,
              "#d8576b"
             ],
             [
              0.6666666666666666,
              "#ed7953"
             ],
             [
              0.7777777777777778,
              "#fb9f3a"
             ],
             [
              0.8888888888888888,
              "#fdca26"
             ],
             [
              1,
              "#f0f921"
             ]
            ],
            "type": "contour"
           }
          ],
          "contourcarpet": [
           {
            "colorbar": {
             "outlinewidth": 0,
             "ticks": ""
            },
            "type": "contourcarpet"
           }
          ],
          "heatmap": [
           {
            "colorbar": {
             "outlinewidth": 0,
             "ticks": ""
            },
            "colorscale": [
             [
              0,
              "#0d0887"
             ],
             [
              0.1111111111111111,
              "#46039f"
             ],
             [
              0.2222222222222222,
              "#7201a8"
             ],
             [
              0.3333333333333333,
              "#9c179e"
             ],
             [
              0.4444444444444444,
              "#bd3786"
             ],
             [
              0.5555555555555556,
              "#d8576b"
             ],
             [
              0.6666666666666666,
              "#ed7953"
             ],
             [
              0.7777777777777778,
              "#fb9f3a"
             ],
             [
              0.8888888888888888,
              "#fdca26"
             ],
             [
              1,
              "#f0f921"
             ]
            ],
            "type": "heatmap"
           }
          ],
          "heatmapgl": [
           {
            "colorbar": {
             "outlinewidth": 0,
             "ticks": ""
            },
            "colorscale": [
             [
              0,
              "#0d0887"
             ],
             [
              0.1111111111111111,
              "#46039f"
             ],
             [
              0.2222222222222222,
              "#7201a8"
             ],
             [
              0.3333333333333333,
              "#9c179e"
             ],
             [
              0.4444444444444444,
              "#bd3786"
             ],
             [
              0.5555555555555556,
              "#d8576b"
             ],
             [
              0.6666666666666666,
              "#ed7953"
             ],
             [
              0.7777777777777778,
              "#fb9f3a"
             ],
             [
              0.8888888888888888,
              "#fdca26"
             ],
             [
              1,
              "#f0f921"
             ]
            ],
            "type": "heatmapgl"
           }
          ],
          "histogram": [
           {
            "marker": {
             "colorbar": {
              "outlinewidth": 0,
              "ticks": ""
             }
            },
            "type": "histogram"
           }
          ],
          "histogram2d": [
           {
            "colorbar": {
             "outlinewidth": 0,
             "ticks": ""
            },
            "colorscale": [
             [
              0,
              "#0d0887"
             ],
             [
              0.1111111111111111,
              "#46039f"
             ],
             [
              0.2222222222222222,
              "#7201a8"
             ],
             [
              0.3333333333333333,
              "#9c179e"
             ],
             [
              0.4444444444444444,
              "#bd3786"
             ],
             [
              0.5555555555555556,
              "#d8576b"
             ],
             [
              0.6666666666666666,
              "#ed7953"
             ],
             [
              0.7777777777777778,
              "#fb9f3a"
             ],
             [
              0.8888888888888888,
              "#fdca26"
             ],
             [
              1,
              "#f0f921"
             ]
            ],
            "type": "histogram2d"
           }
          ],
          "histogram2dcontour": [
           {
            "colorbar": {
             "outlinewidth": 0,
             "ticks": ""
            },
            "colorscale": [
             [
              0,
              "#0d0887"
             ],
             [
              0.1111111111111111,
              "#46039f"
             ],
             [
              0.2222222222222222,
              "#7201a8"
             ],
             [
              0.3333333333333333,
              "#9c179e"
             ],
             [
              0.4444444444444444,
              "#bd3786"
             ],
             [
              0.5555555555555556,
              "#d8576b"
             ],
             [
              0.6666666666666666,
              "#ed7953"
             ],
             [
              0.7777777777777778,
              "#fb9f3a"
             ],
             [
              0.8888888888888888,
              "#fdca26"
             ],
             [
              1,
              "#f0f921"
             ]
            ],
            "type": "histogram2dcontour"
           }
          ],
          "mesh3d": [
           {
            "colorbar": {
             "outlinewidth": 0,
             "ticks": ""
            },
            "type": "mesh3d"
           }
          ],
          "parcoords": [
           {
            "line": {
             "colorbar": {
              "outlinewidth": 0,
              "ticks": ""
             }
            },
            "type": "parcoords"
           }
          ],
          "scatter": [
           {
            "marker": {
             "colorbar": {
              "outlinewidth": 0,
              "ticks": ""
             }
            },
            "type": "scatter"
           }
          ],
          "scatter3d": [
           {
            "line": {
             "colorbar": {
              "outlinewidth": 0,
              "ticks": ""
             }
            },
            "marker": {
             "colorbar": {
              "outlinewidth": 0,
              "ticks": ""
             }
            },
            "type": "scatter3d"
           }
          ],
          "scattercarpet": [
           {
            "marker": {
             "colorbar": {
              "outlinewidth": 0,
              "ticks": ""
             }
            },
            "type": "scattercarpet"
           }
          ],
          "scattergeo": [
           {
            "marker": {
             "colorbar": {
              "outlinewidth": 0,
              "ticks": ""
             }
            },
            "type": "scattergeo"
           }
          ],
          "scattergl": [
           {
            "marker": {
             "colorbar": {
              "outlinewidth": 0,
              "ticks": ""
             }
            },
            "type": "scattergl"
           }
          ],
          "scattermapbox": [
           {
            "marker": {
             "colorbar": {
              "outlinewidth": 0,
              "ticks": ""
             }
            },
            "type": "scattermapbox"
           }
          ],
          "scatterpolar": [
           {
            "marker": {
             "colorbar": {
              "outlinewidth": 0,
              "ticks": ""
             }
            },
            "type": "scatterpolar"
           }
          ],
          "scatterpolargl": [
           {
            "marker": {
             "colorbar": {
              "outlinewidth": 0,
              "ticks": ""
             }
            },
            "type": "scatterpolargl"
           }
          ],
          "scatterternary": [
           {
            "marker": {
             "colorbar": {
              "outlinewidth": 0,
              "ticks": ""
             }
            },
            "type": "scatterternary"
           }
          ],
          "surface": [
           {
            "colorbar": {
             "outlinewidth": 0,
             "ticks": ""
            },
            "colorscale": [
             [
              0,
              "#0d0887"
             ],
             [
              0.1111111111111111,
              "#46039f"
             ],
             [
              0.2222222222222222,
              "#7201a8"
             ],
             [
              0.3333333333333333,
              "#9c179e"
             ],
             [
              0.4444444444444444,
              "#bd3786"
             ],
             [
              0.5555555555555556,
              "#d8576b"
             ],
             [
              0.6666666666666666,
              "#ed7953"
             ],
             [
              0.7777777777777778,
              "#fb9f3a"
             ],
             [
              0.8888888888888888,
              "#fdca26"
             ],
             [
              1,
              "#f0f921"
             ]
            ],
            "type": "surface"
           }
          ],
          "table": [
           {
            "cells": {
             "fill": {
              "color": "#EBF0F8"
             },
             "line": {
              "color": "white"
             }
            },
            "header": {
             "fill": {
              "color": "#C8D4E3"
             },
             "line": {
              "color": "white"
             }
            },
            "type": "table"
           }
          ]
         },
         "layout": {
          "annotationdefaults": {
           "arrowcolor": "#2a3f5f",
           "arrowhead": 0,
           "arrowwidth": 1
          },
          "colorscale": {
           "diverging": [
            [
             0,
             "#8e0152"
            ],
            [
             0.1,
             "#c51b7d"
            ],
            [
             0.2,
             "#de77ae"
            ],
            [
             0.3,
             "#f1b6da"
            ],
            [
             0.4,
             "#fde0ef"
            ],
            [
             0.5,
             "#f7f7f7"
            ],
            [
             0.6,
             "#e6f5d0"
            ],
            [
             0.7,
             "#b8e186"
            ],
            [
             0.8,
             "#7fbc41"
            ],
            [
             0.9,
             "#4d9221"
            ],
            [
             1,
             "#276419"
            ]
           ],
           "sequential": [
            [
             0,
             "#0d0887"
            ],
            [
             0.1111111111111111,
             "#46039f"
            ],
            [
             0.2222222222222222,
             "#7201a8"
            ],
            [
             0.3333333333333333,
             "#9c179e"
            ],
            [
             0.4444444444444444,
             "#bd3786"
            ],
            [
             0.5555555555555556,
             "#d8576b"
            ],
            [
             0.6666666666666666,
             "#ed7953"
            ],
            [
             0.7777777777777778,
             "#fb9f3a"
            ],
            [
             0.8888888888888888,
             "#fdca26"
            ],
            [
             1,
             "#f0f921"
            ]
           ],
           "sequentialminus": [
            [
             0,
             "#0d0887"
            ],
            [
             0.1111111111111111,
             "#46039f"
            ],
            [
             0.2222222222222222,
             "#7201a8"
            ],
            [
             0.3333333333333333,
             "#9c179e"
            ],
            [
             0.4444444444444444,
             "#bd3786"
            ],
            [
             0.5555555555555556,
             "#d8576b"
            ],
            [
             0.6666666666666666,
             "#ed7953"
            ],
            [
             0.7777777777777778,
             "#fb9f3a"
            ],
            [
             0.8888888888888888,
             "#fdca26"
            ],
            [
             1,
             "#f0f921"
            ]
           ]
          },
          "colorway": [
           "#636efa",
           "#EF553B",
           "#00cc96",
           "#ab63fa",
           "#FFA15A",
           "#19d3f3",
           "#FF6692",
           "#B6E880",
           "#FF97FF",
           "#FECB52"
          ],
          "font": {
           "color": "#2a3f5f"
          },
          "geo": {
           "bgcolor": "white",
           "lakecolor": "white",
           "landcolor": "#E5ECF6",
           "showlakes": true,
           "showland": true,
           "subunitcolor": "white"
          },
          "hoverlabel": {
           "align": "left"
          },
          "hovermode": "closest",
          "mapbox": {
           "style": "light"
          },
          "paper_bgcolor": "white",
          "plot_bgcolor": "#E5ECF6",
          "polar": {
           "angularaxis": {
            "gridcolor": "white",
            "linecolor": "white",
            "ticks": ""
           },
           "bgcolor": "#E5ECF6",
           "radialaxis": {
            "gridcolor": "white",
            "linecolor": "white",
            "ticks": ""
           }
          },
          "scene": {
           "xaxis": {
            "backgroundcolor": "#E5ECF6",
            "gridcolor": "white",
            "gridwidth": 2,
            "linecolor": "white",
            "showbackground": true,
            "ticks": "",
            "zerolinecolor": "white"
           },
           "yaxis": {
            "backgroundcolor": "#E5ECF6",
            "gridcolor": "white",
            "gridwidth": 2,
            "linecolor": "white",
            "showbackground": true,
            "ticks": "",
            "zerolinecolor": "white"
           },
           "zaxis": {
            "backgroundcolor": "#E5ECF6",
            "gridcolor": "white",
            "gridwidth": 2,
            "linecolor": "white",
            "showbackground": true,
            "ticks": "",
            "zerolinecolor": "white"
           }
          },
          "shapedefaults": {
           "line": {
            "color": "#2a3f5f"
           }
          },
          "ternary": {
           "aaxis": {
            "gridcolor": "white",
            "linecolor": "white",
            "ticks": ""
           },
           "baxis": {
            "gridcolor": "white",
            "linecolor": "white",
            "ticks": ""
           },
           "bgcolor": "#E5ECF6",
           "caxis": {
            "gridcolor": "white",
            "linecolor": "white",
            "ticks": ""
           }
          },
          "title": {
           "x": 0.05
          },
          "xaxis": {
           "automargin": true,
           "gridcolor": "white",
           "linecolor": "white",
           "ticks": "",
           "zerolinecolor": "white",
           "zerolinewidth": 2
          },
          "yaxis": {
           "automargin": true,
           "gridcolor": "white",
           "linecolor": "white",
           "ticks": "",
           "zerolinecolor": "white",
           "zerolinewidth": 2
          }
         }
        },
        "title": {
         "text": "Dry (May-Sep) season proportional differences: 2014 v. 2013"
        }
       }
      },
      "text/html": [
       "<div>\n",
       "        \n",
       "        \n",
       "            <div id=\"17510c29-ed58-44cb-8691-c8cc9a8fb040\" class=\"plotly-graph-div\" style=\"height:525px; width:100%;\"></div>\n",
       "            <script type=\"text/javascript\">\n",
       "                require([\"plotly\"], function(Plotly) {\n",
       "                    window.PLOTLYENV=window.PLOTLYENV || {};\n",
       "                    \n",
       "                if (document.getElementById(\"17510c29-ed58-44cb-8691-c8cc9a8fb040\")) {\n",
       "                    Plotly.newPlot(\n",
       "                        '17510c29-ed58-44cb-8691-c8cc9a8fb040',\n",
       "                        [{\"colorscale\": [[0.0, \"#440154\"], [0.1111111111111111, \"#482878\"], [0.2222222222222222, \"#3e4989\"], [0.3333333333333333, \"#31688e\"], [0.4444444444444444, \"#26828e\"], [0.5555555555555556, \"#1f9e89\"], [0.6666666666666666, \"#35b779\"], [0.7777777777777778, \"#6ece58\"], [0.8888888888888888, \"#b5de2b\"], [1.0, \"#fde725\"]], \"type\": \"heatmap\", \"x\": [\"NB\", \"CB\", \"SB\"], \"y\": [\"Small zoos\", \"Med zoos\", \"Large zoos\"], \"z\": [[1.0364025695931478, 1.0636704119850187, 1.0045454545454546], [1.0482315112540193, 1.0743405275779379, 1.001602564102564], [1.4974958263772955, 1.4620689655172414, 1.3106796116504855]], \"zmax\": 1.5, \"zmin\": 1}],\n",
       "                        {\"template\": {\"data\": {\"bar\": [{\"error_x\": {\"color\": \"#2a3f5f\"}, \"error_y\": {\"color\": \"#2a3f5f\"}, \"marker\": {\"line\": {\"color\": \"#E5ECF6\", \"width\": 0.5}}, \"type\": \"bar\"}], \"barpolar\": [{\"marker\": {\"line\": {\"color\": \"#E5ECF6\", \"width\": 0.5}}, \"type\": \"barpolar\"}], \"carpet\": [{\"aaxis\": {\"endlinecolor\": \"#2a3f5f\", \"gridcolor\": \"white\", \"linecolor\": \"white\", \"minorgridcolor\": \"white\", \"startlinecolor\": \"#2a3f5f\"}, \"baxis\": {\"endlinecolor\": \"#2a3f5f\", \"gridcolor\": \"white\", \"linecolor\": \"white\", \"minorgridcolor\": \"white\", \"startlinecolor\": \"#2a3f5f\"}, \"type\": \"carpet\"}], \"choropleth\": [{\"colorbar\": {\"outlinewidth\": 0, \"ticks\": \"\"}, \"type\": \"choropleth\"}], \"contour\": [{\"colorbar\": {\"outlinewidth\": 0, \"ticks\": \"\"}, \"colorscale\": [[0.0, \"#0d0887\"], [0.1111111111111111, \"#46039f\"], [0.2222222222222222, \"#7201a8\"], [0.3333333333333333, \"#9c179e\"], [0.4444444444444444, \"#bd3786\"], [0.5555555555555556, \"#d8576b\"], [0.6666666666666666, \"#ed7953\"], [0.7777777777777778, \"#fb9f3a\"], [0.8888888888888888, \"#fdca26\"], [1.0, \"#f0f921\"]], \"type\": \"contour\"}], \"contourcarpet\": [{\"colorbar\": {\"outlinewidth\": 0, \"ticks\": \"\"}, \"type\": \"contourcarpet\"}], \"heatmap\": [{\"colorbar\": {\"outlinewidth\": 0, \"ticks\": \"\"}, \"colorscale\": [[0.0, \"#0d0887\"], [0.1111111111111111, \"#46039f\"], [0.2222222222222222, \"#7201a8\"], [0.3333333333333333, \"#9c179e\"], [0.4444444444444444, \"#bd3786\"], [0.5555555555555556, \"#d8576b\"], [0.6666666666666666, \"#ed7953\"], [0.7777777777777778, \"#fb9f3a\"], [0.8888888888888888, \"#fdca26\"], [1.0, \"#f0f921\"]], \"type\": \"heatmap\"}], \"heatmapgl\": [{\"colorbar\": {\"outlinewidth\": 0, \"ticks\": \"\"}, \"colorscale\": [[0.0, \"#0d0887\"], [0.1111111111111111, \"#46039f\"], [0.2222222222222222, \"#7201a8\"], [0.3333333333333333, \"#9c179e\"], [0.4444444444444444, \"#bd3786\"], [0.5555555555555556, \"#d8576b\"], [0.6666666666666666, \"#ed7953\"], [0.7777777777777778, \"#fb9f3a\"], [0.8888888888888888, \"#fdca26\"], [1.0, \"#f0f921\"]], \"type\": \"heatmapgl\"}], \"histogram\": [{\"marker\": {\"colorbar\": {\"outlinewidth\": 0, \"ticks\": \"\"}}, \"type\": \"histogram\"}], \"histogram2d\": [{\"colorbar\": {\"outlinewidth\": 0, \"ticks\": \"\"}, \"colorscale\": [[0.0, \"#0d0887\"], [0.1111111111111111, \"#46039f\"], [0.2222222222222222, \"#7201a8\"], [0.3333333333333333, \"#9c179e\"], [0.4444444444444444, \"#bd3786\"], [0.5555555555555556, \"#d8576b\"], [0.6666666666666666, \"#ed7953\"], [0.7777777777777778, \"#fb9f3a\"], [0.8888888888888888, \"#fdca26\"], [1.0, \"#f0f921\"]], \"type\": \"histogram2d\"}], \"histogram2dcontour\": [{\"colorbar\": {\"outlinewidth\": 0, \"ticks\": \"\"}, \"colorscale\": [[0.0, \"#0d0887\"], [0.1111111111111111, \"#46039f\"], [0.2222222222222222, \"#7201a8\"], [0.3333333333333333, \"#9c179e\"], [0.4444444444444444, \"#bd3786\"], [0.5555555555555556, \"#d8576b\"], [0.6666666666666666, \"#ed7953\"], [0.7777777777777778, \"#fb9f3a\"], [0.8888888888888888, \"#fdca26\"], [1.0, \"#f0f921\"]], \"type\": \"histogram2dcontour\"}], \"mesh3d\": [{\"colorbar\": {\"outlinewidth\": 0, \"ticks\": \"\"}, \"type\": \"mesh3d\"}], \"parcoords\": [{\"line\": {\"colorbar\": {\"outlinewidth\": 0, \"ticks\": \"\"}}, \"type\": \"parcoords\"}], \"scatter\": [{\"marker\": {\"colorbar\": {\"outlinewidth\": 0, \"ticks\": \"\"}}, \"type\": \"scatter\"}], \"scatter3d\": [{\"line\": {\"colorbar\": {\"outlinewidth\": 0, \"ticks\": \"\"}}, \"marker\": {\"colorbar\": {\"outlinewidth\": 0, \"ticks\": \"\"}}, \"type\": \"scatter3d\"}], \"scattercarpet\": [{\"marker\": {\"colorbar\": {\"outlinewidth\": 0, \"ticks\": \"\"}}, \"type\": \"scattercarpet\"}], \"scattergeo\": [{\"marker\": {\"colorbar\": {\"outlinewidth\": 0, \"ticks\": \"\"}}, \"type\": \"scattergeo\"}], \"scattergl\": [{\"marker\": {\"colorbar\": {\"outlinewidth\": 0, \"ticks\": \"\"}}, \"type\": \"scattergl\"}], \"scattermapbox\": [{\"marker\": {\"colorbar\": {\"outlinewidth\": 0, \"ticks\": \"\"}}, \"type\": \"scattermapbox\"}], \"scatterpolar\": [{\"marker\": {\"colorbar\": {\"outlinewidth\": 0, \"ticks\": \"\"}}, \"type\": \"scatterpolar\"}], \"scatterpolargl\": [{\"marker\": {\"colorbar\": {\"outlinewidth\": 0, \"ticks\": \"\"}}, \"type\": \"scatterpolargl\"}], \"scatterternary\": [{\"marker\": {\"colorbar\": {\"outlinewidth\": 0, \"ticks\": \"\"}}, \"type\": \"scatterternary\"}], \"surface\": [{\"colorbar\": {\"outlinewidth\": 0, \"ticks\": \"\"}, \"colorscale\": [[0.0, \"#0d0887\"], [0.1111111111111111, \"#46039f\"], [0.2222222222222222, \"#7201a8\"], [0.3333333333333333, \"#9c179e\"], [0.4444444444444444, \"#bd3786\"], [0.5555555555555556, \"#d8576b\"], [0.6666666666666666, \"#ed7953\"], [0.7777777777777778, \"#fb9f3a\"], [0.8888888888888888, \"#fdca26\"], [1.0, \"#f0f921\"]], \"type\": \"surface\"}], \"table\": [{\"cells\": {\"fill\": {\"color\": \"#EBF0F8\"}, \"line\": {\"color\": \"white\"}}, \"header\": {\"fill\": {\"color\": \"#C8D4E3\"}, \"line\": {\"color\": \"white\"}}, \"type\": \"table\"}]}, \"layout\": {\"annotationdefaults\": {\"arrowcolor\": \"#2a3f5f\", \"arrowhead\": 0, \"arrowwidth\": 1}, \"colorscale\": {\"diverging\": [[0, \"#8e0152\"], [0.1, \"#c51b7d\"], [0.2, \"#de77ae\"], [0.3, \"#f1b6da\"], [0.4, \"#fde0ef\"], [0.5, \"#f7f7f7\"], [0.6, \"#e6f5d0\"], [0.7, \"#b8e186\"], [0.8, \"#7fbc41\"], [0.9, \"#4d9221\"], [1, \"#276419\"]], \"sequential\": [[0.0, \"#0d0887\"], [0.1111111111111111, \"#46039f\"], [0.2222222222222222, \"#7201a8\"], [0.3333333333333333, \"#9c179e\"], [0.4444444444444444, \"#bd3786\"], [0.5555555555555556, \"#d8576b\"], [0.6666666666666666, \"#ed7953\"], [0.7777777777777778, \"#fb9f3a\"], [0.8888888888888888, \"#fdca26\"], [1.0, \"#f0f921\"]], \"sequentialminus\": [[0.0, \"#0d0887\"], [0.1111111111111111, \"#46039f\"], [0.2222222222222222, \"#7201a8\"], [0.3333333333333333, \"#9c179e\"], [0.4444444444444444, \"#bd3786\"], [0.5555555555555556, \"#d8576b\"], [0.6666666666666666, \"#ed7953\"], [0.7777777777777778, \"#fb9f3a\"], [0.8888888888888888, \"#fdca26\"], [1.0, \"#f0f921\"]]}, \"colorway\": [\"#636efa\", \"#EF553B\", \"#00cc96\", \"#ab63fa\", \"#FFA15A\", \"#19d3f3\", \"#FF6692\", \"#B6E880\", \"#FF97FF\", \"#FECB52\"], \"font\": {\"color\": \"#2a3f5f\"}, \"geo\": {\"bgcolor\": \"white\", \"lakecolor\": \"white\", \"landcolor\": \"#E5ECF6\", \"showlakes\": true, \"showland\": true, \"subunitcolor\": \"white\"}, \"hoverlabel\": {\"align\": \"left\"}, \"hovermode\": \"closest\", \"mapbox\": {\"style\": \"light\"}, \"paper_bgcolor\": \"white\", \"plot_bgcolor\": \"#E5ECF6\", \"polar\": {\"angularaxis\": {\"gridcolor\": \"white\", \"linecolor\": \"white\", \"ticks\": \"\"}, \"bgcolor\": \"#E5ECF6\", \"radialaxis\": {\"gridcolor\": \"white\", \"linecolor\": \"white\", \"ticks\": \"\"}}, \"scene\": {\"xaxis\": {\"backgroundcolor\": \"#E5ECF6\", \"gridcolor\": \"white\", \"gridwidth\": 2, \"linecolor\": \"white\", \"showbackground\": true, \"ticks\": \"\", \"zerolinecolor\": \"white\"}, \"yaxis\": {\"backgroundcolor\": \"#E5ECF6\", \"gridcolor\": \"white\", \"gridwidth\": 2, \"linecolor\": \"white\", \"showbackground\": true, \"ticks\": \"\", \"zerolinecolor\": \"white\"}, \"zaxis\": {\"backgroundcolor\": \"#E5ECF6\", \"gridcolor\": \"white\", \"gridwidth\": 2, \"linecolor\": \"white\", \"showbackground\": true, \"ticks\": \"\", \"zerolinecolor\": \"white\"}}, \"shapedefaults\": {\"line\": {\"color\": \"#2a3f5f\"}}, \"ternary\": {\"aaxis\": {\"gridcolor\": \"white\", \"linecolor\": \"white\", \"ticks\": \"\"}, \"baxis\": {\"gridcolor\": \"white\", \"linecolor\": \"white\", \"ticks\": \"\"}, \"bgcolor\": \"#E5ECF6\", \"caxis\": {\"gridcolor\": \"white\", \"linecolor\": \"white\", \"ticks\": \"\"}}, \"title\": {\"x\": 0.05}, \"xaxis\": {\"automargin\": true, \"gridcolor\": \"white\", \"linecolor\": \"white\", \"ticks\": \"\", \"zerolinecolor\": \"white\", \"zerolinewidth\": 2}, \"yaxis\": {\"automargin\": true, \"gridcolor\": \"white\", \"linecolor\": \"white\", \"ticks\": \"\", \"zerolinecolor\": \"white\", \"zerolinewidth\": 2}}}, \"title\": {\"text\": \"Dry (May-Sep) season proportional differences: 2014 v. 2013\"}},\n",
       "                        {\"responsive\": true}\n",
       "                    ).then(function(){\n",
       "                            \n",
       "var gd = document.getElementById('17510c29-ed58-44cb-8691-c8cc9a8fb040');\n",
       "var x = new MutationObserver(function (mutations, observer) {{\n",
       "        var display = window.getComputedStyle(gd).display;\n",
       "        if (!display || display === 'none') {{\n",
       "            console.log([gd, 'removed!']);\n",
       "            Plotly.purge(gd);\n",
       "            observer.disconnect();\n",
       "        }}\n",
       "}});\n",
       "\n",
       "// Listen for the removal of the full notebook cells\n",
       "var notebookContainer = gd.closest('#notebook-container');\n",
       "if (notebookContainer) {{\n",
       "    x.observe(notebookContainer, {childList: true});\n",
       "}}\n",
       "\n",
       "// Listen for the clearing of the current output cell\n",
       "var outputEl = gd.closest('.output');\n",
       "if (outputEl) {{\n",
       "    x.observe(outputEl, {childList: true});\n",
       "}}\n",
       "\n",
       "                        })\n",
       "                };\n",
       "                });\n",
       "            </script>\n",
       "        </div>"
      ]
     },
     "metadata": {},
     "output_type": "display_data"
    }
   ],
   "source": [
    "# Dry season\n",
    "\n",
    "fig = go.Figure(data=go.Heatmap(\n",
    "                   z=[[4.84/4.67, 5.68/5.34, 6.63/6.60], \n",
    "                      [3.26/3.11, 4.48/4.17, 6.25/6.24], \n",
    "                      [.897/.599,1.06/.725,1.35/1.03]],\n",
    "                   x=['NB', 'CB', 'SB'],\n",
    "                   y=['Small zoos', 'Med zoos', 'Large zoos'],\n",
    "                    colorscale=\"Viridis\",\n",
    "                    zmin=1, zmax=1.5))                  \n",
    "\n",
    "fig.update_layout(\n",
    "    title='Dry (May-Sep) season proportional differences: 2014 v. 2013')\n",
    "\n",
    "fig.show()"
   ]
  },
  {
   "cell_type": "code",
   "execution_count": 113,
   "metadata": {},
   "outputs": [],
   "source": [
    "nsmz_Jan_2013_NB= nsmz_Jan_2013.loc[nsmz_Jan_2013['sector']=='NB']\n",
    "nsmz_Jan_2013_CB= nsmz_Jan_2013.loc[nsmz_Jan_2013['sector']=='CB']\n",
    "nsmz_Jan_2013_SB= nsmz_Jan_2013.loc[nsmz_Jan_2013['sector']=='SB']\n",
    "\n",
    "nsmz_Feb_2013_NB= nsmz_Feb_2013.loc[nsmz_Feb_2013['sector']=='NB']\n",
    "nsmz_Feb_2013_CB= nsmz_Feb_2013.loc[nsmz_Feb_2013['sector']=='CB']\n",
    "nsmz_Feb_2013_SB= nsmz_Feb_2013.loc[nsmz_Feb_2013['sector']=='SB']\n",
    "\n",
    "nsmz_Mar_2013_NB= nsmz_Mar_2013.loc[nsmz_Mar_2013['sector']=='NB']\n",
    "nsmz_Mar_2013_CB= nsmz_Mar_2013.loc[nsmz_Mar_2013['sector']=='CB']\n",
    "nsmz_Mar_2013_SB= nsmz_Mar_2013.loc[nsmz_Mar_2013['sector']=='SB']\n",
    "\n",
    "nsmz_Apr_2013_NB= nsmz_Apr_2013.loc[nsmz_Apr_2013['sector']=='NB']\n",
    "nsmz_Apr_2013_CB= nsmz_Apr_2013.loc[nsmz_Apr_2013['sector']=='CB']\n",
    "nsmz_Apr_2013_SB= nsmz_Apr_2013.loc[nsmz_Apr_2013['sector']=='SB']\n",
    "\n",
    "nsmz_Oct_2013_NB= nsmz_Oct_2013.loc[nsmz_Oct_2013['sector']=='NB']\n",
    "nsmz_Oct_2013_CB= nsmz_Oct_2013.loc[nsmz_Oct_2013['sector']=='CB']\n",
    "nsmz_Oct_2013_SB= nsmz_Oct_2013.loc[nsmz_Oct_2013['sector']=='SB']\n",
    "\n",
    "nsmz_Nov_2013_NB= nsmz_Nov_2013.loc[nsmz_Nov_2013['sector']=='NB']\n",
    "nsmz_Nov_2013_CB= nsmz_Nov_2013.loc[nsmz_Nov_2013['sector']=='CB']\n",
    "nsmz_Nov_2013_SB= nsmz_Nov_2013.loc[nsmz_Nov_2013['sector']=='SB']\n",
    "\n",
    "nsmz_Dec_2013_NB= nsmz_Dec_2013.loc[nsmz_Dec_2013['sector']=='NB']\n",
    "nsmz_Dec_2013_CB= nsmz_Dec_2013.loc[nsmz_Dec_2013['sector']=='CB']\n",
    "nsmz_Dec_2013_SB= nsmz_Dec_2013.loc[nsmz_Dec_2013['sector']=='SB']\n",
    "\n",
    "\n",
    "nmdz_Jan_2013_NB= nmdz_Jan_2013.loc[nmdz_Jan_2013['sector']=='NB']\n",
    "nmdz_Jan_2013_CB= nmdz_Jan_2013.loc[nmdz_Jan_2013['sector']=='CB']\n",
    "nmdz_Jan_2013_SB= nmdz_Jan_2013.loc[nmdz_Jan_2013['sector']=='SB']\n",
    "\n",
    "nmdz_Feb_2013_NB= nmdz_Feb_2013.loc[nmdz_Feb_2013['sector']=='NB']\n",
    "nmdz_Feb_2013_CB= nmdz_Feb_2013.loc[nmdz_Feb_2013['sector']=='CB']\n",
    "nmdz_Feb_2013_SB= nmdz_Feb_2013.loc[nmdz_Feb_2013['sector']=='SB']\n",
    "\n",
    "nmdz_Mar_2013_NB= nmdz_Mar_2013.loc[nmdz_Mar_2013['sector']=='NB']\n",
    "nmdz_Mar_2013_CB= nmdz_Mar_2013.loc[nmdz_Mar_2013['sector']=='CB']\n",
    "nmdz_Mar_2013_SB= nmdz_Mar_2013.loc[nmdz_Mar_2013['sector']=='SB']\n",
    "\n",
    "nmdz_Apr_2013_NB= nmdz_Apr_2013.loc[nmdz_Apr_2013['sector']=='NB']\n",
    "nmdz_Apr_2013_CB= nmdz_Apr_2013.loc[nmdz_Apr_2013['sector']=='CB']\n",
    "nmdz_Apr_2013_SB= nmdz_Apr_2013.loc[nmdz_Apr_2013['sector']=='SB']\n",
    "\n",
    "nmdz_Oct_2013_NB= nmdz_Oct_2013.loc[nmdz_Oct_2013['sector']=='NB']\n",
    "nmdz_Oct_2013_CB= nmdz_Oct_2013.loc[nmdz_Oct_2013['sector']=='CB']\n",
    "nmdz_Oct_2013_SB= nmdz_Oct_2013.loc[nmdz_Oct_2013['sector']=='SB']\n",
    "\n",
    "nmdz_Nov_2013_NB= nmdz_Nov_2013.loc[nmdz_Nov_2013['sector']=='NB']\n",
    "nmdz_Nov_2013_CB= nmdz_Nov_2013.loc[nmdz_Nov_2013['sector']=='CB']\n",
    "nmdz_Nov_2013_SB= nmdz_Nov_2013.loc[nmdz_Nov_2013['sector']=='SB']\n",
    "\n",
    "nmdz_Dec_2013_NB= nmdz_Dec_2013.loc[nmdz_Dec_2013['sector']=='NB']\n",
    "nmdz_Dec_2013_CB= nmdz_Dec_2013.loc[nmdz_Dec_2013['sector']=='CB']\n",
    "nmdz_Dec_2013_SB= nmdz_Dec_2013.loc[nmdz_Dec_2013['sector']=='SB']\n",
    "\n",
    "nlgz_Jan_2013_NB= nlgz_Jan_2013.loc[nlgz_Jan_2013['sector']=='NB']\n",
    "nlgz_Jan_2013_CB= nlgz_Jan_2013.loc[nlgz_Jan_2013['sector']=='CB']\n",
    "nlgz_Jan_2013_SB= nlgz_Jan_2013.loc[nlgz_Jan_2013['sector']=='SB']\n",
    "\n",
    "nlgz_Feb_2013_NB= nlgz_Feb_2013.loc[nlgz_Feb_2013['sector']=='NB']\n",
    "nlgz_Feb_2013_CB= nlgz_Feb_2013.loc[nlgz_Feb_2013['sector']=='CB']\n",
    "nlgz_Feb_2013_SB= nlgz_Feb_2013.loc[nlgz_Feb_2013['sector']=='SB']\n",
    "\n",
    "nlgz_Mar_2013_NB= nlgz_Mar_2013.loc[nlgz_Mar_2013['sector']=='NB']\n",
    "nlgz_Mar_2013_CB= nlgz_Mar_2013.loc[nlgz_Mar_2013['sector']=='CB']\n",
    "nlgz_Mar_2013_SB= nlgz_Mar_2013.loc[nlgz_Mar_2013['sector']=='SB']\n",
    "\n",
    "nlgz_Apr_2013_NB= nlgz_Apr_2013.loc[nlgz_Apr_2013['sector']=='NB']\n",
    "nlgz_Apr_2013_CB= nlgz_Apr_2013.loc[nlgz_Apr_2013['sector']=='CB']\n",
    "nlgz_Apr_2013_SB= nlgz_Apr_2013.loc[nlgz_Apr_2013['sector']=='SB']\n",
    "\n",
    "nlgz_Oct_2013_NB= nlgz_Oct_2013.loc[nlgz_Oct_2013['sector']=='NB']\n",
    "nlgz_Oct_2013_CB= nlgz_Oct_2013.loc[nlgz_Oct_2013['sector']=='CB']\n",
    "nlgz_Oct_2013_SB= nlgz_Oct_2013.loc[nlgz_Oct_2013['sector']=='SB']\n",
    "\n",
    "nlgz_Nov_2013_NB= nlgz_Nov_2013.loc[nlgz_Nov_2013['sector']=='NB']\n",
    "nlgz_Nov_2013_CB= nlgz_Nov_2013.loc[nlgz_Nov_2013['sector']=='CB']\n",
    "nlgz_Nov_2013_SB= nlgz_Nov_2013.loc[nlgz_Nov_2013['sector']=='SB']\n",
    "\n",
    "nlgz_Dec_2013_NB= nlgz_Dec_2013.loc[nlgz_Dec_2013['sector']=='NB']\n",
    "nlgz_Dec_2013_CB= nlgz_Dec_2013.loc[nlgz_Dec_2013['sector']=='CB']\n",
    "nlgz_Dec_2013_SB= nlgz_Dec_2013.loc[nlgz_Dec_2013['sector']=='SB']"
   ]
  },
  {
   "cell_type": "code",
   "execution_count": 115,
   "metadata": {},
   "outputs": [
    {
     "name": "stdout",
     "output_type": "stream",
     "text": [
      "Wet season median nsmz 2013 (NB):\n",
      "Unnamed: 0       2.412885e+05\n",
      "concentration    7.899343e-07\n",
      "year             1.409100e+04\n",
      "dtype: float64\n",
      "Wet season median nsmz 2013 (CB):\n",
      "Unnamed: 0       2.589355e+05\n",
      "concentration    8.658717e-07\n",
      "year             1.409100e+04\n",
      "dtype: float64\n",
      "Wet season median nsmz 2013 (SB):\n",
      "Unnamed: 0       2.737615e+05\n",
      "concentration    8.914081e-07\n",
      "year             1.409100e+04\n",
      "dtype: float64\n",
      "Wet season median nmdz 2013 (NB):\n",
      "Unnamed: 0       2.412885e+05\n",
      "concentration    4.650950e-07\n",
      "year             1.409100e+04\n",
      "dtype: float64\n",
      "Wet season median nmdz 2013 (CB):\n",
      "Unnamed: 0       2.589355e+05\n",
      "concentration    6.039056e-07\n",
      "year             1.409100e+04\n",
      "dtype: float64\n",
      "Wet season median nmdz 2013 (SB):\n",
      "Unnamed: 0       2.737615e+05\n",
      "concentration    8.383105e-07\n",
      "year             1.409100e+04\n",
      "dtype: float64\n",
      "Wet season median nlgz 2013 (NB):\n",
      "Unnamed: 0       2.412885e+05\n",
      "concentration    1.004453e-07\n",
      "year             1.409100e+04\n",
      "dtype: float64\n",
      "Wet season median nlgz 2013 (CB):\n",
      "Unnamed: 0       2.589355e+05\n",
      "concentration    1.159422e-07\n",
      "year             1.409100e+04\n",
      "dtype: float64\n",
      "Wet season median nlgz 2013 (SB):\n",
      "Unnamed: 0       2.737615e+05\n",
      "concentration    1.565948e-07\n",
      "year             1.409100e+04\n",
      "dtype: float64\n"
     ]
    }
   ],
   "source": [
    "print(str('Wet season median nsmz 2013 (NB):'))\n",
    "print((nsmz_Jan_2013_NB.median()) + \n",
    "      (nsmz_Feb_2013_NB.median()) + \n",
    "       (nsmz_Mar_2013_NB.median()) + \n",
    "       (nsmz_Apr_2013_NB.median()) + \n",
    "       (nsmz_Oct_2013_NB.median()) +\n",
    "       (nsmz_Nov_2013_NB.median()) +  \n",
    "       (nsmz_Dec_2013_NB.median()))\n",
    "\n",
    "print(str('Wet season median nsmz 2013 (CB):'))\n",
    "print((nsmz_Jan_2013_CB.median()) + \n",
    "      (nsmz_Feb_2013_CB.median()) + \n",
    "       (nsmz_Mar_2013_CB.median()) + \n",
    "       (nsmz_Apr_2013_CB.median()) + \n",
    "       (nsmz_Oct_2013_CB.median()) + \n",
    "       (nsmz_Nov_2013_CB.median()) + \n",
    "       (nsmz_Dec_2013_CB.median()))\n",
    "\n",
    "print(str('Wet season median nsmz 2013 (SB):'))\n",
    "print((nsmz_Jan_2013_SB.median()) + \n",
    "      (nsmz_Feb_2013_SB.median()) + \n",
    "       (nsmz_Mar_2013_SB.median()) + \n",
    "       (nsmz_Apr_2013_SB.median()) +\n",
    "       (nsmz_Oct_2013_SB.median()) +\n",
    "       (nsmz_Nov_2013_SB.median()) + \n",
    "       (nsmz_Dec_2013_SB.median()))\n",
    "\n",
    "print(str('Wet season median nmdz 2013 (NB):'))\n",
    "print((nmdz_Jan_2013_NB.median()) + \n",
    "      (nmdz_Feb_2013_NB.median()) + \n",
    "       (nmdz_Mar_2013_NB.median()) + \n",
    "       (nmdz_Apr_2013_NB.median()) +\n",
    "       (nmdz_Oct_2013_NB.median()) +\n",
    "       (nmdz_Nov_2013_NB.median()) + \n",
    "       (nmdz_Dec_2013_NB.median()))\n",
    "\n",
    "print(str('Wet season median nmdz 2013 (CB):'))\n",
    "print((nmdz_Jan_2013_CB.median()) + \n",
    "      (nmdz_Feb_2013_CB.median()) + \n",
    "       (nmdz_Mar_2013_CB.median()) + \n",
    "       (nmdz_Apr_2013_CB.median()) +\n",
    "       (nmdz_Oct_2013_CB.median()) +\n",
    "       (nmdz_Nov_2013_CB.median()) + \n",
    "       (nmdz_Dec_2013_CB.median()))\n",
    "\n",
    "print(str('Wet season median nmdz 2013 (SB):'))\n",
    "print((nmdz_Jan_2013_SB.median()) + \n",
    "      (nmdz_Feb_2013_SB.median()) + \n",
    "       (nmdz_Mar_2013_SB.median()) + \n",
    "       (nmdz_Apr_2013_SB.median()) + \n",
    "       (nmdz_Oct_2013_SB.median()) + \n",
    "       (nmdz_Nov_2013_SB.median()) + \n",
    "       (nmdz_Dec_2013_SB.median()))\n",
    "\n",
    "print(str('Wet season median nlgz 2013 (NB):'))\n",
    "print((nlgz_Jan_2013_NB.median()) + \n",
    "      (nlgz_Feb_2013_NB.median()) + \n",
    "       (nlgz_Mar_2013_NB.median()) + \n",
    "       (nlgz_Apr_2013_NB.median()) +\n",
    "       (nlgz_Oct_2013_NB.median()) +\n",
    "       (nlgz_Nov_2013_NB.median()) + \n",
    "       (nlgz_Dec_2013_NB.median()))\n",
    "\n",
    "print(str('Wet season median nlgz 2013 (CB):'))\n",
    "print((nlgz_Jan_2013_CB.median()) + \n",
    "      (nlgz_Feb_2013_CB.median()) + \n",
    "       (nlgz_Mar_2013_CB.median()) + \n",
    "       (nlgz_Apr_2013_CB.median()) +\n",
    "       (nlgz_Oct_2013_CB.median()) +\n",
    "       (nlgz_Nov_2013_CB.median()) +\n",
    "       (nlgz_Dec_2013_CB.median()))\n",
    "\n",
    "print(str('Wet season median nlgz 2013 (SB):'))\n",
    "print((nlgz_Jan_2013_SB.median()) + \n",
    "      (nlgz_Feb_2013_SB.median()) + \n",
    "       (nlgz_Mar_2013_SB.median()) + \n",
    "       (nlgz_Apr_2013_SB.median()) +\n",
    "       (nlgz_Oct_2013_SB.median()) +\n",
    "       (nlgz_Nov_2013_SB.median()) + \n",
    "       (nlgz_Dec_2013_SB.median()))"
   ]
  },
  {
   "cell_type": "code",
   "execution_count": 116,
   "metadata": {},
   "outputs": [],
   "source": [
    "nsmz_Jan_2014_NB= nsmz_Jan_2014.loc[nsmz_Jan_2014['sector']=='NB']\n",
    "nsmz_Jan_2014_CB= nsmz_Jan_2014.loc[nsmz_Jan_2014['sector']=='CB']\n",
    "nsmz_Jan_2014_SB= nsmz_Jan_2014.loc[nsmz_Jan_2014['sector']=='SB']\n",
    "\n",
    "nsmz_Feb_2014_NB= nsmz_Feb_2014.loc[nsmz_Feb_2014['sector']=='NB']\n",
    "nsmz_Feb_2014_CB= nsmz_Feb_2014.loc[nsmz_Feb_2014['sector']=='CB']\n",
    "nsmz_Feb_2014_SB= nsmz_Feb_2014.loc[nsmz_Feb_2014['sector']=='SB']\n",
    "\n",
    "nsmz_Mar_2014_NB= nsmz_Mar_2014.loc[nsmz_Mar_2014['sector']=='NB']\n",
    "nsmz_Mar_2014_CB= nsmz_Mar_2014.loc[nsmz_Mar_2014['sector']=='CB']\n",
    "nsmz_Mar_2014_SB= nsmz_Mar_2014.loc[nsmz_Mar_2014['sector']=='SB']\n",
    "\n",
    "nsmz_Apr_2014_NB= nsmz_Apr_2014.loc[nsmz_Apr_2014['sector']=='NB']\n",
    "nsmz_Apr_2014_CB= nsmz_Apr_2014.loc[nsmz_Apr_2014['sector']=='CB']\n",
    "nsmz_Apr_2014_SB= nsmz_Apr_2014.loc[nsmz_Apr_2014['sector']=='SB']\n",
    "\n",
    "nsmz_Oct_2014_NB= nsmz_Oct_2014.loc[nsmz_Oct_2014['sector']=='NB']\n",
    "nsmz_Oct_2014_CB= nsmz_Oct_2014.loc[nsmz_Oct_2014['sector']=='CB']\n",
    "nsmz_Oct_2014_SB= nsmz_Oct_2014.loc[nsmz_Oct_2014['sector']=='SB']\n",
    "\n",
    "nsmz_Nov_2014_NB= nsmz_Nov_2014.loc[nsmz_Nov_2014['sector']=='NB']\n",
    "nsmz_Nov_2014_CB= nsmz_Nov_2014.loc[nsmz_Nov_2014['sector']=='CB']\n",
    "nsmz_Nov_2014_SB= nsmz_Nov_2014.loc[nsmz_Nov_2014['sector']=='SB']\n",
    "\n",
    "nsmz_Dec_2014_NB= nsmz_Dec_2014.loc[nsmz_Dec_2014['sector']=='NB']\n",
    "nsmz_Dec_2014_CB= nsmz_Dec_2014.loc[nsmz_Dec_2014['sector']=='CB']\n",
    "nsmz_Dec_2014_SB= nsmz_Dec_2014.loc[nsmz_Dec_2014['sector']=='SB']\n",
    "\n",
    "nmdz_Jan_2014_NB= nmdz_Jan_2014.loc[nmdz_Jan_2014['sector']=='NB']\n",
    "nmdz_Jan_2014_CB= nmdz_Jan_2014.loc[nmdz_Jan_2014['sector']=='CB']\n",
    "nmdz_Jan_2014_SB= nmdz_Jan_2014.loc[nmdz_Jan_2014['sector']=='SB']\n",
    "\n",
    "nmdz_Feb_2014_NB= nmdz_Feb_2014.loc[nmdz_Feb_2014['sector']=='NB']\n",
    "nmdz_Feb_2014_CB= nmdz_Feb_2014.loc[nmdz_Feb_2014['sector']=='CB']\n",
    "nmdz_Feb_2014_SB= nmdz_Feb_2014.loc[nmdz_Feb_2014['sector']=='SB']\n",
    "\n",
    "nmdz_Mar_2014_NB= nmdz_Mar_2014.loc[nmdz_Mar_2014['sector']=='NB']\n",
    "nmdz_Mar_2014_CB= nmdz_Mar_2014.loc[nmdz_Mar_2014['sector']=='CB']\n",
    "nmdz_Mar_2014_SB= nmdz_Mar_2014.loc[nmdz_Mar_2014['sector']=='SB']\n",
    "\n",
    "nmdz_Apr_2014_NB= nmdz_Apr_2014.loc[nmdz_Apr_2014['sector']=='NB']\n",
    "nmdz_Apr_2014_CB= nmdz_Apr_2014.loc[nmdz_Apr_2014['sector']=='CB']\n",
    "nmdz_Apr_2014_SB= nmdz_Apr_2014.loc[nmdz_Apr_2014['sector']=='SB']\n",
    "\n",
    "nmdz_Oct_2014_NB= nmdz_Oct_2014.loc[nmdz_Oct_2014['sector']=='NB']\n",
    "nmdz_Oct_2014_CB= nmdz_Oct_2014.loc[nmdz_Oct_2014['sector']=='CB']\n",
    "nmdz_Oct_2014_SB= nmdz_Oct_2014.loc[nmdz_Oct_2014['sector']=='SB']\n",
    "\n",
    "nmdz_Nov_2014_NB= nmdz_Nov_2014.loc[nmdz_Nov_2014['sector']=='NB']\n",
    "nmdz_Nov_2014_CB= nmdz_Nov_2014.loc[nmdz_Nov_2014['sector']=='CB']\n",
    "nmdz_Nov_2014_SB= nmdz_Nov_2014.loc[nmdz_Nov_2014['sector']=='SB']\n",
    "\n",
    "nmdz_Dec_2014_NB= nmdz_Dec_2014.loc[nmdz_Dec_2014['sector']=='NB']\n",
    "nmdz_Dec_2014_CB= nmdz_Dec_2014.loc[nmdz_Dec_2014['sector']=='CB']\n",
    "nmdz_Dec_2014_SB= nmdz_Dec_2014.loc[nmdz_Dec_2014['sector']=='SB']\n",
    "\n",
    "nlgz_Jan_2014_NB= nlgz_Jan_2014.loc[nlgz_Jan_2014['sector']=='NB']\n",
    "nlgz_Jan_2014_CB= nlgz_Jan_2014.loc[nlgz_Jan_2014['sector']=='CB']\n",
    "nlgz_Jan_2014_SB= nlgz_Jan_2014.loc[nlgz_Jan_2014['sector']=='SB']\n",
    "\n",
    "nlgz_Feb_2014_NB= nlgz_Feb_2014.loc[nlgz_Feb_2014['sector']=='NB']\n",
    "nlgz_Feb_2014_CB= nlgz_Feb_2014.loc[nlgz_Feb_2014['sector']=='CB']\n",
    "nlgz_Feb_2014_SB= nlgz_Feb_2014.loc[nlgz_Feb_2014['sector']=='SB']\n",
    "\n",
    "nlgz_Mar_2014_NB= nlgz_Mar_2014.loc[nlgz_Mar_2014['sector']=='NB']\n",
    "nlgz_Mar_2014_CB= nlgz_Mar_2014.loc[nlgz_Mar_2014['sector']=='CB']\n",
    "nlgz_Mar_2014_SB= nlgz_Mar_2014.loc[nlgz_Mar_2014['sector']=='SB']\n",
    "\n",
    "nlgz_Apr_2014_NB= nlgz_Apr_2014.loc[nlgz_Apr_2014['sector']=='NB']\n",
    "nlgz_Apr_2014_CB= nlgz_Apr_2014.loc[nlgz_Apr_2014['sector']=='CB']\n",
    "nlgz_Apr_2014_SB= nlgz_Apr_2014.loc[nlgz_Apr_2014['sector']=='SB']\n",
    "\n",
    "nlgz_Oct_2014_NB= nlgz_Oct_2014.loc[nlgz_Oct_2014['sector']=='NB']\n",
    "nlgz_Oct_2014_CB= nlgz_Oct_2014.loc[nlgz_Oct_2014['sector']=='CB']\n",
    "nlgz_Oct_2014_SB= nlgz_Oct_2014.loc[nlgz_Oct_2014['sector']=='SB']\n",
    "\n",
    "nlgz_Nov_2014_NB= nlgz_Nov_2014.loc[nlgz_Nov_2014['sector']=='NB']\n",
    "nlgz_Nov_2014_CB= nlgz_Nov_2014.loc[nlgz_Nov_2014['sector']=='CB']\n",
    "nlgz_Nov_2014_SB= nlgz_Nov_2014.loc[nlgz_Nov_2014['sector']=='SB']\n",
    "\n",
    "nlgz_Dec_2014_NB= nlgz_Dec_2014.loc[nlgz_Dec_2014['sector']=='NB']\n",
    "nlgz_Dec_2014_CB= nlgz_Dec_2014.loc[nlgz_Dec_2014['sector']=='CB']\n",
    "nlgz_Dec_2014_SB= nlgz_Dec_2014.loc[nlgz_Dec_2014['sector']=='SB']"
   ]
  },
  {
   "cell_type": "code",
   "execution_count": 117,
   "metadata": {},
   "outputs": [
    {
     "name": "stdout",
     "output_type": "stream",
     "text": [
      "Wet season median nsmz 2014 (NB):\n",
      "Unnamed: 0         2.412885e+05\n",
      "concentration      7.954877e-07\n",
      "year               1.409800e+04\n",
      "nsmz_difference    8.551937e-08\n",
      "dtype: float64\n",
      "Wet season median nsmz 2014 (CB):\n",
      "Unnamed: 0         2.589355e+05\n",
      "concentration      8.371870e-07\n",
      "year               1.409800e+04\n",
      "nsmz_difference    6.214095e-08\n",
      "dtype: float64\n",
      "Wet season median nsmz 2014 (SB):\n",
      "Unnamed: 0         2.737615e+05\n",
      "concentration      8.455842e-07\n",
      "year               1.409800e+04\n",
      "nsmz_difference    6.429753e-08\n",
      "dtype: float64\n",
      "Wet season median nmdz 2014 (NB):\n",
      "Unnamed: 0         2.412885e+05\n",
      "concentration      4.615705e-07\n",
      "year               1.409800e+04\n",
      "nmdz_difference    4.280419e-08\n",
      "dtype: float64\n",
      "Wet season median nmdz 2014 (CB):\n",
      "Unnamed: 0         2.589355e+05\n",
      "concentration      5.620583e-07\n",
      "year               1.409800e+04\n",
      "nmdz_difference    6.664598e-08\n",
      "dtype: float64\n",
      "Wet season median nmdz 2014 (SB):\n",
      "Unnamed: 0         2.737615e+05\n",
      "concentration      7.241276e-07\n",
      "year               1.409800e+04\n",
      "nmdz_difference    1.158700e-07\n",
      "dtype: float64\n",
      "Wet season median nlgz 2014 (NB):\n",
      "Unnamed: 0         2.412885e+05\n",
      "concentration      1.004630e-07\n",
      "year               1.409800e+04\n",
      "nlgz_difference    2.287352e-08\n",
      "dtype: float64\n",
      "Wet season median nlgz 2014 (CB):\n",
      "Unnamed: 0         2.589355e+05\n",
      "concentration      1.129993e-07\n",
      "year               1.409800e+04\n",
      "nlgz_difference    2.596385e-08\n",
      "dtype: float64\n",
      "Wet season median nlgz 2014 (SB):\n",
      "Unnamed: 0         2.737615e+05\n",
      "concentration      1.434435e-07\n",
      "year               1.409800e+04\n",
      "nlgz_difference    4.245096e-08\n",
      "dtype: float64\n"
     ]
    }
   ],
   "source": [
    "print(str('Wet season median nsmz 2014 (NB):'))\n",
    "print((nsmz_Jan_2014_NB.median()) + \n",
    "      (nsmz_Feb_2014_NB.median()) + \n",
    "       (nsmz_Mar_2014_NB.median()) + \n",
    "       (nsmz_Apr_2014_NB.median()) + \n",
    "       (nsmz_Oct_2014_NB.median()) +\n",
    "       (nsmz_Nov_2014_NB.median()) +  \n",
    "       (nsmz_Dec_2014_NB.median()))\n",
    "\n",
    "print(str('Wet season median nsmz 2014 (CB):'))\n",
    "print((nsmz_Jan_2014_CB.median()) + \n",
    "      (nsmz_Feb_2014_CB.median()) + \n",
    "       (nsmz_Mar_2014_CB.median()) + \n",
    "       (nsmz_Apr_2014_CB.median()) + \n",
    "       (nsmz_Oct_2014_CB.median()) + \n",
    "       (nsmz_Nov_2014_CB.median()) + \n",
    "       (nsmz_Dec_2014_CB.median()))\n",
    "\n",
    "print(str('Wet season median nsmz 2014 (SB):'))\n",
    "print((nsmz_Jan_2014_SB.median()) + \n",
    "      (nsmz_Feb_2014_SB.median()) + \n",
    "       (nsmz_Mar_2014_SB.median()) + \n",
    "       (nsmz_Apr_2014_SB.median()) +\n",
    "       (nsmz_Oct_2014_SB.median()) +\n",
    "       (nsmz_Nov_2014_SB.median()) + \n",
    "       (nsmz_Dec_2014_SB.median()))\n",
    "\n",
    "print(str('Wet season median nmdz 2014 (NB):'))\n",
    "print((nmdz_Jan_2014_NB.median()) + \n",
    "      (nmdz_Feb_2014_NB.median()) + \n",
    "       (nmdz_Mar_2014_NB.median()) + \n",
    "       (nmdz_Apr_2014_NB.median()) +\n",
    "       (nmdz_Oct_2014_NB.median()) +\n",
    "       (nmdz_Nov_2014_NB.median()) + \n",
    "       (nmdz_Dec_2014_NB.median()))\n",
    "\n",
    "print(str('Wet season median nmdz 2014 (CB):'))\n",
    "print((nmdz_Jan_2014_CB.median()) + \n",
    "      (nmdz_Feb_2014_CB.median()) + \n",
    "       (nmdz_Mar_2014_CB.median()) + \n",
    "       (nmdz_Apr_2014_CB.median()) +\n",
    "       (nmdz_Oct_2014_CB.median()) +\n",
    "       (nmdz_Nov_2014_CB.median()) + \n",
    "       (nmdz_Dec_2014_CB.median()))\n",
    "\n",
    "print(str('Wet season median nmdz 2014 (SB):'))\n",
    "print((nmdz_Jan_2014_SB.median()) + \n",
    "      (nmdz_Feb_2014_SB.median()) + \n",
    "       (nmdz_Mar_2014_SB.median()) + \n",
    "       (nmdz_Apr_2014_SB.median()) + \n",
    "       (nmdz_Oct_2014_SB.median()) + \n",
    "       (nmdz_Nov_2014_SB.median()) + \n",
    "       (nmdz_Dec_2014_SB.median()))\n",
    "\n",
    "print(str('Wet season median nlgz 2014 (NB):'))\n",
    "print((nlgz_Jan_2014_NB.median()) + \n",
    "      (nlgz_Feb_2014_NB.median()) + \n",
    "       (nlgz_Mar_2014_NB.median()) + \n",
    "       (nlgz_Apr_2014_NB.median()) +\n",
    "       (nlgz_Oct_2014_NB.median()) +\n",
    "       (nlgz_Nov_2014_NB.median()) + \n",
    "       (nlgz_Dec_2014_NB.median()))\n",
    "\n",
    "print(str('Wet season median nlgz 2014 (CB):'))\n",
    "print((nlgz_Jan_2014_CB.median()) + \n",
    "      (nlgz_Feb_2014_CB.median()) + \n",
    "       (nlgz_Mar_2014_CB.median()) + \n",
    "       (nlgz_Apr_2014_CB.median()) +\n",
    "       (nlgz_Oct_2014_CB.median()) +\n",
    "       (nlgz_Nov_2014_CB.median()) +\n",
    "       (nlgz_Dec_2014_CB.median()))\n",
    "\n",
    "print(str('Wet season median nlgz 2014 (SB):'))\n",
    "print((nlgz_Jan_2014_SB.median()) + \n",
    "      (nlgz_Feb_2014_SB.median()) + \n",
    "       (nlgz_Mar_2014_SB.median()) + \n",
    "       (nlgz_Apr_2014_SB.median()) +\n",
    "       (nlgz_Oct_2014_SB.median()) +\n",
    "       (nlgz_Nov_2014_SB.median()) + \n",
    "       (nlgz_Dec_2014_SB.median()))"
   ]
  },
  {
   "cell_type": "code",
   "execution_count": 125,
   "metadata": {},
   "outputs": [
    {
     "data": {
      "application/vnd.plotly.v1+json": {
       "config": {
        "plotlyServerURL": "https://plot.ly"
       },
       "data": [
        {
         "colorscale": [
          [
           0,
           "#440154"
          ],
          [
           0.1111111111111111,
           "#482878"
          ],
          [
           0.2222222222222222,
           "#3e4989"
          ],
          [
           0.3333333333333333,
           "#31688e"
          ],
          [
           0.4444444444444444,
           "#26828e"
          ],
          [
           0.5555555555555556,
           "#1f9e89"
          ],
          [
           0.6666666666666666,
           "#35b779"
          ],
          [
           0.7777777777777778,
           "#6ece58"
          ],
          [
           0.8888888888888888,
           "#b5de2b"
          ],
          [
           1,
           "#fde725"
          ]
         ],
         "type": "heatmap",
         "x": [
          "NB",
          "CB",
          "SB"
         ],
         "y": [
          "Small zoos",
          "Med zoos",
          "Large zoos"
         ],
         "z": [
          [
           1.0076045627376427,
           0.9653979238754324,
           0.9494949494949496
          ],
          [
           0.9935483870967742,
           0.9304635761589404,
           0.863961813842482
          ],
          [
           1,
           0.9826086956521739,
           0.9108280254777069
          ]
         ],
         "zmax": 1.5,
         "zmin": 1
        }
       ],
       "layout": {
        "template": {
         "data": {
          "bar": [
           {
            "error_x": {
             "color": "#2a3f5f"
            },
            "error_y": {
             "color": "#2a3f5f"
            },
            "marker": {
             "line": {
              "color": "#E5ECF6",
              "width": 0.5
             }
            },
            "type": "bar"
           }
          ],
          "barpolar": [
           {
            "marker": {
             "line": {
              "color": "#E5ECF6",
              "width": 0.5
             }
            },
            "type": "barpolar"
           }
          ],
          "carpet": [
           {
            "aaxis": {
             "endlinecolor": "#2a3f5f",
             "gridcolor": "white",
             "linecolor": "white",
             "minorgridcolor": "white",
             "startlinecolor": "#2a3f5f"
            },
            "baxis": {
             "endlinecolor": "#2a3f5f",
             "gridcolor": "white",
             "linecolor": "white",
             "minorgridcolor": "white",
             "startlinecolor": "#2a3f5f"
            },
            "type": "carpet"
           }
          ],
          "choropleth": [
           {
            "colorbar": {
             "outlinewidth": 0,
             "ticks": ""
            },
            "type": "choropleth"
           }
          ],
          "contour": [
           {
            "colorbar": {
             "outlinewidth": 0,
             "ticks": ""
            },
            "colorscale": [
             [
              0,
              "#0d0887"
             ],
             [
              0.1111111111111111,
              "#46039f"
             ],
             [
              0.2222222222222222,
              "#7201a8"
             ],
             [
              0.3333333333333333,
              "#9c179e"
             ],
             [
              0.4444444444444444,
              "#bd3786"
             ],
             [
              0.5555555555555556,
              "#d8576b"
             ],
             [
              0.6666666666666666,
              "#ed7953"
             ],
             [
              0.7777777777777778,
              "#fb9f3a"
             ],
             [
              0.8888888888888888,
              "#fdca26"
             ],
             [
              1,
              "#f0f921"
             ]
            ],
            "type": "contour"
           }
          ],
          "contourcarpet": [
           {
            "colorbar": {
             "outlinewidth": 0,
             "ticks": ""
            },
            "type": "contourcarpet"
           }
          ],
          "heatmap": [
           {
            "colorbar": {
             "outlinewidth": 0,
             "ticks": ""
            },
            "colorscale": [
             [
              0,
              "#0d0887"
             ],
             [
              0.1111111111111111,
              "#46039f"
             ],
             [
              0.2222222222222222,
              "#7201a8"
             ],
             [
              0.3333333333333333,
              "#9c179e"
             ],
             [
              0.4444444444444444,
              "#bd3786"
             ],
             [
              0.5555555555555556,
              "#d8576b"
             ],
             [
              0.6666666666666666,
              "#ed7953"
             ],
             [
              0.7777777777777778,
              "#fb9f3a"
             ],
             [
              0.8888888888888888,
              "#fdca26"
             ],
             [
              1,
              "#f0f921"
             ]
            ],
            "type": "heatmap"
           }
          ],
          "heatmapgl": [
           {
            "colorbar": {
             "outlinewidth": 0,
             "ticks": ""
            },
            "colorscale": [
             [
              0,
              "#0d0887"
             ],
             [
              0.1111111111111111,
              "#46039f"
             ],
             [
              0.2222222222222222,
              "#7201a8"
             ],
             [
              0.3333333333333333,
              "#9c179e"
             ],
             [
              0.4444444444444444,
              "#bd3786"
             ],
             [
              0.5555555555555556,
              "#d8576b"
             ],
             [
              0.6666666666666666,
              "#ed7953"
             ],
             [
              0.7777777777777778,
              "#fb9f3a"
             ],
             [
              0.8888888888888888,
              "#fdca26"
             ],
             [
              1,
              "#f0f921"
             ]
            ],
            "type": "heatmapgl"
           }
          ],
          "histogram": [
           {
            "marker": {
             "colorbar": {
              "outlinewidth": 0,
              "ticks": ""
             }
            },
            "type": "histogram"
           }
          ],
          "histogram2d": [
           {
            "colorbar": {
             "outlinewidth": 0,
             "ticks": ""
            },
            "colorscale": [
             [
              0,
              "#0d0887"
             ],
             [
              0.1111111111111111,
              "#46039f"
             ],
             [
              0.2222222222222222,
              "#7201a8"
             ],
             [
              0.3333333333333333,
              "#9c179e"
             ],
             [
              0.4444444444444444,
              "#bd3786"
             ],
             [
              0.5555555555555556,
              "#d8576b"
             ],
             [
              0.6666666666666666,
              "#ed7953"
             ],
             [
              0.7777777777777778,
              "#fb9f3a"
             ],
             [
              0.8888888888888888,
              "#fdca26"
             ],
             [
              1,
              "#f0f921"
             ]
            ],
            "type": "histogram2d"
           }
          ],
          "histogram2dcontour": [
           {
            "colorbar": {
             "outlinewidth": 0,
             "ticks": ""
            },
            "colorscale": [
             [
              0,
              "#0d0887"
             ],
             [
              0.1111111111111111,
              "#46039f"
             ],
             [
              0.2222222222222222,
              "#7201a8"
             ],
             [
              0.3333333333333333,
              "#9c179e"
             ],
             [
              0.4444444444444444,
              "#bd3786"
             ],
             [
              0.5555555555555556,
              "#d8576b"
             ],
             [
              0.6666666666666666,
              "#ed7953"
             ],
             [
              0.7777777777777778,
              "#fb9f3a"
             ],
             [
              0.8888888888888888,
              "#fdca26"
             ],
             [
              1,
              "#f0f921"
             ]
            ],
            "type": "histogram2dcontour"
           }
          ],
          "mesh3d": [
           {
            "colorbar": {
             "outlinewidth": 0,
             "ticks": ""
            },
            "type": "mesh3d"
           }
          ],
          "parcoords": [
           {
            "line": {
             "colorbar": {
              "outlinewidth": 0,
              "ticks": ""
             }
            },
            "type": "parcoords"
           }
          ],
          "scatter": [
           {
            "marker": {
             "colorbar": {
              "outlinewidth": 0,
              "ticks": ""
             }
            },
            "type": "scatter"
           }
          ],
          "scatter3d": [
           {
            "line": {
             "colorbar": {
              "outlinewidth": 0,
              "ticks": ""
             }
            },
            "marker": {
             "colorbar": {
              "outlinewidth": 0,
              "ticks": ""
             }
            },
            "type": "scatter3d"
           }
          ],
          "scattercarpet": [
           {
            "marker": {
             "colorbar": {
              "outlinewidth": 0,
              "ticks": ""
             }
            },
            "type": "scattercarpet"
           }
          ],
          "scattergeo": [
           {
            "marker": {
             "colorbar": {
              "outlinewidth": 0,
              "ticks": ""
             }
            },
            "type": "scattergeo"
           }
          ],
          "scattergl": [
           {
            "marker": {
             "colorbar": {
              "outlinewidth": 0,
              "ticks": ""
             }
            },
            "type": "scattergl"
           }
          ],
          "scattermapbox": [
           {
            "marker": {
             "colorbar": {
              "outlinewidth": 0,
              "ticks": ""
             }
            },
            "type": "scattermapbox"
           }
          ],
          "scatterpolar": [
           {
            "marker": {
             "colorbar": {
              "outlinewidth": 0,
              "ticks": ""
             }
            },
            "type": "scatterpolar"
           }
          ],
          "scatterpolargl": [
           {
            "marker": {
             "colorbar": {
              "outlinewidth": 0,
              "ticks": ""
             }
            },
            "type": "scatterpolargl"
           }
          ],
          "scatterternary": [
           {
            "marker": {
             "colorbar": {
              "outlinewidth": 0,
              "ticks": ""
             }
            },
            "type": "scatterternary"
           }
          ],
          "surface": [
           {
            "colorbar": {
             "outlinewidth": 0,
             "ticks": ""
            },
            "colorscale": [
             [
              0,
              "#0d0887"
             ],
             [
              0.1111111111111111,
              "#46039f"
             ],
             [
              0.2222222222222222,
              "#7201a8"
             ],
             [
              0.3333333333333333,
              "#9c179e"
             ],
             [
              0.4444444444444444,
              "#bd3786"
             ],
             [
              0.5555555555555556,
              "#d8576b"
             ],
             [
              0.6666666666666666,
              "#ed7953"
             ],
             [
              0.7777777777777778,
              "#fb9f3a"
             ],
             [
              0.8888888888888888,
              "#fdca26"
             ],
             [
              1,
              "#f0f921"
             ]
            ],
            "type": "surface"
           }
          ],
          "table": [
           {
            "cells": {
             "fill": {
              "color": "#EBF0F8"
             },
             "line": {
              "color": "white"
             }
            },
            "header": {
             "fill": {
              "color": "#C8D4E3"
             },
             "line": {
              "color": "white"
             }
            },
            "type": "table"
           }
          ]
         },
         "layout": {
          "annotationdefaults": {
           "arrowcolor": "#2a3f5f",
           "arrowhead": 0,
           "arrowwidth": 1
          },
          "colorscale": {
           "diverging": [
            [
             0,
             "#8e0152"
            ],
            [
             0.1,
             "#c51b7d"
            ],
            [
             0.2,
             "#de77ae"
            ],
            [
             0.3,
             "#f1b6da"
            ],
            [
             0.4,
             "#fde0ef"
            ],
            [
             0.5,
             "#f7f7f7"
            ],
            [
             0.6,
             "#e6f5d0"
            ],
            [
             0.7,
             "#b8e186"
            ],
            [
             0.8,
             "#7fbc41"
            ],
            [
             0.9,
             "#4d9221"
            ],
            [
             1,
             "#276419"
            ]
           ],
           "sequential": [
            [
             0,
             "#0d0887"
            ],
            [
             0.1111111111111111,
             "#46039f"
            ],
            [
             0.2222222222222222,
             "#7201a8"
            ],
            [
             0.3333333333333333,
             "#9c179e"
            ],
            [
             0.4444444444444444,
             "#bd3786"
            ],
            [
             0.5555555555555556,
             "#d8576b"
            ],
            [
             0.6666666666666666,
             "#ed7953"
            ],
            [
             0.7777777777777778,
             "#fb9f3a"
            ],
            [
             0.8888888888888888,
             "#fdca26"
            ],
            [
             1,
             "#f0f921"
            ]
           ],
           "sequentialminus": [
            [
             0,
             "#0d0887"
            ],
            [
             0.1111111111111111,
             "#46039f"
            ],
            [
             0.2222222222222222,
             "#7201a8"
            ],
            [
             0.3333333333333333,
             "#9c179e"
            ],
            [
             0.4444444444444444,
             "#bd3786"
            ],
            [
             0.5555555555555556,
             "#d8576b"
            ],
            [
             0.6666666666666666,
             "#ed7953"
            ],
            [
             0.7777777777777778,
             "#fb9f3a"
            ],
            [
             0.8888888888888888,
             "#fdca26"
            ],
            [
             1,
             "#f0f921"
            ]
           ]
          },
          "colorway": [
           "#636efa",
           "#EF553B",
           "#00cc96",
           "#ab63fa",
           "#FFA15A",
           "#19d3f3",
           "#FF6692",
           "#B6E880",
           "#FF97FF",
           "#FECB52"
          ],
          "font": {
           "color": "#2a3f5f"
          },
          "geo": {
           "bgcolor": "white",
           "lakecolor": "white",
           "landcolor": "#E5ECF6",
           "showlakes": true,
           "showland": true,
           "subunitcolor": "white"
          },
          "hoverlabel": {
           "align": "left"
          },
          "hovermode": "closest",
          "mapbox": {
           "style": "light"
          },
          "paper_bgcolor": "white",
          "plot_bgcolor": "#E5ECF6",
          "polar": {
           "angularaxis": {
            "gridcolor": "white",
            "linecolor": "white",
            "ticks": ""
           },
           "bgcolor": "#E5ECF6",
           "radialaxis": {
            "gridcolor": "white",
            "linecolor": "white",
            "ticks": ""
           }
          },
          "scene": {
           "xaxis": {
            "backgroundcolor": "#E5ECF6",
            "gridcolor": "white",
            "gridwidth": 2,
            "linecolor": "white",
            "showbackground": true,
            "ticks": "",
            "zerolinecolor": "white"
           },
           "yaxis": {
            "backgroundcolor": "#E5ECF6",
            "gridcolor": "white",
            "gridwidth": 2,
            "linecolor": "white",
            "showbackground": true,
            "ticks": "",
            "zerolinecolor": "white"
           },
           "zaxis": {
            "backgroundcolor": "#E5ECF6",
            "gridcolor": "white",
            "gridwidth": 2,
            "linecolor": "white",
            "showbackground": true,
            "ticks": "",
            "zerolinecolor": "white"
           }
          },
          "shapedefaults": {
           "line": {
            "color": "#2a3f5f"
           }
          },
          "ternary": {
           "aaxis": {
            "gridcolor": "white",
            "linecolor": "white",
            "ticks": ""
           },
           "baxis": {
            "gridcolor": "white",
            "linecolor": "white",
            "ticks": ""
           },
           "bgcolor": "#E5ECF6",
           "caxis": {
            "gridcolor": "white",
            "linecolor": "white",
            "ticks": ""
           }
          },
          "title": {
           "x": 0.05
          },
          "xaxis": {
           "automargin": true,
           "gridcolor": "white",
           "linecolor": "white",
           "ticks": "",
           "zerolinecolor": "white",
           "zerolinewidth": 2
          },
          "yaxis": {
           "automargin": true,
           "gridcolor": "white",
           "linecolor": "white",
           "ticks": "",
           "zerolinecolor": "white",
           "zerolinewidth": 2
          }
         }
        },
        "title": {
         "text": "Wet (Jan-Apr, Oct-Dec) season proportional differences: 2014 v. 2013"
        }
       }
      },
      "text/html": [
       "<div>\n",
       "        \n",
       "        \n",
       "            <div id=\"276e349b-3171-4921-a058-274a639a88de\" class=\"plotly-graph-div\" style=\"height:525px; width:100%;\"></div>\n",
       "            <script type=\"text/javascript\">\n",
       "                require([\"plotly\"], function(Plotly) {\n",
       "                    window.PLOTLYENV=window.PLOTLYENV || {};\n",
       "                    \n",
       "                if (document.getElementById(\"276e349b-3171-4921-a058-274a639a88de\")) {\n",
       "                    Plotly.newPlot(\n",
       "                        '276e349b-3171-4921-a058-274a639a88de',\n",
       "                        [{\"colorscale\": [[0.0, \"#440154\"], [0.1111111111111111, \"#482878\"], [0.2222222222222222, \"#3e4989\"], [0.3333333333333333, \"#31688e\"], [0.4444444444444444, \"#26828e\"], [0.5555555555555556, \"#1f9e89\"], [0.6666666666666666, \"#35b779\"], [0.7777777777777778, \"#6ece58\"], [0.8888888888888888, \"#b5de2b\"], [1.0, \"#fde725\"]], \"type\": \"heatmap\", \"x\": [\"NB\", \"CB\", \"SB\"], \"y\": [\"Small zoos\", \"Med zoos\", \"Large zoos\"], \"z\": [[1.0076045627376427, 0.9653979238754324, 0.9494949494949496], [0.9935483870967742, 0.9304635761589404, 0.863961813842482], [1.0, 0.9826086956521739, 0.9108280254777069]], \"zmax\": 1.5, \"zmin\": 1}],\n",
       "                        {\"template\": {\"data\": {\"bar\": [{\"error_x\": {\"color\": \"#2a3f5f\"}, \"error_y\": {\"color\": \"#2a3f5f\"}, \"marker\": {\"line\": {\"color\": \"#E5ECF6\", \"width\": 0.5}}, \"type\": \"bar\"}], \"barpolar\": [{\"marker\": {\"line\": {\"color\": \"#E5ECF6\", \"width\": 0.5}}, \"type\": \"barpolar\"}], \"carpet\": [{\"aaxis\": {\"endlinecolor\": \"#2a3f5f\", \"gridcolor\": \"white\", \"linecolor\": \"white\", \"minorgridcolor\": \"white\", \"startlinecolor\": \"#2a3f5f\"}, \"baxis\": {\"endlinecolor\": \"#2a3f5f\", \"gridcolor\": \"white\", \"linecolor\": \"white\", \"minorgridcolor\": \"white\", \"startlinecolor\": \"#2a3f5f\"}, \"type\": \"carpet\"}], \"choropleth\": [{\"colorbar\": {\"outlinewidth\": 0, \"ticks\": \"\"}, \"type\": \"choropleth\"}], \"contour\": [{\"colorbar\": {\"outlinewidth\": 0, \"ticks\": \"\"}, \"colorscale\": [[0.0, \"#0d0887\"], [0.1111111111111111, \"#46039f\"], [0.2222222222222222, \"#7201a8\"], [0.3333333333333333, \"#9c179e\"], [0.4444444444444444, \"#bd3786\"], [0.5555555555555556, \"#d8576b\"], [0.6666666666666666, \"#ed7953\"], [0.7777777777777778, \"#fb9f3a\"], [0.8888888888888888, \"#fdca26\"], [1.0, \"#f0f921\"]], \"type\": \"contour\"}], \"contourcarpet\": [{\"colorbar\": {\"outlinewidth\": 0, \"ticks\": \"\"}, \"type\": \"contourcarpet\"}], \"heatmap\": [{\"colorbar\": {\"outlinewidth\": 0, \"ticks\": \"\"}, \"colorscale\": [[0.0, \"#0d0887\"], [0.1111111111111111, \"#46039f\"], [0.2222222222222222, \"#7201a8\"], [0.3333333333333333, \"#9c179e\"], [0.4444444444444444, \"#bd3786\"], [0.5555555555555556, \"#d8576b\"], [0.6666666666666666, \"#ed7953\"], [0.7777777777777778, \"#fb9f3a\"], [0.8888888888888888, \"#fdca26\"], [1.0, \"#f0f921\"]], \"type\": \"heatmap\"}], \"heatmapgl\": [{\"colorbar\": {\"outlinewidth\": 0, \"ticks\": \"\"}, \"colorscale\": [[0.0, \"#0d0887\"], [0.1111111111111111, \"#46039f\"], [0.2222222222222222, \"#7201a8\"], [0.3333333333333333, \"#9c179e\"], [0.4444444444444444, \"#bd3786\"], [0.5555555555555556, \"#d8576b\"], [0.6666666666666666, \"#ed7953\"], [0.7777777777777778, \"#fb9f3a\"], [0.8888888888888888, \"#fdca26\"], [1.0, \"#f0f921\"]], \"type\": \"heatmapgl\"}], \"histogram\": [{\"marker\": {\"colorbar\": {\"outlinewidth\": 0, \"ticks\": \"\"}}, \"type\": \"histogram\"}], \"histogram2d\": [{\"colorbar\": {\"outlinewidth\": 0, \"ticks\": \"\"}, \"colorscale\": [[0.0, \"#0d0887\"], [0.1111111111111111, \"#46039f\"], [0.2222222222222222, \"#7201a8\"], [0.3333333333333333, \"#9c179e\"], [0.4444444444444444, \"#bd3786\"], [0.5555555555555556, \"#d8576b\"], [0.6666666666666666, \"#ed7953\"], [0.7777777777777778, \"#fb9f3a\"], [0.8888888888888888, \"#fdca26\"], [1.0, \"#f0f921\"]], \"type\": \"histogram2d\"}], \"histogram2dcontour\": [{\"colorbar\": {\"outlinewidth\": 0, \"ticks\": \"\"}, \"colorscale\": [[0.0, \"#0d0887\"], [0.1111111111111111, \"#46039f\"], [0.2222222222222222, \"#7201a8\"], [0.3333333333333333, \"#9c179e\"], [0.4444444444444444, \"#bd3786\"], [0.5555555555555556, \"#d8576b\"], [0.6666666666666666, \"#ed7953\"], [0.7777777777777778, \"#fb9f3a\"], [0.8888888888888888, \"#fdca26\"], [1.0, \"#f0f921\"]], \"type\": \"histogram2dcontour\"}], \"mesh3d\": [{\"colorbar\": {\"outlinewidth\": 0, \"ticks\": \"\"}, \"type\": \"mesh3d\"}], \"parcoords\": [{\"line\": {\"colorbar\": {\"outlinewidth\": 0, \"ticks\": \"\"}}, \"type\": \"parcoords\"}], \"scatter\": [{\"marker\": {\"colorbar\": {\"outlinewidth\": 0, \"ticks\": \"\"}}, \"type\": \"scatter\"}], \"scatter3d\": [{\"line\": {\"colorbar\": {\"outlinewidth\": 0, \"ticks\": \"\"}}, \"marker\": {\"colorbar\": {\"outlinewidth\": 0, \"ticks\": \"\"}}, \"type\": \"scatter3d\"}], \"scattercarpet\": [{\"marker\": {\"colorbar\": {\"outlinewidth\": 0, \"ticks\": \"\"}}, \"type\": \"scattercarpet\"}], \"scattergeo\": [{\"marker\": {\"colorbar\": {\"outlinewidth\": 0, \"ticks\": \"\"}}, \"type\": \"scattergeo\"}], \"scattergl\": [{\"marker\": {\"colorbar\": {\"outlinewidth\": 0, \"ticks\": \"\"}}, \"type\": \"scattergl\"}], \"scattermapbox\": [{\"marker\": {\"colorbar\": {\"outlinewidth\": 0, \"ticks\": \"\"}}, \"type\": \"scattermapbox\"}], \"scatterpolar\": [{\"marker\": {\"colorbar\": {\"outlinewidth\": 0, \"ticks\": \"\"}}, \"type\": \"scatterpolar\"}], \"scatterpolargl\": [{\"marker\": {\"colorbar\": {\"outlinewidth\": 0, \"ticks\": \"\"}}, \"type\": \"scatterpolargl\"}], \"scatterternary\": [{\"marker\": {\"colorbar\": {\"outlinewidth\": 0, \"ticks\": \"\"}}, \"type\": \"scatterternary\"}], \"surface\": [{\"colorbar\": {\"outlinewidth\": 0, \"ticks\": \"\"}, \"colorscale\": [[0.0, \"#0d0887\"], [0.1111111111111111, \"#46039f\"], [0.2222222222222222, \"#7201a8\"], [0.3333333333333333, \"#9c179e\"], [0.4444444444444444, \"#bd3786\"], [0.5555555555555556, \"#d8576b\"], [0.6666666666666666, \"#ed7953\"], [0.7777777777777778, \"#fb9f3a\"], [0.8888888888888888, \"#fdca26\"], [1.0, \"#f0f921\"]], \"type\": \"surface\"}], \"table\": [{\"cells\": {\"fill\": {\"color\": \"#EBF0F8\"}, \"line\": {\"color\": \"white\"}}, \"header\": {\"fill\": {\"color\": \"#C8D4E3\"}, \"line\": {\"color\": \"white\"}}, \"type\": \"table\"}]}, \"layout\": {\"annotationdefaults\": {\"arrowcolor\": \"#2a3f5f\", \"arrowhead\": 0, \"arrowwidth\": 1}, \"colorscale\": {\"diverging\": [[0, \"#8e0152\"], [0.1, \"#c51b7d\"], [0.2, \"#de77ae\"], [0.3, \"#f1b6da\"], [0.4, \"#fde0ef\"], [0.5, \"#f7f7f7\"], [0.6, \"#e6f5d0\"], [0.7, \"#b8e186\"], [0.8, \"#7fbc41\"], [0.9, \"#4d9221\"], [1, \"#276419\"]], \"sequential\": [[0.0, \"#0d0887\"], [0.1111111111111111, \"#46039f\"], [0.2222222222222222, \"#7201a8\"], [0.3333333333333333, \"#9c179e\"], [0.4444444444444444, \"#bd3786\"], [0.5555555555555556, \"#d8576b\"], [0.6666666666666666, \"#ed7953\"], [0.7777777777777778, \"#fb9f3a\"], [0.8888888888888888, \"#fdca26\"], [1.0, \"#f0f921\"]], \"sequentialminus\": [[0.0, \"#0d0887\"], [0.1111111111111111, \"#46039f\"], [0.2222222222222222, \"#7201a8\"], [0.3333333333333333, \"#9c179e\"], [0.4444444444444444, \"#bd3786\"], [0.5555555555555556, \"#d8576b\"], [0.6666666666666666, \"#ed7953\"], [0.7777777777777778, \"#fb9f3a\"], [0.8888888888888888, \"#fdca26\"], [1.0, \"#f0f921\"]]}, \"colorway\": [\"#636efa\", \"#EF553B\", \"#00cc96\", \"#ab63fa\", \"#FFA15A\", \"#19d3f3\", \"#FF6692\", \"#B6E880\", \"#FF97FF\", \"#FECB52\"], \"font\": {\"color\": \"#2a3f5f\"}, \"geo\": {\"bgcolor\": \"white\", \"lakecolor\": \"white\", \"landcolor\": \"#E5ECF6\", \"showlakes\": true, \"showland\": true, \"subunitcolor\": \"white\"}, \"hoverlabel\": {\"align\": \"left\"}, \"hovermode\": \"closest\", \"mapbox\": {\"style\": \"light\"}, \"paper_bgcolor\": \"white\", \"plot_bgcolor\": \"#E5ECF6\", \"polar\": {\"angularaxis\": {\"gridcolor\": \"white\", \"linecolor\": \"white\", \"ticks\": \"\"}, \"bgcolor\": \"#E5ECF6\", \"radialaxis\": {\"gridcolor\": \"white\", \"linecolor\": \"white\", \"ticks\": \"\"}}, \"scene\": {\"xaxis\": {\"backgroundcolor\": \"#E5ECF6\", \"gridcolor\": \"white\", \"gridwidth\": 2, \"linecolor\": \"white\", \"showbackground\": true, \"ticks\": \"\", \"zerolinecolor\": \"white\"}, \"yaxis\": {\"backgroundcolor\": \"#E5ECF6\", \"gridcolor\": \"white\", \"gridwidth\": 2, \"linecolor\": \"white\", \"showbackground\": true, \"ticks\": \"\", \"zerolinecolor\": \"white\"}, \"zaxis\": {\"backgroundcolor\": \"#E5ECF6\", \"gridcolor\": \"white\", \"gridwidth\": 2, \"linecolor\": \"white\", \"showbackground\": true, \"ticks\": \"\", \"zerolinecolor\": \"white\"}}, \"shapedefaults\": {\"line\": {\"color\": \"#2a3f5f\"}}, \"ternary\": {\"aaxis\": {\"gridcolor\": \"white\", \"linecolor\": \"white\", \"ticks\": \"\"}, \"baxis\": {\"gridcolor\": \"white\", \"linecolor\": \"white\", \"ticks\": \"\"}, \"bgcolor\": \"#E5ECF6\", \"caxis\": {\"gridcolor\": \"white\", \"linecolor\": \"white\", \"ticks\": \"\"}}, \"title\": {\"x\": 0.05}, \"xaxis\": {\"automargin\": true, \"gridcolor\": \"white\", \"linecolor\": \"white\", \"ticks\": \"\", \"zerolinecolor\": \"white\", \"zerolinewidth\": 2}, \"yaxis\": {\"automargin\": true, \"gridcolor\": \"white\", \"linecolor\": \"white\", \"ticks\": \"\", \"zerolinecolor\": \"white\", \"zerolinewidth\": 2}}}, \"title\": {\"text\": \"Wet (Jan-Apr, Oct-Dec) season proportional differences: 2014 v. 2013\"}},\n",
       "                        {\"responsive\": true}\n",
       "                    ).then(function(){\n",
       "                            \n",
       "var gd = document.getElementById('276e349b-3171-4921-a058-274a639a88de');\n",
       "var x = new MutationObserver(function (mutations, observer) {{\n",
       "        var display = window.getComputedStyle(gd).display;\n",
       "        if (!display || display === 'none') {{\n",
       "            console.log([gd, 'removed!']);\n",
       "            Plotly.purge(gd);\n",
       "            observer.disconnect();\n",
       "        }}\n",
       "}});\n",
       "\n",
       "// Listen for the removal of the full notebook cells\n",
       "var notebookContainer = gd.closest('#notebook-container');\n",
       "if (notebookContainer) {{\n",
       "    x.observe(notebookContainer, {childList: true});\n",
       "}}\n",
       "\n",
       "// Listen for the clearing of the current output cell\n",
       "var outputEl = gd.closest('.output');\n",
       "if (outputEl) {{\n",
       "    x.observe(outputEl, {childList: true});\n",
       "}}\n",
       "\n",
       "                        })\n",
       "                };\n",
       "                });\n",
       "            </script>\n",
       "        </div>"
      ]
     },
     "metadata": {},
     "output_type": "display_data"
    }
   ],
   "source": [
    "# Wet season\n",
    "\n",
    "fig = go.Figure(data=go.Heatmap(\n",
    "                   z=[[7.95/7.89,8.37/8.67,8.46/8.91], \n",
    "                      [4.62/4.65,5.62/6.04,7.24/8.38], \n",
    "                      [1/1,1.13/1.15,1.43/1.57]],\n",
    "                   x=['NB', 'CB', 'SB'],\n",
    "                   y=['Small zoos', 'Med zoos', 'Large zoos'],\n",
    "                    colorscale=\"Viridis\",\n",
    "                    zmin=1, zmax=1.5))                   \n",
    "\n",
    "fig.update_layout(\n",
    "    title='Wet (Jan-Apr, Oct-Dec) season proportional differences: 2014 v. 2013')\n",
    "\n",
    "fig.show()"
   ]
  }
 ],
 "metadata": {
  "kernelspec": {
   "display_name": "Python 3",
   "language": "python",
   "name": "python3"
  },
  "language_info": {
   "codemirror_mode": {
    "name": "ipython",
    "version": 3
   },
   "file_extension": ".py",
   "mimetype": "text/x-python",
   "name": "python",
   "nbconvert_exporter": "python",
   "pygments_lexer": "ipython3",
   "version": "3.6.9"
  }
 },
 "nbformat": 4,
 "nbformat_minor": 2
}
